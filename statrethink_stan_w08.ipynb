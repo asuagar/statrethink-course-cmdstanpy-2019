{
 "cells": [
  {
   "cell_type": "markdown",
   "metadata": {
    "id": "1YI5Zm7VDTH5"
   },
   "source": [
    "# Rethinking Statistics course in Stan - Week 8"
   ]
  },
  {
   "cell_type": "markdown",
   "metadata": {
    "id": "XQXYsrXJDTID"
   },
   "source": [
    "Lecture 15: Multilevel Models\n",
    "\n",
    "- [Video](https://www.youtube.com/watch?v=AALYPv5xSos)\n",
    "- [Slides](https://speakerdeck.com/rmcelreath/l15-statistical-rethinking-winter-2019)\n",
    "\n",
    "Lecture 16: Multilevel Models 2\n",
    "\n",
    "- [Video](https://www.youtube.com/watch?v=ZG3Oe35R5sY)\n",
    "- [Slides](https://speakerdeck.com/rmcelreath/l16-statistical-rethinking-winter-2019)\n",
    "\n",
    "[Proposed problems](https://github.com/gbosquechacon/statrethinking_winter2019/blob/master/homework/week08.pdf) and [solutions in R](https://github.com/gbosquechacon/statrethinking_winter2019/blob/master/homework/week08_solutions.pdf) for the exercises of the week."
   ]
  },
  {
   "cell_type": "code",
   "execution_count": 1,
   "metadata": {},
   "outputs": [],
   "source": [
    "import pandas as pd\n",
    "import numpy as np\n",
    "from cmdstanpy import CmdStanModel\n",
    "from plotnine import *"
   ]
  },
  {
   "cell_type": "code",
   "execution_count": 2,
   "metadata": {},
   "outputs": [
    {
     "name": "stdout",
     "output_type": "stream",
     "text": [
      "Last updated: Fri Dec 31 2021\n",
      "\n",
      "pandas   : 1.3.4\n",
      "numpy    : 1.21.4\n",
      "cmdstanpy: 1.0.0\n",
      "plotnine : 0.8.0\n",
      "\n"
     ]
    }
   ],
   "source": [
    "%load_ext watermark\n",
    "%watermark -n -u -p pandas,numpy,cmdstanpy,plotnine"
   ]
  },
  {
   "cell_type": "code",
   "execution_count": 3,
   "metadata": {},
   "outputs": [],
   "source": [
    "def waic(stan_fit):\n",
    "    log_lik = stan_fit.stan_variable('log_lik')\n",
    "    lik_mean = np.ma.masked_invalid(np.exp(log_lik).mean(axis=0))\n",
    "    lppd = np.log(lik_mean).sum()\n",
    "    p_waic = np.var(log_lik, axis=0).sum()\n",
    "    waic = -2*lppd + 2*p_waic\n",
    "    return round(waic, 3)"
   ]
  },
  {
   "cell_type": "markdown",
   "metadata": {
    "id": "vJkV1epwDTIF"
   },
   "source": [
    "## Exercise 1"
   ]
  },
  {
   "cell_type": "markdown",
   "metadata": {
    "id": "Y7mqJNA1DTIF"
   },
   "source": [
    "> Revisit the Reed frog survival data, `reedfrogs`, and add the predation and size treatment variables to the varying intercepts model. Consider models with either predictor alone, both predictors, as well as a model including their interaction. What do you infer about the causal influence of these predictor variables? Also focus on the inferred variation across tanks (the σ across tanks). Explain why it changes as it does across models with different predictors included."
   ]
  },
  {
   "cell_type": "markdown",
   "metadata": {
    "id": "e4_mQ2iwDTIH"
   },
   "source": [
    "Let's get the data."
   ]
  },
  {
   "cell_type": "code",
   "execution_count": 4,
   "metadata": {
    "colab": {
     "base_uri": "https://localhost:8080/",
     "height": 142
    },
    "executionInfo": {
     "elapsed": 843,
     "status": "ok",
     "timestamp": 1609361674428,
     "user": {
      "displayName": "Andrés Suárez",
      "photoUrl": "https://lh5.googleusercontent.com/-s0kzcIwylzA/AAAAAAAAAAI/AAAAAAAAQXA/v8Sc6WgQy7c/s64/photo.jpg",
      "userId": "06409440331868776168"
     },
     "user_tz": -60
    },
    "id": "T0JmJamDDTII",
    "outputId": "99b55e95-0e0c-471b-b70f-7c0a20078831"
   },
   "outputs": [
    {
     "data": {
      "text/html": [
       "<div>\n",
       "<style scoped>\n",
       "    .dataframe tbody tr th:only-of-type {\n",
       "        vertical-align: middle;\n",
       "    }\n",
       "\n",
       "    .dataframe tbody tr th {\n",
       "        vertical-align: top;\n",
       "    }\n",
       "\n",
       "    .dataframe thead th {\n",
       "        text-align: right;\n",
       "    }\n",
       "</style>\n",
       "<table border=\"1\" class=\"dataframe\">\n",
       "  <thead>\n",
       "    <tr style=\"text-align: right;\">\n",
       "      <th></th>\n",
       "      <th>density</th>\n",
       "      <th>pred</th>\n",
       "      <th>size</th>\n",
       "      <th>surv</th>\n",
       "      <th>propsurv</th>\n",
       "      <th>tank</th>\n",
       "      <th>volume</th>\n",
       "    </tr>\n",
       "  </thead>\n",
       "  <tbody>\n",
       "    <tr>\n",
       "      <th>45</th>\n",
       "      <td>35</td>\n",
       "      <td>1</td>\n",
       "      <td>small</td>\n",
       "      <td>12</td>\n",
       "      <td>0.342857</td>\n",
       "      <td>45</td>\n",
       "      <td>0</td>\n",
       "    </tr>\n",
       "    <tr>\n",
       "      <th>46</th>\n",
       "      <td>35</td>\n",
       "      <td>1</td>\n",
       "      <td>small</td>\n",
       "      <td>31</td>\n",
       "      <td>0.885714</td>\n",
       "      <td>46</td>\n",
       "      <td>0</td>\n",
       "    </tr>\n",
       "    <tr>\n",
       "      <th>47</th>\n",
       "      <td>35</td>\n",
       "      <td>1</td>\n",
       "      <td>small</td>\n",
       "      <td>17</td>\n",
       "      <td>0.485714</td>\n",
       "      <td>47</td>\n",
       "      <td>0</td>\n",
       "    </tr>\n",
       "  </tbody>\n",
       "</table>\n",
       "</div>"
      ],
      "text/plain": [
       "    density  pred   size  surv  propsurv  tank  volume\n",
       "45       35     1  small    12  0.342857    45       0\n",
       "46       35     1  small    31  0.885714    46       0\n",
       "47       35     1  small    17  0.485714    47       0"
      ]
     },
     "execution_count": 4,
     "metadata": {},
     "output_type": "execute_result"
    }
   ],
   "source": [
    "d = pd.read_csv('./dat/reedfrogs.csv', header=0, sep=';')\n",
    "d['tank'] = d.index\n",
    "d['pred'] = pd.factorize(d['pred'])[0]\n",
    "d['volume'] = d['size'].replace({'small':0, 'big':1})\n",
    "d.tail(3)"
   ]
  },
  {
   "cell_type": "markdown",
   "metadata": {
    "id": "4XMOL0jMDTIK"
   },
   "source": [
    "Now to define a series of models. The first is just the varying intercepts model from the text."
   ]
  },
  {
   "cell_type": "markdown",
   "metadata": {
    "id": "Drp3P2sPJR47"
   },
   "source": [
    "Model 1:"
   ]
  },
  {
   "cell_type": "code",
   "execution_count": 5,
   "metadata": {},
   "outputs": [
    {
     "name": "stderr",
     "output_type": "stream",
     "text": [
      "INFO:cmdstanpy:compiling stan file /home/jovyan/work/statret/stn/week08_01a.stan to exe file /home/jovyan/work/statret/stn/week08_01a\n",
      "INFO:cmdstanpy:compiled model executable: /home/jovyan/work/statret/stn/week08_01a\n",
      "INFO:cmdstanpy:found newer exe file, not recompiling\n",
      "INFO:cmdstanpy:CmdStan start procesing\n"
     ]
    },
    {
     "data": {
      "application/vnd.jupyter.widget-view+json": {
       "model_id": "a2e28e3a07a14b768d7bead6f231307d",
       "version_major": 2,
       "version_minor": 0
      },
      "text/plain": [
       "chain 1 |          | 00:00 Status"
      ]
     },
     "metadata": {},
     "output_type": "display_data"
    },
    {
     "data": {
      "application/vnd.jupyter.widget-view+json": {
       "model_id": "4cade134bd4541d2ba5e04404aa36dbe",
       "version_major": 2,
       "version_minor": 0
      },
      "text/plain": [
       "chain 2 |          | 00:00 Status"
      ]
     },
     "metadata": {},
     "output_type": "display_data"
    },
    {
     "data": {
      "application/vnd.jupyter.widget-view+json": {
       "model_id": "f3d9aec39b21454a82a9d7f8e74badc4",
       "version_major": 2,
       "version_minor": 0
      },
      "text/plain": [
       "chain 3 |          | 00:00 Status"
      ]
     },
     "metadata": {},
     "output_type": "display_data"
    },
    {
     "data": {
      "application/vnd.jupyter.widget-view+json": {
       "model_id": "c85e4fe5b7014b9aa7131335400e36e0",
       "version_major": 2,
       "version_minor": 0
      },
      "text/plain": [
       "chain 4 |          | 00:00 Status"
      ]
     },
     "metadata": {},
     "output_type": "display_data"
    },
    {
     "name": "stdout",
     "output_type": "stream",
     "text": [
      "                                                                                                                                                                                                                                                                                                                                "
     ]
    },
    {
     "name": "stderr",
     "output_type": "stream",
     "text": [
      "INFO:cmdstanpy:CmdStan done processing.\n"
     ]
    },
    {
     "name": "stdout",
     "output_type": "stream",
     "text": [
      "\n"
     ]
    }
   ],
   "source": [
    "model = '''\n",
    "\n",
    "data {\n",
    "    int n;\n",
    "    int tank[n];\n",
    "    int density[n];\n",
    "    int surv[n];\n",
    "}\n",
    "\n",
    "parameters {\n",
    "    real a_bar;\n",
    "    real sigma;\n",
    "    vector[n] a;\n",
    "}\n",
    "\n",
    "model {\n",
    "    // prior\n",
    "    a_bar ~ normal(0, 1.5);\n",
    "    sigma ~ exponential(1);\n",
    "    a ~ normal(a_bar, sigma);\n",
    "    // likelihood\n",
    "    surv ~ binomial_logit(density, a);\n",
    "}\n",
    "\n",
    "generated quantities {\n",
    "  vector[n] log_lik;\n",
    "  for (i in 1:n) {\n",
    "    log_lik[i] = binomial_logit_lpmf(surv[i] | density[i], a[i]);\n",
    "  }\n",
    "}\n",
    "\n",
    "'''\n",
    "\n",
    "stan_file = './stn/week08_01a.stan'\n",
    "with open(stan_file, 'w') as f:\n",
    "    print(model, file=f)\n",
    "model_1a = CmdStanModel(stan_file=stan_file)\n",
    "model_1a.compile()\n",
    "\n",
    "data = d[['tank', 'density', 'surv']].copy()\n",
    "data = data.to_dict(orient='list')\n",
    "data['n'] = len(data['surv'])\n",
    "fit_1a = model_1a.sample(data=data, chains=4)"
   ]
  },
  {
   "cell_type": "markdown",
   "metadata": {
    "id": "bxoOaklCeFIG"
   },
   "source": [
    "Model 2 (pred):"
   ]
  },
  {
   "cell_type": "code",
   "execution_count": 6,
   "metadata": {},
   "outputs": [
    {
     "name": "stderr",
     "output_type": "stream",
     "text": [
      "INFO:cmdstanpy:compiling stan file /home/jovyan/work/statret/stn/week08_01b.stan to exe file /home/jovyan/work/statret/stn/week08_01b\n",
      "INFO:cmdstanpy:compiled model executable: /home/jovyan/work/statret/stn/week08_01b\n",
      "INFO:cmdstanpy:found newer exe file, not recompiling\n",
      "INFO:cmdstanpy:CmdStan start procesing\n"
     ]
    },
    {
     "data": {
      "application/vnd.jupyter.widget-view+json": {
       "model_id": "737623cad29b44418fe79b250d1a523a",
       "version_major": 2,
       "version_minor": 0
      },
      "text/plain": [
       "chain 1 |          | 00:00 Status"
      ]
     },
     "metadata": {},
     "output_type": "display_data"
    },
    {
     "data": {
      "application/vnd.jupyter.widget-view+json": {
       "model_id": "199e80a2ddee4b49bc7f6c64bd6c2321",
       "version_major": 2,
       "version_minor": 0
      },
      "text/plain": [
       "chain 2 |          | 00:00 Status"
      ]
     },
     "metadata": {},
     "output_type": "display_data"
    },
    {
     "data": {
      "application/vnd.jupyter.widget-view+json": {
       "model_id": "cd28e6dc840f40c3b1dd45d3d052d17b",
       "version_major": 2,
       "version_minor": 0
      },
      "text/plain": [
       "chain 3 |          | 00:00 Status"
      ]
     },
     "metadata": {},
     "output_type": "display_data"
    },
    {
     "data": {
      "application/vnd.jupyter.widget-view+json": {
       "model_id": "8767c85e342c4645b302e706224cf2b6",
       "version_major": 2,
       "version_minor": 0
      },
      "text/plain": [
       "chain 4 |          | 00:00 Status"
      ]
     },
     "metadata": {},
     "output_type": "display_data"
    },
    {
     "name": "stdout",
     "output_type": "stream",
     "text": [
      "                                                                                                                                                                                                                                                                                                                                "
     ]
    },
    {
     "name": "stderr",
     "output_type": "stream",
     "text": [
      "INFO:cmdstanpy:CmdStan done processing.\n"
     ]
    },
    {
     "name": "stdout",
     "output_type": "stream",
     "text": [
      "\n"
     ]
    }
   ],
   "source": [
    "model = '''\n",
    "data {\n",
    "    int n;\n",
    "    int tank[n];\n",
    "    int density[n];\n",
    "    int pred[n];\n",
    "    int surv[n];\n",
    "}\n",
    "\n",
    "parameters {\n",
    "    real a_bar;\n",
    "    real sigma;\n",
    "    real bp;\n",
    "    vector[n] a;\n",
    "}\n",
    "\n",
    "transformed parameters {\n",
    "    vector[n] alpha;\n",
    "    for (i in 1:n) {alpha[i] = a[i] + bp*pred[i];}\n",
    "}\n",
    "\n",
    "model {\n",
    "    // prior\n",
    "    a_bar ~ normal(0, 1.5);\n",
    "    sigma ~ exponential(1);\n",
    "    a ~ normal(a_bar, sigma);\n",
    "    bp ~ normal(-0.5, 1);\n",
    "    // likelihood\n",
    "    for (i in 1:n) {surv[i] ~ binomial_logit(density[i], alpha[i]);}\n",
    "}\n",
    "\n",
    "generated quantities {\n",
    "  vector[n] log_lik;\n",
    "  for (i in 1:n) {\n",
    "    log_lik[i] = binomial_logit_lpmf(surv[i] | density[i], alpha[i]);\n",
    "  }\n",
    "}\n",
    "'''\n",
    "\n",
    "stan_file = './stn/week08_01b.stan'\n",
    "with open(stan_file, 'w') as f:\n",
    "    print(model, file=f)\n",
    "model_1b = CmdStanModel(stan_file=stan_file)\n",
    "model_1b.compile()\n",
    "\n",
    "data = d[['tank', 'density', 'pred', 'surv']].copy()\n",
    "data = data.to_dict(orient='list')\n",
    "data['n'] = len(data['surv'])\n",
    "fit_1b = model_1b.sample(data=data, chains=4)"
   ]
  },
  {
   "cell_type": "markdown",
   "metadata": {
    "id": "YvEqo4ase-dU"
   },
   "source": [
    "Model 3 (size):"
   ]
  },
  {
   "cell_type": "code",
   "execution_count": 7,
   "metadata": {},
   "outputs": [
    {
     "name": "stderr",
     "output_type": "stream",
     "text": [
      "INFO:cmdstanpy:compiling stan file /home/jovyan/work/statret/stn/week08_01c.stan to exe file /home/jovyan/work/statret/stn/week08_01c\n",
      "INFO:cmdstanpy:compiled model executable: /home/jovyan/work/statret/stn/week08_01c\n",
      "INFO:cmdstanpy:found newer exe file, not recompiling\n",
      "INFO:cmdstanpy:CmdStan start procesing\n"
     ]
    },
    {
     "data": {
      "application/vnd.jupyter.widget-view+json": {
       "model_id": "ccc75782753242a0a419037b28b35065",
       "version_major": 2,
       "version_minor": 0
      },
      "text/plain": [
       "chain 1 |          | 00:00 Status"
      ]
     },
     "metadata": {},
     "output_type": "display_data"
    },
    {
     "data": {
      "application/vnd.jupyter.widget-view+json": {
       "model_id": "72d9073fa909435b97145facfdb88632",
       "version_major": 2,
       "version_minor": 0
      },
      "text/plain": [
       "chain 2 |          | 00:00 Status"
      ]
     },
     "metadata": {},
     "output_type": "display_data"
    },
    {
     "data": {
      "application/vnd.jupyter.widget-view+json": {
       "model_id": "754fe753e9a9479cb8406fab1977fa64",
       "version_major": 2,
       "version_minor": 0
      },
      "text/plain": [
       "chain 3 |          | 00:00 Status"
      ]
     },
     "metadata": {},
     "output_type": "display_data"
    },
    {
     "data": {
      "application/vnd.jupyter.widget-view+json": {
       "model_id": "d133842cb9ac4c1683a91cd51c59eff1",
       "version_major": 2,
       "version_minor": 0
      },
      "text/plain": [
       "chain 4 |          | 00:00 Status"
      ]
     },
     "metadata": {},
     "output_type": "display_data"
    },
    {
     "name": "stdout",
     "output_type": "stream",
     "text": [
      "                                                                                                                                                                                                                                                                                                                                "
     ]
    },
    {
     "name": "stderr",
     "output_type": "stream",
     "text": [
      "INFO:cmdstanpy:CmdStan done processing.\n"
     ]
    },
    {
     "name": "stdout",
     "output_type": "stream",
     "text": [
      "\n"
     ]
    }
   ],
   "source": [
    "model = '''\n",
    "data {\n",
    "    int k;\n",
    "    int n;\n",
    "    int tank[n];\n",
    "    int density[n];\n",
    "    int volume[n];\n",
    "    int surv[n];\n",
    "}\n",
    "\n",
    "parameters {\n",
    "    real a_bar;\n",
    "    real sigma;\n",
    "    vector[k] s;\n",
    "    vector[n] a;\n",
    "}\n",
    "\n",
    "transformed parameters {\n",
    "    vector[n] alpha;\n",
    "    for (i in 1:n) {alpha[i] = a[i] + s[volume[i]];}\n",
    "}\n",
    "\n",
    "model {\n",
    "    // prior\n",
    "    a_bar ~ normal(0, 1.5);\n",
    "    sigma ~ exponential(1);\n",
    "    a ~ normal(a_bar, sigma);\n",
    "    s ~ normal(0, 0.5);\n",
    "    // likelihood\n",
    "    for (i in 1:n) {surv[i] ~ binomial_logit(density[i], alpha[i]);}\n",
    "}\n",
    "\n",
    "generated quantities {\n",
    "  vector[n] log_lik;\n",
    "  for (i in 1:n) {\n",
    "    log_lik[i] = binomial_logit_lpmf(surv[i] | density[i], alpha[i]);\n",
    "  }\n",
    "}\n",
    "'''\n",
    "\n",
    "stan_file = './stn/week08_01c.stan'\n",
    "with open(stan_file, 'w') as f:\n",
    "    print(model, file=f)\n",
    "model_1c = CmdStanModel(stan_file=stan_file)\n",
    "model_1c.compile()\n",
    "\n",
    "data = d[['tank', 'density', 'volume', 'surv']].copy()\n",
    "data.volume = data.volume + 1\n",
    "data = data.to_dict(orient='list')\n",
    "data['n'] = d.surv.size\n",
    "data['k'] = d.volume.nunique()\n",
    "fit_1c = model_1c.sample(data=data, chains=4)"
   ]
  },
  {
   "cell_type": "markdown",
   "metadata": {
    "id": "sqoG1za3DTIO"
   },
   "source": [
    "Model 4 (pred + size):"
   ]
  },
  {
   "cell_type": "code",
   "execution_count": 8,
   "metadata": {},
   "outputs": [
    {
     "name": "stderr",
     "output_type": "stream",
     "text": [
      "INFO:cmdstanpy:compiling stan file /home/jovyan/work/statret/stn/week08_01d.stan to exe file /home/jovyan/work/statret/stn/week08_01d\n",
      "INFO:cmdstanpy:compiled model executable: /home/jovyan/work/statret/stn/week08_01d\n",
      "INFO:cmdstanpy:found newer exe file, not recompiling\n",
      "INFO:cmdstanpy:CmdStan start procesing\n"
     ]
    },
    {
     "data": {
      "application/vnd.jupyter.widget-view+json": {
       "model_id": "ec6962bbe80e40ba9b9444886e0f01bf",
       "version_major": 2,
       "version_minor": 0
      },
      "text/plain": [
       "chain 1 |          | 00:00 Status"
      ]
     },
     "metadata": {},
     "output_type": "display_data"
    },
    {
     "data": {
      "application/vnd.jupyter.widget-view+json": {
       "model_id": "4d603fce9efb499f987b3d9ae0df880a",
       "version_major": 2,
       "version_minor": 0
      },
      "text/plain": [
       "chain 2 |          | 00:00 Status"
      ]
     },
     "metadata": {},
     "output_type": "display_data"
    },
    {
     "data": {
      "application/vnd.jupyter.widget-view+json": {
       "model_id": "8bf509ca82dd482fab39130ad588c8d3",
       "version_major": 2,
       "version_minor": 0
      },
      "text/plain": [
       "chain 3 |          | 00:00 Status"
      ]
     },
     "metadata": {},
     "output_type": "display_data"
    },
    {
     "data": {
      "application/vnd.jupyter.widget-view+json": {
       "model_id": "8d5854c615bc4ffa8d90544593fa0103",
       "version_major": 2,
       "version_minor": 0
      },
      "text/plain": [
       "chain 4 |          | 00:00 Status"
      ]
     },
     "metadata": {},
     "output_type": "display_data"
    },
    {
     "name": "stdout",
     "output_type": "stream",
     "text": [
      "                                                                                                                                                                                                                                                                                                                                "
     ]
    },
    {
     "name": "stderr",
     "output_type": "stream",
     "text": [
      "INFO:cmdstanpy:CmdStan done processing.\n"
     ]
    },
    {
     "name": "stdout",
     "output_type": "stream",
     "text": [
      "\n"
     ]
    }
   ],
   "source": [
    "model = '''\n",
    "data {\n",
    "    int n;\n",
    "    int k;\n",
    "    int tank[n];\n",
    "    int density[n];\n",
    "    int volume[n];\n",
    "    int pred[n];\n",
    "    int surv[n];\n",
    "}\n",
    "\n",
    "parameters {\n",
    "    real a_bar;\n",
    "    real sigma;\n",
    "    real bp;\n",
    "    vector[k] s;\n",
    "    vector[n] a;\n",
    "}\n",
    "\n",
    "transformed parameters {\n",
    "    vector[n] alpha;\n",
    "    for (i in 1:n) {alpha[i] = a[i] + bp*pred[i] + s[volume[i]];}\n",
    "}\n",
    "\n",
    "model {\n",
    "    // prior\n",
    "    a_bar ~ normal(0, 1.5);\n",
    "    sigma ~ exponential(1);\n",
    "    a ~ normal(a_bar, sigma);\n",
    "    s ~ normal(0, 0.5);\n",
    "    // likelihood\n",
    "    for (i in 1:n) {surv[i] ~ binomial_logit(density[i], alpha[i]);}\n",
    "}\n",
    "\n",
    "generated quantities {\n",
    "  vector[n] log_lik;\n",
    "  for (i in 1:n) {\n",
    "    log_lik[i] = binomial_logit_lpmf(surv[i] | density[i], alpha[i]);\n",
    "  }\n",
    "}\n",
    "'''\n",
    "\n",
    "stan_file = './stn/week08_01d.stan'\n",
    "with open(stan_file, 'w') as f:\n",
    "    print(model, file=f)\n",
    "model_1d = CmdStanModel(stan_file=stan_file)\n",
    "model_1d.compile()\n",
    "\n",
    "data = d[['tank', 'density', 'volume', 'pred', 'surv']].copy()\n",
    "data.volume = data.volume + 1\n",
    "data = data.to_dict(orient='list')\n",
    "data['n'] = d.surv.size\n",
    "data['k'] = d.volume.nunique()\n",
    "fit_1d = model_1d.sample(data=data, chains=4)"
   ]
  },
  {
   "cell_type": "markdown",
   "metadata": {
    "id": "QUF74m4UDTIP"
   },
   "source": [
    "Model 5 (pred + size + interaction):"
   ]
  },
  {
   "cell_type": "code",
   "execution_count": 9,
   "metadata": {},
   "outputs": [
    {
     "name": "stderr",
     "output_type": "stream",
     "text": [
      "INFO:cmdstanpy:compiling stan file /home/jovyan/work/statret/stn/week08_01e.stan to exe file /home/jovyan/work/statret/stn/week08_01e\n",
      "INFO:cmdstanpy:compiled model executable: /home/jovyan/work/statret/stn/week08_01e\n",
      "INFO:cmdstanpy:found newer exe file, not recompiling\n",
      "INFO:cmdstanpy:CmdStan start procesing\n"
     ]
    },
    {
     "data": {
      "application/vnd.jupyter.widget-view+json": {
       "model_id": "f5a5c7447cf9441590e902cbe6028808",
       "version_major": 2,
       "version_minor": 0
      },
      "text/plain": [
       "chain 1 |          | 00:00 Status"
      ]
     },
     "metadata": {},
     "output_type": "display_data"
    },
    {
     "data": {
      "application/vnd.jupyter.widget-view+json": {
       "model_id": "631055cf0c7347a7882635cefffe4b8c",
       "version_major": 2,
       "version_minor": 0
      },
      "text/plain": [
       "chain 2 |          | 00:00 Status"
      ]
     },
     "metadata": {},
     "output_type": "display_data"
    },
    {
     "data": {
      "application/vnd.jupyter.widget-view+json": {
       "model_id": "85928d81bf004582b0fdbad72b01e031",
       "version_major": 2,
       "version_minor": 0
      },
      "text/plain": [
       "chain 3 |          | 00:00 Status"
      ]
     },
     "metadata": {},
     "output_type": "display_data"
    },
    {
     "data": {
      "application/vnd.jupyter.widget-view+json": {
       "model_id": "b68639fc4241446db1d6a3f2444167c6",
       "version_major": 2,
       "version_minor": 0
      },
      "text/plain": [
       "chain 4 |          | 00:00 Status"
      ]
     },
     "metadata": {},
     "output_type": "display_data"
    },
    {
     "name": "stdout",
     "output_type": "stream",
     "text": [
      "                                                                                                                                                                                                                                                                                                                                "
     ]
    },
    {
     "name": "stderr",
     "output_type": "stream",
     "text": [
      "INFO:cmdstanpy:CmdStan done processing.\n"
     ]
    },
    {
     "name": "stdout",
     "output_type": "stream",
     "text": [
      "\n"
     ]
    }
   ],
   "source": [
    "model = '''\n",
    "data {\n",
    "    int n;\n",
    "    int k;\n",
    "    int tank[n];\n",
    "    int density[n];\n",
    "    int volume[n];\n",
    "    int pred[n];\n",
    "    int surv[n];\n",
    "}\n",
    "\n",
    "parameters {\n",
    "    real a_bar;\n",
    "    real sigma;\n",
    "    vector[k] bp;\n",
    "    vector[k] s;\n",
    "    vector[n] a;\n",
    "}\n",
    "\n",
    "transformed parameters {\n",
    "    vector[n] alpha;\n",
    "    for (i in 1:n) {alpha[i] = a[i] + bp[volume[i]]*pred[i] + s[volume[i]];}\n",
    "}\n",
    "\n",
    "model {\n",
    "    // prior\n",
    "    a_bar ~ normal(0, 1.5);\n",
    "    sigma ~ exponential(1);\n",
    "    a ~ normal(a_bar, sigma);\n",
    "    s ~ normal(0, 0.5);\n",
    "    // likelihood\n",
    "    for (i in 1:n) {surv[i] ~ binomial_logit(density[i], alpha[i]);}\n",
    "}\n",
    "\n",
    "generated quantities {\n",
    "  vector[n] log_lik;\n",
    "  for (i in 1:n) {\n",
    "    log_lik[i] = binomial_logit_lpmf(surv[i] | density[i], alpha[i]);\n",
    "  }\n",
    "}\n",
    "'''\n",
    "\n",
    "stan_file = './stn/week08_01e.stan'\n",
    "with open(stan_file, 'w') as f:\n",
    "    print(model, file=f)\n",
    "model_1e = CmdStanModel(stan_file=stan_file)\n",
    "model_1e.compile()\n",
    "\n",
    "data = d[['tank', 'density', 'volume', 'pred', 'surv']].copy()\n",
    "data.volume = data.volume + 1\n",
    "data = data.to_dict(orient='list')\n",
    "data['n'] = d.surv.size\n",
    "data['k'] = d.volume.nunique()\n",
    "fit_1e = model_1e.sample(data=data, chains=4)"
   ]
  },
  {
   "cell_type": "markdown",
   "metadata": {
    "id": "XoewvGYeDTIP"
   },
   "source": [
    "I coded the interaction model (`samples_5`) using a non-centered parameterization. The interaction itself is done by creating a `bp` parameter for each size value. In this way, the effect of `pred` depends upon `volume`. First let's consider the WAIC scores:"
   ]
  },
  {
   "cell_type": "code",
   "execution_count": 10,
   "metadata": {},
   "outputs": [
    {
     "data": {
      "text/html": [
       "<div>\n",
       "<style scoped>\n",
       "    .dataframe tbody tr th:only-of-type {\n",
       "        vertical-align: middle;\n",
       "    }\n",
       "\n",
       "    .dataframe tbody tr th {\n",
       "        vertical-align: top;\n",
       "    }\n",
       "\n",
       "    .dataframe thead th {\n",
       "        text-align: right;\n",
       "    }\n",
       "</style>\n",
       "<table border=\"1\" class=\"dataframe\">\n",
       "  <thead>\n",
       "    <tr style=\"text-align: right;\">\n",
       "      <th></th>\n",
       "      <th>model</th>\n",
       "      <th>waic</th>\n",
       "    </tr>\n",
       "  </thead>\n",
       "  <tbody>\n",
       "    <tr>\n",
       "      <th>1</th>\n",
       "      <td>2</td>\n",
       "      <td>198.930</td>\n",
       "    </tr>\n",
       "    <tr>\n",
       "      <th>4</th>\n",
       "      <td>5</td>\n",
       "      <td>199.883</td>\n",
       "    </tr>\n",
       "    <tr>\n",
       "      <th>3</th>\n",
       "      <td>4</td>\n",
       "      <td>200.320</td>\n",
       "    </tr>\n",
       "    <tr>\n",
       "      <th>0</th>\n",
       "      <td>1</td>\n",
       "      <td>200.928</td>\n",
       "    </tr>\n",
       "    <tr>\n",
       "      <th>2</th>\n",
       "      <td>3</td>\n",
       "      <td>201.042</td>\n",
       "    </tr>\n",
       "  </tbody>\n",
       "</table>\n",
       "</div>"
      ],
      "text/plain": [
       "  model     waic\n",
       "1     2  198.930\n",
       "4     5  199.883\n",
       "3     4  200.320\n",
       "0     1  200.928\n",
       "2     3  201.042"
      ]
     },
     "execution_count": 10,
     "metadata": {},
     "output_type": "execute_result"
    }
   ],
   "source": [
    "sc = {\n",
    "    '1' : waic(fit_1a),\n",
    "    '2' : waic(fit_1b),\n",
    "    '3' : waic(fit_1c),\n",
    "    '4' : waic(fit_1d),\n",
    "    '5' : waic(fit_1e),\n",
    "}\n",
    "scores = pd.DataFrame(sc.items(), columns=['model','waic'])\n",
    "scores.sort_values(by='waic')"
   ]
  },
  {
   "cell_type": "markdown",
   "metadata": {
    "id": "Vg-9gtDZDTIQ"
   },
   "source": [
    "These models are really very similar in expected out-of-sample accuracy. The tank variation is huge. But take a look at the posterior distributions for predation and size. You'll see that predation does seem to matter, as you'd expect. Size matters a lot less. So while predation doesn't explain much of the total variation, there is plenty of evidence that it is a real effect. Remember: We don't select a model using WAIC\n",
    "(or LOO). A predictor can make little difference in total accuracy but still be a real causal effect.\n",
    "\n",
    "Let's look at all the sigma posterior distributions:"
   ]
  },
  {
   "cell_type": "code",
   "execution_count": 11,
   "metadata": {},
   "outputs": [
    {
     "data": {
      "image/png": "[encoded data removed]",
      "text/plain": [
       "<Figure size 600x300 with 1 Axes>"
      ]
     },
     "metadata": {},
     "output_type": "display_data"
    },
    {
     "data": {
      "text/plain": [
       "<ggplot: (8766302518772)>"
      ]
     },
     "execution_count": 11,
     "metadata": {},
     "output_type": "execute_result"
    }
   ],
   "source": [
    "atts = ['sigma']\n",
    "fits = {'1':fit_1a, '2':fit_1b, '3':fit_1c, '4':fit_1d, '5':fit_1e}\n",
    "akk = []\n",
    "for k in fits.keys():\n",
    "    df = fits[k].draws_pd(vars=atts)\n",
    "    df['model'] = k\n",
    "    akk.append(df)\n",
    "im = pd.concat(akk)\n",
    "\n",
    "(\n",
    "    ggplot(im)\n",
    "    + aes(x='model', y='sigma')\n",
    "    + coord_flip()\n",
    "    + geom_boxplot(outlier_alpha=0.1)\n",
    "    + theme_light()\n",
    "    + theme(figure_size=(6, 3))\n",
    ")"
   ]
  },
  {
   "cell_type": "markdown",
   "metadata": {
    "id": "lG7JJ--0DTIR"
   },
   "source": [
    "The two models that omit predation, `model_11` and `model_13`, have larger values of `sigma`. This is because predation explains some of the variation among tanks. So when you add it to the model, the variation in the tank intercepts gets smaller."
   ]
  },
  {
   "cell_type": "markdown",
   "metadata": {
    "id": "aMrsnV4WDTIR"
   },
   "source": [
    "## Exercise 2"
   ]
  },
  {
   "cell_type": "markdown",
   "metadata": {
    "id": "EvFqYEslDTIS"
   },
   "source": [
    "> In 1980, a typical Bengali woman could have 5 or more children in her lifetime. By the year 2000, a typical Bengali woman had only 2 or 3. You're going to look at a historical set of data, when contraception was widely available but many families chose not to use it. These data reside in data `bangladesh` and come from the 1988 Bangladesh Fertility Survey. Each row is one of 1934 women. There are six variables, but you can focus on two of them for this practice problem:\n",
    "\n",
    "> 1. `district`: ID number of administrative district each woman resided in\n",
    "2. `use.contraception`: An indicator (0/1) of whether the woman was using contraception"
   ]
  },
  {
   "cell_type": "code",
   "execution_count": 12,
   "metadata": {
    "colab": {
     "base_uri": "https://localhost:8080/",
     "height": 204
    },
    "executionInfo": {
     "elapsed": 735,
     "status": "ok",
     "timestamp": 1609493492049,
     "user": {
      "displayName": "Andrés Suárez",
      "photoUrl": "https://lh5.googleusercontent.com/-s0kzcIwylzA/AAAAAAAAAAI/AAAAAAAAQXA/v8Sc6WgQy7c/s64/photo.jpg",
      "userId": "06409440331868776168"
     },
     "user_tz": -60
    },
    "id": "2gJ9qonZDTIS",
    "outputId": "6b331fc3-424e-4e7c-a0fb-685d5d04fc55"
   },
   "outputs": [
    {
     "data": {
      "text/html": [
       "<div>\n",
       "<style scoped>\n",
       "    .dataframe tbody tr th:only-of-type {\n",
       "        vertical-align: middle;\n",
       "    }\n",
       "\n",
       "    .dataframe tbody tr th {\n",
       "        vertical-align: top;\n",
       "    }\n",
       "\n",
       "    .dataframe thead th {\n",
       "        text-align: right;\n",
       "    }\n",
       "</style>\n",
       "<table border=\"1\" class=\"dataframe\">\n",
       "  <thead>\n",
       "    <tr style=\"text-align: right;\">\n",
       "      <th></th>\n",
       "      <th>woman</th>\n",
       "      <th>district</th>\n",
       "      <th>use.contraception</th>\n",
       "      <th>living.children</th>\n",
       "      <th>age.centered</th>\n",
       "      <th>urban</th>\n",
       "      <th>did</th>\n",
       "      <th>conc</th>\n",
       "    </tr>\n",
       "  </thead>\n",
       "  <tbody>\n",
       "    <tr>\n",
       "      <th>0</th>\n",
       "      <td>1</td>\n",
       "      <td>1</td>\n",
       "      <td>0</td>\n",
       "      <td>4</td>\n",
       "      <td>18.4400</td>\n",
       "      <td>1</td>\n",
       "      <td>0</td>\n",
       "      <td>0</td>\n",
       "    </tr>\n",
       "    <tr>\n",
       "      <th>1</th>\n",
       "      <td>2</td>\n",
       "      <td>1</td>\n",
       "      <td>0</td>\n",
       "      <td>1</td>\n",
       "      <td>-5.5599</td>\n",
       "      <td>1</td>\n",
       "      <td>0</td>\n",
       "      <td>0</td>\n",
       "    </tr>\n",
       "    <tr>\n",
       "      <th>2</th>\n",
       "      <td>3</td>\n",
       "      <td>1</td>\n",
       "      <td>0</td>\n",
       "      <td>3</td>\n",
       "      <td>1.4400</td>\n",
       "      <td>1</td>\n",
       "      <td>0</td>\n",
       "      <td>0</td>\n",
       "    </tr>\n",
       "    <tr>\n",
       "      <th>3</th>\n",
       "      <td>4</td>\n",
       "      <td>1</td>\n",
       "      <td>0</td>\n",
       "      <td>4</td>\n",
       "      <td>8.4400</td>\n",
       "      <td>1</td>\n",
       "      <td>0</td>\n",
       "      <td>0</td>\n",
       "    </tr>\n",
       "    <tr>\n",
       "      <th>4</th>\n",
       "      <td>5</td>\n",
       "      <td>1</td>\n",
       "      <td>0</td>\n",
       "      <td>1</td>\n",
       "      <td>-13.5590</td>\n",
       "      <td>1</td>\n",
       "      <td>0</td>\n",
       "      <td>0</td>\n",
       "    </tr>\n",
       "  </tbody>\n",
       "</table>\n",
       "</div>"
      ],
      "text/plain": [
       "   woman  district  use.contraception  living.children  age.centered  urban  \\\n",
       "0      1         1                  0                4       18.4400      1   \n",
       "1      2         1                  0                1       -5.5599      1   \n",
       "2      3         1                  0                3        1.4400      1   \n",
       "3      4         1                  0                4        8.4400      1   \n",
       "4      5         1                  0                1      -13.5590      1   \n",
       "\n",
       "   did  conc  \n",
       "0    0     0  \n",
       "1    0     0  \n",
       "2    0     0  \n",
       "3    0     0  \n",
       "4    0     0  "
      ]
     },
     "execution_count": 12,
     "metadata": {},
     "output_type": "execute_result"
    }
   ],
   "source": [
    "d = pd.read_csv('./dat/bangladesh.csv', header=0, sep=';')\n",
    "d['did'] = pd.factorize(d['district'])[0]\n",
    "d['conc'] = d['use.contraception']\n",
    "d.head()"
   ]
  },
  {
   "cell_type": "code",
   "execution_count": 13,
   "metadata": {},
   "outputs": [
    {
     "name": "stderr",
     "output_type": "stream",
     "text": [
      "INFO:cmdstanpy:compiling stan file /home/jovyan/work/statret/stn/week08_02a.stan to exe file /home/jovyan/work/statret/stn/week08_02a\n",
      "INFO:cmdstanpy:compiled model executable: /home/jovyan/work/statret/stn/week08_02a\n",
      "INFO:cmdstanpy:found newer exe file, not recompiling\n",
      "INFO:cmdstanpy:CmdStan start procesing\n"
     ]
    },
    {
     "data": {
      "application/vnd.jupyter.widget-view+json": {
       "model_id": "da632a2d3675432aa34e9d0727b6897e",
       "version_major": 2,
       "version_minor": 0
      },
      "text/plain": [
       "chain 1 |          | 00:00 Status"
      ]
     },
     "metadata": {},
     "output_type": "display_data"
    },
    {
     "data": {
      "application/vnd.jupyter.widget-view+json": {
       "model_id": "f5ec9e714aac4a61bb04d49d1bc03f4d",
       "version_major": 2,
       "version_minor": 0
      },
      "text/plain": [
       "chain 2 |          | 00:00 Status"
      ]
     },
     "metadata": {},
     "output_type": "display_data"
    },
    {
     "data": {
      "application/vnd.jupyter.widget-view+json": {
       "model_id": "fe9a4d2a54b043ba96db4d964c253267",
       "version_major": 2,
       "version_minor": 0
      },
      "text/plain": [
       "chain 3 |          | 00:00 Status"
      ]
     },
     "metadata": {},
     "output_type": "display_data"
    },
    {
     "data": {
      "application/vnd.jupyter.widget-view+json": {
       "model_id": "fcaf30f120b44a2eb7b29a62943b0568",
       "version_major": 2,
       "version_minor": 0
      },
      "text/plain": [
       "chain 4 |          | 00:00 Status"
      ]
     },
     "metadata": {},
     "output_type": "display_data"
    },
    {
     "name": "stdout",
     "output_type": "stream",
     "text": [
      "                                                                                                                                                                                                                                                                                                                                "
     ]
    },
    {
     "name": "stderr",
     "output_type": "stream",
     "text": [
      "INFO:cmdstanpy:CmdStan done processing.\n"
     ]
    },
    {
     "name": "stdout",
     "output_type": "stream",
     "text": [
      "\n"
     ]
    }
   ],
   "source": [
    "model = '''\n",
    "\n",
    "data {\n",
    "    int n;\n",
    "    int k;\n",
    "    int did[n];\n",
    "    int conc[n];\n",
    "}\n",
    "\n",
    "parameters {\n",
    "    vector[k] alpha;\n",
    "}\n",
    "\n",
    "model {\n",
    "    // prior\n",
    "    alpha ~ normal(0, 1.5);\n",
    "    // likelihood\n",
    "    for (i in 1:n) { conc[i] ~ bernoulli_logit(alpha[did[i]]); }\n",
    "}\n",
    "\n",
    "'''\n",
    "\n",
    "stan_file = './stn/week08_02a.stan'\n",
    "with open(stan_file, 'w') as f:\n",
    "    print(model, file=f)\n",
    "model_2a = CmdStanModel(stan_file=stan_file)\n",
    "model_2a.compile()\n",
    "\n",
    "data = d[['did', 'conc']].copy()\n",
    "data.did = data.did + 1\n",
    "data = data.to_dict(orient='list')\n",
    "data['n'] = d.conc.size\n",
    "data['k'] = d.did.nunique()\n",
    "fit_2a = model_2a.sample(data=data, chains=4)"
   ]
  },
  {
   "cell_type": "markdown",
   "metadata": {
    "id": "OeV5mwHCDTIT"
   },
   "source": [
    "Now for the ordinary fixed effect model:"
   ]
  },
  {
   "cell_type": "code",
   "execution_count": 14,
   "metadata": {},
   "outputs": [
    {
     "name": "stderr",
     "output_type": "stream",
     "text": [
      "INFO:cmdstanpy:compiling stan file /home/jovyan/work/statret/stn/week08_02b.stan to exe file /home/jovyan/work/statret/stn/week08_02b\n",
      "INFO:cmdstanpy:compiled model executable: /home/jovyan/work/statret/stn/week08_02b\n",
      "INFO:cmdstanpy:found newer exe file, not recompiling\n",
      "INFO:cmdstanpy:CmdStan start procesing\n"
     ]
    },
    {
     "data": {
      "application/vnd.jupyter.widget-view+json": {
       "model_id": "a71d9a16bf8e472fa45d803a88de24c1",
       "version_major": 2,
       "version_minor": 0
      },
      "text/plain": [
       "chain 1 |          | 00:00 Status"
      ]
     },
     "metadata": {},
     "output_type": "display_data"
    },
    {
     "data": {
      "application/vnd.jupyter.widget-view+json": {
       "model_id": "4ae98e21ad7c478eb4b2ace74b696d54",
       "version_major": 2,
       "version_minor": 0
      },
      "text/plain": [
       "chain 2 |          | 00:00 Status"
      ]
     },
     "metadata": {},
     "output_type": "display_data"
    },
    {
     "data": {
      "application/vnd.jupyter.widget-view+json": {
       "model_id": "861e74d2a1eb4f5cadb40d23e56ff0f2",
       "version_major": 2,
       "version_minor": 0
      },
      "text/plain": [
       "chain 3 |          | 00:00 Status"
      ]
     },
     "metadata": {},
     "output_type": "display_data"
    },
    {
     "data": {
      "application/vnd.jupyter.widget-view+json": {
       "model_id": "1df01a4dbdd44cff8a759d9f9905c63e",
       "version_major": 2,
       "version_minor": 0
      },
      "text/plain": [
       "chain 4 |          | 00:00 Status"
      ]
     },
     "metadata": {},
     "output_type": "display_data"
    },
    {
     "name": "stdout",
     "output_type": "stream",
     "text": [
      "                                                                                                                                                                                                                                                                                                                                "
     ]
    },
    {
     "name": "stderr",
     "output_type": "stream",
     "text": [
      "INFO:cmdstanpy:CmdStan done processing.\n"
     ]
    },
    {
     "name": "stdout",
     "output_type": "stream",
     "text": [
      "\n"
     ]
    }
   ],
   "source": [
    "model = '''\n",
    "\n",
    "data {\n",
    "    int n;\n",
    "    int k;\n",
    "    int did[n];\n",
    "    int conc[n];\n",
    "}\n",
    "\n",
    "parameters {\n",
    "    real alpha_bar;\n",
    "    real sigma;\n",
    "    vector[k] alpha;\n",
    "}\n",
    "\n",
    "model {\n",
    "    // prior\n",
    "    alpha_bar ~ normal(0, 1.5);\n",
    "    sigma ~ exponential(1);\n",
    "    alpha ~ normal(alpha_bar, sigma);\n",
    "    // likelihood\n",
    "    for (i in 1:n) { conc[i] ~ bernoulli_logit(alpha[did[i]]); }\n",
    "}\n",
    "\n",
    "'''\n",
    "\n",
    "stan_file = './stn/week08_02b.stan'\n",
    "with open(stan_file, 'w') as f:\n",
    "    print(model, file=f)\n",
    "model_2b = CmdStanModel(stan_file=stan_file)\n",
    "model_2b.compile()\n",
    "\n",
    "data = d[['did', 'conc']].copy()\n",
    "data.did = data.did + 1\n",
    "data = data.to_dict(orient='list')\n",
    "data['n'] = d.conc.size\n",
    "data['k'] = d.did.nunique()\n",
    "fit_2b = model_2b.sample(data=data, chains=4)"
   ]
  },
  {
   "cell_type": "markdown",
   "metadata": {
    "id": "ncXzdoEFDTIV"
   },
   "source": [
    "Now let's extract the samples, compute posterior mean probabilities in each district, and plot it all:"
   ]
  },
  {
   "cell_type": "code",
   "execution_count": 15,
   "metadata": {},
   "outputs": [],
   "source": [
    "def logit2prob(logits):\n",
    "    odds = np.exp(logits)\n",
    "    probs = odds/(1+odds)\n",
    "    return probs"
   ]
  },
  {
   "cell_type": "code",
   "execution_count": 16,
   "metadata": {},
   "outputs": [],
   "source": [
    "prob2a = logit2prob(fit_2a.stan_variable(var='alpha').mean(axis=0))\n",
    "prob2b = logit2prob(fit_2b.stan_variable(var='alpha').mean(axis=0))\n",
    "prob_line = logit2prob(fit_2b.stan_variable(var='alpha_bar').mean(axis=0))"
   ]
  },
  {
   "cell_type": "markdown",
   "metadata": {
    "id": "0Ao9qTbIDTIX"
   },
   "source": [
    "The red points are the fixed estimations. The blue points are the varying effects. As you'd expect, they are shrunk towards the mean (the _red_ line). Some are shrunk more than others. The third district from the left shrunk a lot. Let's look at the sample size in each district: district 3 has only 2 women sampled. So it shrinks a lot. There are couple of other districts, like 49 and 54, that also have very few women sampled. But their fixed estimates aren't as extreme, so they don't shrink as much as district 3 does. All of this is explained by partial pooling, of course."
   ]
  },
  {
   "cell_type": "code",
   "execution_count": 17,
   "metadata": {},
   "outputs": [
    {
     "data": {
      "image/png": "[encoded data removed]",
      "text/plain": [
       "<Figure size 900x200 with 1 Axes>"
      ]
     },
     "metadata": {},
     "output_type": "display_data"
    },
    {
     "data": {
      "text/plain": [
       "<ggplot: (8766301777661)>"
      ]
     },
     "execution_count": 17,
     "metadata": {},
     "output_type": "execute_result"
    }
   ],
   "source": [
    "im = pd.DataFrame({'model_2a':prob2a, 'model_2b':prob2b}).reset_index()\n",
    "im['district'] = im.index+1\n",
    "im = pd.melt(im, id_vars=['district'], value_vars=['model_2a','model_2b'], var_name='model', value_name='prob')\n",
    "\n",
    "(\n",
    "    ggplot(im)\n",
    "    + aes(x='district', y='prob', color='model')\n",
    "    + geom_point()\n",
    "    + geom_hline(yintercept=prob_line, linetype='dotted')\n",
    "    + theme_light()\n",
    "    + theme(figure_size=(9,2))\n",
    ")"
   ]
  },
  {
   "cell_type": "markdown",
   "metadata": {
    "id": "Uur4Nc9ZDTIY"
   },
   "source": [
    "## Exercise 3"
   ]
  },
  {
   "cell_type": "markdown",
   "metadata": {
    "id": "umXdqjrgDTIY"
   },
   "source": [
    "Return to the Trolley data, (`Trolley`), from Chapter 12. Define and fit a varying intercepts model for these data. By this I mean to add an intercept parameter for the individual to the linear model. Cluster the varying intercepts on individual participants, as indicated by the unique values in the id variable. Include action, intention, and contact as before. Compare the varying intercepts model and a model that ignores individuals, using both WAIC/LOO and posterior predictions. What is the impact of individual variation in these data?"
   ]
  },
  {
   "cell_type": "code",
   "execution_count": 18,
   "metadata": {},
   "outputs": [
    {
     "data": {
      "text/html": [
       "<div>\n",
       "<style scoped>\n",
       "    .dataframe tbody tr th:only-of-type {\n",
       "        vertical-align: middle;\n",
       "    }\n",
       "\n",
       "    .dataframe tbody tr th {\n",
       "        vertical-align: top;\n",
       "    }\n",
       "\n",
       "    .dataframe thead th {\n",
       "        text-align: right;\n",
       "    }\n",
       "</style>\n",
       "<table border=\"1\" class=\"dataframe\">\n",
       "  <thead>\n",
       "    <tr style=\"text-align: right;\">\n",
       "      <th></th>\n",
       "      <th>case</th>\n",
       "      <th>response</th>\n",
       "      <th>order</th>\n",
       "      <th>id</th>\n",
       "      <th>age</th>\n",
       "      <th>male</th>\n",
       "      <th>edu</th>\n",
       "      <th>action</th>\n",
       "      <th>intention</th>\n",
       "      <th>contact</th>\n",
       "      <th>story</th>\n",
       "      <th>action2</th>\n",
       "      <th>edu_cat</th>\n",
       "      <th>age_std</th>\n",
       "    </tr>\n",
       "  </thead>\n",
       "  <tbody>\n",
       "    <tr>\n",
       "      <th>9927</th>\n",
       "      <td>ilshi</td>\n",
       "      <td>7</td>\n",
       "      <td>7</td>\n",
       "      <td>330</td>\n",
       "      <td>66</td>\n",
       "      <td>1</td>\n",
       "      <td>Graduate Degree</td>\n",
       "      <td>0</td>\n",
       "      <td>1</td>\n",
       "      <td>0</td>\n",
       "      <td>shi</td>\n",
       "      <td>0</td>\n",
       "      <td>5</td>\n",
       "      <td>2.003041</td>\n",
       "    </tr>\n",
       "    <tr>\n",
       "      <th>9928</th>\n",
       "      <td>ilswi</td>\n",
       "      <td>2</td>\n",
       "      <td>18</td>\n",
       "      <td>330</td>\n",
       "      <td>66</td>\n",
       "      <td>1</td>\n",
       "      <td>Graduate Degree</td>\n",
       "      <td>0</td>\n",
       "      <td>1</td>\n",
       "      <td>0</td>\n",
       "      <td>swi</td>\n",
       "      <td>0</td>\n",
       "      <td>5</td>\n",
       "      <td>2.003041</td>\n",
       "    </tr>\n",
       "    <tr>\n",
       "      <th>9929</th>\n",
       "      <td>nfrub</td>\n",
       "      <td>2</td>\n",
       "      <td>17</td>\n",
       "      <td>330</td>\n",
       "      <td>66</td>\n",
       "      <td>1</td>\n",
       "      <td>Graduate Degree</td>\n",
       "      <td>1</td>\n",
       "      <td>0</td>\n",
       "      <td>0</td>\n",
       "      <td>rub</td>\n",
       "      <td>1</td>\n",
       "      <td>5</td>\n",
       "      <td>2.003041</td>\n",
       "    </tr>\n",
       "  </tbody>\n",
       "</table>\n",
       "</div>"
      ],
      "text/plain": [
       "       case  response  order   id  age  male              edu  action  \\\n",
       "9927  ilshi         7      7  330   66     1  Graduate Degree       0   \n",
       "9928  ilswi         2     18  330   66     1  Graduate Degree       0   \n",
       "9929  nfrub         2     17  330   66     1  Graduate Degree       1   \n",
       "\n",
       "      intention  contact story  action2  edu_cat   age_std  \n",
       "9927          1        0   shi        0        5  2.003041  \n",
       "9928          1        0   swi        0        5  2.003041  \n",
       "9929          0        0   rub        1        5  2.003041  "
      ]
     },
     "execution_count": 18,
     "metadata": {},
     "output_type": "execute_result"
    }
   ],
   "source": [
    "d = pd.read_csv('./dat/Trolley.csv', header=0, sep=';')\n",
    "elvl = d['edu'].unique()\n",
    "cat = {elvl[i]:i for i in [7 , 0 , 6 , 4 , 2 , 1, 3, 5]}\n",
    "d['edu_cat'] = d.edu.replace(cat)\n",
    "d['age_std'] = (d['age'] - d['age'].mean())/d['age'].std()\n",
    "d['id'] = pd.factorize(d['id'])[0]\n",
    "d.tail(3)"
   ]
  },
  {
   "cell_type": "markdown",
   "metadata": {
    "id": "sExJeEvPDTIa"
   },
   "source": [
    "First, let's load the data and re-run the old model from Chapter 12:"
   ]
  },
  {
   "cell_type": "code",
   "execution_count": 19,
   "metadata": {},
   "outputs": [
    {
     "name": "stderr",
     "output_type": "stream",
     "text": [
      "INFO:cmdstanpy:compiling stan file /home/jovyan/work/statret/stn/week08_03a.stan to exe file /home/jovyan/work/statret/stn/week08_03a\n",
      "INFO:cmdstanpy:compiled model executable: /home/jovyan/work/statret/stn/week08_03a\n",
      "INFO:cmdstanpy:found newer exe file, not recompiling\n"
     ]
    }
   ],
   "source": [
    "model = '''\n",
    "\n",
    "data {\n",
    "    int n;\n",
    "    int k;\n",
    "    int action[n];\n",
    "    int contact[n];\n",
    "    int intention[n];\n",
    "    int response[n];\n",
    "}\n",
    "\n",
    "parameters {\n",
    "    ordered[k] cutpoints;\n",
    "    real bA;\n",
    "    real bC;\n",
    "    real bI;\n",
    "    real bIA;\n",
    "    real bIC;\n",
    "}\n",
    "\n",
    "transformed parameters {\n",
    "    vector[n] phi;\n",
    "    vector[n] BI;\n",
    "    for (i in 1:n) {\n",
    "        BI[i] = bI + bIA*action[i] + bIC*contact[i];\n",
    "        phi[i] = bA*action[i] + bC*contact[i] + BI[i]*intention[i];\n",
    "    }\n",
    "}\n",
    "\n",
    "model {\n",
    "    // prior\n",
    "    cutpoints ~ normal(0,15);\n",
    "    bA ~ normal(0,0.5);\n",
    "    bC ~ normal(0,0.5);\n",
    "    bI ~ normal(0,0.5);\n",
    "    bIA ~ normal(0,0.5);\n",
    "    bIC ~ normal(0,0.5);\n",
    "    // likelihood\n",
    "    for (i in 1:n) { response[i] ~ ordered_logistic(phi[i], cutpoints); }\n",
    "}\n",
    "\n",
    "generated quantities {\n",
    "  vector[n] log_lik;\n",
    "  for (i in 1:n) { log_lik[i] = ordered_logistic_lpmf(response[i] | phi[i], cutpoints); }\n",
    "}\n",
    "\n",
    "'''\n",
    "\n",
    "stan_file = './stn/week08_03a.stan'\n",
    "with open(stan_file, 'w') as f:\n",
    "    print(model, file=f)\n",
    "model_3a = CmdStanModel(stan_file=stan_file)\n",
    "model_3a.compile()"
   ]
  },
  {
   "cell_type": "code",
   "execution_count": 20,
   "metadata": {},
   "outputs": [
    {
     "name": "stderr",
     "output_type": "stream",
     "text": [
      "INFO:cmdstanpy:CmdStan start procesing\n"
     ]
    },
    {
     "data": {
      "application/vnd.jupyter.widget-view+json": {
       "model_id": "3227b9080713484a81dd65014416222e",
       "version_major": 2,
       "version_minor": 0
      },
      "text/plain": [
       "chain 1 |          | 00:00 Status"
      ]
     },
     "metadata": {},
     "output_type": "display_data"
    },
    {
     "data": {
      "application/vnd.jupyter.widget-view+json": {
       "model_id": "f700583d9d5241868d034ecb9344f50b",
       "version_major": 2,
       "version_minor": 0
      },
      "text/plain": [
       "chain 2 |          | 00:00 Status"
      ]
     },
     "metadata": {},
     "output_type": "display_data"
    },
    {
     "data": {
      "application/vnd.jupyter.widget-view+json": {
       "model_id": "0fb7b8521736452c8a7f623a22fd1e19",
       "version_major": 2,
       "version_minor": 0
      },
      "text/plain": [
       "chain 3 |          | 00:00 Status"
      ]
     },
     "metadata": {},
     "output_type": "display_data"
    },
    {
     "data": {
      "application/vnd.jupyter.widget-view+json": {
       "model_id": "1d2d57a6e0af429b98c1692696b8a65d",
       "version_major": 2,
       "version_minor": 0
      },
      "text/plain": [
       "chain 4 |          | 00:00 Status"
      ]
     },
     "metadata": {},
     "output_type": "display_data"
    },
    {
     "name": "stdout",
     "output_type": "stream",
     "text": [
      "                                                                                                                                                                                                                                                                                                                                "
     ]
    },
    {
     "name": "stderr",
     "output_type": "stream",
     "text": [
      "INFO:cmdstanpy:CmdStan done processing.\n"
     ]
    },
    {
     "name": "stdout",
     "output_type": "stream",
     "text": [
      "\n"
     ]
    }
   ],
   "source": [
    "data = d[['action', 'contact', 'intention', 'response']].copy()\n",
    "data = data.to_dict(orient='list')\n",
    "data['n'] = len(data['response'])\n",
    "data['k'] = d.response.nunique()-1\n",
    "fit_3a = model_3a.sample(data=data, chains=4)"
   ]
  },
  {
   "cell_type": "markdown",
   "metadata": {
    "id": "7LD89ncWDTIb"
   },
   "source": [
    "Now to run the varying intercept model, we need to build a valid individual ID variable. The IDs in the data are long tags, so we can coerce them to integers in many ways. What is important is that the index values go from 1 (_zero in python_) to the number of individuals."
   ]
  },
  {
   "cell_type": "code",
   "execution_count": 21,
   "metadata": {},
   "outputs": [
    {
     "name": "stderr",
     "output_type": "stream",
     "text": [
      "INFO:cmdstanpy:compiling stan file /home/jovyan/work/statret/stn/week08_03b.stan to exe file /home/jovyan/work/statret/stn/week08_03b\n",
      "INFO:cmdstanpy:compiled model executable: /home/jovyan/work/statret/stn/week08_03b\n",
      "INFO:cmdstanpy:found newer exe file, not recompiling\n"
     ]
    }
   ],
   "source": [
    "model = '''\n",
    "\n",
    "data {\n",
    "    int n;\n",
    "    int k;\n",
    "    int p;\n",
    "    int id[n];\n",
    "    int action[n];\n",
    "    int contact[n];\n",
    "    int intention[n];\n",
    "    int response[n];\n",
    "}\n",
    "\n",
    "parameters {\n",
    "    ordered[k] cutpoints;\n",
    "    vector[p] alpha;\n",
    "    real sigma;\n",
    "    real bA;\n",
    "    real bC;\n",
    "    real bI;\n",
    "    real bIA;\n",
    "    real bIC;\n",
    "}\n",
    "\n",
    "transformed parameters {\n",
    "    vector[n] phi;\n",
    "    vector[n] BI;\n",
    "    for (i in 1:n) {\n",
    "        BI[i] = bI + bIA*action[i] + bIC*contact[i];\n",
    "        phi[i] = alpha[id[i]] + bA*action[i] + bC*contact[i] + BI[i]*intention[i];\n",
    "    }\n",
    "}\n",
    "\n",
    "model {\n",
    "    // prior\n",
    "    cutpoints ~ normal(0,15);\n",
    "    bA ~ normal(0,0.5);\n",
    "    bC ~ normal(0,0.5);\n",
    "    bI ~ normal(0,0.5);\n",
    "    bIA ~ normal(0,0.5);\n",
    "    bIC ~ normal(0,0.5);\n",
    "    sigma ~ exponential(1);\n",
    "    alpha ~ normal(0, sigma);\n",
    "    // likelihood\n",
    "    for (i in 1:n) { response[i] ~ ordered_logistic(phi[i], cutpoints); }\n",
    "}\n",
    "\n",
    "generated quantities {\n",
    "  vector[n] log_lik;\n",
    "  for (i in 1:n) { log_lik[i] = ordered_logistic_lpmf(response[i] | phi[i], cutpoints); }\n",
    "}\n",
    "\n",
    "'''\n",
    "\n",
    "stan_file = './stn/week08_03b.stan'\n",
    "with open(stan_file, 'w') as f:\n",
    "    print(model, file=f)\n",
    "model_3b = CmdStanModel(stan_file=stan_file)\n",
    "model_3b.compile()"
   ]
  },
  {
   "cell_type": "code",
   "execution_count": 22,
   "metadata": {},
   "outputs": [
    {
     "name": "stderr",
     "output_type": "stream",
     "text": [
      "INFO:cmdstanpy:CmdStan start procesing\n"
     ]
    },
    {
     "data": {
      "application/vnd.jupyter.widget-view+json": {
       "model_id": "94e30dbff2c445e5864c43f884a85fd1",
       "version_major": 2,
       "version_minor": 0
      },
      "text/plain": [
       "chain 1 |          | 00:00 Status"
      ]
     },
     "metadata": {},
     "output_type": "display_data"
    },
    {
     "data": {
      "application/vnd.jupyter.widget-view+json": {
       "model_id": "4b06d83806624be2915e814164dbcaa6",
       "version_major": 2,
       "version_minor": 0
      },
      "text/plain": [
       "chain 2 |          | 00:00 Status"
      ]
     },
     "metadata": {},
     "output_type": "display_data"
    },
    {
     "data": {
      "application/vnd.jupyter.widget-view+json": {
       "model_id": "3e264a14f5a943208e7af9c41d22ae5b",
       "version_major": 2,
       "version_minor": 0
      },
      "text/plain": [
       "chain 3 |          | 00:00 Status"
      ]
     },
     "metadata": {},
     "output_type": "display_data"
    },
    {
     "data": {
      "application/vnd.jupyter.widget-view+json": {
       "model_id": "4192af5e2dc143eb8c1f59db76642c42",
       "version_major": 2,
       "version_minor": 0
      },
      "text/plain": [
       "chain 4 |          | 00:00 Status"
      ]
     },
     "metadata": {},
     "output_type": "display_data"
    },
    {
     "name": "stdout",
     "output_type": "stream",
     "text": [
      "                                                                                                                                                                                                                                                                                                                                "
     ]
    },
    {
     "name": "stderr",
     "output_type": "stream",
     "text": [
      "INFO:cmdstanpy:CmdStan done processing.\n"
     ]
    },
    {
     "name": "stdout",
     "output_type": "stream",
     "text": [
      "\n"
     ]
    }
   ],
   "source": [
    "data = d[['action', 'contact', 'intention', 'response', 'id']].copy()\n",
    "data['id'] = data.id+1\n",
    "data = data.to_dict(orient='list')\n",
    "data['n'] = len(data['response'])\n",
    "data['k'] = d.response.nunique()-1\n",
    "data['p'] = d.id.nunique()\n",
    "fit_3b = model_3b.sample(data=data, chains=4)"
   ]
  },
  {
   "cell_type": "markdown",
   "metadata": {
    "id": "rKfTh509DTIb"
   },
   "source": [
    "We can begin by comparing the posterior distributions. The original coefficients are:"
   ]
  },
  {
   "cell_type": "code",
   "execution_count": 23,
   "metadata": {},
   "outputs": [
    {
     "data": {
      "text/html": [
       "<div>\n",
       "<style scoped>\n",
       "    .dataframe tbody tr th:only-of-type {\n",
       "        vertical-align: middle;\n",
       "    }\n",
       "\n",
       "    .dataframe tbody tr th {\n",
       "        vertical-align: top;\n",
       "    }\n",
       "\n",
       "    .dataframe thead th {\n",
       "        text-align: right;\n",
       "    }\n",
       "</style>\n",
       "<table border=\"1\" class=\"dataframe\">\n",
       "  <thead>\n",
       "    <tr style=\"text-align: right;\">\n",
       "      <th></th>\n",
       "      <th>Mean</th>\n",
       "      <th>MCSE</th>\n",
       "      <th>StdDev</th>\n",
       "      <th>5%</th>\n",
       "      <th>50%</th>\n",
       "      <th>95%</th>\n",
       "      <th>N_Eff</th>\n",
       "      <th>N_Eff/s</th>\n",
       "      <th>R_hat</th>\n",
       "    </tr>\n",
       "    <tr>\n",
       "      <th>name</th>\n",
       "      <th></th>\n",
       "      <th></th>\n",
       "      <th></th>\n",
       "      <th></th>\n",
       "      <th></th>\n",
       "      <th></th>\n",
       "      <th></th>\n",
       "      <th></th>\n",
       "      <th></th>\n",
       "    </tr>\n",
       "  </thead>\n",
       "  <tbody>\n",
       "    <tr>\n",
       "      <th>bA</th>\n",
       "      <td>-0.5</td>\n",
       "      <td>0.0</td>\n",
       "      <td>0.1</td>\n",
       "      <td>-0.6</td>\n",
       "      <td>-0.5</td>\n",
       "      <td>-0.4</td>\n",
       "      <td>2039.8</td>\n",
       "      <td>4.1</td>\n",
       "      <td>1.0</td>\n",
       "    </tr>\n",
       "    <tr>\n",
       "      <th>bC</th>\n",
       "      <td>-0.3</td>\n",
       "      <td>0.0</td>\n",
       "      <td>0.1</td>\n",
       "      <td>-0.5</td>\n",
       "      <td>-0.3</td>\n",
       "      <td>-0.2</td>\n",
       "      <td>2339.6</td>\n",
       "      <td>4.7</td>\n",
       "      <td>1.0</td>\n",
       "    </tr>\n",
       "    <tr>\n",
       "      <th>bI</th>\n",
       "      <td>-0.3</td>\n",
       "      <td>0.0</td>\n",
       "      <td>0.1</td>\n",
       "      <td>-0.4</td>\n",
       "      <td>-0.3</td>\n",
       "      <td>-0.2</td>\n",
       "      <td>1970.8</td>\n",
       "      <td>3.9</td>\n",
       "      <td>1.0</td>\n",
       "    </tr>\n",
       "    <tr>\n",
       "      <th>bIA</th>\n",
       "      <td>-0.4</td>\n",
       "      <td>0.0</td>\n",
       "      <td>0.1</td>\n",
       "      <td>-0.6</td>\n",
       "      <td>-0.4</td>\n",
       "      <td>-0.3</td>\n",
       "      <td>2323.9</td>\n",
       "      <td>4.6</td>\n",
       "      <td>1.0</td>\n",
       "    </tr>\n",
       "    <tr>\n",
       "      <th>bIC</th>\n",
       "      <td>-1.2</td>\n",
       "      <td>0.0</td>\n",
       "      <td>0.1</td>\n",
       "      <td>-1.4</td>\n",
       "      <td>-1.2</td>\n",
       "      <td>-1.1</td>\n",
       "      <td>2418.3</td>\n",
       "      <td>4.8</td>\n",
       "      <td>1.0</td>\n",
       "    </tr>\n",
       "  </tbody>\n",
       "</table>\n",
       "</div>"
      ],
      "text/plain": [
       "      Mean  MCSE  StdDev   5%  50%  95%   N_Eff  N_Eff/s  R_hat\n",
       "name                                                           \n",
       "bA    -0.5   0.0     0.1 -0.6 -0.5 -0.4  2039.8      4.1    1.0\n",
       "bC    -0.3   0.0     0.1 -0.5 -0.3 -0.2  2339.6      4.7    1.0\n",
       "bI    -0.3   0.0     0.1 -0.4 -0.3 -0.2  1970.8      3.9    1.0\n",
       "bIA   -0.4   0.0     0.1 -0.6 -0.4 -0.3  2323.9      4.6    1.0\n",
       "bIC   -1.2   0.0     0.1 -1.4 -1.2 -1.1  2418.3      4.8    1.0"
      ]
     },
     "execution_count": 23,
     "metadata": {},
     "output_type": "execute_result"
    }
   ],
   "source": [
    "fit_3a.summary().loc[['bA','bC','bI','bIA', 'bIC']]"
   ]
  },
  {
   "cell_type": "markdown",
   "metadata": {
    "id": "p_19DQmWDTIc"
   },
   "source": [
    "And the new ones, having added the individual IDs, are:"
   ]
  },
  {
   "cell_type": "code",
   "execution_count": 24,
   "metadata": {},
   "outputs": [
    {
     "data": {
      "text/html": [
       "<div>\n",
       "<style scoped>\n",
       "    .dataframe tbody tr th:only-of-type {\n",
       "        vertical-align: middle;\n",
       "    }\n",
       "\n",
       "    .dataframe tbody tr th {\n",
       "        vertical-align: top;\n",
       "    }\n",
       "\n",
       "    .dataframe thead th {\n",
       "        text-align: right;\n",
       "    }\n",
       "</style>\n",
       "<table border=\"1\" class=\"dataframe\">\n",
       "  <thead>\n",
       "    <tr style=\"text-align: right;\">\n",
       "      <th></th>\n",
       "      <th>Mean</th>\n",
       "      <th>MCSE</th>\n",
       "      <th>StdDev</th>\n",
       "      <th>5%</th>\n",
       "      <th>50%</th>\n",
       "      <th>95%</th>\n",
       "      <th>N_Eff</th>\n",
       "      <th>N_Eff/s</th>\n",
       "      <th>R_hat</th>\n",
       "    </tr>\n",
       "    <tr>\n",
       "      <th>name</th>\n",
       "      <th></th>\n",
       "      <th></th>\n",
       "      <th></th>\n",
       "      <th></th>\n",
       "      <th></th>\n",
       "      <th></th>\n",
       "      <th></th>\n",
       "      <th></th>\n",
       "      <th></th>\n",
       "    </tr>\n",
       "  </thead>\n",
       "  <tbody>\n",
       "    <tr>\n",
       "      <th>bA</th>\n",
       "      <td>-0.7</td>\n",
       "      <td>0.0</td>\n",
       "      <td>0.1</td>\n",
       "      <td>-0.7</td>\n",
       "      <td>-0.7</td>\n",
       "      <td>-0.6</td>\n",
       "      <td>3177.6</td>\n",
       "      <td>3.8</td>\n",
       "      <td>1.0</td>\n",
       "    </tr>\n",
       "    <tr>\n",
       "      <th>bC</th>\n",
       "      <td>-0.5</td>\n",
       "      <td>0.0</td>\n",
       "      <td>0.1</td>\n",
       "      <td>-0.6</td>\n",
       "      <td>-0.5</td>\n",
       "      <td>-0.3</td>\n",
       "      <td>3263.7</td>\n",
       "      <td>3.9</td>\n",
       "      <td>1.0</td>\n",
       "    </tr>\n",
       "    <tr>\n",
       "      <th>bI</th>\n",
       "      <td>-0.4</td>\n",
       "      <td>0.0</td>\n",
       "      <td>0.1</td>\n",
       "      <td>-0.5</td>\n",
       "      <td>-0.4</td>\n",
       "      <td>-0.3</td>\n",
       "      <td>2756.8</td>\n",
       "      <td>3.3</td>\n",
       "      <td>1.0</td>\n",
       "    </tr>\n",
       "    <tr>\n",
       "      <th>bIA</th>\n",
       "      <td>-0.6</td>\n",
       "      <td>0.0</td>\n",
       "      <td>0.1</td>\n",
       "      <td>-0.7</td>\n",
       "      <td>-0.6</td>\n",
       "      <td>-0.4</td>\n",
       "      <td>3204.4</td>\n",
       "      <td>3.8</td>\n",
       "      <td>1.0</td>\n",
       "    </tr>\n",
       "    <tr>\n",
       "      <th>bIC</th>\n",
       "      <td>-1.7</td>\n",
       "      <td>0.0</td>\n",
       "      <td>0.1</td>\n",
       "      <td>-1.8</td>\n",
       "      <td>-1.7</td>\n",
       "      <td>-1.5</td>\n",
       "      <td>3175.2</td>\n",
       "      <td>3.8</td>\n",
       "      <td>1.0</td>\n",
       "    </tr>\n",
       "  </tbody>\n",
       "</table>\n",
       "</div>"
      ],
      "text/plain": [
       "      Mean  MCSE  StdDev   5%  50%  95%   N_Eff  N_Eff/s  R_hat\n",
       "name                                                           \n",
       "bA    -0.7   0.0     0.1 -0.7 -0.7 -0.6  3177.6      3.8    1.0\n",
       "bC    -0.5   0.0     0.1 -0.6 -0.5 -0.3  3263.7      3.9    1.0\n",
       "bI    -0.4   0.0     0.1 -0.5 -0.4 -0.3  2756.8      3.3    1.0\n",
       "bIA   -0.6   0.0     0.1 -0.7 -0.6 -0.4  3204.4      3.8    1.0\n",
       "bIC   -1.7   0.0     0.1 -1.8 -1.7 -1.5  3175.2      3.8    1.0"
      ]
     },
     "execution_count": 24,
     "metadata": {},
     "output_type": "execute_result"
    }
   ],
   "source": [
    "fit_3b.summary().loc[['bA','bC','bI','bIA', 'bIC']]"
   ]
  },
  {
   "cell_type": "markdown",
   "metadata": {
    "id": "WOIHeaWMDTIc"
   },
   "source": [
    "Everything has gotten more negative. This is because there is a lot of individual variation in average rating, look at the distribution for sigma. That is on the $logit$ scale, so that's a lot of variation on the probability scale. That variation in average rating was hiding some of the effect of the treatments. We get more precision by conditioning on individual.\n",
    "\n",
    "The WAIC comparison can also help show how much variation comes from individual differences in average rating:"
   ]
  },
  {
   "cell_type": "code",
   "execution_count": 25,
   "metadata": {},
   "outputs": [
    {
     "data": {
      "text/html": [
       "<div>\n",
       "<style scoped>\n",
       "    .dataframe tbody tr th:only-of-type {\n",
       "        vertical-align: middle;\n",
       "    }\n",
       "\n",
       "    .dataframe tbody tr th {\n",
       "        vertical-align: top;\n",
       "    }\n",
       "\n",
       "    .dataframe thead th {\n",
       "        text-align: right;\n",
       "    }\n",
       "</style>\n",
       "<table border=\"1\" class=\"dataframe\">\n",
       "  <thead>\n",
       "    <tr style=\"text-align: right;\">\n",
       "      <th></th>\n",
       "      <th>model</th>\n",
       "      <th>waic</th>\n",
       "    </tr>\n",
       "  </thead>\n",
       "  <tbody>\n",
       "    <tr>\n",
       "      <th>1</th>\n",
       "      <td>b</td>\n",
       "      <td>31058.393</td>\n",
       "    </tr>\n",
       "    <tr>\n",
       "      <th>0</th>\n",
       "      <td>a</td>\n",
       "      <td>36929.550</td>\n",
       "    </tr>\n",
       "  </tbody>\n",
       "</table>\n",
       "</div>"
      ],
      "text/plain": [
       "  model       waic\n",
       "1     b  31058.393\n",
       "0     a  36929.550"
      ]
     },
     "execution_count": 25,
     "metadata": {},
     "output_type": "execute_result"
    }
   ],
   "source": [
    "sc = {\n",
    "    'a' : waic(fit_3a),\n",
    "    'b' : waic(fit_3b),\n",
    "}\n",
    "scores = pd.DataFrame(sc.items(), columns=['model','waic'])\n",
    "scores.sort_values(by='waic')"
   ]
  },
  {
   "cell_type": "markdown",
   "metadata": {
    "id": "95Zju_FSDTId"
   },
   "source": [
    "The WAIC difference is massive. This is consistent with individual variation in average rating being a major effect in this sample. This is all quite typical of likert-scale data, in my experience. Individuals anchor on different points and this adds noise. When we have repeat samples from the same individual, we can condition away some of that noise and get more precise estimates of the treatment effects."
   ]
  }
 ],
 "metadata": {
  "colab": {
   "collapsed_sections": [],
   "name": "rethink_stats_numpyro_w08.ipynb",
   "provenance": []
  },
  "kernelspec": {
   "display_name": "Python 3",
   "language": "python",
   "name": "python3"
  },
  "language_info": {
   "codemirror_mode": {
    "name": "ipython",
    "version": 3
   },
   "file_extension": ".py",
   "mimetype": "text/x-python",
   "name": "python",
   "nbconvert_exporter": "python",
   "pygments_lexer": "ipython3",
   "version": "3.8.8"
  }
 },
 "nbformat": 4,
 "nbformat_minor": 4
}
