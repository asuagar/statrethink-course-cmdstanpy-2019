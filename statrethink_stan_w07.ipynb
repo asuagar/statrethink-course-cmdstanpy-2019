{
 "cells": [
  {
   "cell_type": "markdown",
   "metadata": {
    "id": "7DzCWnAGlmVG"
   },
   "source": [
    "# Rethinking Statistics course in Stan - Week 7"
   ]
  },
  {
   "cell_type": "markdown",
   "metadata": {
    "id": "nlScIa9GlmVG"
   },
   "source": [
    "Lecture 13: Monsters & Mixtures (Poisson GLMs, survival, zero-inflation)\n",
    "\n",
    "- [Video](https://www.youtube.com/watch?v=p7g-CgGCS34)\n",
    "- [Slides](https://speakerdeck.com/rmcelreath/l13-statistical-rethinking-winter-2019)\n",
    "\n",
    "Lecture 14: Ordered Categories, Left & Right\n",
    "\n",
    "- [Video](https://www.youtube.com/watch?v=zA3Jxv8LOrA)\n",
    "- [Slides](https://speakerdeck.com/rmcelreath/l14-statistical-rethinking-winter-2019)\n",
    "\n",
    "[Proposed problems](https://github.com/gbosquechacon/statrethinking_winter2019/blob/master/homework/week07.pdf) and [solutions in R](https://github.com/gbosquechacon/statrethinking_winter2019/blob/master/homework/week07_solutions.pdf) for the exercises of the week."
   ]
  },
  {
   "cell_type": "code",
   "execution_count": 1,
   "metadata": {},
   "outputs": [],
   "source": [
    "import pandas as pd\n",
    "import numpy as np\n",
    "from scipy.special import expit\n",
    "from cmdstanpy import CmdStanModel\n",
    "from plotnine import *"
   ]
  },
  {
   "cell_type": "code",
   "execution_count": 2,
   "metadata": {},
   "outputs": [
    {
     "name": "stdout",
     "output_type": "stream",
     "text": [
      "Last updated: Fri Dec 31 2021\n",
      "\n",
      "pandas   : 1.3.4\n",
      "numpy    : 1.21.4\n",
      "cmdstanpy: 1.0.0\n",
      "plotnine : 0.8.0\n",
      "\n"
     ]
    }
   ],
   "source": [
    "%load_ext watermark\n",
    "%watermark -n -u -p pandas,numpy,cmdstanpy,plotnine"
   ]
  },
  {
   "cell_type": "markdown",
   "metadata": {
    "id": "4hyJfeczlmVG"
   },
   "source": [
    "## Exercise 1"
   ]
  },
  {
   "cell_type": "markdown",
   "metadata": {
    "id": "JusJHQKZlmVG"
   },
   "source": [
    "> In the Trolley data, `Trolley`, we saw how education level (modeled as an ordered category) is associated with responses. Is this association causal? One plausible confound is that education is also associated with age, through a causal process: People are older when they finish school than when they begin it.\n",
    "\n",
    "> Reconsider the `Trolley` data in this light. Draw a DAG that represents hypothetical causal relationships among response, education, and age. Which statical model or models do you need to evaluate the causal influence of education on responses? Fit these models to the trolley data. What do you conclude about the causal relationships among these three variables?"
   ]
  },
  {
   "cell_type": "markdown",
   "metadata": {
    "id": "sLRHSDJ_lmVG"
   },
   "source": [
    "This is my DAG:\n",
    "\n",
    "<img src=\"./fig/w7_img1.png\" width=\"30%\">\n",
    "\n",
    "Age could influence both response `R` and education `E`. It could influence `R`, because people at different ages could have different attitudes. Age could influence education, because the longer you have lived, the more education you could have completed (up to a point). It's like the age causing marriage example from earlier in the course. To evaluate the causal influence of `E` on `R`, we need to block the back-door from `E` through `A` to `R`. So we need a model that conditions on both `E` and `A`. Then the estimate for `E` should be the causal influence of `E`."
   ]
  },
  {
   "cell_type": "code",
   "execution_count": 3,
   "metadata": {
    "colab": {
     "base_uri": "https://localhost:8080/",
     "height": 142
    },
    "executionInfo": {
     "elapsed": 1085,
     "status": "ok",
     "timestamp": 1607275920099,
     "user": {
      "displayName": "Andrés Suárez",
      "photoUrl": "https://lh5.googleusercontent.com/-s0kzcIwylzA/AAAAAAAAAAI/AAAAAAAAQXA/v8Sc6WgQy7c/s64/photo.jpg",
      "userId": "06409440331868776168"
     },
     "user_tz": -60
    },
    "id": "yofca_3zlmVG",
    "outputId": "e1609462-d9af-436d-b932-7c2d1cef8724"
   },
   "outputs": [
    {
     "data": {
      "text/html": [
       "<div>\n",
       "<style scoped>\n",
       "    .dataframe tbody tr th:only-of-type {\n",
       "        vertical-align: middle;\n",
       "    }\n",
       "\n",
       "    .dataframe tbody tr th {\n",
       "        vertical-align: top;\n",
       "    }\n",
       "\n",
       "    .dataframe thead th {\n",
       "        text-align: right;\n",
       "    }\n",
       "</style>\n",
       "<table border=\"1\" class=\"dataframe\">\n",
       "  <thead>\n",
       "    <tr style=\"text-align: right;\">\n",
       "      <th></th>\n",
       "      <th>case</th>\n",
       "      <th>response</th>\n",
       "      <th>order</th>\n",
       "      <th>id</th>\n",
       "      <th>age</th>\n",
       "      <th>male</th>\n",
       "      <th>edu</th>\n",
       "      <th>action</th>\n",
       "      <th>intention</th>\n",
       "      <th>contact</th>\n",
       "      <th>story</th>\n",
       "      <th>action2</th>\n",
       "      <th>edu_cat</th>\n",
       "      <th>age_std</th>\n",
       "    </tr>\n",
       "  </thead>\n",
       "  <tbody>\n",
       "    <tr>\n",
       "      <th>9927</th>\n",
       "      <td>ilshi</td>\n",
       "      <td>7</td>\n",
       "      <td>7</td>\n",
       "      <td>98;299</td>\n",
       "      <td>66</td>\n",
       "      <td>1</td>\n",
       "      <td>Graduate Degree</td>\n",
       "      <td>0</td>\n",
       "      <td>1</td>\n",
       "      <td>0</td>\n",
       "      <td>shi</td>\n",
       "      <td>0</td>\n",
       "      <td>5</td>\n",
       "      <td>2.003041</td>\n",
       "    </tr>\n",
       "    <tr>\n",
       "      <th>9928</th>\n",
       "      <td>ilswi</td>\n",
       "      <td>2</td>\n",
       "      <td>18</td>\n",
       "      <td>98;299</td>\n",
       "      <td>66</td>\n",
       "      <td>1</td>\n",
       "      <td>Graduate Degree</td>\n",
       "      <td>0</td>\n",
       "      <td>1</td>\n",
       "      <td>0</td>\n",
       "      <td>swi</td>\n",
       "      <td>0</td>\n",
       "      <td>5</td>\n",
       "      <td>2.003041</td>\n",
       "    </tr>\n",
       "    <tr>\n",
       "      <th>9929</th>\n",
       "      <td>nfrub</td>\n",
       "      <td>2</td>\n",
       "      <td>17</td>\n",
       "      <td>98;299</td>\n",
       "      <td>66</td>\n",
       "      <td>1</td>\n",
       "      <td>Graduate Degree</td>\n",
       "      <td>1</td>\n",
       "      <td>0</td>\n",
       "      <td>0</td>\n",
       "      <td>rub</td>\n",
       "      <td>1</td>\n",
       "      <td>5</td>\n",
       "      <td>2.003041</td>\n",
       "    </tr>\n",
       "  </tbody>\n",
       "</table>\n",
       "</div>"
      ],
      "text/plain": [
       "       case  response  order      id  age  male              edu  action  \\\n",
       "9927  ilshi         7      7  98;299   66     1  Graduate Degree       0   \n",
       "9928  ilswi         2     18  98;299   66     1  Graduate Degree       0   \n",
       "9929  nfrub         2     17  98;299   66     1  Graduate Degree       1   \n",
       "\n",
       "      intention  contact story  action2  edu_cat   age_std  \n",
       "9927          1        0   shi        0        5  2.003041  \n",
       "9928          1        0   swi        0        5  2.003041  \n",
       "9929          0        0   rub        1        5  2.003041  "
      ]
     },
     "execution_count": 3,
     "metadata": {},
     "output_type": "execute_result"
    }
   ],
   "source": [
    "d = pd.read_csv('./dat/Trolley.csv', header=0, sep=';')\n",
    "elvl = d['edu'].unique()\n",
    "idx = [7 , 0 , 6 , 4 , 2 , 1, 3, 5]\n",
    "cat = {elvl[i]:i for i in idx}\n",
    "d['edu_cat'] = d.edu.replace(cat)\n",
    "d['age_std'] = (d.age - d.age.mean())/d.age.std()\n",
    "d.tail(3)"
   ]
  },
  {
   "cell_type": "code",
   "execution_count": 4,
   "metadata": {},
   "outputs": [
    {
     "name": "stderr",
     "output_type": "stream",
     "text": [
      "INFO:cmdstanpy:compiling stan file /home/jovyan/work/statret/stn/week07_01.stan to exe file /home/jovyan/work/statret/stn/week07_01\n",
      "INFO:cmdstanpy:compiled model executable: /home/jovyan/work/statret/stn/week07_01\n",
      "INFO:cmdstanpy:found newer exe file, not recompiling\n"
     ]
    }
   ],
   "source": [
    "model = '''\n",
    "\n",
    "data {\n",
    "    int n;\n",
    "    int k;\n",
    "    int edu_cat[n];\n",
    "    vector[n] age_std;\n",
    "    int response[n];\n",
    "}\n",
    "\n",
    "parameters {\n",
    "    ordered[k] cutpoints;\n",
    "    real bAge;\n",
    "    real bEdu;\n",
    "}\n",
    "\n",
    "model {\n",
    "    // prior\n",
    "    cutpoints ~ normal(0,15);\n",
    "    bAge ~ normal(0,0.5);\n",
    "    bEdu ~ normal(0,0.5);\n",
    "    // likelihood\n",
    "    vector[n] phi;\n",
    "    for (i in 1:n) {\n",
    "        phi[i] = bAge * age_std[i] + bEdu * edu_cat[i];\n",
    "        response[i] ~ ordered_logistic(phi[i], cutpoints);\n",
    "    }\n",
    "}\n",
    "\n",
    "'''\n",
    "\n",
    "stan_file = './stn/week07_01.stan'\n",
    "with open(stan_file, 'w') as f:\n",
    "    print(model, file=f)\n",
    "    \n",
    "model = CmdStanModel(stan_file=stan_file)\n",
    "model.compile()"
   ]
  },
  {
   "cell_type": "code",
   "execution_count": 5,
   "metadata": {},
   "outputs": [
    {
     "name": "stderr",
     "output_type": "stream",
     "text": [
      "INFO:cmdstanpy:CmdStan start procesing\n"
     ]
    },
    {
     "data": {
      "application/vnd.jupyter.widget-view+json": {
       "model_id": "a0934d9b26de4459bce75beabbcbeafb",
       "version_major": 2,
       "version_minor": 0
      },
      "text/plain": [
       "chain 1 |          | 00:00 Status"
      ]
     },
     "metadata": {},
     "output_type": "display_data"
    },
    {
     "data": {
      "application/vnd.jupyter.widget-view+json": {
       "model_id": "246128782f6c4a2bb001b42fa1fee17a",
       "version_major": 2,
       "version_minor": 0
      },
      "text/plain": [
       "chain 2 |          | 00:00 Status"
      ]
     },
     "metadata": {},
     "output_type": "display_data"
    },
    {
     "data": {
      "application/vnd.jupyter.widget-view+json": {
       "model_id": "cdf7501b245a455aa238936a70de2055",
       "version_major": 2,
       "version_minor": 0
      },
      "text/plain": [
       "chain 3 |          | 00:00 Status"
      ]
     },
     "metadata": {},
     "output_type": "display_data"
    },
    {
     "data": {
      "application/vnd.jupyter.widget-view+json": {
       "model_id": "5db92ec156c74fafa58cb2bb5c82409e",
       "version_major": 2,
       "version_minor": 0
      },
      "text/plain": [
       "chain 4 |          | 00:00 Status"
      ]
     },
     "metadata": {},
     "output_type": "display_data"
    },
    {
     "name": "stdout",
     "output_type": "stream",
     "text": [
      "                                                                                                                                                                                                                                                                                                                                "
     ]
    },
    {
     "name": "stderr",
     "output_type": "stream",
     "text": [
      "INFO:cmdstanpy:CmdStan done processing.\n"
     ]
    },
    {
     "name": "stdout",
     "output_type": "stream",
     "text": [
      "\n",
      "CPU times: user 354 ms, sys: 183 ms, total: 537 ms\n",
      "Wall time: 2min 33s\n"
     ]
    }
   ],
   "source": [
    "%%time\n",
    "data = d[['edu_cat', 'age_std', 'response']].copy()\n",
    "data = data.to_dict(orient='list')\n",
    "data['n'] = len(data['response'])\n",
    "data['k'] = d.response.nunique()-1\n",
    "fit = model.sample(data=data, chains=4)"
   ]
  },
  {
   "cell_type": "code",
   "execution_count": 6,
   "metadata": {},
   "outputs": [
    {
     "data": {
      "text/html": [
       "<div>\n",
       "<style scoped>\n",
       "    .dataframe tbody tr th:only-of-type {\n",
       "        vertical-align: middle;\n",
       "    }\n",
       "\n",
       "    .dataframe tbody tr th {\n",
       "        vertical-align: top;\n",
       "    }\n",
       "\n",
       "    .dataframe thead th {\n",
       "        text-align: right;\n",
       "    }\n",
       "</style>\n",
       "<table border=\"1\" class=\"dataframe\">\n",
       "  <thead>\n",
       "    <tr style=\"text-align: right;\">\n",
       "      <th></th>\n",
       "      <th>Mean</th>\n",
       "      <th>MCSE</th>\n",
       "      <th>StdDev</th>\n",
       "      <th>5%</th>\n",
       "      <th>50%</th>\n",
       "      <th>95%</th>\n",
       "      <th>N_Eff</th>\n",
       "      <th>N_Eff/s</th>\n",
       "      <th>R_hat</th>\n",
       "    </tr>\n",
       "    <tr>\n",
       "      <th>name</th>\n",
       "      <th></th>\n",
       "      <th></th>\n",
       "      <th></th>\n",
       "      <th></th>\n",
       "      <th></th>\n",
       "      <th></th>\n",
       "      <th></th>\n",
       "      <th></th>\n",
       "      <th></th>\n",
       "    </tr>\n",
       "  </thead>\n",
       "  <tbody>\n",
       "    <tr>\n",
       "      <th>lp__</th>\n",
       "      <td>-19000.00</td>\n",
       "      <td>0.05000</td>\n",
       "      <td>2.000</td>\n",
       "      <td>-19000.00</td>\n",
       "      <td>-19000.00</td>\n",
       "      <td>-19000.00</td>\n",
       "      <td>1600.00</td>\n",
       "      <td>5.40</td>\n",
       "      <td>1.0</td>\n",
       "    </tr>\n",
       "    <tr>\n",
       "      <th>cutpoints[1]</th>\n",
       "      <td>-1.90</td>\n",
       "      <td>0.00063</td>\n",
       "      <td>0.040</td>\n",
       "      <td>-2.00</td>\n",
       "      <td>-1.90</td>\n",
       "      <td>-1.80</td>\n",
       "      <td>4043.00</td>\n",
       "      <td>13.00</td>\n",
       "      <td>1.0</td>\n",
       "    </tr>\n",
       "    <tr>\n",
       "      <th>cutpoints[2]</th>\n",
       "      <td>-1.20</td>\n",
       "      <td>0.00054</td>\n",
       "      <td>0.036</td>\n",
       "      <td>-1.30</td>\n",
       "      <td>-1.20</td>\n",
       "      <td>-1.20</td>\n",
       "      <td>4419.00</td>\n",
       "      <td>15.00</td>\n",
       "      <td>1.0</td>\n",
       "    </tr>\n",
       "    <tr>\n",
       "      <th>cutpoints[3]</th>\n",
       "      <td>-0.69</td>\n",
       "      <td>0.00050</td>\n",
       "      <td>0.034</td>\n",
       "      <td>-0.75</td>\n",
       "      <td>-0.69</td>\n",
       "      <td>-0.63</td>\n",
       "      <td>4788.00</td>\n",
       "      <td>16.00</td>\n",
       "      <td>1.0</td>\n",
       "    </tr>\n",
       "    <tr>\n",
       "      <th>cutpoints[4]</th>\n",
       "      <td>0.28</td>\n",
       "      <td>0.00049</td>\n",
       "      <td>0.034</td>\n",
       "      <td>0.22</td>\n",
       "      <td>0.28</td>\n",
       "      <td>0.33</td>\n",
       "      <td>4900.00</td>\n",
       "      <td>16.00</td>\n",
       "      <td>1.0</td>\n",
       "    </tr>\n",
       "    <tr>\n",
       "      <th>cutpoints[5]</th>\n",
       "      <td>0.92</td>\n",
       "      <td>0.00051</td>\n",
       "      <td>0.035</td>\n",
       "      <td>0.86</td>\n",
       "      <td>0.92</td>\n",
       "      <td>0.98</td>\n",
       "      <td>4752.00</td>\n",
       "      <td>16.00</td>\n",
       "      <td>1.0</td>\n",
       "    </tr>\n",
       "    <tr>\n",
       "      <th>cutpoints[6]</th>\n",
       "      <td>1.80</td>\n",
       "      <td>0.00059</td>\n",
       "      <td>0.040</td>\n",
       "      <td>1.70</td>\n",
       "      <td>1.80</td>\n",
       "      <td>1.90</td>\n",
       "      <td>4646.00</td>\n",
       "      <td>15.00</td>\n",
       "      <td>1.0</td>\n",
       "    </tr>\n",
       "    <tr>\n",
       "      <th>bAge</th>\n",
       "      <td>-0.07</td>\n",
       "      <td>0.00000</td>\n",
       "      <td>0.020</td>\n",
       "      <td>-0.10</td>\n",
       "      <td>-0.07</td>\n",
       "      <td>-0.04</td>\n",
       "      <td>5843.48</td>\n",
       "      <td>19.27</td>\n",
       "      <td>1.0</td>\n",
       "    </tr>\n",
       "    <tr>\n",
       "      <th>bEdu</th>\n",
       "      <td>0.01</td>\n",
       "      <td>0.00000</td>\n",
       "      <td>0.010</td>\n",
       "      <td>-0.01</td>\n",
       "      <td>0.01</td>\n",
       "      <td>0.03</td>\n",
       "      <td>4826.93</td>\n",
       "      <td>15.91</td>\n",
       "      <td>1.0</td>\n",
       "    </tr>\n",
       "  </tbody>\n",
       "</table>\n",
       "</div>"
      ],
      "text/plain": [
       "                  Mean     MCSE  StdDev        5%       50%       95%  \\\n",
       "name                                                                    \n",
       "lp__         -19000.00  0.05000   2.000 -19000.00 -19000.00 -19000.00   \n",
       "cutpoints[1]     -1.90  0.00063   0.040     -2.00     -1.90     -1.80   \n",
       "cutpoints[2]     -1.20  0.00054   0.036     -1.30     -1.20     -1.20   \n",
       "cutpoints[3]     -0.69  0.00050   0.034     -0.75     -0.69     -0.63   \n",
       "cutpoints[4]      0.28  0.00049   0.034      0.22      0.28      0.33   \n",
       "cutpoints[5]      0.92  0.00051   0.035      0.86      0.92      0.98   \n",
       "cutpoints[6]      1.80  0.00059   0.040      1.70      1.80      1.90   \n",
       "bAge             -0.07  0.00000   0.020     -0.10     -0.07     -0.04   \n",
       "bEdu              0.01  0.00000   0.010     -0.01      0.01      0.03   \n",
       "\n",
       "                N_Eff  N_Eff/s  R_hat  \n",
       "name                                   \n",
       "lp__          1600.00     5.40    1.0  \n",
       "cutpoints[1]  4043.00    13.00    1.0  \n",
       "cutpoints[2]  4419.00    15.00    1.0  \n",
       "cutpoints[3]  4788.00    16.00    1.0  \n",
       "cutpoints[4]  4900.00    16.00    1.0  \n",
       "cutpoints[5]  4752.00    16.00    1.0  \n",
       "cutpoints[6]  4646.00    15.00    1.0  \n",
       "bAge          5843.48    19.27    1.0  \n",
       "bEdu          4826.93    15.91    1.0  "
      ]
     },
     "execution_count": 6,
     "metadata": {},
     "output_type": "execute_result"
    }
   ],
   "source": [
    "fit.summary()"
   ]
  },
  {
   "cell_type": "markdown",
   "metadata": {
    "id": "KH14kdI3lmVH"
   },
   "source": [
    "You may recall from the chapter that education has a negative effect in the model without age. Now that we include age, education has a positive influence (with some overlap with zero). So age has indeed soaked up some of the previous influence assigned to education. The back-door may be real.\n",
    "\n",
    "I'd summarize this model, assuming this DAG is true, as saying that age causes people to give slightly lower responses. This could be a cohort effect, and not a causal influence of age. Either way, it is small. Education seems to cause higher responses (more approval). This suggests that education trains people to see some or all of the features A, I, C as more permissible. A model that interacted education with each might shed more light on things. Remember: A DAG doesn't say whether you need an interaction effect or not. That is a separate problem."
   ]
  },
  {
   "cell_type": "markdown",
   "metadata": {
    "id": "WuHiFDrKlmVH"
   },
   "source": [
    "## Exercise 2"
   ]
  },
  {
   "cell_type": "markdown",
   "metadata": {
    "id": "E5Ag3kdTlmVH"
   },
   "source": [
    "> Consider one more variable in the Trolley data: Gender. Suppose that gender might influence education as well as response directly. Draw the DAG now that includes response, education, age, and gender.\n",
    "\n",
    "> Using only the DAG, is it possible that the inferences from Problem 1 are confounded by gender? If so, define any additional models you need to infer the causal influence of education on response. What do you conclude?"
   ]
  },
  {
   "cell_type": "markdown",
   "metadata": {
    "id": "5meG1bJflmVH"
   },
   "source": [
    "This is my DAG:\n",
    "\n",
    "<img src=\"./fig/w7_img2.png\" width=\"30%\">\n",
    "\n",
    "Here's the model we need, which includes education, age, and gender (female dummy variable):"
   ]
  },
  {
   "cell_type": "code",
   "execution_count": 7,
   "metadata": {
    "colab": {
     "base_uri": "https://localhost:8080/",
     "height": 142
    },
    "executionInfo": {
     "elapsed": 883,
     "status": "ok",
     "timestamp": 1607276542874,
     "user": {
      "displayName": "Andrés Suárez",
      "photoUrl": "https://lh5.googleusercontent.com/-s0kzcIwylzA/AAAAAAAAAAI/AAAAAAAAQXA/v8Sc6WgQy7c/s64/photo.jpg",
      "userId": "06409440331868776168"
     },
     "user_tz": -60
    },
    "id": "QzKDJctfJAIy",
    "outputId": "a1ceab9d-dded-4cea-d3a2-059913d5ccba"
   },
   "outputs": [
    {
     "data": {
      "text/html": [
       "<div>\n",
       "<style scoped>\n",
       "    .dataframe tbody tr th:only-of-type {\n",
       "        vertical-align: middle;\n",
       "    }\n",
       "\n",
       "    .dataframe tbody tr th {\n",
       "        vertical-align: top;\n",
       "    }\n",
       "\n",
       "    .dataframe thead th {\n",
       "        text-align: right;\n",
       "    }\n",
       "</style>\n",
       "<table border=\"1\" class=\"dataframe\">\n",
       "  <thead>\n",
       "    <tr style=\"text-align: right;\">\n",
       "      <th></th>\n",
       "      <th>case</th>\n",
       "      <th>response</th>\n",
       "      <th>order</th>\n",
       "      <th>id</th>\n",
       "      <th>age</th>\n",
       "      <th>male</th>\n",
       "      <th>edu</th>\n",
       "      <th>action</th>\n",
       "      <th>intention</th>\n",
       "      <th>contact</th>\n",
       "      <th>story</th>\n",
       "      <th>action2</th>\n",
       "      <th>edu_cat</th>\n",
       "      <th>age_std</th>\n",
       "    </tr>\n",
       "  </thead>\n",
       "  <tbody>\n",
       "    <tr>\n",
       "      <th>9927</th>\n",
       "      <td>ilshi</td>\n",
       "      <td>7</td>\n",
       "      <td>7</td>\n",
       "      <td>98;299</td>\n",
       "      <td>66</td>\n",
       "      <td>1</td>\n",
       "      <td>Graduate Degree</td>\n",
       "      <td>0</td>\n",
       "      <td>1</td>\n",
       "      <td>0</td>\n",
       "      <td>shi</td>\n",
       "      <td>0</td>\n",
       "      <td>5</td>\n",
       "      <td>2.003041</td>\n",
       "    </tr>\n",
       "    <tr>\n",
       "      <th>9928</th>\n",
       "      <td>ilswi</td>\n",
       "      <td>2</td>\n",
       "      <td>18</td>\n",
       "      <td>98;299</td>\n",
       "      <td>66</td>\n",
       "      <td>1</td>\n",
       "      <td>Graduate Degree</td>\n",
       "      <td>0</td>\n",
       "      <td>1</td>\n",
       "      <td>0</td>\n",
       "      <td>swi</td>\n",
       "      <td>0</td>\n",
       "      <td>5</td>\n",
       "      <td>2.003041</td>\n",
       "    </tr>\n",
       "    <tr>\n",
       "      <th>9929</th>\n",
       "      <td>nfrub</td>\n",
       "      <td>2</td>\n",
       "      <td>17</td>\n",
       "      <td>98;299</td>\n",
       "      <td>66</td>\n",
       "      <td>1</td>\n",
       "      <td>Graduate Degree</td>\n",
       "      <td>1</td>\n",
       "      <td>0</td>\n",
       "      <td>0</td>\n",
       "      <td>rub</td>\n",
       "      <td>1</td>\n",
       "      <td>5</td>\n",
       "      <td>2.003041</td>\n",
       "    </tr>\n",
       "  </tbody>\n",
       "</table>\n",
       "</div>"
      ],
      "text/plain": [
       "       case  response  order      id  age  male              edu  action  \\\n",
       "9927  ilshi         7      7  98;299   66     1  Graduate Degree       0   \n",
       "9928  ilswi         2     18  98;299   66     1  Graduate Degree       0   \n",
       "9929  nfrub         2     17  98;299   66     1  Graduate Degree       1   \n",
       "\n",
       "      intention  contact story  action2  edu_cat   age_std  \n",
       "9927          1        0   shi        0        5  2.003041  \n",
       "9928          1        0   swi        0        5  2.003041  \n",
       "9929          0        0   rub        1        5  2.003041  "
      ]
     },
     "execution_count": 7,
     "metadata": {},
     "output_type": "execute_result"
    }
   ],
   "source": [
    "d = pd.read_csv('./dat/Trolley.csv', header=0, sep=';')\n",
    "elvl = d['edu'].unique()\n",
    "idx = [7 , 0 , 6 , 4 , 2 , 1, 3, 5]\n",
    "cat = {elvl[i]:i for i in idx}\n",
    "d['edu_cat'] = d.edu.replace(cat)\n",
    "d['age_std'] = (d.age - d.age.mean())/d.age.std()\n",
    "d.tail(3)"
   ]
  },
  {
   "cell_type": "code",
   "execution_count": 8,
   "metadata": {},
   "outputs": [
    {
     "name": "stderr",
     "output_type": "stream",
     "text": [
      "INFO:cmdstanpy:compiling stan file /home/jovyan/work/statret/stn/week07_02.stan to exe file /home/jovyan/work/statret/stn/week07_02\n",
      "INFO:cmdstanpy:compiled model executable: /home/jovyan/work/statret/stn/week07_02\n",
      "INFO:cmdstanpy:found newer exe file, not recompiling\n"
     ]
    }
   ],
   "source": [
    "model = '''\n",
    "\n",
    "data {\n",
    "    int n;\n",
    "    int k;\n",
    "    int edu_cat[n];\n",
    "    int male[n];\n",
    "    vector[n] age_std;\n",
    "    int response[n];\n",
    "}\n",
    "\n",
    "parameters {\n",
    "    ordered[k] cutpoints;\n",
    "    real bAge;\n",
    "    real bEdu;\n",
    "    real bMale;\n",
    "}\n",
    "\n",
    "model {\n",
    "    // prior\n",
    "    cutpoints ~ normal(0,15);\n",
    "    bAge ~ normal(0,0.5);\n",
    "    bEdu ~ normal(0,0.5);\n",
    "    // likelihood\n",
    "    vector[n] edu;\n",
    "    vector[n] phi;\n",
    "    for (i in 1:n) {\n",
    "        edu[i] = bAge * age_std[i] + bMale * male[i];\n",
    "        phi[i] = bAge * age_std[i] + bMale * male[i] + bEdu * edu_cat[i];\n",
    "        response[i] ~ ordered_logistic(phi[i], cutpoints);\n",
    "    }\n",
    "}\n",
    "\n",
    "'''\n",
    "\n",
    "stan_file = './stn/week07_02.stan'\n",
    "with open(stan_file, 'w') as f:\n",
    "    print(model, file=f)\n",
    "    \n",
    "model = CmdStanModel(stan_file=stan_file)\n",
    "model.compile()"
   ]
  },
  {
   "cell_type": "code",
   "execution_count": 9,
   "metadata": {},
   "outputs": [
    {
     "name": "stderr",
     "output_type": "stream",
     "text": [
      "INFO:cmdstanpy:CmdStan start procesing\n"
     ]
    },
    {
     "data": {
      "application/vnd.jupyter.widget-view+json": {
       "model_id": "8900b539a9454177b34dea8cedfdd6ab",
       "version_major": 2,
       "version_minor": 0
      },
      "text/plain": [
       "chain 1 |          | 00:00 Status"
      ]
     },
     "metadata": {},
     "output_type": "display_data"
    },
    {
     "data": {
      "application/vnd.jupyter.widget-view+json": {
       "model_id": "5ffb73b8ecdd4b188c5ca5319fde6685",
       "version_major": 2,
       "version_minor": 0
      },
      "text/plain": [
       "chain 2 |          | 00:00 Status"
      ]
     },
     "metadata": {},
     "output_type": "display_data"
    },
    {
     "data": {
      "application/vnd.jupyter.widget-view+json": {
       "model_id": "f64af8d48a334150b4670a5bd6a6dfaa",
       "version_major": 2,
       "version_minor": 0
      },
      "text/plain": [
       "chain 3 |          | 00:00 Status"
      ]
     },
     "metadata": {},
     "output_type": "display_data"
    },
    {
     "data": {
      "application/vnd.jupyter.widget-view+json": {
       "model_id": "b92749a82b644fa49fcb6db05aeecedb",
       "version_major": 2,
       "version_minor": 0
      },
      "text/plain": [
       "chain 4 |          | 00:00 Status"
      ]
     },
     "metadata": {},
     "output_type": "display_data"
    },
    {
     "name": "stdout",
     "output_type": "stream",
     "text": [
      "                                                                                                                                                                                                                                                                                                                                "
     ]
    },
    {
     "name": "stderr",
     "output_type": "stream",
     "text": [
      "INFO:cmdstanpy:CmdStan done processing.\n"
     ]
    },
    {
     "name": "stdout",
     "output_type": "stream",
     "text": [
      "\n",
      "CPU times: user 430 ms, sys: 120 ms, total: 550 ms\n",
      "Wall time: 3min 12s\n"
     ]
    }
   ],
   "source": [
    "%%time\n",
    "data = d[['edu_cat', 'male', 'age_std', 'response']].copy()\n",
    "data = data.to_dict(orient='list')\n",
    "data['n'] = len(data['response'])\n",
    "data['k'] = d.response.nunique()-1\n",
    "fit = model.sample(data=data, chains=4)"
   ]
  },
  {
   "cell_type": "code",
   "execution_count": 10,
   "metadata": {},
   "outputs": [
    {
     "data": {
      "text/html": [
       "<div>\n",
       "<style scoped>\n",
       "    .dataframe tbody tr th:only-of-type {\n",
       "        vertical-align: middle;\n",
       "    }\n",
       "\n",
       "    .dataframe tbody tr th {\n",
       "        vertical-align: top;\n",
       "    }\n",
       "\n",
       "    .dataframe thead th {\n",
       "        text-align: right;\n",
       "    }\n",
       "</style>\n",
       "<table border=\"1\" class=\"dataframe\">\n",
       "  <thead>\n",
       "    <tr style=\"text-align: right;\">\n",
       "      <th></th>\n",
       "      <th>Mean</th>\n",
       "      <th>MCSE</th>\n",
       "      <th>StdDev</th>\n",
       "      <th>5%</th>\n",
       "      <th>50%</th>\n",
       "      <th>95%</th>\n",
       "      <th>N_Eff</th>\n",
       "      <th>N_Eff/s</th>\n",
       "      <th>R_hat</th>\n",
       "    </tr>\n",
       "    <tr>\n",
       "      <th>name</th>\n",
       "      <th></th>\n",
       "      <th></th>\n",
       "      <th></th>\n",
       "      <th></th>\n",
       "      <th></th>\n",
       "      <th></th>\n",
       "      <th></th>\n",
       "      <th></th>\n",
       "      <th></th>\n",
       "    </tr>\n",
       "  </thead>\n",
       "  <tbody>\n",
       "    <tr>\n",
       "      <th>lp__</th>\n",
       "      <td>-19000.00</td>\n",
       "      <td>0.05200</td>\n",
       "      <td>2.100</td>\n",
       "      <td>-19000.00</td>\n",
       "      <td>-19000.00</td>\n",
       "      <td>-19000.00</td>\n",
       "      <td>1700.00</td>\n",
       "      <td>4.50</td>\n",
       "      <td>1.0</td>\n",
       "    </tr>\n",
       "    <tr>\n",
       "      <th>cutpoints[1]</th>\n",
       "      <td>-1.60</td>\n",
       "      <td>0.00073</td>\n",
       "      <td>0.045</td>\n",
       "      <td>-1.70</td>\n",
       "      <td>-1.60</td>\n",
       "      <td>-1.50</td>\n",
       "      <td>3741.00</td>\n",
       "      <td>10.00</td>\n",
       "      <td>1.0</td>\n",
       "    </tr>\n",
       "    <tr>\n",
       "      <th>cutpoints[2]</th>\n",
       "      <td>-0.97</td>\n",
       "      <td>0.00063</td>\n",
       "      <td>0.041</td>\n",
       "      <td>-1.00</td>\n",
       "      <td>-0.97</td>\n",
       "      <td>-0.90</td>\n",
       "      <td>4123.00</td>\n",
       "      <td>11.00</td>\n",
       "      <td>1.0</td>\n",
       "    </tr>\n",
       "    <tr>\n",
       "      <th>cutpoints[3]</th>\n",
       "      <td>-0.41</td>\n",
       "      <td>0.00059</td>\n",
       "      <td>0.039</td>\n",
       "      <td>-0.48</td>\n",
       "      <td>-0.41</td>\n",
       "      <td>-0.35</td>\n",
       "      <td>4471.00</td>\n",
       "      <td>12.00</td>\n",
       "      <td>1.0</td>\n",
       "    </tr>\n",
       "    <tr>\n",
       "      <th>cutpoints[4]</th>\n",
       "      <td>0.57</td>\n",
       "      <td>0.00057</td>\n",
       "      <td>0.040</td>\n",
       "      <td>0.51</td>\n",
       "      <td>0.57</td>\n",
       "      <td>0.64</td>\n",
       "      <td>4767.00</td>\n",
       "      <td>13.00</td>\n",
       "      <td>1.0</td>\n",
       "    </tr>\n",
       "    <tr>\n",
       "      <th>cutpoints[5]</th>\n",
       "      <td>1.20</td>\n",
       "      <td>0.00059</td>\n",
       "      <td>0.041</td>\n",
       "      <td>1.20</td>\n",
       "      <td>1.20</td>\n",
       "      <td>1.30</td>\n",
       "      <td>4889.00</td>\n",
       "      <td>13.00</td>\n",
       "      <td>1.0</td>\n",
       "    </tr>\n",
       "    <tr>\n",
       "      <th>cutpoints[6]</th>\n",
       "      <td>2.10</td>\n",
       "      <td>0.00064</td>\n",
       "      <td>0.046</td>\n",
       "      <td>2.10</td>\n",
       "      <td>2.10</td>\n",
       "      <td>2.20</td>\n",
       "      <td>5047.00</td>\n",
       "      <td>14.00</td>\n",
       "      <td>1.0</td>\n",
       "    </tr>\n",
       "    <tr>\n",
       "      <th>bAge</th>\n",
       "      <td>-0.06</td>\n",
       "      <td>0.00000</td>\n",
       "      <td>0.020</td>\n",
       "      <td>-0.08</td>\n",
       "      <td>-0.06</td>\n",
       "      <td>-0.03</td>\n",
       "      <td>7561.29</td>\n",
       "      <td>20.38</td>\n",
       "      <td>1.0</td>\n",
       "    </tr>\n",
       "    <tr>\n",
       "      <th>bEdu</th>\n",
       "      <td>0.01</td>\n",
       "      <td>0.00000</td>\n",
       "      <td>0.010</td>\n",
       "      <td>-0.01</td>\n",
       "      <td>0.01</td>\n",
       "      <td>0.03</td>\n",
       "      <td>4961.70</td>\n",
       "      <td>13.37</td>\n",
       "      <td>1.0</td>\n",
       "    </tr>\n",
       "    <tr>\n",
       "      <th>bMale</th>\n",
       "      <td>0.54</td>\n",
       "      <td>0.00000</td>\n",
       "      <td>0.040</td>\n",
       "      <td>0.49</td>\n",
       "      <td>0.54</td>\n",
       "      <td>0.60</td>\n",
       "      <td>6156.13</td>\n",
       "      <td>16.59</td>\n",
       "      <td>1.0</td>\n",
       "    </tr>\n",
       "  </tbody>\n",
       "</table>\n",
       "</div>"
      ],
      "text/plain": [
       "                  Mean     MCSE  StdDev        5%       50%       95%  \\\n",
       "name                                                                    \n",
       "lp__         -19000.00  0.05200   2.100 -19000.00 -19000.00 -19000.00   \n",
       "cutpoints[1]     -1.60  0.00073   0.045     -1.70     -1.60     -1.50   \n",
       "cutpoints[2]     -0.97  0.00063   0.041     -1.00     -0.97     -0.90   \n",
       "cutpoints[3]     -0.41  0.00059   0.039     -0.48     -0.41     -0.35   \n",
       "cutpoints[4]      0.57  0.00057   0.040      0.51      0.57      0.64   \n",
       "cutpoints[5]      1.20  0.00059   0.041      1.20      1.20      1.30   \n",
       "cutpoints[6]      2.10  0.00064   0.046      2.10      2.10      2.20   \n",
       "bAge             -0.06  0.00000   0.020     -0.08     -0.06     -0.03   \n",
       "bEdu              0.01  0.00000   0.010     -0.01      0.01      0.03   \n",
       "bMale             0.54  0.00000   0.040      0.49      0.54      0.60   \n",
       "\n",
       "                N_Eff  N_Eff/s  R_hat  \n",
       "name                                   \n",
       "lp__          1700.00     4.50    1.0  \n",
       "cutpoints[1]  3741.00    10.00    1.0  \n",
       "cutpoints[2]  4123.00    11.00    1.0  \n",
       "cutpoints[3]  4471.00    12.00    1.0  \n",
       "cutpoints[4]  4767.00    13.00    1.0  \n",
       "cutpoints[5]  4889.00    13.00    1.0  \n",
       "cutpoints[6]  5047.00    14.00    1.0  \n",
       "bAge          7561.29    20.38    1.0  \n",
       "bEdu          4961.70    13.37    1.0  \n",
       "bMale         6156.13    16.59    1.0  "
      ]
     },
     "execution_count": 10,
     "metadata": {},
     "output_type": "execute_result"
    }
   ],
   "source": [
    "fit.summary()"
   ]
  },
  {
   "cell_type": "markdown",
   "metadata": {
    "id": "i1XxGWaDlmVI"
   },
   "source": [
    "Age is still negative (and weak), while education is right near zero and straddles both sides. Gender seems to have accounted for all of the previous influenced assigned to education. It looks like female respondents gave lower average responses, indicating less approval.\n",
    "\n",
    "It would be worth figuring out how gender is associated with education in this sample. It could be true for example that some education levels under-sampled men or women, and this leads to another kind of confound. Consider for example if older men are less likely to respond, so the sample becomes increasingly female with age. Then education level will also be increasingly female with age. Since the sample is\n",
    "not a representative sample of the population, there are probably some biases of this sort."
   ]
  }
 ],
 "metadata": {
  "colab": {
   "collapsed_sections": [],
   "name": "rethink_stats_numpyro_w07.ipynb",
   "provenance": []
  },
  "kernelspec": {
   "display_name": "Python 3",
   "language": "python",
   "name": "python3"
  },
  "language_info": {
   "codemirror_mode": {
    "name": "ipython",
    "version": 3
   },
   "file_extension": ".py",
   "mimetype": "text/x-python",
   "name": "python",
   "nbconvert_exporter": "python",
   "pygments_lexer": "ipython3",
   "version": "3.8.8"
  }
 },
 "nbformat": 4,
 "nbformat_minor": 4
}
