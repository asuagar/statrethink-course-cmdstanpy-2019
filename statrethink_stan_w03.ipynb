{
 "cells": [
  {
   "cell_type": "markdown",
   "metadata": {
    "id": "AeFKI0ZHLeoa"
   },
   "source": [
    "# Rethinking Statistics course in Stan - Week 3"
   ]
  },
  {
   "cell_type": "markdown",
   "metadata": {
    "id": "kH9pvzj-Leob"
   },
   "source": [
    "Lecture 5: Spurious Waffles\n",
    "\n",
    "- [Video](https://www.youtube.com/watch?v=e0tO64mtYMU&index=5&list=PLDcUM9US4XdNM4Edgs7weiyIguLSToZRI)\n",
    "- [Slides](https://speakerdeck.com/rmcelreath/l05-statistical-rethinking-winter-2019)\n",
    "\n",
    "Lecture 6: Haunted DAG\n",
    "\n",
    "- [Video](https://youtu.be/l_7yIUqWBmE)\n",
    "- [Slides](https://speakerdeck.com/rmcelreath/l06-statistical-rethinking-winter-2019)\n",
    "\n",
    "[Proposed problems](https://github.com/gbosquechacon/statrethinking_winter2019/blob/master/homework/week03.pdf) and [solutions in R](https://github.com/gbosquechacon/statrethinking_winter2019/blob/master/homework/week03_solutions.pdf) for the exercises of the week."
   ]
  },
  {
   "cell_type": "code",
   "execution_count": 1,
   "metadata": {
    "executionInfo": {
     "elapsed": 27051,
     "status": "ok",
     "timestamp": 1601241433768,
     "user": {
      "displayName": "Andrés Suárez",
      "photoUrl": "https://lh5.googleusercontent.com/-s0kzcIwylzA/AAAAAAAAAAI/AAAAAAAAQXA/v8Sc6WgQy7c/s64/photo.jpg",
      "userId": "06409440331868776168"
     },
     "user_tz": -120
    },
    "id": "hBtjCJNgg-wL"
   },
   "outputs": [],
   "source": [
    "import numpy as np\n",
    "import pandas as pd\n",
    "from cmdstanpy import CmdStanModel\n",
    "from plotnine import *"
   ]
  },
  {
   "cell_type": "code",
   "execution_count": 2,
   "metadata": {},
   "outputs": [
    {
     "name": "stdout",
     "output_type": "stream",
     "text": [
      "Last updated: Fri Dec 31 2021\n",
      "\n",
      "pandas   : 1.3.4\n",
      "numpy    : 1.21.4\n",
      "cmdstanpy: 1.0.0\n",
      "plotnine : 0.8.0\n",
      "\n"
     ]
    }
   ],
   "source": [
    "%load_ext watermark\n",
    "%watermark -n -u -p pandas,numpy,cmdstanpy,plotnine"
   ]
  },
  {
   "cell_type": "markdown",
   "metadata": {
    "id": "PnD0MZD8Leog"
   },
   "source": [
    "All three problems below are based on the same data. The data in data `foxes` are 116 foxes from 30 different urban groups in England. These foxes are like street gangs. `groupsize` varies from 2 to 8 individuals. Each group maintains its own, almost exclusive, urban territory. Some territories are larger than others. The `area` variable encodes this information. Some territories also have more `avgfood` than others. We want to model the `weight` of each fox. For the problems below, assume this DAG:\n",
    "\n",
    "<img src=\"./fig/w1_img1.png\" width=\"60%\">\n",
    "\n",
    "Let's get the data."
   ]
  },
  {
   "cell_type": "code",
   "execution_count": 3,
   "metadata": {
    "colab": {
     "base_uri": "https://localhost:8080/",
     "height": 204
    },
    "executionInfo": {
     "elapsed": 606,
     "status": "ok",
     "timestamp": 1596908457084,
     "user": {
      "displayName": "Andrés Suárez",
      "photoUrl": "https://lh5.googleusercontent.com/-s0kzcIwylzA/AAAAAAAAAAI/AAAAAAAAQXA/v8Sc6WgQy7c/s64/photo.jpg",
      "userId": "06409440331868776168"
     },
     "user_tz": -120
    },
    "id": "4q4wFCcNLeoi",
    "outputId": "72be6dfe-4d41-4de7-c526-044e9f82bb02"
   },
   "outputs": [
    {
     "data": {
      "text/html": [
       "<div>\n",
       "<style scoped>\n",
       "    .dataframe tbody tr th:only-of-type {\n",
       "        vertical-align: middle;\n",
       "    }\n",
       "\n",
       "    .dataframe tbody tr th {\n",
       "        vertical-align: top;\n",
       "    }\n",
       "\n",
       "    .dataframe thead th {\n",
       "        text-align: right;\n",
       "    }\n",
       "</style>\n",
       "<table border=\"1\" class=\"dataframe\">\n",
       "  <thead>\n",
       "    <tr style=\"text-align: right;\">\n",
       "      <th></th>\n",
       "      <th>group</th>\n",
       "      <th>avgfood</th>\n",
       "      <th>groupsize</th>\n",
       "      <th>area</th>\n",
       "      <th>weight</th>\n",
       "    </tr>\n",
       "  </thead>\n",
       "  <tbody>\n",
       "    <tr>\n",
       "      <th>0</th>\n",
       "      <td>1</td>\n",
       "      <td>0.37</td>\n",
       "      <td>2</td>\n",
       "      <td>1.09</td>\n",
       "      <td>5.02</td>\n",
       "    </tr>\n",
       "    <tr>\n",
       "      <th>1</th>\n",
       "      <td>1</td>\n",
       "      <td>0.37</td>\n",
       "      <td>2</td>\n",
       "      <td>1.09</td>\n",
       "      <td>2.84</td>\n",
       "    </tr>\n",
       "    <tr>\n",
       "      <th>2</th>\n",
       "      <td>2</td>\n",
       "      <td>0.53</td>\n",
       "      <td>2</td>\n",
       "      <td>2.05</td>\n",
       "      <td>5.33</td>\n",
       "    </tr>\n",
       "    <tr>\n",
       "      <th>3</th>\n",
       "      <td>2</td>\n",
       "      <td>0.53</td>\n",
       "      <td>2</td>\n",
       "      <td>2.05</td>\n",
       "      <td>6.07</td>\n",
       "    </tr>\n",
       "    <tr>\n",
       "      <th>4</th>\n",
       "      <td>3</td>\n",
       "      <td>0.49</td>\n",
       "      <td>2</td>\n",
       "      <td>2.12</td>\n",
       "      <td>5.85</td>\n",
       "    </tr>\n",
       "  </tbody>\n",
       "</table>\n",
       "</div>"
      ],
      "text/plain": [
       "   group  avgfood  groupsize  area  weight\n",
       "0      1     0.37          2  1.09    5.02\n",
       "1      1     0.37          2  1.09    2.84\n",
       "2      2     0.53          2  2.05    5.33\n",
       "3      2     0.53          2  2.05    6.07\n",
       "4      3     0.49          2  2.12    5.85"
      ]
     },
     "execution_count": 3,
     "metadata": {},
     "output_type": "execute_result"
    }
   ],
   "source": [
    "d = pd.read_csv('./dat/foxes.csv', sep=';', header=0)\n",
    "d.head()"
   ]
  },
  {
   "cell_type": "markdown",
   "metadata": {
    "id": "iUjQHzDhLeon"
   },
   "source": [
    "## Exercise 1"
   ]
  },
  {
   "cell_type": "markdown",
   "metadata": {
    "id": "V4p2MUpALeon"
   },
   "source": [
    "> Use a model to infer the total causal influence of `area` on `weight`. Would increasing the `area` available to each fox make it heavier (healthier)? You might want to standardize the variables. Regardless, use prior predictive simulation to show that your model's prior predictions stay within the possible outcome range."
   ]
  },
  {
   "cell_type": "markdown",
   "metadata": {
    "id": "Lk0EJPBdLeoo"
   },
   "source": [
    "Standarise the data first of all:"
   ]
  },
  {
   "cell_type": "code",
   "execution_count": 4,
   "metadata": {
    "id": "MPE86Dsn2E0A"
   },
   "outputs": [],
   "source": [
    "cols = ['avgfood','groupsize','area','weight']\n",
    "d[cols] = (d[cols]-d[cols].mean())/d[cols].std()"
   ]
  },
  {
   "cell_type": "markdown",
   "metadata": {
    "id": "jEE-K7ZyLeor"
   },
   "source": [
    "Because there are no back-door paths from `area` to `weight`, we only need to include `area`. No other variables are needed. Here is a model using standardized versions of the variables and those standardized priors from the book. Also, a generic regression model is used where the variables `x`and `y` are renamed in each exercise."
   ]
  },
  {
   "cell_type": "code",
   "execution_count": 5,
   "metadata": {},
   "outputs": [
    {
     "name": "stderr",
     "output_type": "stream",
     "text": [
      "INFO:cmdstanpy:compiling stan file /home/jovyan/work/statret/stn/week03.stan to exe file /home/jovyan/work/statret/stn/week03\n",
      "INFO:cmdstanpy:compiled model executable: /home/jovyan/work/statret/stn/week03\n",
      "INFO:cmdstanpy:found newer exe file, not recompiling\n"
     ]
    }
   ],
   "source": [
    "model = '''\n",
    "\n",
    "data {\n",
    "    int n;\n",
    "    vector[n] x;\n",
    "    vector[n] y;\n",
    "}\n",
    "\n",
    "parameters {\n",
    "    real alpha;\n",
    "    real beta;\n",
    "    real sigma;\n",
    "}\n",
    "\n",
    "model {\n",
    "    // priors\n",
    "    alpha ~ normal(0, 0.2);\n",
    "    beta ~ normal(0, 0.5);\n",
    "    sigma ~ uniform(0, 2);\n",
    "    // likelihood\n",
    "    y ~ normal(alpha + beta * x, sigma);\n",
    "}\n",
    "\n",
    "generated quantities {\n",
    "    vector[n] y_ppc;\n",
    "    for (i in 1:n) {y_ppc[i] = normal_rng(alpha + beta * x[i], sigma);}\n",
    "}\n",
    "\n",
    "'''\n",
    "\n",
    "stan_file = './stn/week03.stan'\n",
    "with open('./stn/week03.stan', 'w') as f:\n",
    "    print(model, file=f)\n",
    "\n",
    "stan_model = CmdStanModel(stan_file=stan_file)\n",
    "stan_model.compile()"
   ]
  },
  {
   "cell_type": "code",
   "execution_count": 6,
   "metadata": {},
   "outputs": [
    {
     "name": "stderr",
     "output_type": "stream",
     "text": [
      "INFO:cmdstanpy:CmdStan start procesing\n"
     ]
    },
    {
     "data": {
      "application/vnd.jupyter.widget-view+json": {
       "model_id": "f827805de2824ee28676d244d7532aa4",
       "version_major": 2,
       "version_minor": 0
      },
      "text/plain": [
       "chain 1 |          | 00:00 Status"
      ]
     },
     "metadata": {},
     "output_type": "display_data"
    },
    {
     "data": {
      "application/vnd.jupyter.widget-view+json": {
       "model_id": "dae420a199b24f25a39378718071115f",
       "version_major": 2,
       "version_minor": 0
      },
      "text/plain": [
       "chain 2 |          | 00:00 Status"
      ]
     },
     "metadata": {},
     "output_type": "display_data"
    },
    {
     "data": {
      "application/vnd.jupyter.widget-view+json": {
       "model_id": "2f9dd62b16e24e8480ba0175876b4434",
       "version_major": 2,
       "version_minor": 0
      },
      "text/plain": [
       "chain 3 |          | 00:00 Status"
      ]
     },
     "metadata": {},
     "output_type": "display_data"
    },
    {
     "data": {
      "application/vnd.jupyter.widget-view+json": {
       "model_id": "7a811fa64d404504a964be438261098d",
       "version_major": 2,
       "version_minor": 0
      },
      "text/plain": [
       "chain 4 |          | 00:00 Status"
      ]
     },
     "metadata": {},
     "output_type": "display_data"
    },
    {
     "name": "stdout",
     "output_type": "stream",
     "text": [
      "                                                                                                                                                                                                                                                                                                                                "
     ]
    },
    {
     "name": "stderr",
     "output_type": "stream",
     "text": [
      "INFO:cmdstanpy:CmdStan done processing.\n"
     ]
    },
    {
     "name": "stdout",
     "output_type": "stream",
     "text": [
      "\n",
      "CPU times: user 236 ms, sys: 109 ms, total: 344 ms\n",
      "Wall time: 450 ms\n"
     ]
    }
   ],
   "source": [
    "%%time\n",
    "data = d[['area', 'weight']].rename(columns={'area':'x', 'weight':'y'})\n",
    "data = data.to_dict(orient='list')\n",
    "data['n'] = len(data['x'])\n",
    "stan_fit = stan_model.sample(data=data, chains=4)"
   ]
  },
  {
   "cell_type": "code",
   "execution_count": 7,
   "metadata": {},
   "outputs": [
    {
     "data": {
      "text/html": [
       "<div>\n",
       "<style scoped>\n",
       "    .dataframe tbody tr th:only-of-type {\n",
       "        vertical-align: middle;\n",
       "    }\n",
       "\n",
       "    .dataframe tbody tr th {\n",
       "        vertical-align: top;\n",
       "    }\n",
       "\n",
       "    .dataframe thead th {\n",
       "        text-align: right;\n",
       "    }\n",
       "</style>\n",
       "<table border=\"1\" class=\"dataframe\">\n",
       "  <thead>\n",
       "    <tr style=\"text-align: right;\">\n",
       "      <th></th>\n",
       "      <th>Mean</th>\n",
       "      <th>MCSE</th>\n",
       "      <th>StdDev</th>\n",
       "      <th>5%</th>\n",
       "      <th>50%</th>\n",
       "      <th>95%</th>\n",
       "      <th>N_Eff</th>\n",
       "      <th>N_Eff/s</th>\n",
       "      <th>R_hat</th>\n",
       "    </tr>\n",
       "    <tr>\n",
       "      <th>name</th>\n",
       "      <th></th>\n",
       "      <th></th>\n",
       "      <th></th>\n",
       "      <th></th>\n",
       "      <th></th>\n",
       "      <th></th>\n",
       "      <th></th>\n",
       "      <th></th>\n",
       "      <th></th>\n",
       "    </tr>\n",
       "  </thead>\n",
       "  <tbody>\n",
       "    <tr>\n",
       "      <th>alpha</th>\n",
       "      <td>0.00011</td>\n",
       "      <td>0.0013</td>\n",
       "      <td>0.085</td>\n",
       "      <td>-0.14</td>\n",
       "      <td>-0.00047</td>\n",
       "      <td>0.14</td>\n",
       "      <td>4200.0</td>\n",
       "      <td>8800.0</td>\n",
       "      <td>1.0</td>\n",
       "    </tr>\n",
       "    <tr>\n",
       "      <th>beta</th>\n",
       "      <td>0.01800</td>\n",
       "      <td>0.0015</td>\n",
       "      <td>0.095</td>\n",
       "      <td>-0.14</td>\n",
       "      <td>0.01900</td>\n",
       "      <td>0.18</td>\n",
       "      <td>3900.0</td>\n",
       "      <td>8200.0</td>\n",
       "      <td>1.0</td>\n",
       "    </tr>\n",
       "    <tr>\n",
       "      <th>sigma</th>\n",
       "      <td>1.00000</td>\n",
       "      <td>0.0011</td>\n",
       "      <td>0.067</td>\n",
       "      <td>0.91</td>\n",
       "      <td>1.00000</td>\n",
       "      <td>1.10</td>\n",
       "      <td>4000.0</td>\n",
       "      <td>8400.0</td>\n",
       "      <td>1.0</td>\n",
       "    </tr>\n",
       "  </tbody>\n",
       "</table>\n",
       "</div>"
      ],
      "text/plain": [
       "          Mean    MCSE  StdDev    5%      50%   95%   N_Eff  N_Eff/s  R_hat\n",
       "name                                                                       \n",
       "alpha  0.00011  0.0013   0.085 -0.14 -0.00047  0.14  4200.0   8800.0    1.0\n",
       "beta   0.01800  0.0015   0.095 -0.14  0.01900  0.18  3900.0   8200.0    1.0\n",
       "sigma  1.00000  0.0011   0.067  0.91  1.00000  1.10  4000.0   8400.0    1.0"
      ]
     },
     "execution_count": 7,
     "metadata": {},
     "output_type": "execute_result"
    }
   ],
   "source": [
    "stan_fit.summary().loc[['alpha', 'beta', 'sigma']]"
   ]
  },
  {
   "cell_type": "markdown",
   "metadata": {
    "id": "yxhvHfpFLeoy"
   },
   "source": [
    "Territory size (`area`) seems to have no total causal influence on `weight`, at least not in this sample. We can also plot the posterior using `plotnine` in a nice way."
   ]
  },
  {
   "cell_type": "code",
   "execution_count": 8,
   "metadata": {},
   "outputs": [
    {
     "data": {
      "image/png": "[encoded data removed]",
      "text/plain": [
       "<Figure size 640x480 with 3 Axes>"
      ]
     },
     "metadata": {},
     "output_type": "display_data"
    },
    {
     "data": {
      "text/plain": [
       "<ggplot: (8737960591342)>"
      ]
     },
     "execution_count": 8,
     "metadata": {},
     "output_type": "execute_result"
    }
   ],
   "source": [
    "atts = ['alpha', 'beta', 'sigma']\n",
    "df = stan_fit.draws_pd(vars=atts)\n",
    "im = pd.melt(df, value_vars=atts)\n",
    "\n",
    "(\n",
    "    ggplot(im)\n",
    "    + aes(x='value')\n",
    "    + geom_density(fill='grey', alpha=0.3)\n",
    "    + theme_light()\n",
    "    + facet_grid('variable ~ .')\n",
    ")"
   ]
  },
  {
   "cell_type": "markdown",
   "metadata": {
    "id": "9V0IHm8GPCxf"
   },
   "source": [
    "Let's visualize the data to see if exists a relationship between `area` and `weight` that is logical and possible. It does not seem that."
   ]
  },
  {
   "cell_type": "code",
   "execution_count": 9,
   "metadata": {},
   "outputs": [
    {
     "data": {
      "image/png": "[encoded data removed]",
      "text/plain": [
       "<Figure size 600x400 with 1 Axes>"
      ]
     },
     "metadata": {},
     "output_type": "display_data"
    },
    {
     "data": {
      "text/plain": [
       "<ggplot: (8737960154874)>"
      ]
     },
     "execution_count": 9,
     "metadata": {},
     "output_type": "execute_result"
    }
   ],
   "source": [
    "im = d[['area', 'weight']].copy()\n",
    "\n",
    "(\n",
    "    ggplot(im)\n",
    "    + aes(x='area', y='weight')\n",
    "    + geom_point(alpha=0.3)\n",
    "    + theme_light()\n",
    "    + theme(figure_size=(6,4))\n",
    ")"
   ]
  },
  {
   "cell_type": "markdown",
   "metadata": {
    "id": "kI8F5pWNLepK"
   },
   "source": [
    "## Exercise 2"
   ]
  },
  {
   "cell_type": "markdown",
   "metadata": {
    "id": "xil8oA8yLepL"
   },
   "source": [
    "> Now infer the causal impact of adding food (`avgfood`) to a territory. Would this make foxes heavier? Which covariates do you need to adjust for to estimate the total causal influence of food?"
   ]
  },
  {
   "cell_type": "markdown",
   "metadata": {
    "id": "ul3KxE1SLepM"
   },
   "source": [
    "To infer the causal influence of `avgfood` on `weight`, we need to close any back-door paths. There are no back-door paths in the DAG. So again, just use a model with a single predictor. If you include `groupsize`, to block the indirect path, then you won't get the total causal influence of food. You'll just get the direct influence. But I asked for the effect of adding food, and that would mean through all forward paths."
   ]
  },
  {
   "cell_type": "code",
   "execution_count": 10,
   "metadata": {},
   "outputs": [
    {
     "name": "stderr",
     "output_type": "stream",
     "text": [
      "INFO:cmdstanpy:CmdStan start procesing\n"
     ]
    },
    {
     "data": {
      "application/vnd.jupyter.widget-view+json": {
       "model_id": "f2d64feeb3fd4d25bd2b6d71c46689d5",
       "version_major": 2,
       "version_minor": 0
      },
      "text/plain": [
       "chain 1 |          | 00:00 Status"
      ]
     },
     "metadata": {},
     "output_type": "display_data"
    },
    {
     "data": {
      "application/vnd.jupyter.widget-view+json": {
       "model_id": "b01be942e2924ba893b893e92feb5102",
       "version_major": 2,
       "version_minor": 0
      },
      "text/plain": [
       "chain 2 |          | 00:00 Status"
      ]
     },
     "metadata": {},
     "output_type": "display_data"
    },
    {
     "data": {
      "application/vnd.jupyter.widget-view+json": {
       "model_id": "85c2d564b8754d52a2cb9520b8be564e",
       "version_major": 2,
       "version_minor": 0
      },
      "text/plain": [
       "chain 3 |          | 00:00 Status"
      ]
     },
     "metadata": {},
     "output_type": "display_data"
    },
    {
     "data": {
      "application/vnd.jupyter.widget-view+json": {
       "model_id": "2170f59265074a2f89d2011803b3cab9",
       "version_major": 2,
       "version_minor": 0
      },
      "text/plain": [
       "chain 4 |          | 00:00 Status"
      ]
     },
     "metadata": {},
     "output_type": "display_data"
    },
    {
     "name": "stdout",
     "output_type": "stream",
     "text": [
      "                                                                                                                                                                                                                                                                                                                                "
     ]
    },
    {
     "name": "stderr",
     "output_type": "stream",
     "text": [
      "INFO:cmdstanpy:CmdStan done processing.\n"
     ]
    },
    {
     "name": "stdout",
     "output_type": "stream",
     "text": [
      "\n",
      "CPU times: user 312 ms, sys: 165 ms, total: 477 ms\n",
      "Wall time: 509 ms\n"
     ]
    }
   ],
   "source": [
    "%%time\n",
    "data = d[['avgfood', 'weight']].rename(columns={'avgfood':'x', 'weight':'y'})\n",
    "data = data.to_dict(orient='list')\n",
    "data['n'] = len(data['x'])\n",
    "stan_fit = stan_model.sample(data=data, chains=4)"
   ]
  },
  {
   "cell_type": "code",
   "execution_count": 11,
   "metadata": {},
   "outputs": [
    {
     "data": {
      "text/html": [
       "<div>\n",
       "<style scoped>\n",
       "    .dataframe tbody tr th:only-of-type {\n",
       "        vertical-align: middle;\n",
       "    }\n",
       "\n",
       "    .dataframe tbody tr th {\n",
       "        vertical-align: top;\n",
       "    }\n",
       "\n",
       "    .dataframe thead th {\n",
       "        text-align: right;\n",
       "    }\n",
       "</style>\n",
       "<table border=\"1\" class=\"dataframe\">\n",
       "  <thead>\n",
       "    <tr style=\"text-align: right;\">\n",
       "      <th></th>\n",
       "      <th>Mean</th>\n",
       "      <th>MCSE</th>\n",
       "      <th>StdDev</th>\n",
       "      <th>5%</th>\n",
       "      <th>50%</th>\n",
       "      <th>95%</th>\n",
       "      <th>N_Eff</th>\n",
       "      <th>N_Eff/s</th>\n",
       "      <th>R_hat</th>\n",
       "    </tr>\n",
       "    <tr>\n",
       "      <th>name</th>\n",
       "      <th></th>\n",
       "      <th></th>\n",
       "      <th></th>\n",
       "      <th></th>\n",
       "      <th></th>\n",
       "      <th></th>\n",
       "      <th></th>\n",
       "      <th></th>\n",
       "      <th></th>\n",
       "    </tr>\n",
       "  </thead>\n",
       "  <tbody>\n",
       "    <tr>\n",
       "      <th>alpha</th>\n",
       "      <td>-0.000042</td>\n",
       "      <td>0.0014</td>\n",
       "      <td>0.086</td>\n",
       "      <td>-0.14</td>\n",
       "      <td>0.00025</td>\n",
       "      <td>0.14</td>\n",
       "      <td>3700.0</td>\n",
       "      <td>8400.0</td>\n",
       "      <td>1.0</td>\n",
       "    </tr>\n",
       "    <tr>\n",
       "      <th>beta</th>\n",
       "      <td>-0.023000</td>\n",
       "      <td>0.0016</td>\n",
       "      <td>0.095</td>\n",
       "      <td>-0.18</td>\n",
       "      <td>-0.02300</td>\n",
       "      <td>0.13</td>\n",
       "      <td>3700.0</td>\n",
       "      <td>8500.0</td>\n",
       "      <td>1.0</td>\n",
       "    </tr>\n",
       "    <tr>\n",
       "      <th>sigma</th>\n",
       "      <td>1.000000</td>\n",
       "      <td>0.0011</td>\n",
       "      <td>0.068</td>\n",
       "      <td>0.91</td>\n",
       "      <td>1.00000</td>\n",
       "      <td>1.10</td>\n",
       "      <td>3500.0</td>\n",
       "      <td>8100.0</td>\n",
       "      <td>1.0</td>\n",
       "    </tr>\n",
       "  </tbody>\n",
       "</table>\n",
       "</div>"
      ],
      "text/plain": [
       "           Mean    MCSE  StdDev    5%      50%   95%   N_Eff  N_Eff/s  R_hat\n",
       "name                                                                        \n",
       "alpha -0.000042  0.0014   0.086 -0.14  0.00025  0.14  3700.0   8400.0    1.0\n",
       "beta  -0.023000  0.0016   0.095 -0.18 -0.02300  0.13  3700.0   8500.0    1.0\n",
       "sigma  1.000000  0.0011   0.068  0.91  1.00000  1.10  3500.0   8100.0    1.0"
      ]
     },
     "execution_count": 11,
     "metadata": {},
     "output_type": "execute_result"
    }
   ],
   "source": [
    "stan_fit.summary().loc[['alpha', 'beta', 'sigma']]"
   ]
  },
  {
   "cell_type": "markdown",
   "metadata": {
    "id": "P7M1-5snLepS"
   },
   "source": [
    "Again nothing. Adding food does not change `weight`. It can be checked visualizing the relation between `avgfood` and `weight`. This shouldn't surprise you, if the DAG is correct, because `area` is upstream of `avgfood`."
   ]
  },
  {
   "cell_type": "code",
   "execution_count": 12,
   "metadata": {},
   "outputs": [
    {
     "data": {
      "image/png": "[encoded data removed]",
      "text/plain": [
       "<Figure size 600x400 with 1 Axes>"
      ]
     },
     "metadata": {},
     "output_type": "display_data"
    },
    {
     "data": {
      "text/plain": [
       "<ggplot: (8737960566179)>"
      ]
     },
     "execution_count": 12,
     "metadata": {},
     "output_type": "execute_result"
    }
   ],
   "source": [
    "im = d[['avgfood', 'weight', 'group']]\n",
    "\n",
    "(\n",
    "    ggplot(im)\n",
    "    + aes(x='avgfood', y='weight', color='group')\n",
    "    + geom_point()\n",
    "    + theme_light()\n",
    "    + theme(figure_size=(6,4))\n",
    ")"
   ]
  },
  {
   "cell_type": "markdown",
   "metadata": {
    "id": "o-NcXyxhLepW"
   },
   "source": [
    "## Exercise 3"
   ]
  },
  {
   "cell_type": "markdown",
   "metadata": {
    "id": "GAPVaBA6LepW"
   },
   "source": [
    "> Now infer the causal impact of `groupsize`. Which covariates do you need to adjust for? Looking at the posterior distribution of the resulting model, what do you think explains these data? That is, can you explain the estimates for all three problems? How do they go together?"
   ]
  },
  {
   "cell_type": "code",
   "execution_count": 13,
   "metadata": {},
   "outputs": [
    {
     "name": "stderr",
     "output_type": "stream",
     "text": [
      "INFO:cmdstanpy:CmdStan start procesing\n"
     ]
    },
    {
     "data": {
      "application/vnd.jupyter.widget-view+json": {
       "model_id": "773b6eed86fa405181a88e5f478fc4e1",
       "version_major": 2,
       "version_minor": 0
      },
      "text/plain": [
       "chain 1 |          | 00:00 Status"
      ]
     },
     "metadata": {},
     "output_type": "display_data"
    },
    {
     "data": {
      "application/vnd.jupyter.widget-view+json": {
       "model_id": "2c873642519a4af7af74823a21ae896b",
       "version_major": 2,
       "version_minor": 0
      },
      "text/plain": [
       "chain 2 |          | 00:00 Status"
      ]
     },
     "metadata": {},
     "output_type": "display_data"
    },
    {
     "data": {
      "application/vnd.jupyter.widget-view+json": {
       "model_id": "0a360340e576443f9b68c31c6f148c2c",
       "version_major": 2,
       "version_minor": 0
      },
      "text/plain": [
       "chain 3 |          | 00:00 Status"
      ]
     },
     "metadata": {},
     "output_type": "display_data"
    },
    {
     "data": {
      "application/vnd.jupyter.widget-view+json": {
       "model_id": "a9a88005897e4df1b5f1552c121d80ed",
       "version_major": 2,
       "version_minor": 0
      },
      "text/plain": [
       "chain 4 |          | 00:00 Status"
      ]
     },
     "metadata": {},
     "output_type": "display_data"
    },
    {
     "name": "stdout",
     "output_type": "stream",
     "text": [
      "                                                                                                                                                                                                                                                                                                                                "
     ]
    },
    {
     "name": "stderr",
     "output_type": "stream",
     "text": [
      "INFO:cmdstanpy:CmdStan done processing.\n"
     ]
    },
    {
     "name": "stdout",
     "output_type": "stream",
     "text": [
      "\n",
      "CPU times: user 264 ms, sys: 141 ms, total: 404 ms\n",
      "Wall time: 426 ms\n"
     ]
    }
   ],
   "source": [
    "%%time\n",
    "data = d[['groupsize', 'weight']].rename(columns={'groupsize':'x', 'weight':'y'})\n",
    "data = data.to_dict(orient='list')\n",
    "data['n'] = len(data['x'])\n",
    "stan_fit = stan_model.sample(data=data, chains=4)"
   ]
  },
  {
   "cell_type": "code",
   "execution_count": 14,
   "metadata": {},
   "outputs": [
    {
     "data": {
      "text/html": [
       "<div>\n",
       "<style scoped>\n",
       "    .dataframe tbody tr th:only-of-type {\n",
       "        vertical-align: middle;\n",
       "    }\n",
       "\n",
       "    .dataframe tbody tr th {\n",
       "        vertical-align: top;\n",
       "    }\n",
       "\n",
       "    .dataframe thead th {\n",
       "        text-align: right;\n",
       "    }\n",
       "</style>\n",
       "<table border=\"1\" class=\"dataframe\">\n",
       "  <thead>\n",
       "    <tr style=\"text-align: right;\">\n",
       "      <th></th>\n",
       "      <th>Mean</th>\n",
       "      <th>MCSE</th>\n",
       "      <th>StdDev</th>\n",
       "      <th>5%</th>\n",
       "      <th>50%</th>\n",
       "      <th>95%</th>\n",
       "      <th>N_Eff</th>\n",
       "      <th>N_Eff/s</th>\n",
       "      <th>R_hat</th>\n",
       "    </tr>\n",
       "    <tr>\n",
       "      <th>name</th>\n",
       "      <th></th>\n",
       "      <th></th>\n",
       "      <th></th>\n",
       "      <th></th>\n",
       "      <th></th>\n",
       "      <th></th>\n",
       "      <th></th>\n",
       "      <th></th>\n",
       "      <th></th>\n",
       "    </tr>\n",
       "  </thead>\n",
       "  <tbody>\n",
       "    <tr>\n",
       "      <th>alpha</th>\n",
       "      <td>0.0012</td>\n",
       "      <td>0.0014</td>\n",
       "      <td>0.084</td>\n",
       "      <td>-0.14</td>\n",
       "      <td>0.0012</td>\n",
       "      <td>0.140</td>\n",
       "      <td>3800.0</td>\n",
       "      <td>8800.0</td>\n",
       "      <td>1.0</td>\n",
       "    </tr>\n",
       "    <tr>\n",
       "      <th>beta</th>\n",
       "      <td>-0.1600</td>\n",
       "      <td>0.0015</td>\n",
       "      <td>0.092</td>\n",
       "      <td>-0.31</td>\n",
       "      <td>-0.1500</td>\n",
       "      <td>-0.006</td>\n",
       "      <td>3700.0</td>\n",
       "      <td>8700.0</td>\n",
       "      <td>1.0</td>\n",
       "    </tr>\n",
       "    <tr>\n",
       "      <th>sigma</th>\n",
       "      <td>1.0000</td>\n",
       "      <td>0.0012</td>\n",
       "      <td>0.067</td>\n",
       "      <td>0.90</td>\n",
       "      <td>1.0000</td>\n",
       "      <td>1.100</td>\n",
       "      <td>3400.0</td>\n",
       "      <td>7900.0</td>\n",
       "      <td>1.0</td>\n",
       "    </tr>\n",
       "  </tbody>\n",
       "</table>\n",
       "</div>"
      ],
      "text/plain": [
       "         Mean    MCSE  StdDev    5%     50%    95%   N_Eff  N_Eff/s  R_hat\n",
       "name                                                                      \n",
       "alpha  0.0012  0.0014   0.084 -0.14  0.0012  0.140  3800.0   8800.0    1.0\n",
       "beta  -0.1600  0.0015   0.092 -0.31 -0.1500 -0.006  3700.0   8700.0    1.0\n",
       "sigma  1.0000  0.0012   0.067  0.90  1.0000  1.100  3400.0   7900.0    1.0"
      ]
     },
     "execution_count": 14,
     "metadata": {},
     "output_type": "execute_result"
    }
   ],
   "source": [
    "stan_fit.summary().loc[['alpha', 'beta', 'sigma']]"
   ]
  },
  {
   "cell_type": "markdown",
   "metadata": {
    "id": "HK6gNqcMLepc"
   },
   "source": [
    "Very cool! This in an example of **collider** between two variables. The direct effect of `avgfood` is actually positive! But since it is controlled by the negative effect of `groupsize` the total effect of `avgfood` on `weight` is nothing. It looks like `groupsize` is negatively associated with `weight`, controlling for `avgfood`. Similarly, `avgfood` is positively associated with `weight`, controlling for `groupsize`. So the causal influence of `groupsize` is to reduce `weight` less food for each fox. And the direct causal influence of `avgfood` is positive, of course. But the total causal influence of `avgfood` is still nothing, since it causes\n",
    "larger groups. This is a masking effect, like in the milk energy example. But the causal explanation here is that more foxes move into a territory until the food available to each is no better than the food in a neighboring territory. Every territory ends up equally good/bad on average. This is known in behavioral ecology as an ideal free distribution."
   ]
  },
  {
   "cell_type": "code",
   "execution_count": 15,
   "metadata": {},
   "outputs": [
    {
     "data": {
      "image/png": "[encoded data removed]",
      "text/plain": [
       "<Figure size 640x480 with 3 Axes>"
      ]
     },
     "metadata": {},
     "output_type": "display_data"
    },
    {
     "data": {
      "text/plain": [
       "<ggplot: (8737961081296)>"
      ]
     },
     "execution_count": 15,
     "metadata": {},
     "output_type": "execute_result"
    }
   ],
   "source": [
    "atts = ['alpha', 'beta', 'sigma']\n",
    "df = stan_fit.draws_pd(vars=atts)\n",
    "im = pd.melt(df, value_vars=atts)\n",
    "\n",
    "(\n",
    "    ggplot(im)\n",
    "    + aes(x='value')\n",
    "    + geom_density(fill='grey', alpha=0.3)\n",
    "    + theme_light()\n",
    "    + facet_grid('variable ~ .')\n",
    ")"
   ]
  }
 ],
 "metadata": {
  "accelerator": "TPU",
  "colab": {
   "collapsed_sections": [],
   "name": "rethink_stats_numpyro_w03.ipynb",
   "provenance": []
  },
  "kernelspec": {
   "display_name": "Python 3",
   "language": "python",
   "name": "python3"
  },
  "language_info": {
   "codemirror_mode": {
    "name": "ipython",
    "version": 3
   },
   "file_extension": ".py",
   "mimetype": "text/x-python",
   "name": "python",
   "nbconvert_exporter": "python",
   "pygments_lexer": "ipython3",
   "version": "3.8.8"
  }
 },
 "nbformat": 4,
 "nbformat_minor": 4
}
