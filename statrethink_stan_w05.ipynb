{
 "cells": [
  {
   "cell_type": "markdown",
   "metadata": {
    "colab_type": "text",
    "id": "HObqKFEgPEw7"
   },
   "source": [
    "# Rethinking Statistics course in Stan - Week 5"
   ]
  },
  {
   "cell_type": "markdown",
   "metadata": {
    "colab_type": "text",
    "id": "hNZGqhQCPEw8"
   },
   "source": [
    "Lecture 9: Conditional Manatees\n",
    "\n",
    "- [Video](https://www.youtube.com/watch?v=QhHfo6-Bx8o)\n",
    "- [Slides](https://speakerdeck.com/rmcelreath/l09-statistical-rethinking-winter-2019)\n",
    "\n",
    "Lecture 10: Markov Chain Monte Carlo\n",
    "\n",
    "- [Video](https://youtu.be/v-j0UmWf3Us)\n",
    "- [Slides](https://speakerdeck.com/rmcelreath/l10-statistical-rethinking-winter-2019)\n",
    "\n",
    "[Proposed problems](https://github.com/gbosquechacon/statrethinking_winter2019/blob/master/homework/week05.pdf) and [solutions in R](https://github.com/gbosquechacon/statrethinking_winter2019/blob/master/homework/week05_solutions.pdf) for the exercises of the week."
   ]
  },
  {
   "cell_type": "code",
   "execution_count": 1,
   "metadata": {},
   "outputs": [],
   "source": [
    "import pandas as pd\n",
    "import numpy as np\n",
    "from cmdstanpy import CmdStanModel\n",
    "from plotnine import *"
   ]
  },
  {
   "cell_type": "code",
   "execution_count": 2,
   "metadata": {},
   "outputs": [
    {
     "name": "stdout",
     "output_type": "stream",
     "text": [
      "Last updated: Fri Dec 31 2021\n",
      "\n",
      "pandas   : 1.3.4\n",
      "numpy    : 1.21.4\n",
      "cmdstanpy: 1.0.0\n",
      "plotnine : 0.8.0\n",
      "\n"
     ]
    }
   ],
   "source": [
    "%load_ext watermark\n",
    "%watermark -n -u -p pandas,numpy,cmdstanpy,plotnine"
   ]
  },
  {
   "cell_type": "markdown",
   "metadata": {
    "colab_type": "text",
    "id": "feVLPycFPExC"
   },
   "source": [
    "## Exercise 1"
   ]
  },
  {
   "cell_type": "markdown",
   "metadata": {
    "colab_type": "text",
    "id": "VmD4O72mPExC"
   },
   "source": [
    "> Consider the data (`Wines2012`) data table. These data are expert ratings of 20 different French and American wines by 9 different French and American judges. Your goal is to model score, the subjective rating assigned by each judge to each wine. I recommend standardizing it.\n",
    "\n",
    "> In this first problem, consider only variation among judges and wines. Construct index variables of judge and wine and then use these index variables to construct a linear regression model. Justify your priors. You should end up with 9 judge parameters and 20 wine parameters. Use `ulam` instead of `quap` to build this model, and be sure to check the chains for convergence. If you'd rather build the model directly in `Stan` or `PyMC3` or `NumPyro`, go ahead. I just want you to use Hamiltonian Monte Carlo instead of quadratic approximation.\n",
    "\n",
    "> How do you interpret the variation among individual judges and individual wines? Do you notice any patterns, just by plotting the differences? Which judges gave the highest/lowest ratings? Which wines were rated worst/best on average?"
   ]
  },
  {
   "cell_type": "markdown",
   "metadata": {
    "colab_type": "text",
    "id": "exNaUTl8PExD"
   },
   "source": [
    "Let's get the data."
   ]
  },
  {
   "cell_type": "code",
   "execution_count": 3,
   "metadata": {
    "colab": {
     "base_uri": "https://localhost:8080/",
     "height": 204
    },
    "colab_type": "code",
    "executionInfo": {
     "elapsed": 893,
     "status": "ok",
     "timestamp": 1597593394217,
     "user": {
      "displayName": "Andrés Suárez",
      "photoUrl": "https://lh5.googleusercontent.com/-s0kzcIwylzA/AAAAAAAAAAI/AAAAAAAAQXA/v8Sc6WgQy7c/s64/photo.jpg",
      "userId": "06409440331868776168"
     },
     "user_tz": -120
    },
    "id": "DvEn872RPExE",
    "outputId": "3a6ce6b3-7b81-4e5f-90f1-87f04a3ed887"
   },
   "outputs": [
    {
     "data": {
      "text/html": [
       "<div>\n",
       "<style scoped>\n",
       "    .dataframe tbody tr th:only-of-type {\n",
       "        vertical-align: middle;\n",
       "    }\n",
       "\n",
       "    .dataframe tbody tr th {\n",
       "        vertical-align: top;\n",
       "    }\n",
       "\n",
       "    .dataframe thead th {\n",
       "        text-align: right;\n",
       "    }\n",
       "</style>\n",
       "<table border=\"1\" class=\"dataframe\">\n",
       "  <thead>\n",
       "    <tr style=\"text-align: right;\">\n",
       "      <th></th>\n",
       "      <th>judge</th>\n",
       "      <th>flight</th>\n",
       "      <th>wine</th>\n",
       "      <th>score</th>\n",
       "      <th>wine.amer</th>\n",
       "      <th>judge.amer</th>\n",
       "    </tr>\n",
       "  </thead>\n",
       "  <tbody>\n",
       "    <tr>\n",
       "      <th>177</th>\n",
       "      <td>Francis Schott</td>\n",
       "      <td>red</td>\n",
       "      <td>H2</td>\n",
       "      <td>16.0</td>\n",
       "      <td>1</td>\n",
       "      <td>1</td>\n",
       "    </tr>\n",
       "    <tr>\n",
       "      <th>178</th>\n",
       "      <td>Francis Schott</td>\n",
       "      <td>red</td>\n",
       "      <td>I2</td>\n",
       "      <td>7.0</td>\n",
       "      <td>1</td>\n",
       "      <td>1</td>\n",
       "    </tr>\n",
       "    <tr>\n",
       "      <th>179</th>\n",
       "      <td>Francis Schott</td>\n",
       "      <td>red</td>\n",
       "      <td>J2</td>\n",
       "      <td>17.0</td>\n",
       "      <td>0</td>\n",
       "      <td>1</td>\n",
       "    </tr>\n",
       "  </tbody>\n",
       "</table>\n",
       "</div>"
      ],
      "text/plain": [
       "              judge flight wine  score  wine.amer  judge.amer\n",
       "177  Francis Schott    red   H2   16.0          1           1\n",
       "178  Francis Schott    red   I2    7.0          1           1\n",
       "179  Francis Schott    red   J2   17.0          0           1"
      ]
     },
     "execution_count": 3,
     "metadata": {},
     "output_type": "execute_result"
    }
   ],
   "source": [
    "d = pd.read_csv('./dat/Wines2012.csv', header=0, sep=';')\n",
    "d.tail(3)"
   ]
  },
  {
   "cell_type": "code",
   "execution_count": 4,
   "metadata": {
    "colab": {
     "base_uri": "https://localhost:8080/",
     "height": 204
    },
    "colab_type": "code",
    "executionInfo": {
     "elapsed": 473,
     "status": "ok",
     "timestamp": 1597593396759,
     "user": {
      "displayName": "Andrés Suárez",
      "photoUrl": "https://lh5.googleusercontent.com/-s0kzcIwylzA/AAAAAAAAAAI/AAAAAAAAQXA/v8Sc6WgQy7c/s64/photo.jpg",
      "userId": "06409440331868776168"
     },
     "user_tz": -120
    },
    "id": "0Aj9qOHVWIJT",
    "outputId": "dfaac24b-d18a-46cf-a1dd-7513d469efda"
   },
   "outputs": [
    {
     "data": {
      "text/html": [
       "<div>\n",
       "<style scoped>\n",
       "    .dataframe tbody tr th:only-of-type {\n",
       "        vertical-align: middle;\n",
       "    }\n",
       "\n",
       "    .dataframe tbody tr th {\n",
       "        vertical-align: top;\n",
       "    }\n",
       "\n",
       "    .dataframe thead th {\n",
       "        text-align: right;\n",
       "    }\n",
       "</style>\n",
       "<table border=\"1\" class=\"dataframe\">\n",
       "  <thead>\n",
       "    <tr style=\"text-align: right;\">\n",
       "      <th></th>\n",
       "      <th>judge</th>\n",
       "      <th>flight</th>\n",
       "      <th>wine</th>\n",
       "      <th>score</th>\n",
       "      <th>win_usa</th>\n",
       "      <th>jdg_usa</th>\n",
       "    </tr>\n",
       "  </thead>\n",
       "  <tbody>\n",
       "    <tr>\n",
       "      <th>177</th>\n",
       "      <td>1</td>\n",
       "      <td>0</td>\n",
       "      <td>15</td>\n",
       "      <td>0.675687</td>\n",
       "      <td>1</td>\n",
       "      <td>1</td>\n",
       "    </tr>\n",
       "    <tr>\n",
       "      <th>178</th>\n",
       "      <td>1</td>\n",
       "      <td>0</td>\n",
       "      <td>17</td>\n",
       "      <td>-2.702750</td>\n",
       "      <td>1</td>\n",
       "      <td>1</td>\n",
       "    </tr>\n",
       "    <tr>\n",
       "      <th>179</th>\n",
       "      <td>1</td>\n",
       "      <td>0</td>\n",
       "      <td>19</td>\n",
       "      <td>1.051069</td>\n",
       "      <td>0</td>\n",
       "      <td>1</td>\n",
       "    </tr>\n",
       "  </tbody>\n",
       "</table>\n",
       "</div>"
      ],
      "text/plain": [
       "     judge  flight  wine     score  win_usa  jdg_usa\n",
       "177      1       0    15  0.675687        1        1\n",
       "178      1       0    17 -2.702750        1        1\n",
       "179      1       0    19  1.051069        0        1"
      ]
     },
     "execution_count": 4,
     "metadata": {},
     "output_type": "execute_result"
    }
   ],
   "source": [
    "d.score = (d.score - d.score.mean())/d.score.std()\n",
    "for feat in ['judge', 'flight', 'wine']:\n",
    "    d[feat] = d[feat].astype('category').cat.codes\n",
    "d = d.rename(columns = {'wine.amer':'win_usa', 'judge.amer':'jdg_usa'})\n",
    "d.tail(3)"
   ]
  },
  {
   "cell_type": "markdown",
   "metadata": {
    "colab_type": "text",
    "id": "sX6yH-EnPExL"
   },
   "source": [
    "The model is straightforward. The only issue is the priors. Since I've standardized the outcome, we can use the ordinary $N(0,0.5)$ prior from the examples in the text with standardized outcomes. Then the prior outcomes will stay largely within the possible outcome space. A bit more regularization than that wouldn't be a bad idea either."
   ]
  },
  {
   "cell_type": "code",
   "execution_count": 5,
   "metadata": {},
   "outputs": [
    {
     "name": "stderr",
     "output_type": "stream",
     "text": [
      "INFO:cmdstanpy:compiling stan file /home/jovyan/work/statret/stn/week05_01.stan to exe file /home/jovyan/work/statret/stn/week05_01\n",
      "INFO:cmdstanpy:compiled model executable: /home/jovyan/work/statret/stn/week05_01\n",
      "INFO:cmdstanpy:found newer exe file, not recompiling\n"
     ]
    }
   ],
   "source": [
    "nj = d.judge.unique().size\n",
    "nw = d.wine.unique().size\n",
    "\n",
    "model = '''\n",
    "\n",
    "data {\n",
    "    int n;\n",
    "    int judge[n];\n",
    "    int wine[n];\n",
    "    vector[n] score;\n",
    "}\n",
    "\n",
    "parameters {\n",
    "    real a[%s];\n",
    "    real w[%s];\n",
    "    real sigma;\n",
    "}\n",
    "\n",
    "model {\n",
    "    // priors\n",
    "    a ~ normal(0, 0.5);\n",
    "    w ~ normal(0, 0.5);\n",
    "    sigma ~ exponential(1);\n",
    "    // likelihood\n",
    "    vector[n] mu;\n",
    "    for (i in 1:n) {\n",
    "        mu[i] = a[judge[i]] + w[wine[i]];\n",
    "    }\n",
    "    score ~ normal(mu, sigma);\n",
    "}\n",
    "\n",
    "''' % (nj, nw)\n",
    "\n",
    "stan_file = './stn/week05_01.stan'\n",
    "with open(stan_file, 'w') as f:\n",
    "    print(model, file=f)\n",
    "    \n",
    "stan_model = CmdStanModel(stan_file=stan_file)\n",
    "stan_model.compile()"
   ]
  },
  {
   "cell_type": "code",
   "execution_count": 6,
   "metadata": {},
   "outputs": [
    {
     "name": "stderr",
     "output_type": "stream",
     "text": [
      "/opt/conda/lib/python3.8/site-packages/pandas/core/generic.py:5516: SettingWithCopyWarning: \n",
      "A value is trying to be set on a copy of a slice from a DataFrame.\n",
      "Try using .loc[row_indexer,col_indexer] = value instead\n",
      "\n",
      "See the caveats in the documentation: https://pandas.pydata.org/pandas-docs/stable/user_guide/indexing.html#returning-a-view-versus-a-copy\n",
      "INFO:cmdstanpy:CmdStan start procesing\n"
     ]
    },
    {
     "data": {
      "application/vnd.jupyter.widget-view+json": {
       "model_id": "7d7fc17ee6e946809d48a76f5790c65a",
       "version_major": 2,
       "version_minor": 0
      },
      "text/plain": [
       "chain 1 |          | 00:00 Status"
      ]
     },
     "metadata": {},
     "output_type": "display_data"
    },
    {
     "data": {
      "application/vnd.jupyter.widget-view+json": {
       "model_id": "98842500cb084d6d8e197b6587b4ad21",
       "version_major": 2,
       "version_minor": 0
      },
      "text/plain": [
       "chain 2 |          | 00:00 Status"
      ]
     },
     "metadata": {},
     "output_type": "display_data"
    },
    {
     "data": {
      "application/vnd.jupyter.widget-view+json": {
       "model_id": "83742292c9f6457c9a15cd6f53ba7bfb",
       "version_major": 2,
       "version_minor": 0
      },
      "text/plain": [
       "chain 3 |          | 00:00 Status"
      ]
     },
     "metadata": {},
     "output_type": "display_data"
    },
    {
     "data": {
      "application/vnd.jupyter.widget-view+json": {
       "model_id": "f8b3a673419841c0abc2eaae3cdb7180",
       "version_major": 2,
       "version_minor": 0
      },
      "text/plain": [
       "chain 4 |          | 00:00 Status"
      ]
     },
     "metadata": {},
     "output_type": "display_data"
    },
    {
     "name": "stdout",
     "output_type": "stream",
     "text": [
      "                                                                                                                                                                                                                                                                                                                                "
     ]
    },
    {
     "name": "stderr",
     "output_type": "stream",
     "text": [
      "INFO:cmdstanpy:CmdStan done processing.\n"
     ]
    },
    {
     "name": "stdout",
     "output_type": "stream",
     "text": [
      "\n",
      "CPU times: user 213 ms, sys: 79.6 ms, total: 292 ms\n",
      "Wall time: 410 ms\n"
     ]
    }
   ],
   "source": [
    "%%time\n",
    "data = d[['judge', 'wine', 'score']]\n",
    "data.judge = data.judge + 1\n",
    "data.wine = data.wine + 1\n",
    "data = data.to_dict(orient='list')\n",
    "data['n'] = len(data['score'])\n",
    "stan_fit = stan_model.sample(data=data, chains=4)"
   ]
  },
  {
   "cell_type": "code",
   "execution_count": 7,
   "metadata": {},
   "outputs": [
    {
     "data": {
      "text/html": [
       "<div>\n",
       "<style scoped>\n",
       "    .dataframe tbody tr th:only-of-type {\n",
       "        vertical-align: middle;\n",
       "    }\n",
       "\n",
       "    .dataframe tbody tr th {\n",
       "        vertical-align: top;\n",
       "    }\n",
       "\n",
       "    .dataframe thead th {\n",
       "        text-align: right;\n",
       "    }\n",
       "</style>\n",
       "<table border=\"1\" class=\"dataframe\">\n",
       "  <thead>\n",
       "    <tr style=\"text-align: right;\">\n",
       "      <th></th>\n",
       "      <th>Mean</th>\n",
       "      <th>MCSE</th>\n",
       "      <th>StdDev</th>\n",
       "      <th>5%</th>\n",
       "      <th>50%</th>\n",
       "      <th>95%</th>\n",
       "      <th>N_Eff</th>\n",
       "      <th>N_Eff/s</th>\n",
       "      <th>R_hat</th>\n",
       "    </tr>\n",
       "    <tr>\n",
       "      <th>name</th>\n",
       "      <th></th>\n",
       "      <th></th>\n",
       "      <th></th>\n",
       "      <th></th>\n",
       "      <th></th>\n",
       "      <th></th>\n",
       "      <th></th>\n",
       "      <th></th>\n",
       "      <th></th>\n",
       "    </tr>\n",
       "  </thead>\n",
       "  <tbody>\n",
       "    <tr>\n",
       "      <th>lp__</th>\n",
       "      <td>-70.0000</td>\n",
       "      <td>0.1100</td>\n",
       "      <td>4.10</td>\n",
       "      <td>-78.000</td>\n",
       "      <td>-70.0000</td>\n",
       "      <td>-64.000</td>\n",
       "      <td>1500.0</td>\n",
       "      <td>4100.0</td>\n",
       "      <td>1.0</td>\n",
       "    </tr>\n",
       "    <tr>\n",
       "      <th>a[1]</th>\n",
       "      <td>-0.2800</td>\n",
       "      <td>0.0036</td>\n",
       "      <td>0.19</td>\n",
       "      <td>-0.600</td>\n",
       "      <td>-0.2900</td>\n",
       "      <td>0.032</td>\n",
       "      <td>2841.0</td>\n",
       "      <td>7936.0</td>\n",
       "      <td>1.0</td>\n",
       "    </tr>\n",
       "    <tr>\n",
       "      <th>a[2]</th>\n",
       "      <td>0.2100</td>\n",
       "      <td>0.0037</td>\n",
       "      <td>0.20</td>\n",
       "      <td>-0.110</td>\n",
       "      <td>0.2100</td>\n",
       "      <td>0.530</td>\n",
       "      <td>2921.0</td>\n",
       "      <td>8158.0</td>\n",
       "      <td>1.0</td>\n",
       "    </tr>\n",
       "    <tr>\n",
       "      <th>a[3]</th>\n",
       "      <td>0.2000</td>\n",
       "      <td>0.0040</td>\n",
       "      <td>0.19</td>\n",
       "      <td>-0.120</td>\n",
       "      <td>0.2000</td>\n",
       "      <td>0.520</td>\n",
       "      <td>2390.0</td>\n",
       "      <td>6676.0</td>\n",
       "      <td>1.0</td>\n",
       "    </tr>\n",
       "    <tr>\n",
       "      <th>a[4]</th>\n",
       "      <td>-0.5400</td>\n",
       "      <td>0.0038</td>\n",
       "      <td>0.19</td>\n",
       "      <td>-0.860</td>\n",
       "      <td>-0.5400</td>\n",
       "      <td>-0.220</td>\n",
       "      <td>2646.0</td>\n",
       "      <td>7391.0</td>\n",
       "      <td>1.0</td>\n",
       "    </tr>\n",
       "    <tr>\n",
       "      <th>a[5]</th>\n",
       "      <td>0.8000</td>\n",
       "      <td>0.0037</td>\n",
       "      <td>0.20</td>\n",
       "      <td>0.460</td>\n",
       "      <td>0.8000</td>\n",
       "      <td>1.100</td>\n",
       "      <td>2796.0</td>\n",
       "      <td>7810.0</td>\n",
       "      <td>1.0</td>\n",
       "    </tr>\n",
       "    <tr>\n",
       "      <th>a[6]</th>\n",
       "      <td>0.4800</td>\n",
       "      <td>0.0036</td>\n",
       "      <td>0.20</td>\n",
       "      <td>0.150</td>\n",
       "      <td>0.4700</td>\n",
       "      <td>0.790</td>\n",
       "      <td>2900.0</td>\n",
       "      <td>8099.0</td>\n",
       "      <td>1.0</td>\n",
       "    </tr>\n",
       "    <tr>\n",
       "      <th>a[7]</th>\n",
       "      <td>0.1300</td>\n",
       "      <td>0.0036</td>\n",
       "      <td>0.19</td>\n",
       "      <td>-0.190</td>\n",
       "      <td>0.1300</td>\n",
       "      <td>0.450</td>\n",
       "      <td>2778.0</td>\n",
       "      <td>7760.0</td>\n",
       "      <td>1.0</td>\n",
       "    </tr>\n",
       "    <tr>\n",
       "      <th>a[8]</th>\n",
       "      <td>-0.6600</td>\n",
       "      <td>0.0036</td>\n",
       "      <td>0.20</td>\n",
       "      <td>-0.990</td>\n",
       "      <td>-0.6500</td>\n",
       "      <td>-0.320</td>\n",
       "      <td>3176.0</td>\n",
       "      <td>8871.0</td>\n",
       "      <td>1.0</td>\n",
       "    </tr>\n",
       "    <tr>\n",
       "      <th>a[9]</th>\n",
       "      <td>-0.3500</td>\n",
       "      <td>0.0037</td>\n",
       "      <td>0.20</td>\n",
       "      <td>-0.670</td>\n",
       "      <td>-0.3500</td>\n",
       "      <td>-0.021</td>\n",
       "      <td>2819.0</td>\n",
       "      <td>7874.0</td>\n",
       "      <td>1.0</td>\n",
       "    </tr>\n",
       "    <tr>\n",
       "      <th>w[1]</th>\n",
       "      <td>0.1200</td>\n",
       "      <td>0.0042</td>\n",
       "      <td>0.26</td>\n",
       "      <td>-0.300</td>\n",
       "      <td>0.1200</td>\n",
       "      <td>0.530</td>\n",
       "      <td>3828.0</td>\n",
       "      <td>10693.0</td>\n",
       "      <td>1.0</td>\n",
       "    </tr>\n",
       "    <tr>\n",
       "      <th>w[2]</th>\n",
       "      <td>0.0880</td>\n",
       "      <td>0.0041</td>\n",
       "      <td>0.25</td>\n",
       "      <td>-0.340</td>\n",
       "      <td>0.0900</td>\n",
       "      <td>0.490</td>\n",
       "      <td>3726.0</td>\n",
       "      <td>10408.0</td>\n",
       "      <td>1.0</td>\n",
       "    </tr>\n",
       "    <tr>\n",
       "      <th>w[3]</th>\n",
       "      <td>0.2300</td>\n",
       "      <td>0.0042</td>\n",
       "      <td>0.26</td>\n",
       "      <td>-0.200</td>\n",
       "      <td>0.2300</td>\n",
       "      <td>0.660</td>\n",
       "      <td>3870.0</td>\n",
       "      <td>10811.0</td>\n",
       "      <td>1.0</td>\n",
       "    </tr>\n",
       "    <tr>\n",
       "      <th>w[4]</th>\n",
       "      <td>0.4700</td>\n",
       "      <td>0.0040</td>\n",
       "      <td>0.25</td>\n",
       "      <td>0.058</td>\n",
       "      <td>0.4700</td>\n",
       "      <td>0.880</td>\n",
       "      <td>3887.0</td>\n",
       "      <td>10858.0</td>\n",
       "      <td>1.0</td>\n",
       "    </tr>\n",
       "    <tr>\n",
       "      <th>w[5]</th>\n",
       "      <td>-0.1000</td>\n",
       "      <td>0.0044</td>\n",
       "      <td>0.26</td>\n",
       "      <td>-0.530</td>\n",
       "      <td>-0.1000</td>\n",
       "      <td>0.320</td>\n",
       "      <td>3426.0</td>\n",
       "      <td>9570.0</td>\n",
       "      <td>1.0</td>\n",
       "    </tr>\n",
       "    <tr>\n",
       "      <th>w[6]</th>\n",
       "      <td>-0.3100</td>\n",
       "      <td>0.0042</td>\n",
       "      <td>0.26</td>\n",
       "      <td>-0.730</td>\n",
       "      <td>-0.3200</td>\n",
       "      <td>0.120</td>\n",
       "      <td>3723.0</td>\n",
       "      <td>10400.0</td>\n",
       "      <td>1.0</td>\n",
       "    </tr>\n",
       "    <tr>\n",
       "      <th>w[7]</th>\n",
       "      <td>0.2500</td>\n",
       "      <td>0.0041</td>\n",
       "      <td>0.26</td>\n",
       "      <td>-0.180</td>\n",
       "      <td>0.2400</td>\n",
       "      <td>0.660</td>\n",
       "      <td>4028.0</td>\n",
       "      <td>11252.0</td>\n",
       "      <td>1.0</td>\n",
       "    </tr>\n",
       "    <tr>\n",
       "      <th>w[8]</th>\n",
       "      <td>0.2200</td>\n",
       "      <td>0.0044</td>\n",
       "      <td>0.26</td>\n",
       "      <td>-0.200</td>\n",
       "      <td>0.2200</td>\n",
       "      <td>0.640</td>\n",
       "      <td>3384.0</td>\n",
       "      <td>9454.0</td>\n",
       "      <td>1.0</td>\n",
       "    </tr>\n",
       "    <tr>\n",
       "      <th>w[9]</th>\n",
       "      <td>0.0750</td>\n",
       "      <td>0.0041</td>\n",
       "      <td>0.25</td>\n",
       "      <td>-0.340</td>\n",
       "      <td>0.0770</td>\n",
       "      <td>0.500</td>\n",
       "      <td>3809.0</td>\n",
       "      <td>10641.0</td>\n",
       "      <td>1.0</td>\n",
       "    </tr>\n",
       "    <tr>\n",
       "      <th>w[10]</th>\n",
       "      <td>0.1000</td>\n",
       "      <td>0.0040</td>\n",
       "      <td>0.26</td>\n",
       "      <td>-0.320</td>\n",
       "      <td>0.1100</td>\n",
       "      <td>0.520</td>\n",
       "      <td>4143.0</td>\n",
       "      <td>11572.0</td>\n",
       "      <td>1.0</td>\n",
       "    </tr>\n",
       "    <tr>\n",
       "      <th>w[11]</th>\n",
       "      <td>-0.0067</td>\n",
       "      <td>0.0042</td>\n",
       "      <td>0.26</td>\n",
       "      <td>-0.440</td>\n",
       "      <td>-0.0026</td>\n",
       "      <td>0.410</td>\n",
       "      <td>3716.0</td>\n",
       "      <td>10379.0</td>\n",
       "      <td>1.0</td>\n",
       "    </tr>\n",
       "    <tr>\n",
       "      <th>w[12]</th>\n",
       "      <td>-0.0260</td>\n",
       "      <td>0.0044</td>\n",
       "      <td>0.26</td>\n",
       "      <td>-0.440</td>\n",
       "      <td>-0.0310</td>\n",
       "      <td>0.390</td>\n",
       "      <td>3377.0</td>\n",
       "      <td>9432.0</td>\n",
       "      <td>1.0</td>\n",
       "    </tr>\n",
       "    <tr>\n",
       "      <th>w[13]</th>\n",
       "      <td>-0.0900</td>\n",
       "      <td>0.0042</td>\n",
       "      <td>0.26</td>\n",
       "      <td>-0.520</td>\n",
       "      <td>-0.0900</td>\n",
       "      <td>0.340</td>\n",
       "      <td>3765.0</td>\n",
       "      <td>10518.0</td>\n",
       "      <td>1.0</td>\n",
       "    </tr>\n",
       "    <tr>\n",
       "      <th>w[14]</th>\n",
       "      <td>0.0094</td>\n",
       "      <td>0.0039</td>\n",
       "      <td>0.26</td>\n",
       "      <td>-0.420</td>\n",
       "      <td>0.0058</td>\n",
       "      <td>0.440</td>\n",
       "      <td>4304.0</td>\n",
       "      <td>12023.0</td>\n",
       "      <td>1.0</td>\n",
       "    </tr>\n",
       "    <tr>\n",
       "      <th>w[15]</th>\n",
       "      <td>-0.1800</td>\n",
       "      <td>0.0041</td>\n",
       "      <td>0.26</td>\n",
       "      <td>-0.610</td>\n",
       "      <td>-0.1800</td>\n",
       "      <td>0.240</td>\n",
       "      <td>3853.0</td>\n",
       "      <td>10764.0</td>\n",
       "      <td>1.0</td>\n",
       "    </tr>\n",
       "    <tr>\n",
       "      <th>w[16]</th>\n",
       "      <td>-0.1700</td>\n",
       "      <td>0.0045</td>\n",
       "      <td>0.26</td>\n",
       "      <td>-0.610</td>\n",
       "      <td>-0.1700</td>\n",
       "      <td>0.260</td>\n",
       "      <td>3425.0</td>\n",
       "      <td>9568.0</td>\n",
       "      <td>1.0</td>\n",
       "    </tr>\n",
       "    <tr>\n",
       "      <th>w[17]</th>\n",
       "      <td>-0.1100</td>\n",
       "      <td>0.0039</td>\n",
       "      <td>0.26</td>\n",
       "      <td>-0.530</td>\n",
       "      <td>-0.1100</td>\n",
       "      <td>0.310</td>\n",
       "      <td>4349.0</td>\n",
       "      <td>12148.0</td>\n",
       "      <td>1.0</td>\n",
       "    </tr>\n",
       "    <tr>\n",
       "      <th>w[18]</th>\n",
       "      <td>-0.7200</td>\n",
       "      <td>0.0044</td>\n",
       "      <td>0.26</td>\n",
       "      <td>-1.200</td>\n",
       "      <td>-0.7200</td>\n",
       "      <td>-0.290</td>\n",
       "      <td>3647.0</td>\n",
       "      <td>10187.0</td>\n",
       "      <td>1.0</td>\n",
       "    </tr>\n",
       "    <tr>\n",
       "      <th>w[19]</th>\n",
       "      <td>-0.1400</td>\n",
       "      <td>0.0039</td>\n",
       "      <td>0.25</td>\n",
       "      <td>-0.540</td>\n",
       "      <td>-0.1300</td>\n",
       "      <td>0.290</td>\n",
       "      <td>4228.0</td>\n",
       "      <td>11810.0</td>\n",
       "      <td>1.0</td>\n",
       "    </tr>\n",
       "    <tr>\n",
       "      <th>w[20]</th>\n",
       "      <td>0.3300</td>\n",
       "      <td>0.0039</td>\n",
       "      <td>0.25</td>\n",
       "      <td>-0.087</td>\n",
       "      <td>0.3300</td>\n",
       "      <td>0.740</td>\n",
       "      <td>4110.0</td>\n",
       "      <td>11480.0</td>\n",
       "      <td>1.0</td>\n",
       "    </tr>\n",
       "    <tr>\n",
       "      <th>sigma</th>\n",
       "      <td>0.8500</td>\n",
       "      <td>0.0000</td>\n",
       "      <td>0.05</td>\n",
       "      <td>0.770</td>\n",
       "      <td>0.8500</td>\n",
       "      <td>0.930</td>\n",
       "      <td>3974.3</td>\n",
       "      <td>11101.4</td>\n",
       "      <td>1.0</td>\n",
       "    </tr>\n",
       "  </tbody>\n",
       "</table>\n",
       "</div>"
      ],
      "text/plain": [
       "          Mean    MCSE  StdDev      5%      50%     95%   N_Eff  N_Eff/s  \\\n",
       "name                                                                       \n",
       "lp__  -70.0000  0.1100    4.10 -78.000 -70.0000 -64.000  1500.0   4100.0   \n",
       "a[1]   -0.2800  0.0036    0.19  -0.600  -0.2900   0.032  2841.0   7936.0   \n",
       "a[2]    0.2100  0.0037    0.20  -0.110   0.2100   0.530  2921.0   8158.0   \n",
       "a[3]    0.2000  0.0040    0.19  -0.120   0.2000   0.520  2390.0   6676.0   \n",
       "a[4]   -0.5400  0.0038    0.19  -0.860  -0.5400  -0.220  2646.0   7391.0   \n",
       "a[5]    0.8000  0.0037    0.20   0.460   0.8000   1.100  2796.0   7810.0   \n",
       "a[6]    0.4800  0.0036    0.20   0.150   0.4700   0.790  2900.0   8099.0   \n",
       "a[7]    0.1300  0.0036    0.19  -0.190   0.1300   0.450  2778.0   7760.0   \n",
       "a[8]   -0.6600  0.0036    0.20  -0.990  -0.6500  -0.320  3176.0   8871.0   \n",
       "a[9]   -0.3500  0.0037    0.20  -0.670  -0.3500  -0.021  2819.0   7874.0   \n",
       "w[1]    0.1200  0.0042    0.26  -0.300   0.1200   0.530  3828.0  10693.0   \n",
       "w[2]    0.0880  0.0041    0.25  -0.340   0.0900   0.490  3726.0  10408.0   \n",
       "w[3]    0.2300  0.0042    0.26  -0.200   0.2300   0.660  3870.0  10811.0   \n",
       "w[4]    0.4700  0.0040    0.25   0.058   0.4700   0.880  3887.0  10858.0   \n",
       "w[5]   -0.1000  0.0044    0.26  -0.530  -0.1000   0.320  3426.0   9570.0   \n",
       "w[6]   -0.3100  0.0042    0.26  -0.730  -0.3200   0.120  3723.0  10400.0   \n",
       "w[7]    0.2500  0.0041    0.26  -0.180   0.2400   0.660  4028.0  11252.0   \n",
       "w[8]    0.2200  0.0044    0.26  -0.200   0.2200   0.640  3384.0   9454.0   \n",
       "w[9]    0.0750  0.0041    0.25  -0.340   0.0770   0.500  3809.0  10641.0   \n",
       "w[10]   0.1000  0.0040    0.26  -0.320   0.1100   0.520  4143.0  11572.0   \n",
       "w[11]  -0.0067  0.0042    0.26  -0.440  -0.0026   0.410  3716.0  10379.0   \n",
       "w[12]  -0.0260  0.0044    0.26  -0.440  -0.0310   0.390  3377.0   9432.0   \n",
       "w[13]  -0.0900  0.0042    0.26  -0.520  -0.0900   0.340  3765.0  10518.0   \n",
       "w[14]   0.0094  0.0039    0.26  -0.420   0.0058   0.440  4304.0  12023.0   \n",
       "w[15]  -0.1800  0.0041    0.26  -0.610  -0.1800   0.240  3853.0  10764.0   \n",
       "w[16]  -0.1700  0.0045    0.26  -0.610  -0.1700   0.260  3425.0   9568.0   \n",
       "w[17]  -0.1100  0.0039    0.26  -0.530  -0.1100   0.310  4349.0  12148.0   \n",
       "w[18]  -0.7200  0.0044    0.26  -1.200  -0.7200  -0.290  3647.0  10187.0   \n",
       "w[19]  -0.1400  0.0039    0.25  -0.540  -0.1300   0.290  4228.0  11810.0   \n",
       "w[20]   0.3300  0.0039    0.25  -0.087   0.3300   0.740  4110.0  11480.0   \n",
       "sigma   0.8500  0.0000    0.05   0.770   0.8500   0.930  3974.3  11101.4   \n",
       "\n",
       "       R_hat  \n",
       "name          \n",
       "lp__     1.0  \n",
       "a[1]     1.0  \n",
       "a[2]     1.0  \n",
       "a[3]     1.0  \n",
       "a[4]     1.0  \n",
       "a[5]     1.0  \n",
       "a[6]     1.0  \n",
       "a[7]     1.0  \n",
       "a[8]     1.0  \n",
       "a[9]     1.0  \n",
       "w[1]     1.0  \n",
       "w[2]     1.0  \n",
       "w[3]     1.0  \n",
       "w[4]     1.0  \n",
       "w[5]     1.0  \n",
       "w[6]     1.0  \n",
       "w[7]     1.0  \n",
       "w[8]     1.0  \n",
       "w[9]     1.0  \n",
       "w[10]    1.0  \n",
       "w[11]    1.0  \n",
       "w[12]    1.0  \n",
       "w[13]    1.0  \n",
       "w[14]    1.0  \n",
       "w[15]    1.0  \n",
       "w[16]    1.0  \n",
       "w[17]    1.0  \n",
       "w[18]    1.0  \n",
       "w[19]    1.0  \n",
       "w[20]    1.0  \n",
       "sigma    1.0  "
      ]
     },
     "execution_count": 7,
     "metadata": {},
     "output_type": "execute_result"
    }
   ],
   "source": [
    "stan_fit.summary()"
   ]
  },
  {
   "cell_type": "code",
   "execution_count": 8,
   "metadata": {},
   "outputs": [
    {
     "data": {
      "image/png": "[encoded data removed]",
      "text/plain": [
       "<Figure size 400x600 with 1 Axes>"
      ]
     },
     "metadata": {},
     "output_type": "display_data"
    },
    {
     "data": {
      "text/plain": [
       "<ggplot: (8771808905198)>"
      ]
     },
     "execution_count": 8,
     "metadata": {},
     "output_type": "execute_result"
    }
   ],
   "source": [
    "atts = ['a', 'w', 'sigma']\n",
    "df = stan_fit.draws_pd(vars=atts)\n",
    "im = pd.melt(df, value_vars=df.columns)\n",
    "\n",
    "(\n",
    "    ggplot(im)\n",
    "    + aes(x='variable', y='value')\n",
    "    + coord_flip()\n",
    "    + geom_boxplot(outlier_alpha=0.1)\n",
    "    + theme_light()\n",
    "    + theme(figure_size=(4, 6))\n",
    ")"
   ]
  },
  {
   "cell_type": "markdown",
   "metadata": {
    "colab_type": "text",
    "id": "-qzz8ny_PExg"
   },
   "source": [
    "The `a` parameters are the judges. Each represents an average deviation of the scores. So judges with lower values are harsher on average. Judges with higher values liked the wines more on average. There is some noticeable variation here. It is fairly easy to tell the judges apart. The `w` parameters are the wines. Each represents an average score across all judges. Except for wine 18 (a New Jersey red I think), there isn't that much variation. These are good wines, after all. Overall, there is more variation from judge than from wine.\n",
    "\n",
    "Index starts at zero in python so all references from now on in the original text to specific parameters or individuals, such as wine 18 in the previous text refer to one integer less in the results in `numpyro`. So in this case wine 18 is actually wine 17, because there is a wine 0. It's pretty clear just having a look at the foresplot but we better keep that in mind because in other occasions this may be a cause for confusion."
   ]
  },
  {
   "cell_type": "markdown",
   "metadata": {
    "colab_type": "text",
    "id": "KKGeGWYXPExg"
   },
   "source": [
    "## Exercise 2"
   ]
  },
  {
   "cell_type": "markdown",
   "metadata": {
    "colab_type": "text",
    "id": "2IIYRlWaPExh"
   },
   "source": [
    "> Now consider three features of the wines and judges:\n",
    "\n",
    "> 1. `flight`: Whether the wine is red or white.\n",
    "2. `win_usa`: Indicator variable for American wines.\n",
    "3. `jdg_usa`: Indicator variable for American judges.\n",
    "\n",
    "> Use indicator or index variables to model the influence of these features on the scores. Omit the individual judge and wine index variables from Problem (1) Do not include interaction effects yet. Justify your priors, and be sure to check the chains. What do you conclude about the differences among the wines and judges? Try to relate the results to the inferences in Problem (1)."
   ]
  },
  {
   "cell_type": "markdown",
   "metadata": {
    "colab_type": "text",
    "id": "SMiWWxKoPExh"
   },
   "source": [
    "By \"indicator\" he means using a unique coefficient per variable. By \"index\" he means what in Machine Learning we just call one-hot-encoding variables. We divide each categorical variable in as many variables as categories with ones and zeros so we end up with many more variables and parameters."
   ]
  },
  {
   "cell_type": "markdown",
   "metadata": {
    "colab_type": "text",
    "id": "tw6Jco48PExi"
   },
   "source": [
    "### Indicator variables version"
   ]
  },
  {
   "cell_type": "markdown",
   "metadata": {
    "colab_type": "text",
    "id": "k4uqvH7NPExj"
   },
   "source": [
    "The easiest way to code the data is to use indicator variables. Let's look at that approach first. I'll do an index variable version next. I'll use the three indicator variables `W` (American wine), `J` (American judge), and `R` (red wine).\n",
    "\n",
    "The model structure is just a linear model with an ordinary intercept. I'll put a relatively tight prior on the intercept, since it must be near zero (centered outcome). What about the coefficients for the indicator variables? Let's pretend we haven't already seen the results from Problem 1, there aren't any big wine differences to find there. Without that cheating foresight, we should consider what the most extreme effect could be. How big could the difference between American and French wines be? Could it be a full standard deviation? If so, then maybe a Normal(0,0.5) prior makes sense, since they place a full standard deviation difference out in the tails of the prior. I'd personally be inclined to something even tighter, so that it regularizes more. But let's go with these wide priors, which nevertheless stay within the outcome space. It would make even more sense to put a tighter prior on the difference between red and white wines, on average they should be the no different, because judges only compare within flights. Here's the model:"
   ]
  },
  {
   "cell_type": "code",
   "execution_count": 9,
   "metadata": {},
   "outputs": [
    {
     "name": "stderr",
     "output_type": "stream",
     "text": [
      "INFO:cmdstanpy:compiling stan file /home/jovyan/work/statret/stn/week05_02a.stan to exe file /home/jovyan/work/statret/stn/week05_02a\n",
      "INFO:cmdstanpy:compiled model executable: /home/jovyan/work/statret/stn/week05_02a\n",
      "INFO:cmdstanpy:found newer exe file, not recompiling\n"
     ]
    }
   ],
   "source": [
    "model = '''\n",
    "\n",
    "data {\n",
    "    int n;\n",
    "    vector[n] win_usa;\n",
    "    vector[n] jdg_usa;\n",
    "    vector[n] flight;\n",
    "    vector[n] score;\n",
    "}\n",
    "\n",
    "parameters {\n",
    "    real a;\n",
    "    real bW;\n",
    "    real bJ;\n",
    "    real bR;\n",
    "    real sigma;\n",
    "}\n",
    "\n",
    "model {\n",
    "    // priors\n",
    "    a ~ normal(0, 0.2);\n",
    "    bW ~ normal(0, 0.5);\n",
    "    bJ ~ normal(0, 0.5);\n",
    "    bR ~ normal(0, 0.5);\n",
    "    sigma ~ exponential(1);\n",
    "    // likelihood\n",
    "    vector[n] mu;\n",
    "    mu = a + bW*win_usa + bJ*jdg_usa + bR*flight;\n",
    "    score ~ normal(mu, sigma);\n",
    "}\n",
    "\n",
    "'''\n",
    "\n",
    "stan_file = './stn/week05_02a.stan'\n",
    "with open(stan_file, 'w') as f:\n",
    "    print(model, file=f)\n",
    "    \n",
    "model_2a = CmdStanModel(stan_file=stan_file)\n",
    "model_2a.compile()"
   ]
  },
  {
   "cell_type": "code",
   "execution_count": 10,
   "metadata": {},
   "outputs": [
    {
     "name": "stderr",
     "output_type": "stream",
     "text": [
      "INFO:cmdstanpy:CmdStan start procesing\n"
     ]
    },
    {
     "data": {
      "application/vnd.jupyter.widget-view+json": {
       "model_id": "58d94234eef146789d83db4647ee8d5f",
       "version_major": 2,
       "version_minor": 0
      },
      "text/plain": [
       "chain 1 |          | 00:00 Status"
      ]
     },
     "metadata": {},
     "output_type": "display_data"
    },
    {
     "data": {
      "application/vnd.jupyter.widget-view+json": {
       "model_id": "45a4cb6998c342eb8862aea593ac55e7",
       "version_major": 2,
       "version_minor": 0
      },
      "text/plain": [
       "chain 2 |          | 00:00 Status"
      ]
     },
     "metadata": {},
     "output_type": "display_data"
    },
    {
     "data": {
      "application/vnd.jupyter.widget-view+json": {
       "model_id": "af1eb088451f41c2a8e4fd8a24a3a30b",
       "version_major": 2,
       "version_minor": 0
      },
      "text/plain": [
       "chain 3 |          | 00:00 Status"
      ]
     },
     "metadata": {},
     "output_type": "display_data"
    },
    {
     "data": {
      "application/vnd.jupyter.widget-view+json": {
       "model_id": "121129b5daaf49c180c373d57da881d7",
       "version_major": 2,
       "version_minor": 0
      },
      "text/plain": [
       "chain 4 |          | 00:00 Status"
      ]
     },
     "metadata": {},
     "output_type": "display_data"
    },
    {
     "name": "stdout",
     "output_type": "stream",
     "text": [
      "                                                                                                                                                                                                                                                                                                                                "
     ]
    },
    {
     "name": "stderr",
     "output_type": "stream",
     "text": [
      "INFO:cmdstanpy:CmdStan done processing.\n"
     ]
    },
    {
     "name": "stdout",
     "output_type": "stream",
     "text": [
      "\n",
      "CPU times: user 214 ms, sys: 78.4 ms, total: 293 ms\n",
      "Wall time: 604 ms\n"
     ]
    }
   ],
   "source": [
    "%%time\n",
    "data = d[['score', 'jdg_usa', 'win_usa', 'flight']].to_dict(orient='list')\n",
    "data['n'] = len(data['score'])\n",
    "fit_2a = model_2a.sample(data=data, chains=4)"
   ]
  },
  {
   "cell_type": "code",
   "execution_count": 11,
   "metadata": {},
   "outputs": [
    {
     "data": {
      "text/html": [
       "<div>\n",
       "<style scoped>\n",
       "    .dataframe tbody tr th:only-of-type {\n",
       "        vertical-align: middle;\n",
       "    }\n",
       "\n",
       "    .dataframe tbody tr th {\n",
       "        vertical-align: top;\n",
       "    }\n",
       "\n",
       "    .dataframe thead th {\n",
       "        text-align: right;\n",
       "    }\n",
       "</style>\n",
       "<table border=\"1\" class=\"dataframe\">\n",
       "  <thead>\n",
       "    <tr style=\"text-align: right;\">\n",
       "      <th></th>\n",
       "      <th>Mean</th>\n",
       "      <th>MCSE</th>\n",
       "      <th>StdDev</th>\n",
       "      <th>5%</th>\n",
       "      <th>50%</th>\n",
       "      <th>95%</th>\n",
       "      <th>N_Eff</th>\n",
       "      <th>N_Eff/s</th>\n",
       "      <th>R_hat</th>\n",
       "    </tr>\n",
       "    <tr>\n",
       "      <th>name</th>\n",
       "      <th></th>\n",
       "      <th></th>\n",
       "      <th></th>\n",
       "      <th></th>\n",
       "      <th></th>\n",
       "      <th></th>\n",
       "      <th></th>\n",
       "      <th></th>\n",
       "      <th></th>\n",
       "    </tr>\n",
       "  </thead>\n",
       "  <tbody>\n",
       "    <tr>\n",
       "      <th>lp__</th>\n",
       "      <td>-91.00000</td>\n",
       "      <td>0.0410</td>\n",
       "      <td>1.700</td>\n",
       "      <td>-94.000</td>\n",
       "      <td>-91.0000</td>\n",
       "      <td>-89.000</td>\n",
       "      <td>1700.0</td>\n",
       "      <td>2200.0</td>\n",
       "      <td>1.0</td>\n",
       "    </tr>\n",
       "    <tr>\n",
       "      <th>a</th>\n",
       "      <td>-0.01300</td>\n",
       "      <td>0.0025</td>\n",
       "      <td>0.130</td>\n",
       "      <td>-0.220</td>\n",
       "      <td>-0.0150</td>\n",
       "      <td>0.200</td>\n",
       "      <td>2600.0</td>\n",
       "      <td>3300.0</td>\n",
       "      <td>1.0</td>\n",
       "    </tr>\n",
       "    <tr>\n",
       "      <th>bW</th>\n",
       "      <td>-0.18000</td>\n",
       "      <td>0.0023</td>\n",
       "      <td>0.140</td>\n",
       "      <td>-0.400</td>\n",
       "      <td>-0.1800</td>\n",
       "      <td>0.044</td>\n",
       "      <td>3400.0</td>\n",
       "      <td>4400.0</td>\n",
       "      <td>1.0</td>\n",
       "    </tr>\n",
       "    <tr>\n",
       "      <th>bJ</th>\n",
       "      <td>0.22000</td>\n",
       "      <td>0.0024</td>\n",
       "      <td>0.140</td>\n",
       "      <td>-0.014</td>\n",
       "      <td>0.2200</td>\n",
       "      <td>0.450</td>\n",
       "      <td>3500.0</td>\n",
       "      <td>4500.0</td>\n",
       "      <td>1.0</td>\n",
       "    </tr>\n",
       "    <tr>\n",
       "      <th>bR</th>\n",
       "      <td>-0.00014</td>\n",
       "      <td>0.0025</td>\n",
       "      <td>0.140</td>\n",
       "      <td>-0.230</td>\n",
       "      <td>0.0018</td>\n",
       "      <td>0.220</td>\n",
       "      <td>3100.0</td>\n",
       "      <td>4000.0</td>\n",
       "      <td>1.0</td>\n",
       "    </tr>\n",
       "    <tr>\n",
       "      <th>sigma</th>\n",
       "      <td>1.00000</td>\n",
       "      <td>0.0009</td>\n",
       "      <td>0.054</td>\n",
       "      <td>0.920</td>\n",
       "      <td>1.0000</td>\n",
       "      <td>1.100</td>\n",
       "      <td>3500.0</td>\n",
       "      <td>4500.0</td>\n",
       "      <td>1.0</td>\n",
       "    </tr>\n",
       "  </tbody>\n",
       "</table>\n",
       "</div>"
      ],
      "text/plain": [
       "           Mean    MCSE  StdDev      5%      50%     95%   N_Eff  N_Eff/s  \\\n",
       "name                                                                        \n",
       "lp__  -91.00000  0.0410   1.700 -94.000 -91.0000 -89.000  1700.0   2200.0   \n",
       "a      -0.01300  0.0025   0.130  -0.220  -0.0150   0.200  2600.0   3300.0   \n",
       "bW     -0.18000  0.0023   0.140  -0.400  -0.1800   0.044  3400.0   4400.0   \n",
       "bJ      0.22000  0.0024   0.140  -0.014   0.2200   0.450  3500.0   4500.0   \n",
       "bR     -0.00014  0.0025   0.140  -0.230   0.0018   0.220  3100.0   4000.0   \n",
       "sigma   1.00000  0.0009   0.054   0.920   1.0000   1.100  3500.0   4500.0   \n",
       "\n",
       "       R_hat  \n",
       "name          \n",
       "lp__     1.0  \n",
       "a        1.0  \n",
       "bW       1.0  \n",
       "bJ       1.0  \n",
       "bR       1.0  \n",
       "sigma    1.0  "
      ]
     },
     "execution_count": 11,
     "metadata": {},
     "output_type": "execute_result"
    }
   ],
   "source": [
    "fit_2a.summary()"
   ]
  },
  {
   "cell_type": "markdown",
   "metadata": {
    "colab_type": "text",
    "id": "3PA_ALTfPExt"
   },
   "source": [
    "As expected, red and wines are on average the same. `bR` is right on top of zero. American judges seem to be more on average slightly more generous with ratings, `bJ` is slightly but reliably above zero. American wines have slightly lower average ratings than French wines, `bW` is mostly below zero, but not very large in absolute size."
   ]
  },
  {
   "cell_type": "markdown",
   "metadata": {
    "colab_type": "text",
    "id": "n8jX7j5YPExu"
   },
   "source": [
    "### Index variables version"
   ]
  },
  {
   "cell_type": "markdown",
   "metadata": {
    "colab_type": "text",
    "id": "bHBAiE2OPExu"
   },
   "source": [
    "Okay, now for an index variable version. The thing about index variables is that you can easily end up with more parameters than in an equivalent indicator variable model. But it's still the same posterior distribution. You can convert from one to the other, if the priors are also equivalent. We'll need three index variables."
   ]
  },
  {
   "cell_type": "code",
   "execution_count": 12,
   "metadata": {},
   "outputs": [
    {
     "name": "stderr",
     "output_type": "stream",
     "text": [
      "INFO:cmdstanpy:compiling stan file /home/jovyan/work/statret/stn/week05_02b.stan to exe file /home/jovyan/work/statret/stn/week05_02b\n",
      "INFO:cmdstanpy:compiled model executable: /home/jovyan/work/statret/stn/week05_02b\n",
      "INFO:cmdstanpy:found newer exe file, not recompiling\n"
     ]
    }
   ],
   "source": [
    "nJ = d.jdg_usa.unique().size\n",
    "nW = d.win_usa.unique().size\n",
    "nR = d.flight.unique().size\n",
    "\n",
    "model = '''\n",
    "\n",
    "data {\n",
    "    int n;\n",
    "    int jdg_usa[n];\n",
    "    int win_usa[n];\n",
    "    int flight[n];\n",
    "    vector[n] score;\n",
    "}\n",
    "\n",
    "parameters {\n",
    "    real j[%s];\n",
    "    real w[%s];\n",
    "    real r[%s];\n",
    "    real sigma;\n",
    "}\n",
    "\n",
    "model {\n",
    "    // priors\n",
    "    j ~ normal(0, 0.5);\n",
    "    w ~ normal(0, 0.5);\n",
    "    r ~ normal(0, 0.5);\n",
    "    sigma ~ exponential(1);\n",
    "    // likelihood\n",
    "    vector[n] mu;\n",
    "    for (i in 1:n) {\n",
    "        mu[i] = w[win_usa[i]] + j[jdg_usa[i]] + r[flight[i]];\n",
    "    }\n",
    "    score ~ normal(mu, sigma);\n",
    "}\n",
    "\n",
    "''' % (nJ, nW, nR)\n",
    "\n",
    "stan_file = './stn/week05_02b.stan'\n",
    "with open(stan_file, 'w') as f:\n",
    "    print(model, file=f)\n",
    "    \n",
    "model_2b = CmdStanModel(stan_file=stan_file)\n",
    "model_2b.compile()"
   ]
  },
  {
   "cell_type": "code",
   "execution_count": 13,
   "metadata": {},
   "outputs": [
    {
     "name": "stderr",
     "output_type": "stream",
     "text": [
      "INFO:cmdstanpy:CmdStan start procesing\n"
     ]
    },
    {
     "data": {
      "application/vnd.jupyter.widget-view+json": {
       "model_id": "23559dafc2ea48999af34baf10ec7c12",
       "version_major": 2,
       "version_minor": 0
      },
      "text/plain": [
       "chain 1 |          | 00:00 Status"
      ]
     },
     "metadata": {},
     "output_type": "display_data"
    },
    {
     "data": {
      "application/vnd.jupyter.widget-view+json": {
       "model_id": "cf6318a8193b4ad68097bc205695a3ad",
       "version_major": 2,
       "version_minor": 0
      },
      "text/plain": [
       "chain 2 |          | 00:00 Status"
      ]
     },
     "metadata": {},
     "output_type": "display_data"
    },
    {
     "data": {
      "application/vnd.jupyter.widget-view+json": {
       "model_id": "1e52946a1f9a4edd9c8a89321b81fe49",
       "version_major": 2,
       "version_minor": 0
      },
      "text/plain": [
       "chain 3 |          | 00:00 Status"
      ]
     },
     "metadata": {},
     "output_type": "display_data"
    },
    {
     "data": {
      "application/vnd.jupyter.widget-view+json": {
       "model_id": "87c84afd64f945c5b622ebacd3131e5b",
       "version_major": 2,
       "version_minor": 0
      },
      "text/plain": [
       "chain 4 |          | 00:00 Status"
      ]
     },
     "metadata": {},
     "output_type": "display_data"
    },
    {
     "name": "stdout",
     "output_type": "stream",
     "text": [
      "                                                                                                                                                                                                                                                                                                                                "
     ]
    },
    {
     "name": "stderr",
     "output_type": "stream",
     "text": [
      "INFO:cmdstanpy:CmdStan done processing.\n"
     ]
    },
    {
     "name": "stdout",
     "output_type": "stream",
     "text": [
      "\n",
      "CPU times: user 206 ms, sys: 119 ms, total: 325 ms\n",
      "Wall time: 711 ms\n"
     ]
    }
   ],
   "source": [
    "%%time\n",
    "data = d[['score', 'jdg_usa', 'win_usa', 'flight']].copy()\n",
    "data.jdg_usa = data.jdg_usa + 1\n",
    "data.win_usa = data.win_usa + 1\n",
    "data.flight = data.flight + 1\n",
    "data = data.to_dict(orient='list')\n",
    "data['n'] = len(data['score'])\n",
    "fit_2b = model_2b.sample(data=data, chains=4)"
   ]
  },
  {
   "cell_type": "code",
   "execution_count": 14,
   "metadata": {},
   "outputs": [
    {
     "data": {
      "text/html": [
       "<div>\n",
       "<style scoped>\n",
       "    .dataframe tbody tr th:only-of-type {\n",
       "        vertical-align: middle;\n",
       "    }\n",
       "\n",
       "    .dataframe tbody tr th {\n",
       "        vertical-align: top;\n",
       "    }\n",
       "\n",
       "    .dataframe thead th {\n",
       "        text-align: right;\n",
       "    }\n",
       "</style>\n",
       "<table border=\"1\" class=\"dataframe\">\n",
       "  <thead>\n",
       "    <tr style=\"text-align: right;\">\n",
       "      <th></th>\n",
       "      <th>Mean</th>\n",
       "      <th>MCSE</th>\n",
       "      <th>StdDev</th>\n",
       "      <th>5%</th>\n",
       "      <th>50%</th>\n",
       "      <th>95%</th>\n",
       "      <th>N_Eff</th>\n",
       "      <th>N_Eff/s</th>\n",
       "      <th>R_hat</th>\n",
       "    </tr>\n",
       "    <tr>\n",
       "      <th>name</th>\n",
       "      <th></th>\n",
       "      <th></th>\n",
       "      <th></th>\n",
       "      <th></th>\n",
       "      <th></th>\n",
       "      <th></th>\n",
       "      <th></th>\n",
       "      <th></th>\n",
       "      <th></th>\n",
       "    </tr>\n",
       "  </thead>\n",
       "  <tbody>\n",
       "    <tr>\n",
       "      <th>lp__</th>\n",
       "      <td>-92.0000</td>\n",
       "      <td>0.0490</td>\n",
       "      <td>1.90</td>\n",
       "      <td>-96.00</td>\n",
       "      <td>-92.0000</td>\n",
       "      <td>-89.00</td>\n",
       "      <td>1500.0</td>\n",
       "      <td>1700.0</td>\n",
       "      <td>1.0</td>\n",
       "    </tr>\n",
       "    <tr>\n",
       "      <th>j[1]</th>\n",
       "      <td>-0.1200</td>\n",
       "      <td>0.0072</td>\n",
       "      <td>0.30</td>\n",
       "      <td>-0.60</td>\n",
       "      <td>-0.1200</td>\n",
       "      <td>0.38</td>\n",
       "      <td>1692.0</td>\n",
       "      <td>1912.0</td>\n",
       "      <td>1.0</td>\n",
       "    </tr>\n",
       "    <tr>\n",
       "      <th>j[2]</th>\n",
       "      <td>0.1200</td>\n",
       "      <td>0.0073</td>\n",
       "      <td>0.29</td>\n",
       "      <td>-0.37</td>\n",
       "      <td>0.1200</td>\n",
       "      <td>0.61</td>\n",
       "      <td>1618.0</td>\n",
       "      <td>1828.0</td>\n",
       "      <td>1.0</td>\n",
       "    </tr>\n",
       "    <tr>\n",
       "      <th>w[1]</th>\n",
       "      <td>0.0880</td>\n",
       "      <td>0.0077</td>\n",
       "      <td>0.30</td>\n",
       "      <td>-0.42</td>\n",
       "      <td>0.0880</td>\n",
       "      <td>0.58</td>\n",
       "      <td>1560.0</td>\n",
       "      <td>1762.0</td>\n",
       "      <td>1.0</td>\n",
       "    </tr>\n",
       "    <tr>\n",
       "      <th>w[2]</th>\n",
       "      <td>-0.0960</td>\n",
       "      <td>0.0079</td>\n",
       "      <td>0.30</td>\n",
       "      <td>-0.60</td>\n",
       "      <td>-0.0970</td>\n",
       "      <td>0.40</td>\n",
       "      <td>1501.0</td>\n",
       "      <td>1696.0</td>\n",
       "      <td>1.0</td>\n",
       "    </tr>\n",
       "    <tr>\n",
       "      <th>r[1]</th>\n",
       "      <td>0.0022</td>\n",
       "      <td>0.0075</td>\n",
       "      <td>0.29</td>\n",
       "      <td>-0.48</td>\n",
       "      <td>-0.0018</td>\n",
       "      <td>0.49</td>\n",
       "      <td>1545.0</td>\n",
       "      <td>1746.0</td>\n",
       "      <td>1.0</td>\n",
       "    </tr>\n",
       "    <tr>\n",
       "      <th>r[2]</th>\n",
       "      <td>0.0110</td>\n",
       "      <td>0.0073</td>\n",
       "      <td>0.29</td>\n",
       "      <td>-0.47</td>\n",
       "      <td>0.0044</td>\n",
       "      <td>0.50</td>\n",
       "      <td>1600.0</td>\n",
       "      <td>1808.0</td>\n",
       "      <td>1.0</td>\n",
       "    </tr>\n",
       "    <tr>\n",
       "      <th>sigma</th>\n",
       "      <td>1.0000</td>\n",
       "      <td>0.0000</td>\n",
       "      <td>0.10</td>\n",
       "      <td>0.90</td>\n",
       "      <td>1.0000</td>\n",
       "      <td>1.10</td>\n",
       "      <td>2173.0</td>\n",
       "      <td>2455.3</td>\n",
       "      <td>1.0</td>\n",
       "    </tr>\n",
       "  </tbody>\n",
       "</table>\n",
       "</div>"
      ],
      "text/plain": [
       "          Mean    MCSE  StdDev     5%      50%    95%   N_Eff  N_Eff/s  R_hat\n",
       "name                                                                         \n",
       "lp__  -92.0000  0.0490    1.90 -96.00 -92.0000 -89.00  1500.0   1700.0    1.0\n",
       "j[1]   -0.1200  0.0072    0.30  -0.60  -0.1200   0.38  1692.0   1912.0    1.0\n",
       "j[2]    0.1200  0.0073    0.29  -0.37   0.1200   0.61  1618.0   1828.0    1.0\n",
       "w[1]    0.0880  0.0077    0.30  -0.42   0.0880   0.58  1560.0   1762.0    1.0\n",
       "w[2]   -0.0960  0.0079    0.30  -0.60  -0.0970   0.40  1501.0   1696.0    1.0\n",
       "r[1]    0.0022  0.0075    0.29  -0.48  -0.0018   0.49  1545.0   1746.0    1.0\n",
       "r[2]    0.0110  0.0073    0.29  -0.47   0.0044   0.50  1600.0   1808.0    1.0\n",
       "sigma   1.0000  0.0000    0.10   0.90   1.0000   1.10  2173.0   2455.3    1.0"
      ]
     },
     "execution_count": 14,
     "metadata": {},
     "output_type": "execute_result"
    }
   ],
   "source": [
    "fit_2b.summary()"
   ]
  },
  {
   "cell_type": "markdown",
   "metadata": {
    "colab_type": "text",
    "id": "AK4JHRHNPEx3"
   },
   "source": [
    "To see that this model is the same as the previous, let's compute contrasts. The contrast between American and French wines is:"
   ]
  },
  {
   "cell_type": "code",
   "execution_count": 15,
   "metadata": {},
   "outputs": [
    {
     "name": "stdout",
     "output_type": "stream",
     "text": [
      "mu=-0.18, std=0.15\n"
     ]
    }
   ],
   "source": [
    "ppc = fit_2b.draws_pd(vars='w')\n",
    "diff_w = ppc['w[2]'] - ppc['w[1]']\n",
    "print(f'mu={diff_w.mean():.2f}, std={diff_w.std():.2f}')"
   ]
  },
  {
   "cell_type": "markdown",
   "metadata": {
    "colab_type": "text",
    "id": "03zceh3kPEx6"
   },
   "source": [
    "That's almost exactly the same mean and standard deviation as `bW` in the first model. The other contrasts match as well. Something to notice about the two models is that the second one does sample less efficiently. The `n_eff` (`ess_mean` in ArviZ) values are lower. This isn't a problem, but it is a consequence of the higher correlations in the posterior, a result of the redundant parameterization. This is because really it is a difference that matters, and many combinations of two numbers can produce the same difference. But the priors keep this from ruining our inference. If you tried the same thing without priors, it would likely fall apart and return very large standard errors."
   ]
  },
  {
   "cell_type": "markdown",
   "metadata": {
    "colab_type": "text",
    "id": "DXKCtmExPEx7"
   },
   "source": [
    "## Exercise 3"
   ]
  },
  {
   "cell_type": "markdown",
   "metadata": {
    "colab_type": "text",
    "id": "q9VmLXmePEx7"
   },
   "source": [
    "> Now consider two-way interactions among the three features. You should end up with three different interaction terms in your model. These will be easier to build, if you use indicator variables. Again, justify your priors, and be sure to check the chains. Explain what each interaction means. Be sure to interpret the model's predictions on the outcome scale (mu, the expected score), not on the scale of individual parameters. You can use link to help with this, or just use your knowledge of the linear model instead.\n",
    "\n",
    "> What do you conclude about the features and the scores? Can you relate the results of your model(s) to the individual judge and wine inferences from Exercise 1?\n"
   ]
  },
  {
   "cell_type": "markdown",
   "metadata": {
    "colab_type": "text",
    "id": "h_kXE_bRPEx8"
   },
   "source": [
    "### Indicator variables version"
   ]
  },
  {
   "cell_type": "markdown",
   "metadata": {
    "colab_type": "text",
    "id": "eZHpyQKDPEx8"
   },
   "source": [
    "I used the same priors as before for the main effects. I used tighter priors for the interactions. Why? Because interactions represent sub-categories of data, and if we keep slicing up the sample, differences can't keep getting bigger. Again, the most important thing is not to use flat priors like Normal(0,10) that produce impossible outcomes."
   ]
  },
  {
   "cell_type": "code",
   "execution_count": 16,
   "metadata": {},
   "outputs": [
    {
     "name": "stderr",
     "output_type": "stream",
     "text": [
      "INFO:cmdstanpy:compiling stan file /home/jovyan/work/statret/stn/week05_3a.stan to exe file /home/jovyan/work/statret/stn/week05_3a\n",
      "INFO:cmdstanpy:compiled model executable: /home/jovyan/work/statret/stn/week05_3a\n",
      "INFO:cmdstanpy:found newer exe file, not recompiling\n"
     ]
    }
   ],
   "source": [
    "model = '''\n",
    "\n",
    "data {\n",
    "    int n;\n",
    "    vector[n] win_usa;\n",
    "    vector[n] jdg_usa;\n",
    "    vector[n] flight;\n",
    "    vector[n] score;\n",
    "}\n",
    "\n",
    "parameters {\n",
    "    real a;\n",
    "    real bW;\n",
    "    real bJ;\n",
    "    real bR;\n",
    "    real bWJ;\n",
    "    real bWF;\n",
    "    real bJF;\n",
    "    real sigma;\n",
    "}\n",
    "\n",
    "transformed parameters {\n",
    "    vector[n] mu;\n",
    "    mu = a + bW*win_usa + bJ*jdg_usa + bR*flight + bWJ*win_usa.*jdg_usa + bWF*win_usa.*flight + bJF*jdg_usa.*flight;\n",
    "}\n",
    "\n",
    "model {\n",
    "    // prior\n",
    "    a ~ normal(0, 0.2);\n",
    "    bW ~ normal(0, 0.5);\n",
    "    bJ ~ normal(0, 0.5);\n",
    "    bR ~ normal(0, 0.5);\n",
    "    bWJ ~ normal(0, 0.25);\n",
    "    bWF ~ normal(0, 0.25);\n",
    "    bJF ~ normal(0, 0.25);\n",
    "    sigma ~ exponential(1);\n",
    "    // likelihood\n",
    "    score ~ normal(mu, sigma);\n",
    "}\n",
    "\n",
    "generated quantities {\n",
    "    vector[n] score_ppc;\n",
    "    for (i in 1:n) {\n",
    "        score_ppc[i] = normal_rng(mu[i], sigma);\n",
    "    }\n",
    "}\n",
    "'''\n",
    "\n",
    "stan_file = './stn/week05_3a.stan'\n",
    "with open(stan_file, 'w') as f:\n",
    "    print(model, file=f)\n",
    "    \n",
    "model_3a = CmdStanModel(stan_file=stan_file)\n",
    "model_3a.compile()"
   ]
  },
  {
   "cell_type": "code",
   "execution_count": 17,
   "metadata": {},
   "outputs": [
    {
     "name": "stderr",
     "output_type": "stream",
     "text": [
      "INFO:cmdstanpy:CmdStan start procesing\n"
     ]
    },
    {
     "data": {
      "application/vnd.jupyter.widget-view+json": {
       "model_id": "abe015bb8f624520ac1147b2704d20f9",
       "version_major": 2,
       "version_minor": 0
      },
      "text/plain": [
       "chain 1 |          | 00:00 Status"
      ]
     },
     "metadata": {},
     "output_type": "display_data"
    },
    {
     "data": {
      "application/vnd.jupyter.widget-view+json": {
       "model_id": "45f4861d235147a5889654d1eed3675c",
       "version_major": 2,
       "version_minor": 0
      },
      "text/plain": [
       "chain 2 |          | 00:00 Status"
      ]
     },
     "metadata": {},
     "output_type": "display_data"
    },
    {
     "data": {
      "application/vnd.jupyter.widget-view+json": {
       "model_id": "43dab05bf56d450eb756a676c6889a0d",
       "version_major": 2,
       "version_minor": 0
      },
      "text/plain": [
       "chain 3 |          | 00:00 Status"
      ]
     },
     "metadata": {},
     "output_type": "display_data"
    },
    {
     "data": {
      "application/vnd.jupyter.widget-view+json": {
       "model_id": "e2206fbfb12c4c91b354034854a85c29",
       "version_major": 2,
       "version_minor": 0
      },
      "text/plain": [
       "chain 4 |          | 00:00 Status"
      ]
     },
     "metadata": {},
     "output_type": "display_data"
    },
    {
     "name": "stdout",
     "output_type": "stream",
     "text": [
      "                                                                                                                                                                                                                                                                                                                                "
     ]
    },
    {
     "name": "stderr",
     "output_type": "stream",
     "text": [
      "INFO:cmdstanpy:CmdStan done processing.\n"
     ]
    },
    {
     "name": "stdout",
     "output_type": "stream",
     "text": [
      "\n",
      "CPU times: user 371 ms, sys: 119 ms, total: 490 ms\n",
      "Wall time: 1.67 s\n"
     ]
    }
   ],
   "source": [
    "%%time\n",
    "data = d[['score', 'jdg_usa', 'win_usa', 'flight']].to_dict(orient='list')\n",
    "data['n'] = len(data['score'])\n",
    "fit_3a = model_3a.sample(data=data, chains=4)"
   ]
  },
  {
   "cell_type": "code",
   "execution_count": 18,
   "metadata": {},
   "outputs": [
    {
     "data": {
      "text/html": [
       "<div>\n",
       "<style scoped>\n",
       "    .dataframe tbody tr th:only-of-type {\n",
       "        vertical-align: middle;\n",
       "    }\n",
       "\n",
       "    .dataframe tbody tr th {\n",
       "        vertical-align: top;\n",
       "    }\n",
       "\n",
       "    .dataframe thead th {\n",
       "        text-align: right;\n",
       "    }\n",
       "</style>\n",
       "<table border=\"1\" class=\"dataframe\">\n",
       "  <thead>\n",
       "    <tr style=\"text-align: right;\">\n",
       "      <th></th>\n",
       "      <th>Mean</th>\n",
       "      <th>MCSE</th>\n",
       "      <th>StdDev</th>\n",
       "      <th>5%</th>\n",
       "      <th>50%</th>\n",
       "      <th>95%</th>\n",
       "      <th>N_Eff</th>\n",
       "      <th>N_Eff/s</th>\n",
       "      <th>R_hat</th>\n",
       "    </tr>\n",
       "    <tr>\n",
       "      <th>name</th>\n",
       "      <th></th>\n",
       "      <th></th>\n",
       "      <th></th>\n",
       "      <th></th>\n",
       "      <th></th>\n",
       "      <th></th>\n",
       "      <th></th>\n",
       "      <th></th>\n",
       "      <th></th>\n",
       "    </tr>\n",
       "  </thead>\n",
       "  <tbody>\n",
       "    <tr>\n",
       "      <th>a</th>\n",
       "      <td>0.0099</td>\n",
       "      <td>0.00230</td>\n",
       "      <td>0.130</td>\n",
       "      <td>-0.210</td>\n",
       "      <td>0.01000</td>\n",
       "      <td>0.230</td>\n",
       "      <td>3300.0</td>\n",
       "      <td>1100.0</td>\n",
       "      <td>1.0</td>\n",
       "    </tr>\n",
       "    <tr>\n",
       "      <th>bW</th>\n",
       "      <td>-0.2400</td>\n",
       "      <td>0.00310</td>\n",
       "      <td>0.180</td>\n",
       "      <td>-0.530</td>\n",
       "      <td>-0.24000</td>\n",
       "      <td>0.041</td>\n",
       "      <td>3300.0</td>\n",
       "      <td>1100.0</td>\n",
       "      <td>1.0</td>\n",
       "    </tr>\n",
       "    <tr>\n",
       "      <th>bJ</th>\n",
       "      <td>0.2600</td>\n",
       "      <td>0.00300</td>\n",
       "      <td>0.180</td>\n",
       "      <td>-0.031</td>\n",
       "      <td>0.26000</td>\n",
       "      <td>0.550</td>\n",
       "      <td>3500.0</td>\n",
       "      <td>1200.0</td>\n",
       "      <td>1.0</td>\n",
       "    </tr>\n",
       "    <tr>\n",
       "      <th>bR</th>\n",
       "      <td>-0.1100</td>\n",
       "      <td>0.00330</td>\n",
       "      <td>0.180</td>\n",
       "      <td>-0.410</td>\n",
       "      <td>-0.11000</td>\n",
       "      <td>0.200</td>\n",
       "      <td>3000.0</td>\n",
       "      <td>1100.0</td>\n",
       "      <td>1.0</td>\n",
       "    </tr>\n",
       "    <tr>\n",
       "      <th>bWJ</th>\n",
       "      <td>-0.0500</td>\n",
       "      <td>0.00320</td>\n",
       "      <td>0.180</td>\n",
       "      <td>-0.350</td>\n",
       "      <td>-0.05300</td>\n",
       "      <td>0.250</td>\n",
       "      <td>3200.0</td>\n",
       "      <td>1100.0</td>\n",
       "      <td>1.0</td>\n",
       "    </tr>\n",
       "    <tr>\n",
       "      <th>bWF</th>\n",
       "      <td>0.2100</td>\n",
       "      <td>0.00290</td>\n",
       "      <td>0.180</td>\n",
       "      <td>-0.091</td>\n",
       "      <td>0.21000</td>\n",
       "      <td>0.500</td>\n",
       "      <td>3800.0</td>\n",
       "      <td>1300.0</td>\n",
       "      <td>1.0</td>\n",
       "    </tr>\n",
       "    <tr>\n",
       "      <th>bJF</th>\n",
       "      <td>-0.0021</td>\n",
       "      <td>0.00290</td>\n",
       "      <td>0.180</td>\n",
       "      <td>-0.300</td>\n",
       "      <td>-0.00016</td>\n",
       "      <td>0.290</td>\n",
       "      <td>3900.0</td>\n",
       "      <td>1400.0</td>\n",
       "      <td>1.0</td>\n",
       "    </tr>\n",
       "    <tr>\n",
       "      <th>sigma</th>\n",
       "      <td>1.0000</td>\n",
       "      <td>0.00078</td>\n",
       "      <td>0.053</td>\n",
       "      <td>0.910</td>\n",
       "      <td>0.99000</td>\n",
       "      <td>1.100</td>\n",
       "      <td>4600.0</td>\n",
       "      <td>1600.0</td>\n",
       "      <td>1.0</td>\n",
       "    </tr>\n",
       "  </tbody>\n",
       "</table>\n",
       "</div>"
      ],
      "text/plain": [
       "         Mean     MCSE  StdDev     5%      50%    95%   N_Eff  N_Eff/s  R_hat\n",
       "name                                                                         \n",
       "a      0.0099  0.00230   0.130 -0.210  0.01000  0.230  3300.0   1100.0    1.0\n",
       "bW    -0.2400  0.00310   0.180 -0.530 -0.24000  0.041  3300.0   1100.0    1.0\n",
       "bJ     0.2600  0.00300   0.180 -0.031  0.26000  0.550  3500.0   1200.0    1.0\n",
       "bR    -0.1100  0.00330   0.180 -0.410 -0.11000  0.200  3000.0   1100.0    1.0\n",
       "bWJ   -0.0500  0.00320   0.180 -0.350 -0.05300  0.250  3200.0   1100.0    1.0\n",
       "bWF    0.2100  0.00290   0.180 -0.091  0.21000  0.500  3800.0   1300.0    1.0\n",
       "bJF   -0.0021  0.00290   0.180 -0.300 -0.00016  0.290  3900.0   1400.0    1.0\n",
       "sigma  1.0000  0.00078   0.053  0.910  0.99000  1.100  4600.0   1600.0    1.0"
      ]
     },
     "execution_count": 18,
     "metadata": {},
     "output_type": "execute_result"
    }
   ],
   "source": [
    "atts = ['a', 'bW', 'bJ', 'bR', 'bWJ', 'bWF', 'bJF', 'sigma']\n",
    "fit_3a.summary().loc[atts]"
   ]
  },
  {
   "cell_type": "markdown",
   "metadata": {
    "colab_type": "text",
    "id": "eoR3v8vtPEyC"
   },
   "source": [
    "Reading the parameters this way is not easy. But right away you might notice that `bW` is now close to zero and overlaps it a lot on both sides. NJ wines are no longer on average worse. So the interactions did something. Glancing at the interaction parameters, you can see that only one of them has much mass away from zero, `bWR`, the interaction between NJ wines and red flight, so red NJ wines."
   ]
  },
  {
   "cell_type": "code",
   "execution_count": 19,
   "metadata": {},
   "outputs": [
    {
     "data": {
      "image/png": "[encoded data removed]",
      "text/plain": [
       "<Figure size 400x800 with 8 Axes>"
      ]
     },
     "metadata": {},
     "output_type": "display_data"
    },
    {
     "data": {
      "text/plain": [
       "<ggplot: (8771810067408)>"
      ]
     },
     "execution_count": 19,
     "metadata": {},
     "output_type": "execute_result"
    }
   ],
   "source": [
    "df = fit_3a.draws_pd(vars=atts)\n",
    "im = pd.melt(df, value_vars=df.columns)\n",
    "\n",
    "(\n",
    "    ggplot(im)\n",
    "    + aes(x='value')\n",
    "    + geom_density(fill='grey', alpha=0.2)\n",
    "    + facet_grid('variable ~ .')\n",
    "    + theme_light()\n",
    "    + theme(figure_size=(4,8))\n",
    ")"
   ]
  },
  {
   "cell_type": "markdown",
   "metadata": {
    "colab_type": "text",
    "id": "wwPg5C7hPEyL"
   },
   "source": [
    "### Index variables version"
   ]
  },
  {
   "cell_type": "markdown",
   "metadata": {
    "colab_type": "text",
    "id": "AIXAbif5PEyL"
   },
   "source": [
    "Now let's do an index version. The way to think of this is to make unique parameters for each combination. If we consider all the interactions, including a three-way interaction between nation, judge and flight, there would be 8 combinations and so 8 parameters to estimate. Let's go ahead and do that, so we can simultaneously consider the 3-way interaction."
   ]
  },
  {
   "cell_type": "code",
   "execution_count": 20,
   "metadata": {},
   "outputs": [
    {
     "name": "stderr",
     "output_type": "stream",
     "text": [
      "INFO:cmdstanpy:compiling stan file /home/jovyan/work/statret/stn/week05_3b.stan to exe file /home/jovyan/work/statret/stn/week05_3b\n",
      "INFO:cmdstanpy:compiled model executable: /home/jovyan/work/statret/stn/week05_3b\n",
      "INFO:cmdstanpy:found newer exe file, not recompiling\n"
     ]
    }
   ],
   "source": [
    "nJ = d.jdg_usa.unique().size\n",
    "nW = d.win_usa.unique().size\n",
    "nR = d.flight.unique().size\n",
    "\n",
    "model = '''\n",
    "\n",
    "data {\n",
    "    int n;\n",
    "    int ixJ[n];\n",
    "    int ixW[n];\n",
    "    int ixR[n];\n",
    "    vector[n] score;\n",
    "}\n",
    "\n",
    "parameters {\n",
    "    real w[%s];\n",
    "    real j[%s];\n",
    "    real f[%s];\n",
    "    real wj[%s];\n",
    "    real wf[%s];\n",
    "    real jf[%s];\n",
    "    real wjf[%s];\n",
    "    real sigma;\n",
    "}\n",
    "\n",
    "transformed parameters {\n",
    "    vector[n] mu;\n",
    "    for (i in 1:n) {\n",
    "        mu[i] = w[ixW[i]] + j[ixJ[i]] + f[ixR[i]] \n",
    "                + wj[ixW[i].*ixJ[i]] + wf[ixW[i].*ixR[i]] + jf[ixJ[i].*ixR[i]] \n",
    "                + wjf[ixW[i].*ixJ[i].*ixR[i]];\n",
    "    }\n",
    "}\n",
    "\n",
    "model {\n",
    "    // priors\n",
    "    w ~ normal(0, 0.5);\n",
    "    j ~ normal(0, 0.5);\n",
    "    f ~ normal(0, 0.5);\n",
    "    wj ~ normal(0, 0.5);\n",
    "    wf ~ normal(0, 0.5);\n",
    "    jf ~ normal(0, 0.5);\n",
    "    wjf ~ normal(0, 0.5);\n",
    "    sigma ~ exponential(1);\n",
    "    // likelihood\n",
    "    score ~ normal(mu, sigma);\n",
    "}\n",
    "\n",
    "generated quantities {\n",
    "    vector[n] score_ppc;\n",
    "    for (i in 1:n) {\n",
    "        score_ppc[i] = normal_rng(mu[i], sigma);\n",
    "    }\n",
    "}\n",
    "\n",
    "''' % (nW, nJ, nR, nW*nJ, nW*nR, nJ*nR, nW*nJ*nR)\n",
    "\n",
    "stan_file = './stn/week05_3b.stan'\n",
    "with open(stan_file, 'w') as f:\n",
    "    print(model, file=f)\n",
    "    \n",
    "model_3b = CmdStanModel(stan_file=stan_file)\n",
    "model_3b.compile()"
   ]
  },
  {
   "cell_type": "code",
   "execution_count": 21,
   "metadata": {},
   "outputs": [
    {
     "name": "stderr",
     "output_type": "stream",
     "text": [
      "INFO:cmdstanpy:CmdStan start procesing\n"
     ]
    },
    {
     "data": {
      "application/vnd.jupyter.widget-view+json": {
       "model_id": "d166e6743a4a4f5d8c84bf71f798322e",
       "version_major": 2,
       "version_minor": 0
      },
      "text/plain": [
       "chain 1 |          | 00:00 Status"
      ]
     },
     "metadata": {},
     "output_type": "display_data"
    },
    {
     "data": {
      "application/vnd.jupyter.widget-view+json": {
       "model_id": "c0ba1d544ba84f00867262207af0ad9a",
       "version_major": 2,
       "version_minor": 0
      },
      "text/plain": [
       "chain 2 |          | 00:00 Status"
      ]
     },
     "metadata": {},
     "output_type": "display_data"
    },
    {
     "data": {
      "application/vnd.jupyter.widget-view+json": {
       "model_id": "be7b8192154443c793ecca84a1e226dd",
       "version_major": 2,
       "version_minor": 0
      },
      "text/plain": [
       "chain 3 |          | 00:00 Status"
      ]
     },
     "metadata": {},
     "output_type": "display_data"
    },
    {
     "data": {
      "application/vnd.jupyter.widget-view+json": {
       "model_id": "5e8a8426adff42efb7d5df595666fcc5",
       "version_major": 2,
       "version_minor": 0
      },
      "text/plain": [
       "chain 4 |          | 00:00 Status"
      ]
     },
     "metadata": {},
     "output_type": "display_data"
    },
    {
     "name": "stdout",
     "output_type": "stream",
     "text": [
      "                                                                                                                                                                                                                                                                                                                                "
     ]
    },
    {
     "name": "stderr",
     "output_type": "stream",
     "text": [
      "INFO:cmdstanpy:CmdStan done processing.\n"
     ]
    },
    {
     "name": "stdout",
     "output_type": "stream",
     "text": [
      "\n",
      "CPU times: user 383 ms, sys: 169 ms, total: 552 ms\n",
      "Wall time: 2.67 s\n"
     ]
    }
   ],
   "source": [
    "%%time\n",
    "data = d[['score', 'jdg_usa', 'win_usa', 'flight']].copy()\n",
    "data.jdg_usa = data.jdg_usa + 1\n",
    "data.win_usa = data.win_usa + 1\n",
    "data.flight = data.flight + 1\n",
    "data.columns = ['score', 'ixJ', 'ixW', 'ixR']\n",
    "data = data.to_dict(orient='list')\n",
    "data['n'] = len(data['score'])\n",
    "fit_3b = model_3b.sample(data=data, chains=4)"
   ]
  },
  {
   "cell_type": "code",
   "execution_count": 22,
   "metadata": {},
   "outputs": [
    {
     "data": {
      "text/html": [
       "<div>\n",
       "<style scoped>\n",
       "    .dataframe tbody tr th:only-of-type {\n",
       "        vertical-align: middle;\n",
       "    }\n",
       "\n",
       "    .dataframe tbody tr th {\n",
       "        vertical-align: top;\n",
       "    }\n",
       "\n",
       "    .dataframe thead th {\n",
       "        text-align: right;\n",
       "    }\n",
       "</style>\n",
       "<table border=\"1\" class=\"dataframe\">\n",
       "  <thead>\n",
       "    <tr style=\"text-align: right;\">\n",
       "      <th></th>\n",
       "      <th>Mean</th>\n",
       "      <th>MCSE</th>\n",
       "      <th>StdDev</th>\n",
       "      <th>5%</th>\n",
       "      <th>50%</th>\n",
       "      <th>95%</th>\n",
       "      <th>N_Eff</th>\n",
       "      <th>N_Eff/s</th>\n",
       "      <th>R_hat</th>\n",
       "    </tr>\n",
       "    <tr>\n",
       "      <th>name</th>\n",
       "      <th></th>\n",
       "      <th></th>\n",
       "      <th></th>\n",
       "      <th></th>\n",
       "      <th></th>\n",
       "      <th></th>\n",
       "      <th></th>\n",
       "      <th></th>\n",
       "      <th></th>\n",
       "    </tr>\n",
       "  </thead>\n",
       "  <tbody>\n",
       "    <tr>\n",
       "      <th>lp__</th>\n",
       "      <td>-99.0000</td>\n",
       "      <td>0.0930</td>\n",
       "      <td>3.70</td>\n",
       "      <td>-110.00</td>\n",
       "      <td>-99.00000</td>\n",
       "      <td>-93.00</td>\n",
       "      <td>1600.0</td>\n",
       "      <td>360.0</td>\n",
       "      <td>1.0</td>\n",
       "    </tr>\n",
       "    <tr>\n",
       "      <th>w[1]</th>\n",
       "      <td>0.0880</td>\n",
       "      <td>0.0067</td>\n",
       "      <td>0.38</td>\n",
       "      <td>-0.54</td>\n",
       "      <td>0.08000</td>\n",
       "      <td>0.71</td>\n",
       "      <td>3259.0</td>\n",
       "      <td>729.0</td>\n",
       "      <td>1.0</td>\n",
       "    </tr>\n",
       "    <tr>\n",
       "      <th>w[2]</th>\n",
       "      <td>-0.0720</td>\n",
       "      <td>0.0066</td>\n",
       "      <td>0.38</td>\n",
       "      <td>-0.71</td>\n",
       "      <td>-0.07000</td>\n",
       "      <td>0.55</td>\n",
       "      <td>3279.0</td>\n",
       "      <td>734.0</td>\n",
       "      <td>1.0</td>\n",
       "    </tr>\n",
       "    <tr>\n",
       "      <th>j[1]</th>\n",
       "      <td>-0.0870</td>\n",
       "      <td>0.0064</td>\n",
       "      <td>0.38</td>\n",
       "      <td>-0.70</td>\n",
       "      <td>-0.08500</td>\n",
       "      <td>0.55</td>\n",
       "      <td>3593.0</td>\n",
       "      <td>804.0</td>\n",
       "      <td>1.0</td>\n",
       "    </tr>\n",
       "    <tr>\n",
       "      <th>j[2]</th>\n",
       "      <td>0.0950</td>\n",
       "      <td>0.0062</td>\n",
       "      <td>0.37</td>\n",
       "      <td>-0.51</td>\n",
       "      <td>0.09700</td>\n",
       "      <td>0.72</td>\n",
       "      <td>3534.0</td>\n",
       "      <td>791.0</td>\n",
       "      <td>1.0</td>\n",
       "    </tr>\n",
       "    <tr>\n",
       "      <th>f[1]</th>\n",
       "      <td>0.0450</td>\n",
       "      <td>0.0067</td>\n",
       "      <td>0.39</td>\n",
       "      <td>-0.61</td>\n",
       "      <td>0.04900</td>\n",
       "      <td>0.68</td>\n",
       "      <td>3357.0</td>\n",
       "      <td>751.0</td>\n",
       "      <td>1.0</td>\n",
       "    </tr>\n",
       "    <tr>\n",
       "      <th>f[2]</th>\n",
       "      <td>-0.0100</td>\n",
       "      <td>0.0071</td>\n",
       "      <td>0.38</td>\n",
       "      <td>-0.64</td>\n",
       "      <td>-0.00069</td>\n",
       "      <td>0.61</td>\n",
       "      <td>2928.0</td>\n",
       "      <td>655.0</td>\n",
       "      <td>1.0</td>\n",
       "    </tr>\n",
       "    <tr>\n",
       "      <th>wj[1]</th>\n",
       "      <td>-0.0250</td>\n",
       "      <td>0.0072</td>\n",
       "      <td>0.43</td>\n",
       "      <td>-0.75</td>\n",
       "      <td>-0.02300</td>\n",
       "      <td>0.67</td>\n",
       "      <td>3581.0</td>\n",
       "      <td>801.0</td>\n",
       "      <td>1.0</td>\n",
       "    </tr>\n",
       "    <tr>\n",
       "      <th>wj[2]</th>\n",
       "      <td>0.0690</td>\n",
       "      <td>0.0058</td>\n",
       "      <td>0.32</td>\n",
       "      <td>-0.46</td>\n",
       "      <td>0.06200</td>\n",
       "      <td>0.61</td>\n",
       "      <td>3023.0</td>\n",
       "      <td>676.0</td>\n",
       "      <td>1.0</td>\n",
       "    </tr>\n",
       "    <tr>\n",
       "      <th>wj[3]</th>\n",
       "      <td>0.0017</td>\n",
       "      <td>0.0066</td>\n",
       "      <td>0.50</td>\n",
       "      <td>-0.82</td>\n",
       "      <td>0.01100</td>\n",
       "      <td>0.79</td>\n",
       "      <td>5606.0</td>\n",
       "      <td>1254.0</td>\n",
       "      <td>1.0</td>\n",
       "    </tr>\n",
       "    <tr>\n",
       "      <th>wj[4]</th>\n",
       "      <td>-0.0096</td>\n",
       "      <td>0.0069</td>\n",
       "      <td>0.42</td>\n",
       "      <td>-0.70</td>\n",
       "      <td>-0.01400</td>\n",
       "      <td>0.66</td>\n",
       "      <td>3669.0</td>\n",
       "      <td>821.0</td>\n",
       "      <td>1.0</td>\n",
       "    </tr>\n",
       "    <tr>\n",
       "      <th>wf[1]</th>\n",
       "      <td>0.1400</td>\n",
       "      <td>0.0068</td>\n",
       "      <td>0.41</td>\n",
       "      <td>-0.55</td>\n",
       "      <td>0.15000</td>\n",
       "      <td>0.82</td>\n",
       "      <td>3645.0</td>\n",
       "      <td>815.0</td>\n",
       "      <td>1.0</td>\n",
       "    </tr>\n",
       "    <tr>\n",
       "      <th>wf[2]</th>\n",
       "      <td>-0.1800</td>\n",
       "      <td>0.0054</td>\n",
       "      <td>0.31</td>\n",
       "      <td>-0.70</td>\n",
       "      <td>-0.18000</td>\n",
       "      <td>0.34</td>\n",
       "      <td>3315.0</td>\n",
       "      <td>742.0</td>\n",
       "      <td>1.0</td>\n",
       "    </tr>\n",
       "    <tr>\n",
       "      <th>wf[3]</th>\n",
       "      <td>-0.0057</td>\n",
       "      <td>0.0061</td>\n",
       "      <td>0.49</td>\n",
       "      <td>-0.80</td>\n",
       "      <td>-0.01100</td>\n",
       "      <td>0.82</td>\n",
       "      <td>6389.0</td>\n",
       "      <td>1429.0</td>\n",
       "      <td>1.0</td>\n",
       "    </tr>\n",
       "    <tr>\n",
       "      <th>wf[4]</th>\n",
       "      <td>0.0330</td>\n",
       "      <td>0.0067</td>\n",
       "      <td>0.42</td>\n",
       "      <td>-0.64</td>\n",
       "      <td>0.02400</td>\n",
       "      <td>0.73</td>\n",
       "      <td>3877.0</td>\n",
       "      <td>867.0</td>\n",
       "      <td>1.0</td>\n",
       "    </tr>\n",
       "    <tr>\n",
       "      <th>jf[1]</th>\n",
       "      <td>-0.0240</td>\n",
       "      <td>0.0070</td>\n",
       "      <td>0.42</td>\n",
       "      <td>-0.71</td>\n",
       "      <td>-0.02600</td>\n",
       "      <td>0.66</td>\n",
       "      <td>3499.0</td>\n",
       "      <td>783.0</td>\n",
       "      <td>1.0</td>\n",
       "    </tr>\n",
       "    <tr>\n",
       "      <th>jf[2]</th>\n",
       "      <td>0.0095</td>\n",
       "      <td>0.0056</td>\n",
       "      <td>0.32</td>\n",
       "      <td>-0.50</td>\n",
       "      <td>0.01100</td>\n",
       "      <td>0.52</td>\n",
       "      <td>3189.0</td>\n",
       "      <td>713.0</td>\n",
       "      <td>1.0</td>\n",
       "    </tr>\n",
       "    <tr>\n",
       "      <th>jf[3]</th>\n",
       "      <td>0.0032</td>\n",
       "      <td>0.0072</td>\n",
       "      <td>0.50</td>\n",
       "      <td>-0.82</td>\n",
       "      <td>-0.00140</td>\n",
       "      <td>0.83</td>\n",
       "      <td>4836.0</td>\n",
       "      <td>1082.0</td>\n",
       "      <td>1.0</td>\n",
       "    </tr>\n",
       "    <tr>\n",
       "      <th>jf[4]</th>\n",
       "      <td>0.0330</td>\n",
       "      <td>0.0071</td>\n",
       "      <td>0.42</td>\n",
       "      <td>-0.64</td>\n",
       "      <td>0.03100</td>\n",
       "      <td>0.72</td>\n",
       "      <td>3451.0</td>\n",
       "      <td>772.0</td>\n",
       "      <td>1.0</td>\n",
       "    </tr>\n",
       "    <tr>\n",
       "      <th>wjf[1]</th>\n",
       "      <td>0.0930</td>\n",
       "      <td>0.0071</td>\n",
       "      <td>0.45</td>\n",
       "      <td>-0.63</td>\n",
       "      <td>0.08600</td>\n",
       "      <td>0.83</td>\n",
       "      <td>4004.0</td>\n",
       "      <td>896.0</td>\n",
       "      <td>1.0</td>\n",
       "    </tr>\n",
       "    <tr>\n",
       "      <th>wjf[2]</th>\n",
       "      <td>-0.1500</td>\n",
       "      <td>0.0065</td>\n",
       "      <td>0.35</td>\n",
       "      <td>-0.73</td>\n",
       "      <td>-0.14000</td>\n",
       "      <td>0.43</td>\n",
       "      <td>2904.0</td>\n",
       "      <td>650.0</td>\n",
       "      <td>1.0</td>\n",
       "    </tr>\n",
       "    <tr>\n",
       "      <th>wjf[3]</th>\n",
       "      <td>0.0083</td>\n",
       "      <td>0.0064</td>\n",
       "      <td>0.51</td>\n",
       "      <td>-0.82</td>\n",
       "      <td>0.00570</td>\n",
       "      <td>0.84</td>\n",
       "      <td>6315.0</td>\n",
       "      <td>1413.0</td>\n",
       "      <td>1.0</td>\n",
       "    </tr>\n",
       "    <tr>\n",
       "      <th>wjf[4]</th>\n",
       "      <td>0.0900</td>\n",
       "      <td>0.0065</td>\n",
       "      <td>0.35</td>\n",
       "      <td>-0.47</td>\n",
       "      <td>0.09000</td>\n",
       "      <td>0.67</td>\n",
       "      <td>2865.0</td>\n",
       "      <td>641.0</td>\n",
       "      <td>1.0</td>\n",
       "    </tr>\n",
       "    <tr>\n",
       "      <th>wjf[5]</th>\n",
       "      <td>-0.0044</td>\n",
       "      <td>0.0068</td>\n",
       "      <td>0.50</td>\n",
       "      <td>-0.82</td>\n",
       "      <td>-0.00690</td>\n",
       "      <td>0.80</td>\n",
       "      <td>5473.0</td>\n",
       "      <td>1224.0</td>\n",
       "      <td>1.0</td>\n",
       "    </tr>\n",
       "    <tr>\n",
       "      <th>wjf[6]</th>\n",
       "      <td>-0.0110</td>\n",
       "      <td>0.0060</td>\n",
       "      <td>0.49</td>\n",
       "      <td>-0.82</td>\n",
       "      <td>-0.01500</td>\n",
       "      <td>0.82</td>\n",
       "      <td>6769.0</td>\n",
       "      <td>1514.0</td>\n",
       "      <td>1.0</td>\n",
       "    </tr>\n",
       "    <tr>\n",
       "      <th>wjf[7]</th>\n",
       "      <td>0.0110</td>\n",
       "      <td>0.0067</td>\n",
       "      <td>0.50</td>\n",
       "      <td>-0.81</td>\n",
       "      <td>0.00770</td>\n",
       "      <td>0.83</td>\n",
       "      <td>5410.0</td>\n",
       "      <td>1210.0</td>\n",
       "      <td>1.0</td>\n",
       "    </tr>\n",
       "    <tr>\n",
       "      <th>wjf[8]</th>\n",
       "      <td>-0.0230</td>\n",
       "      <td>0.0073</td>\n",
       "      <td>0.45</td>\n",
       "      <td>-0.75</td>\n",
       "      <td>-0.01800</td>\n",
       "      <td>0.71</td>\n",
       "      <td>3778.0</td>\n",
       "      <td>845.0</td>\n",
       "      <td>1.0</td>\n",
       "    </tr>\n",
       "    <tr>\n",
       "      <th>sigma</th>\n",
       "      <td>1.0000</td>\n",
       "      <td>0.0000</td>\n",
       "      <td>0.10</td>\n",
       "      <td>0.90</td>\n",
       "      <td>1.00000</td>\n",
       "      <td>1.10</td>\n",
       "      <td>5104.4</td>\n",
       "      <td>1141.9</td>\n",
       "      <td>1.0</td>\n",
       "    </tr>\n",
       "  </tbody>\n",
       "</table>\n",
       "</div>"
      ],
      "text/plain": [
       "           Mean    MCSE  StdDev      5%       50%    95%   N_Eff  N_Eff/s  \\\n",
       "name                                                                        \n",
       "lp__   -99.0000  0.0930    3.70 -110.00 -99.00000 -93.00  1600.0    360.0   \n",
       "w[1]     0.0880  0.0067    0.38   -0.54   0.08000   0.71  3259.0    729.0   \n",
       "w[2]    -0.0720  0.0066    0.38   -0.71  -0.07000   0.55  3279.0    734.0   \n",
       "j[1]    -0.0870  0.0064    0.38   -0.70  -0.08500   0.55  3593.0    804.0   \n",
       "j[2]     0.0950  0.0062    0.37   -0.51   0.09700   0.72  3534.0    791.0   \n",
       "f[1]     0.0450  0.0067    0.39   -0.61   0.04900   0.68  3357.0    751.0   \n",
       "f[2]    -0.0100  0.0071    0.38   -0.64  -0.00069   0.61  2928.0    655.0   \n",
       "wj[1]   -0.0250  0.0072    0.43   -0.75  -0.02300   0.67  3581.0    801.0   \n",
       "wj[2]    0.0690  0.0058    0.32   -0.46   0.06200   0.61  3023.0    676.0   \n",
       "wj[3]    0.0017  0.0066    0.50   -0.82   0.01100   0.79  5606.0   1254.0   \n",
       "wj[4]   -0.0096  0.0069    0.42   -0.70  -0.01400   0.66  3669.0    821.0   \n",
       "wf[1]    0.1400  0.0068    0.41   -0.55   0.15000   0.82  3645.0    815.0   \n",
       "wf[2]   -0.1800  0.0054    0.31   -0.70  -0.18000   0.34  3315.0    742.0   \n",
       "wf[3]   -0.0057  0.0061    0.49   -0.80  -0.01100   0.82  6389.0   1429.0   \n",
       "wf[4]    0.0330  0.0067    0.42   -0.64   0.02400   0.73  3877.0    867.0   \n",
       "jf[1]   -0.0240  0.0070    0.42   -0.71  -0.02600   0.66  3499.0    783.0   \n",
       "jf[2]    0.0095  0.0056    0.32   -0.50   0.01100   0.52  3189.0    713.0   \n",
       "jf[3]    0.0032  0.0072    0.50   -0.82  -0.00140   0.83  4836.0   1082.0   \n",
       "jf[4]    0.0330  0.0071    0.42   -0.64   0.03100   0.72  3451.0    772.0   \n",
       "wjf[1]   0.0930  0.0071    0.45   -0.63   0.08600   0.83  4004.0    896.0   \n",
       "wjf[2]  -0.1500  0.0065    0.35   -0.73  -0.14000   0.43  2904.0    650.0   \n",
       "wjf[3]   0.0083  0.0064    0.51   -0.82   0.00570   0.84  6315.0   1413.0   \n",
       "wjf[4]   0.0900  0.0065    0.35   -0.47   0.09000   0.67  2865.0    641.0   \n",
       "wjf[5]  -0.0044  0.0068    0.50   -0.82  -0.00690   0.80  5473.0   1224.0   \n",
       "wjf[6]  -0.0110  0.0060    0.49   -0.82  -0.01500   0.82  6769.0   1514.0   \n",
       "wjf[7]   0.0110  0.0067    0.50   -0.81   0.00770   0.83  5410.0   1210.0   \n",
       "wjf[8]  -0.0230  0.0073    0.45   -0.75  -0.01800   0.71  3778.0    845.0   \n",
       "sigma    1.0000  0.0000    0.10    0.90   1.00000   1.10  5104.4   1141.9   \n",
       "\n",
       "        R_hat  \n",
       "name           \n",
       "lp__      1.0  \n",
       "w[1]      1.0  \n",
       "w[2]      1.0  \n",
       "j[1]      1.0  \n",
       "j[2]      1.0  \n",
       "f[1]      1.0  \n",
       "f[2]      1.0  \n",
       "wj[1]     1.0  \n",
       "wj[2]     1.0  \n",
       "wj[3]     1.0  \n",
       "wj[4]     1.0  \n",
       "wf[1]     1.0  \n",
       "wf[2]     1.0  \n",
       "wf[3]     1.0  \n",
       "wf[4]     1.0  \n",
       "jf[1]     1.0  \n",
       "jf[2]     1.0  \n",
       "jf[3]     1.0  \n",
       "jf[4]     1.0  \n",
       "wjf[1]    1.0  \n",
       "wjf[2]    1.0  \n",
       "wjf[3]    1.0  \n",
       "wjf[4]    1.0  \n",
       "wjf[5]    1.0  \n",
       "wjf[6]    1.0  \n",
       "wjf[7]    1.0  \n",
       "wjf[8]    1.0  \n",
       "sigma     1.0  "
      ]
     },
     "execution_count": 22,
     "metadata": {},
     "output_type": "execute_result"
    }
   ],
   "source": [
    "df = fit_3b.summary()\n",
    "atts = [att for att in df.index.to_list() if 'mu' not in att and 'ppc' not in att]\n",
    "df.loc[atts]"
   ]
  },
  {
   "cell_type": "markdown",
   "metadata": {},
   "source": [
    "Models predictions and comparison:"
   ]
  },
  {
   "cell_type": "code",
   "execution_count": 23,
   "metadata": {},
   "outputs": [
    {
     "data": {
      "text/html": [
       "<div>\n",
       "<style scoped>\n",
       "    .dataframe tbody tr th:only-of-type {\n",
       "        vertical-align: middle;\n",
       "    }\n",
       "\n",
       "    .dataframe tbody tr th {\n",
       "        vertical-align: top;\n",
       "    }\n",
       "\n",
       "    .dataframe thead th {\n",
       "        text-align: right;\n",
       "    }\n",
       "</style>\n",
       "<table border=\"1\" class=\"dataframe\">\n",
       "  <thead>\n",
       "    <tr style=\"text-align: right;\">\n",
       "      <th></th>\n",
       "      <th>combination</th>\n",
       "      <th>score</th>\n",
       "      <th>score_hat_31</th>\n",
       "      <th>score_hat_32</th>\n",
       "    </tr>\n",
       "  </thead>\n",
       "  <tbody>\n",
       "    <tr>\n",
       "      <th>0</th>\n",
       "      <td>FFW</td>\n",
       "      <td>0.25</td>\n",
       "      <td>0.01</td>\n",
       "      <td>0.23</td>\n",
       "    </tr>\n",
       "    <tr>\n",
       "      <th>1</th>\n",
       "      <td>FFR</td>\n",
       "      <td>-0.38</td>\n",
       "      <td>-0.10</td>\n",
       "      <td>-0.35</td>\n",
       "    </tr>\n",
       "    <tr>\n",
       "      <th>2</th>\n",
       "      <td>FAW</td>\n",
       "      <td>0.32</td>\n",
       "      <td>0.27</td>\n",
       "      <td>0.30</td>\n",
       "    </tr>\n",
       "    <tr>\n",
       "      <th>3</th>\n",
       "      <td>FAR</td>\n",
       "      <td>0.20</td>\n",
       "      <td>0.16</td>\n",
       "      <td>0.18</td>\n",
       "    </tr>\n",
       "    <tr>\n",
       "      <th>4</th>\n",
       "      <td>AFW</td>\n",
       "      <td>-0.42</td>\n",
       "      <td>-0.23</td>\n",
       "      <td>-0.40</td>\n",
       "    </tr>\n",
       "    <tr>\n",
       "      <th>5</th>\n",
       "      <td>AFR</td>\n",
       "      <td>0.04</td>\n",
       "      <td>-0.13</td>\n",
       "      <td>0.03</td>\n",
       "    </tr>\n",
       "    <tr>\n",
       "      <th>6</th>\n",
       "      <td>AAW</td>\n",
       "      <td>-0.02</td>\n",
       "      <td>-0.03</td>\n",
       "      <td>-0.02</td>\n",
       "    </tr>\n",
       "    <tr>\n",
       "      <th>7</th>\n",
       "      <td>AAR</td>\n",
       "      <td>0.04</td>\n",
       "      <td>0.07</td>\n",
       "      <td>0.05</td>\n",
       "    </tr>\n",
       "  </tbody>\n",
       "</table>\n",
       "</div>"
      ],
      "text/plain": [
       "  combination  score  score_hat_31  score_hat_32\n",
       "0         FFW   0.25          0.01          0.23\n",
       "1         FFR  -0.38         -0.10         -0.35\n",
       "2         FAW   0.32          0.27          0.30\n",
       "3         FAR   0.20          0.16          0.18\n",
       "4         AFW  -0.42         -0.23         -0.40\n",
       "5         AFR   0.04         -0.13          0.03\n",
       "6         AAW  -0.02         -0.03         -0.02\n",
       "7         AAR   0.04          0.07          0.05"
      ]
     },
     "execution_count": 23,
     "metadata": {},
     "output_type": "execute_result"
    }
   ],
   "source": [
    "pp_31 = fit_3a.draws_pd(vars='score_ppc')\n",
    "pp_32 = fit_3b.draws_pd(vars='score_ppc')\n",
    "d = d.assign(score_hat_32=pp_32.T.mean(axis=1).values,\n",
    "             score_hat_31=pp_31.T.mean(axis=1).values)\n",
    "aux = d.groupby(['win_usa', 'jdg_usa','flight'])[['score','score_hat_31','score_hat_32']].mean().reset_index()\n",
    "combinations = ['FFW', 'FFR', 'FAW', 'FAR', 'AFW', 'AFR', 'AAW', 'AAR'] # wine, judge, flight order\n",
    "aux['combination'] = combinations\n",
    "aux = round(aux[['combination', 'score','score_hat_31', 'score_hat_32']],2)\n",
    "aux"
   ]
  },
  {
   "cell_type": "code",
   "execution_count": 24,
   "metadata": {},
   "outputs": [
    {
     "data": {
      "image/png": "[encoded data removed]",
      "text/plain": [
       "<Figure size 600x400 with 1 Axes>"
      ]
     },
     "metadata": {},
     "output_type": "display_data"
    },
    {
     "data": {
      "text/plain": [
       "<ggplot: (8771809795235)>"
      ]
     },
     "execution_count": 24,
     "metadata": {},
     "output_type": "execute_result"
    }
   ],
   "source": [
    "im = aux.melt(id_vars='combination',\n",
    "              value_vars=['score','score_hat_31','score_hat_32'],\n",
    "              var_name='score_origin',\n",
    "              value_name='scores')\n",
    "\n",
    "(\n",
    "    ggplot(im)\n",
    "    + aes(x='scores', y='combination', color='score_origin', shape='score_origin')\n",
    "    + geom_point(size=3)\n",
    "    + theme_light()\n",
    "    + theme(figure_size=(6,4))\n",
    ")"
   ]
  },
  {
   "cell_type": "markdown",
   "metadata": {
    "colab_type": "text",
    "id": "rcmEWzjGPEyf"
   },
   "source": [
    "`score` is just the average for that category, `score_hat_31` is the posterior predictive for the Indicator version and `score_hat_32` for the index version. FFW means: French wine, French judge, White wine. The two rows that jump out are the 4th and the (_6th_), AFR and FAR. Those are NJ red wines as judged by French judges and French red wines as judged by American judges. French judges didn't like NJ reds so much (really only one NJ red, if you look back at Exercise 1). And American judges liked French reds more. Besides these two interactions, notice that it is very hard to figure this out from the table of coefficients.\n",
    "\n",
    "The most noticeable change when comparing models is that FFW (French wines, French judges, white) have a lower expected rating in the full interaction model. There are some other minor differences as well. What has happened? The three way interaction would be, in the first model's indicator terms, when a wine is American, the judge is American, and the flight is red. In the first model, a prediction for such a wine is just a sum of parameters:\n",
    "\n",
    "$\\mu_{i} = \\alpha + \\beta_{W} + \\beta_{J} + \\beta_{R} + \\beta_{WJ} + \\beta_{WR} + \\beta_{JR}$\n",
    "\n",
    "This of course limits means that these parameters have to account for the AAR wine. In the full interaction mode, an AAR wine gets its own parameter, as does every other combination. None of the parameters get polluted by averaging over different combinations. Of course, there isn't a lot of evidence that prediction is improved much by allowing this extra parameter. The differences are small, overall. These wines are all quite good. But it is worth understand how the full interaction model gains additional flexibility. This additional flexibility typically requires some addition regularization. When we arrive at multilevel models later, you'll see how we can handle regularization more naturally inside of a model."
   ]
  }
 ],
 "metadata": {
  "accelerator": "TPU",
  "colab": {
   "collapsed_sections": [],
   "name": "rethink_stats_numpyro_w05.ipynb",
   "provenance": []
  },
  "kernelspec": {
   "display_name": "Python 3",
   "language": "python",
   "name": "python3"
  },
  "language_info": {
   "codemirror_mode": {
    "name": "ipython",
    "version": 3
   },
   "file_extension": ".py",
   "mimetype": "text/x-python",
   "name": "python",
   "nbconvert_exporter": "python",
   "pygments_lexer": "ipython3",
   "version": "3.8.8"
  }
 },
 "nbformat": 4,
 "nbformat_minor": 4
}
