{
 "cells": [
  {
   "cell_type": "markdown",
   "metadata": {
    "colab_type": "text",
    "id": "lgnda2fiSFiu"
   },
   "source": [
    "# Rethinking Statistics course in Stan - Week 4"
   ]
  },
  {
   "cell_type": "markdown",
   "metadata": {
    "colab_type": "text",
    "id": "ID6887gsSFiw"
   },
   "source": [
    "Lecture 7: Ulysses' Compass\n",
    "\n",
    "- [Video](https://www.youtube.com/watch?v=0Jc6Kgw5qc0)\n",
    "- [Slides](https://speakerdeck.com/rmcelreath/l07-statistical-rethinking-winter-2019)\n",
    "\n",
    "Lecture 8: Model Comparison\n",
    "\n",
    "- [Video](https://youtu.be/gjrsYDJbRh0)\n",
    "- [Slides](https://speakerdeck.com/rmcelreath/l08-statistical-rethinking-winter-2019)\n",
    "\n",
    "[Proposed problems](https://github.com/gbosquechacon/statrethinking_winter2019/blob/master/homework/week04.pdf) and [solutions in R](https://github.com/gbosquechacon/statrethinking_winter2019/blob/master/homework/week04_solutions.pdf) for the exercises of the week."
   ]
  },
  {
   "cell_type": "code",
   "execution_count": 1,
   "metadata": {},
   "outputs": [],
   "source": [
    "import pandas as pd\n",
    "import numpy as np\n",
    "from cmdstanpy import CmdStanModel\n",
    "from plotnine import *"
   ]
  },
  {
   "cell_type": "code",
   "execution_count": 2,
   "metadata": {},
   "outputs": [
    {
     "name": "stdout",
     "output_type": "stream",
     "text": [
      "Last updated: Fri Dec 31 2021\n",
      "\n",
      "pandas   : 1.3.4\n",
      "numpy    : 1.21.4\n",
      "cmdstanpy: 1.0.0\n",
      "plotnine : 0.8.0\n",
      "\n"
     ]
    }
   ],
   "source": [
    "%load_ext watermark\n",
    "%watermark -n -u -p pandas,numpy,cmdstanpy,plotnine"
   ]
  },
  {
   "cell_type": "code",
   "execution_count": 3,
   "metadata": {},
   "outputs": [],
   "source": [
    "def waic(stan_fit):\n",
    "    log_lik = stan_fit.stan_variable('log_lik')\n",
    "    lppd = np.log(np.exp(log_lik).mean(axis=0)).sum()\n",
    "    p_waic = np.var(log_lik, axis=0).sum()\n",
    "    waic = -2*lppd + 2*p_waic\n",
    "    return round(waic, 3)"
   ]
  },
  {
   "cell_type": "markdown",
   "metadata": {
    "colab_type": "text",
    "id": "i5mzqt1nSFi1"
   },
   "source": [
    "## Exercise 1"
   ]
  },
  {
   "cell_type": "markdown",
   "metadata": {
    "colab_type": "text",
    "id": "ip-wZDEISFi2"
   },
   "source": [
    "> Consider three fictional Polynesian islands. On each there is a Royal Ornithologist charged by the king with surveying the birb population. They have each found the following proportions of 5 important birb species:\n",
    "\n",
    "| island | bird A | bird B | bird C | bird D | bird E |\n",
    "|--|--|--|--|--|--|\n",
    "| Island 1 | 0.2 | 0.2 | 0.2  | 0.2   |0.2|\n",
    "| Island 2 | 0.8 | 0.1 | 0.05 | 0.025 | 0.025|\n",
    "| Island 3 | 0.05 | 0.15 | 0.7  | 0.05  | 0.05|\n",
    "\n",
    "> Notice that each row sums to 1, all the birbs. This problem has two parts. It is not computationally complicated. But it is conceptually tricky.\n",
    "First, compute the entropy of each island's birb distribution. Interpret these entropy values.\n",
    "\n",
    "> Second, use each island's birb distribution to predict the other two. This means to compute the K-L Divergence of each island from the others, treating each island as if it were a statistical model of the other islands. You should end up with 6 different K-L Divergence values. Which island predicts the others best? Why?"
   ]
  },
  {
   "cell_type": "code",
   "execution_count": 4,
   "metadata": {
    "colab": {
     "base_uri": "https://localhost:8080/",
     "height": 142
    },
    "colab_type": "code",
    "executionInfo": {
     "elapsed": 2121,
     "status": "ok",
     "timestamp": 1596963576693,
     "user": {
      "displayName": "Andrés Suárez",
      "photoUrl": "https://lh5.googleusercontent.com/-s0kzcIwylzA/AAAAAAAAAAI/AAAAAAAAQXA/v8Sc6WgQy7c/s64/photo.jpg",
      "userId": "06409440331868776168"
     },
     "user_tz": -120
    },
    "id": "EvGZDdyfSFi3",
    "outputId": "a7cd7b5c-434a-4278-dae8-41c3abfd68eb"
   },
   "outputs": [
    {
     "data": {
      "text/html": [
       "<div>\n",
       "<style scoped>\n",
       "    .dataframe tbody tr th:only-of-type {\n",
       "        vertical-align: middle;\n",
       "    }\n",
       "\n",
       "    .dataframe tbody tr th {\n",
       "        vertical-align: top;\n",
       "    }\n",
       "\n",
       "    .dataframe thead th {\n",
       "        text-align: right;\n",
       "    }\n",
       "</style>\n",
       "<table border=\"1\" class=\"dataframe\">\n",
       "  <thead>\n",
       "    <tr style=\"text-align: right;\">\n",
       "      <th></th>\n",
       "      <th>Island</th>\n",
       "      <th>Bird A</th>\n",
       "      <th>Bird B</th>\n",
       "      <th>Bird C</th>\n",
       "      <th>Bird D</th>\n",
       "      <th>Bird E</th>\n",
       "    </tr>\n",
       "  </thead>\n",
       "  <tbody>\n",
       "    <tr>\n",
       "      <th>0</th>\n",
       "      <td>Island 1</td>\n",
       "      <td>0.20</td>\n",
       "      <td>0.20</td>\n",
       "      <td>0.20</td>\n",
       "      <td>0.200</td>\n",
       "      <td>0.200</td>\n",
       "    </tr>\n",
       "    <tr>\n",
       "      <th>1</th>\n",
       "      <td>Island 2</td>\n",
       "      <td>0.80</td>\n",
       "      <td>0.10</td>\n",
       "      <td>0.05</td>\n",
       "      <td>0.025</td>\n",
       "      <td>0.025</td>\n",
       "    </tr>\n",
       "    <tr>\n",
       "      <th>2</th>\n",
       "      <td>Island 3</td>\n",
       "      <td>0.05</td>\n",
       "      <td>0.15</td>\n",
       "      <td>0.70</td>\n",
       "      <td>0.050</td>\n",
       "      <td>0.050</td>\n",
       "    </tr>\n",
       "  </tbody>\n",
       "</table>\n",
       "</div>"
      ],
      "text/plain": [
       "     Island  Bird A  Bird B  Bird C  Bird D  Bird E\n",
       "0  Island 1    0.20    0.20    0.20   0.200   0.200\n",
       "1  Island 2    0.80    0.10    0.05   0.025   0.025\n",
       "2  Island 3    0.05    0.15    0.70   0.050   0.050"
      ]
     },
     "execution_count": 4,
     "metadata": {},
     "output_type": "execute_result"
    }
   ],
   "source": [
    "data = [['Island 1', 0.2, 0.2, 0.2, 0.2, 0.2], \n",
    "        ['Island 2', 0.8, 0.1, 0.05, 0.025, 0.025], \n",
    "        ['Island 3', 0.05, 0.15, 0.7, 0.05, 0.05]] \n",
    "df = pd.DataFrame(data, columns = ['Island', 'Bird A', 'Bird B', 'Bird C', 'Bird D', 'Bird E'])\n",
    "df"
   ]
  },
  {
   "cell_type": "markdown",
   "metadata": {
    "colab_type": "text",
    "id": "5I3z7gP8XKHN"
   },
   "source": [
    "The first island has the largest entropy, followed by the third, and then the second in last place. Why is this? Entropy is a measure of the evenness of a distribution. The first islands has the most even distribution of birbs. This means you wouldn’t be very surprised by any particular birb. The second island, in contrast, has a very uneven distribution of birbs. If you saw any birb other than the first species, it would be surprising."
   ]
  },
  {
   "cell_type": "code",
   "execution_count": 5,
   "metadata": {
    "colab": {
     "base_uri": "https://localhost:8080/",
     "height": 142
    },
    "colab_type": "code",
    "executionInfo": {
     "elapsed": 2072,
     "status": "ok",
     "timestamp": 1596963576695,
     "user": {
      "displayName": "Andrés Suárez",
      "photoUrl": "https://lh5.googleusercontent.com/-s0kzcIwylzA/AAAAAAAAAAI/AAAAAAAAQXA/v8Sc6WgQy7c/s64/photo.jpg",
      "userId": "06409440331868776168"
     },
     "user_tz": -120
    },
    "id": "eDz8ZmGjSFi9",
    "outputId": "eeff7be5-ac44-474c-951a-958de92a4cf7"
   },
   "outputs": [
    {
     "data": {
      "text/html": [
       "<div>\n",
       "<style scoped>\n",
       "    .dataframe tbody tr th:only-of-type {\n",
       "        vertical-align: middle;\n",
       "    }\n",
       "\n",
       "    .dataframe tbody tr th {\n",
       "        vertical-align: top;\n",
       "    }\n",
       "\n",
       "    .dataframe thead th {\n",
       "        text-align: right;\n",
       "    }\n",
       "</style>\n",
       "<table border=\"1\" class=\"dataframe\">\n",
       "  <thead>\n",
       "    <tr style=\"text-align: right;\">\n",
       "      <th></th>\n",
       "      <th>Island</th>\n",
       "      <th>Bird A</th>\n",
       "      <th>Bird B</th>\n",
       "      <th>Bird C</th>\n",
       "      <th>Bird D</th>\n",
       "      <th>Bird E</th>\n",
       "      <th>entropy</th>\n",
       "    </tr>\n",
       "  </thead>\n",
       "  <tbody>\n",
       "    <tr>\n",
       "      <th>0</th>\n",
       "      <td>Island 1</td>\n",
       "      <td>0.20</td>\n",
       "      <td>0.20</td>\n",
       "      <td>0.20</td>\n",
       "      <td>0.200</td>\n",
       "      <td>0.200</td>\n",
       "      <td>1.609438</td>\n",
       "    </tr>\n",
       "    <tr>\n",
       "      <th>1</th>\n",
       "      <td>Island 2</td>\n",
       "      <td>0.80</td>\n",
       "      <td>0.10</td>\n",
       "      <td>0.05</td>\n",
       "      <td>0.025</td>\n",
       "      <td>0.025</td>\n",
       "      <td>0.743004</td>\n",
       "    </tr>\n",
       "    <tr>\n",
       "      <th>2</th>\n",
       "      <td>Island 3</td>\n",
       "      <td>0.05</td>\n",
       "      <td>0.15</td>\n",
       "      <td>0.70</td>\n",
       "      <td>0.050</td>\n",
       "      <td>0.050</td>\n",
       "      <td>0.983600</td>\n",
       "    </tr>\n",
       "  </tbody>\n",
       "</table>\n",
       "</div>"
      ],
      "text/plain": [
       "     Island  Bird A  Bird B  Bird C  Bird D  Bird E   entropy\n",
       "0  Island 1    0.20    0.20    0.20   0.200   0.200  1.609438\n",
       "1  Island 2    0.80    0.10    0.05   0.025   0.025  0.743004\n",
       "2  Island 3    0.05    0.15    0.70   0.050   0.050  0.983600"
      ]
     },
     "execution_count": 5,
     "metadata": {},
     "output_type": "execute_result"
    }
   ],
   "source": [
    "cols = df.columns[1:6]\n",
    "df['entropy']= -(df[cols]*np.log(df[cols])).sum(axis=1)\n",
    "df"
   ]
  },
  {
   "cell_type": "markdown",
   "metadata": {
    "colab_type": "text",
    "id": "RZuDEiGeSFjD"
   },
   "source": [
    " Now we need K-L distance, so let’s write a function for it. This is the distance from q to p, regarding p as true and q as the model. Now to use each island as a model of the others, we need to consider the different ordered pairings. The way to read this is each column as a model and each row as a true distribution. So the first island, the first column, the one named `entropy_model1`, has the smaller distances to the other islands. Why does that give it a shorter distance to the other islands? Because it is less surprised by the other islands, due to its high entropy. This makes sense, since it has the highest entropy."
   ]
  },
  {
   "cell_type": "code",
   "execution_count": 6,
   "metadata": {},
   "outputs": [
    {
     "data": {
      "text/html": [
       "<div>\n",
       "<style scoped>\n",
       "    .dataframe tbody tr th:only-of-type {\n",
       "        vertical-align: middle;\n",
       "    }\n",
       "\n",
       "    .dataframe tbody tr th {\n",
       "        vertical-align: top;\n",
       "    }\n",
       "\n",
       "    .dataframe thead th {\n",
       "        text-align: right;\n",
       "    }\n",
       "</style>\n",
       "<table border=\"1\" class=\"dataframe\">\n",
       "  <thead>\n",
       "    <tr style=\"text-align: right;\">\n",
       "      <th></th>\n",
       "      <th>Island</th>\n",
       "      <th>Bird A</th>\n",
       "      <th>Bird B</th>\n",
       "      <th>Bird C</th>\n",
       "      <th>Bird D</th>\n",
       "      <th>Bird E</th>\n",
       "      <th>entropy</th>\n",
       "      <th>entropy_model_1</th>\n",
       "      <th>entropy_model_2</th>\n",
       "      <th>entropy_model_3</th>\n",
       "    </tr>\n",
       "  </thead>\n",
       "  <tbody>\n",
       "    <tr>\n",
       "      <th>0</th>\n",
       "      <td>Island 1</td>\n",
       "      <td>0.20</td>\n",
       "      <td>0.20</td>\n",
       "      <td>0.20</td>\n",
       "      <td>0.200</td>\n",
       "      <td>0.200</td>\n",
       "      <td>1.609438</td>\n",
       "      <td>0.000000</td>\n",
       "      <td>0.970406</td>\n",
       "      <td>0.638760</td>\n",
       "    </tr>\n",
       "    <tr>\n",
       "      <th>1</th>\n",
       "      <td>Island 2</td>\n",
       "      <td>0.80</td>\n",
       "      <td>0.10</td>\n",
       "      <td>0.05</td>\n",
       "      <td>0.025</td>\n",
       "      <td>0.025</td>\n",
       "      <td>0.743004</td>\n",
       "      <td>0.866434</td>\n",
       "      <td>0.000000</td>\n",
       "      <td>2.010914</td>\n",
       "    </tr>\n",
       "    <tr>\n",
       "      <th>2</th>\n",
       "      <td>Island 3</td>\n",
       "      <td>0.05</td>\n",
       "      <td>0.15</td>\n",
       "      <td>0.70</td>\n",
       "      <td>0.050</td>\n",
       "      <td>0.050</td>\n",
       "      <td>0.983600</td>\n",
       "      <td>0.625838</td>\n",
       "      <td>1.838845</td>\n",
       "      <td>0.000000</td>\n",
       "    </tr>\n",
       "  </tbody>\n",
       "</table>\n",
       "</div>"
      ],
      "text/plain": [
       "     Island  Bird A  Bird B  Bird C  Bird D  Bird E   entropy  \\\n",
       "0  Island 1    0.20    0.20    0.20   0.200   0.200  1.609438   \n",
       "1  Island 2    0.80    0.10    0.05   0.025   0.025  0.743004   \n",
       "2  Island 3    0.05    0.15    0.70   0.050   0.050  0.983600   \n",
       "\n",
       "   entropy_model_1  entropy_model_2  entropy_model_3  \n",
       "0         0.000000         0.970406         0.638760  \n",
       "1         0.866434         0.000000         2.010914  \n",
       "2         0.625838         1.838845         0.000000  "
      ]
     },
     "execution_count": 6,
     "metadata": {},
     "output_type": "execute_result"
    }
   ],
   "source": [
    "kl_distance = lambda p,q: (p*(np.log(p) - np.log(q))).sum(axis=1)\n",
    "\n",
    "for i in range(3):\n",
    "    p = df[cols]\n",
    "    q = p.loc[i,]\n",
    "    df[f'entropy_model_{i+1}'] = kl_distance(p,q)\n",
    "    \n",
    "df"
   ]
  },
  {
   "cell_type": "markdown",
   "metadata": {
    "colab_type": "text",
    "id": "w2VUvCvHSFjE"
   },
   "source": [
    "## Exercise 2"
   ]
  },
  {
   "cell_type": "markdown",
   "metadata": {
    "colab_type": "text",
    "id": "dK0bZj47SFjE"
   },
   "source": [
    "> Recall the marriage, age, and happiness collider bias example from Chapter 6. Run models m6.9 and m6.10 again. Compare these two models using WAIC (or LOO, they will produce identical results). Which model is expected to make better predictions? Which model provides the correct causal inference about the influence of age on happiness? Can you explain why the answers to these two questions disagree?"
   ]
  },
  {
   "cell_type": "markdown",
   "metadata": {
    "colab_type": "text",
    "id": "ES-TGWbISFjF"
   },
   "source": [
    "We start as always getting and processing the data:"
   ]
  },
  {
   "cell_type": "code",
   "execution_count": 7,
   "metadata": {
    "colab": {
     "base_uri": "https://localhost:8080/",
     "height": 142
    },
    "colab_type": "code",
    "executionInfo": {
     "elapsed": 1454,
     "status": "ok",
     "timestamp": 1596963577261,
     "user": {
      "displayName": "Andrés Suárez",
      "photoUrl": "https://lh5.googleusercontent.com/-s0kzcIwylzA/AAAAAAAAAAI/AAAAAAAAQXA/v8Sc6WgQy7c/s64/photo.jpg",
      "userId": "06409440331868776168"
     },
     "user_tz": -120
    },
    "id": "KyWSBdSLSFjF",
    "outputId": "46088059-086f-41f5-b9e3-c04ba7053b48"
   },
   "outputs": [
    {
     "data": {
      "text/html": [
       "<div>\n",
       "<style scoped>\n",
       "    .dataframe tbody tr th:only-of-type {\n",
       "        vertical-align: middle;\n",
       "    }\n",
       "\n",
       "    .dataframe tbody tr th {\n",
       "        vertical-align: top;\n",
       "    }\n",
       "\n",
       "    .dataframe thead th {\n",
       "        text-align: right;\n",
       "    }\n",
       "</style>\n",
       "<table border=\"1\" class=\"dataframe\">\n",
       "  <thead>\n",
       "    <tr style=\"text-align: right;\">\n",
       "      <th></th>\n",
       "      <th>age</th>\n",
       "      <th>married</th>\n",
       "      <th>happiness</th>\n",
       "    </tr>\n",
       "  </thead>\n",
       "  <tbody>\n",
       "    <tr>\n",
       "      <th>1297</th>\n",
       "      <td>1</td>\n",
       "      <td>0</td>\n",
       "      <td>1.578947</td>\n",
       "    </tr>\n",
       "    <tr>\n",
       "      <th>1298</th>\n",
       "      <td>1</td>\n",
       "      <td>0</td>\n",
       "      <td>1.789474</td>\n",
       "    </tr>\n",
       "    <tr>\n",
       "      <th>1299</th>\n",
       "      <td>1</td>\n",
       "      <td>0</td>\n",
       "      <td>2.000000</td>\n",
       "    </tr>\n",
       "  </tbody>\n",
       "</table>\n",
       "</div>"
      ],
      "text/plain": [
       "      age  married  happiness\n",
       "1297    1        0   1.578947\n",
       "1298    1        0   1.789474\n",
       "1299    1        0   2.000000"
      ]
     },
     "execution_count": 7,
     "metadata": {},
     "output_type": "execute_result"
    }
   ],
   "source": [
    "d = pd.read_csv('./dat/happiness.csv', header=0)\n",
    "d.tail(3)"
   ]
  },
  {
   "cell_type": "code",
   "execution_count": 8,
   "metadata": {
    "colab": {
     "base_uri": "https://localhost:8080/",
     "height": 142
    },
    "colab_type": "code",
    "executionInfo": {
     "elapsed": 1188,
     "status": "ok",
     "timestamp": 1596963577264,
     "user": {
      "displayName": "Andrés Suárez",
      "photoUrl": "https://lh5.googleusercontent.com/-s0kzcIwylzA/AAAAAAAAAAI/AAAAAAAAQXA/v8Sc6WgQy7c/s64/photo.jpg",
      "userId": "06409440331868776168"
     },
     "user_tz": -120
    },
    "id": "JH6tqdk7SFjJ",
    "outputId": "a78b0611-812a-486a-f02c-7af270cc409a"
   },
   "outputs": [
    {
     "data": {
      "text/html": [
       "<div>\n",
       "<style scoped>\n",
       "    .dataframe tbody tr th:only-of-type {\n",
       "        vertical-align: middle;\n",
       "    }\n",
       "\n",
       "    .dataframe tbody tr th {\n",
       "        vertical-align: top;\n",
       "    }\n",
       "\n",
       "    .dataframe thead th {\n",
       "        text-align: right;\n",
       "    }\n",
       "</style>\n",
       "<table border=\"1\" class=\"dataframe\">\n",
       "  <thead>\n",
       "    <tr style=\"text-align: right;\">\n",
       "      <th></th>\n",
       "      <th>age</th>\n",
       "      <th>married</th>\n",
       "      <th>happiness</th>\n",
       "    </tr>\n",
       "  </thead>\n",
       "  <tbody>\n",
       "    <tr>\n",
       "      <th>957</th>\n",
       "      <td>0.0</td>\n",
       "      <td>0</td>\n",
       "      <td>1.578947</td>\n",
       "    </tr>\n",
       "    <tr>\n",
       "      <th>958</th>\n",
       "      <td>0.0</td>\n",
       "      <td>0</td>\n",
       "      <td>1.789474</td>\n",
       "    </tr>\n",
       "    <tr>\n",
       "      <th>959</th>\n",
       "      <td>0.0</td>\n",
       "      <td>0</td>\n",
       "      <td>2.000000</td>\n",
       "    </tr>\n",
       "  </tbody>\n",
       "</table>\n",
       "</div>"
      ],
      "text/plain": [
       "     age  married  happiness\n",
       "957  0.0        0   1.578947\n",
       "958  0.0        0   1.789474\n",
       "959  0.0        0   2.000000"
      ]
     },
     "execution_count": 8,
     "metadata": {},
     "output_type": "execute_result"
    }
   ],
   "source": [
    "d = d[d.age > 17].copy()\n",
    "d['age'] = ( d['age'] - 18 ) / ( 65 - 18 )\n",
    "d['married'] = d['married'].astype('Int64')\n",
    "d.tail(3)"
   ]
  },
  {
   "cell_type": "markdown",
   "metadata": {
    "colab_type": "text",
    "id": "rWHaWBxgSFjN"
   },
   "source": [
    "Model 6.9 from the book:"
   ]
  },
  {
   "cell_type": "code",
   "execution_count": 9,
   "metadata": {},
   "outputs": [
    {
     "name": "stderr",
     "output_type": "stream",
     "text": [
      "INFO:cmdstanpy:compiling stan file /home/jovyan/work/statret/stn/week04_02a.stan to exe file /home/jovyan/work/statret/stn/week04_02a\n",
      "INFO:cmdstanpy:compiled model executable: /home/jovyan/work/statret/stn/week04_02a\n",
      "INFO:cmdstanpy:found newer exe file, not recompiling\n"
     ]
    }
   ],
   "source": [
    "model = '''\n",
    "data {\n",
    "    int n;\n",
    "    vector[n] happiness;\n",
    "    vector[n] age;\n",
    "    int married[n];\n",
    "}\n",
    "\n",
    "parameters {\n",
    "    real a[2];\n",
    "    real bA;\n",
    "    real sigma;\n",
    "}\n",
    "\n",
    "model {\n",
    "    // prior\n",
    "    a ~ normal(0, 1);\n",
    "    bA ~ normal(0, 2);\n",
    "    sigma ~ exponential(1);\n",
    "    // likelihood\n",
    "    vector[n] mu;\n",
    "    for (i in 1:n) {\n",
    "        mu[i] = a[married[i]] + bA * age[i];\n",
    "    }\n",
    "    happiness ~ normal(mu, sigma);\n",
    "}\n",
    "\n",
    "generated quantities {\n",
    "  vector[n] log_lik;\n",
    "  for (i in 1:n) {\n",
    "    log_lik[i] = normal_lpdf(happiness[i] | a[married[i]] + bA * age[i], sigma);\n",
    "  }\n",
    "}\n",
    "'''\n",
    "\n",
    "stan_file = './stn/week04_02a.stan'\n",
    "with open(stan_file, 'w') as f:\n",
    "    print(model, file=f)\n",
    "\n",
    "model_69 = CmdStanModel(stan_file=stan_file)\n",
    "model_69.compile()"
   ]
  },
  {
   "cell_type": "code",
   "execution_count": 10,
   "metadata": {},
   "outputs": [
    {
     "name": "stderr",
     "output_type": "stream",
     "text": [
      "INFO:cmdstanpy:CmdStan start procesing\n"
     ]
    },
    {
     "data": {
      "application/vnd.jupyter.widget-view+json": {
       "model_id": "2b540349fbf9422097f6bcaca421f16f",
       "version_major": 2,
       "version_minor": 0
      },
      "text/plain": [
       "chain 1 |          | 00:00 Status"
      ]
     },
     "metadata": {},
     "output_type": "display_data"
    },
    {
     "data": {
      "application/vnd.jupyter.widget-view+json": {
       "model_id": "3e860c53a2b1435b998759f5d5809721",
       "version_major": 2,
       "version_minor": 0
      },
      "text/plain": [
       "chain 2 |          | 00:00 Status"
      ]
     },
     "metadata": {},
     "output_type": "display_data"
    },
    {
     "data": {
      "application/vnd.jupyter.widget-view+json": {
       "model_id": "4026bf8621634c29ae67c56fc2977a92",
       "version_major": 2,
       "version_minor": 0
      },
      "text/plain": [
       "chain 3 |          | 00:00 Status"
      ]
     },
     "metadata": {},
     "output_type": "display_data"
    },
    {
     "data": {
      "application/vnd.jupyter.widget-view+json": {
       "model_id": "3581d59d550b40818f8155040da4afb9",
       "version_major": 2,
       "version_minor": 0
      },
      "text/plain": [
       "chain 4 |          | 00:00 Status"
      ]
     },
     "metadata": {},
     "output_type": "display_data"
    },
    {
     "name": "stdout",
     "output_type": "stream",
     "text": [
      "                                                                                                                                                                                                                                                                                                                                "
     ]
    },
    {
     "name": "stderr",
     "output_type": "stream",
     "text": [
      "INFO:cmdstanpy:CmdStan done processing.\n"
     ]
    },
    {
     "name": "stdout",
     "output_type": "stream",
     "text": [
      "\n",
      "CPU times: user 451 ms, sys: 157 ms, total: 608 ms\n",
      "Wall time: 1.72 s\n"
     ]
    }
   ],
   "source": [
    "%%time\n",
    "data = d[['age', 'happiness', 'married']]\n",
    "data.married = data.married + 1\n",
    "data = data.to_dict(orient='list')\n",
    "data['n'] = len(data['age'])\n",
    "fit_69 = model_69.sample(data=data, chains=4)"
   ]
  },
  {
   "cell_type": "code",
   "execution_count": 11,
   "metadata": {},
   "outputs": [
    {
     "data": {
      "text/html": [
       "<div>\n",
       "<style scoped>\n",
       "    .dataframe tbody tr th:only-of-type {\n",
       "        vertical-align: middle;\n",
       "    }\n",
       "\n",
       "    .dataframe tbody tr th {\n",
       "        vertical-align: top;\n",
       "    }\n",
       "\n",
       "    .dataframe thead th {\n",
       "        text-align: right;\n",
       "    }\n",
       "</style>\n",
       "<table border=\"1\" class=\"dataframe\">\n",
       "  <thead>\n",
       "    <tr style=\"text-align: right;\">\n",
       "      <th></th>\n",
       "      <th>Mean</th>\n",
       "      <th>MCSE</th>\n",
       "      <th>StdDev</th>\n",
       "      <th>5%</th>\n",
       "      <th>50%</th>\n",
       "      <th>95%</th>\n",
       "      <th>N_Eff</th>\n",
       "      <th>N_Eff/s</th>\n",
       "      <th>R_hat</th>\n",
       "    </tr>\n",
       "    <tr>\n",
       "      <th>name</th>\n",
       "      <th></th>\n",
       "      <th></th>\n",
       "      <th></th>\n",
       "      <th></th>\n",
       "      <th></th>\n",
       "      <th></th>\n",
       "      <th></th>\n",
       "      <th></th>\n",
       "      <th></th>\n",
       "    </tr>\n",
       "  </thead>\n",
       "  <tbody>\n",
       "    <tr>\n",
       "      <th>a[1]</th>\n",
       "      <td>-0.23</td>\n",
       "      <td>0.0017</td>\n",
       "      <td>0.065</td>\n",
       "      <td>-0.34</td>\n",
       "      <td>-0.23</td>\n",
       "      <td>-0.13</td>\n",
       "      <td>1488.0</td>\n",
       "      <td>453.0</td>\n",
       "      <td>1.0</td>\n",
       "    </tr>\n",
       "    <tr>\n",
       "      <th>a[2]</th>\n",
       "      <td>1.30</td>\n",
       "      <td>0.0023</td>\n",
       "      <td>0.086</td>\n",
       "      <td>1.10</td>\n",
       "      <td>1.30</td>\n",
       "      <td>1.40</td>\n",
       "      <td>1345.0</td>\n",
       "      <td>409.0</td>\n",
       "      <td>1.0</td>\n",
       "    </tr>\n",
       "    <tr>\n",
       "      <th>bA</th>\n",
       "      <td>-0.80</td>\n",
       "      <td>0.0000</td>\n",
       "      <td>0.100</td>\n",
       "      <td>-0.90</td>\n",
       "      <td>-0.80</td>\n",
       "      <td>-0.60</td>\n",
       "      <td>1256.2</td>\n",
       "      <td>382.4</td>\n",
       "      <td>1.0</td>\n",
       "    </tr>\n",
       "    <tr>\n",
       "      <th>sigma</th>\n",
       "      <td>1.00</td>\n",
       "      <td>0.0000</td>\n",
       "      <td>0.000</td>\n",
       "      <td>1.00</td>\n",
       "      <td>1.00</td>\n",
       "      <td>1.00</td>\n",
       "      <td>2499.6</td>\n",
       "      <td>760.9</td>\n",
       "      <td>1.0</td>\n",
       "    </tr>\n",
       "  </tbody>\n",
       "</table>\n",
       "</div>"
      ],
      "text/plain": [
       "       Mean    MCSE  StdDev    5%   50%   95%   N_Eff  N_Eff/s  R_hat\n",
       "name                                                                 \n",
       "a[1]  -0.23  0.0017   0.065 -0.34 -0.23 -0.13  1488.0    453.0    1.0\n",
       "a[2]   1.30  0.0023   0.086  1.10  1.30  1.40  1345.0    409.0    1.0\n",
       "bA    -0.80  0.0000   0.100 -0.90 -0.80 -0.60  1256.2    382.4    1.0\n",
       "sigma  1.00  0.0000   0.000  1.00  1.00  1.00  2499.6    760.9    1.0"
      ]
     },
     "execution_count": 11,
     "metadata": {},
     "output_type": "execute_result"
    }
   ],
   "source": [
    "fit_69.summary().loc[['a[1]', 'a[2]', 'bA', 'sigma']]"
   ]
  },
  {
   "cell_type": "code",
   "execution_count": 12,
   "metadata": {},
   "outputs": [
    {
     "data": {
      "image/png": "[encoded data removed]",
      "text/plain": [
       "<Figure size 640x480 with 4 Axes>"
      ]
     },
     "metadata": {},
     "output_type": "display_data"
    },
    {
     "data": {
      "text/plain": [
       "<ggplot: (8741714841754)>"
      ]
     },
     "execution_count": 12,
     "metadata": {},
     "output_type": "execute_result"
    }
   ],
   "source": [
    "atts = ['bA', 'sigma', 'a']\n",
    "df = fit_69.draws_pd(vars=atts)\n",
    "im = pd.melt(df, value_vars=['bA', 'sigma', 'a[1]', 'a[2]'])\n",
    "\n",
    "(\n",
    "    ggplot(im)\n",
    "    + aes(x='value')\n",
    "    + geom_density(fill='grey', alpha=0.2)\n",
    "    + theme_light()\n",
    "    + facet_grid('variable ~ .')\n",
    ")"
   ]
  },
  {
   "cell_type": "markdown",
   "metadata": {
    "colab_type": "text",
    "id": "YBs2uFJDSFjW"
   },
   "source": [
    "Model 6.10 from the book:"
   ]
  },
  {
   "cell_type": "code",
   "execution_count": 13,
   "metadata": {},
   "outputs": [
    {
     "name": "stderr",
     "output_type": "stream",
     "text": [
      "INFO:cmdstanpy:compiling stan file /home/jovyan/work/statret/stn/week04_02b.stan to exe file /home/jovyan/work/statret/stn/week04_02b\n",
      "INFO:cmdstanpy:compiled model executable: /home/jovyan/work/statret/stn/week04_02b\n",
      "INFO:cmdstanpy:found newer exe file, not recompiling\n"
     ]
    }
   ],
   "source": [
    "model = '''\n",
    "data {\n",
    "    int n;\n",
    "    vector[n] happiness;\n",
    "    vector[n] age;\n",
    "}\n",
    "\n",
    "parameters {\n",
    "    real a;\n",
    "    real bA;\n",
    "    real sigma;\n",
    "}\n",
    "\n",
    "model {\n",
    "    // prior\n",
    "    a ~ normal(0, 1);\n",
    "    bA ~ normal(0, 2);\n",
    "    sigma ~ exponential(1);\n",
    "    vector[n] mu;\n",
    "    // likelihood\n",
    "    for (i in 1:n) {\n",
    "        mu[i] = a + bA * age[i];\n",
    "    }\n",
    "    happiness ~ normal(mu, sigma);\n",
    "}\n",
    "\n",
    "generated quantities {\n",
    "  vector[n] log_lik;\n",
    "  for (i in 1:n) {\n",
    "    log_lik[i] = normal_lpdf(happiness[i] | a + bA * age[i], sigma);\n",
    "  }\n",
    "}\n",
    "'''\n",
    "\n",
    "stan_file = './stn/week04_02b.stan'\n",
    "with open(stan_file, 'w') as f:\n",
    "    print(model, file=f)\n",
    "\n",
    "model_610 = CmdStanModel(stan_file=stan_file)\n",
    "model_610.compile()"
   ]
  },
  {
   "cell_type": "code",
   "execution_count": 14,
   "metadata": {},
   "outputs": [
    {
     "name": "stderr",
     "output_type": "stream",
     "text": [
      "INFO:cmdstanpy:CmdStan start procesing\n"
     ]
    },
    {
     "data": {
      "application/vnd.jupyter.widget-view+json": {
       "model_id": "8263c2ea3fe746978d9abc1fab1af58f",
       "version_major": 2,
       "version_minor": 0
      },
      "text/plain": [
       "chain 1 |          | 00:00 Status"
      ]
     },
     "metadata": {},
     "output_type": "display_data"
    },
    {
     "data": {
      "application/vnd.jupyter.widget-view+json": {
       "model_id": "0a9f98e0c32341e298da95cb654c88cc",
       "version_major": 2,
       "version_minor": 0
      },
      "text/plain": [
       "chain 2 |          | 00:00 Status"
      ]
     },
     "metadata": {},
     "output_type": "display_data"
    },
    {
     "data": {
      "application/vnd.jupyter.widget-view+json": {
       "model_id": "5abe097f8a2b481ab9bba4e98df130d7",
       "version_major": 2,
       "version_minor": 0
      },
      "text/plain": [
       "chain 3 |          | 00:00 Status"
      ]
     },
     "metadata": {},
     "output_type": "display_data"
    },
    {
     "data": {
      "application/vnd.jupyter.widget-view+json": {
       "model_id": "46f069cc324448169ffcf4fc4fd3f436",
       "version_major": 2,
       "version_minor": 0
      },
      "text/plain": [
       "chain 4 |          | 00:00 Status"
      ]
     },
     "metadata": {},
     "output_type": "display_data"
    },
    {
     "name": "stdout",
     "output_type": "stream",
     "text": [
      "                                                                                                                                                                                                                                                                                                                                "
     ]
    },
    {
     "name": "stderr",
     "output_type": "stream",
     "text": [
      "INFO:cmdstanpy:CmdStan done processing.\n"
     ]
    },
    {
     "name": "stdout",
     "output_type": "stream",
     "text": [
      "\n",
      "CPU times: user 585 ms, sys: 126 ms, total: 712 ms\n",
      "Wall time: 1.8 s\n"
     ]
    }
   ],
   "source": [
    "%%time\n",
    "data = d[['age', 'happiness']].to_dict(orient='list')\n",
    "data['n'] = len(data['age'])\n",
    "fit_610 = model_610.sample(data=data, chains=4)"
   ]
  },
  {
   "cell_type": "code",
   "execution_count": 15,
   "metadata": {},
   "outputs": [
    {
     "data": {
      "text/html": [
       "<div>\n",
       "<style scoped>\n",
       "    .dataframe tbody tr th:only-of-type {\n",
       "        vertical-align: middle;\n",
       "    }\n",
       "\n",
       "    .dataframe tbody tr th {\n",
       "        vertical-align: top;\n",
       "    }\n",
       "\n",
       "    .dataframe thead th {\n",
       "        text-align: right;\n",
       "    }\n",
       "</style>\n",
       "<table border=\"1\" class=\"dataframe\">\n",
       "  <thead>\n",
       "    <tr style=\"text-align: right;\">\n",
       "      <th></th>\n",
       "      <th>Mean</th>\n",
       "      <th>MCSE</th>\n",
       "      <th>StdDev</th>\n",
       "      <th>5%</th>\n",
       "      <th>50%</th>\n",
       "      <th>95%</th>\n",
       "      <th>N_Eff</th>\n",
       "      <th>N_Eff/s</th>\n",
       "      <th>R_hat</th>\n",
       "    </tr>\n",
       "    <tr>\n",
       "      <th>name</th>\n",
       "      <th></th>\n",
       "      <th></th>\n",
       "      <th></th>\n",
       "      <th></th>\n",
       "      <th></th>\n",
       "      <th></th>\n",
       "      <th></th>\n",
       "      <th></th>\n",
       "      <th></th>\n",
       "    </tr>\n",
       "  </thead>\n",
       "  <tbody>\n",
       "    <tr>\n",
       "      <th>a</th>\n",
       "      <td>-0.00023</td>\n",
       "      <td>0.00190</td>\n",
       "      <td>0.077</td>\n",
       "      <td>-0.13</td>\n",
       "      <td>-0.00051</td>\n",
       "      <td>0.13</td>\n",
       "      <td>1600.0</td>\n",
       "      <td>500.0</td>\n",
       "      <td>1.0</td>\n",
       "    </tr>\n",
       "    <tr>\n",
       "      <th>bA</th>\n",
       "      <td>0.00069</td>\n",
       "      <td>0.00340</td>\n",
       "      <td>0.130</td>\n",
       "      <td>-0.22</td>\n",
       "      <td>0.00038</td>\n",
       "      <td>0.22</td>\n",
       "      <td>1500.0</td>\n",
       "      <td>470.0</td>\n",
       "      <td>1.0</td>\n",
       "    </tr>\n",
       "    <tr>\n",
       "      <th>sigma</th>\n",
       "      <td>1.20000</td>\n",
       "      <td>0.00057</td>\n",
       "      <td>0.028</td>\n",
       "      <td>1.20</td>\n",
       "      <td>1.20000</td>\n",
       "      <td>1.30</td>\n",
       "      <td>2400.0</td>\n",
       "      <td>750.0</td>\n",
       "      <td>1.0</td>\n",
       "    </tr>\n",
       "  </tbody>\n",
       "</table>\n",
       "</div>"
      ],
      "text/plain": [
       "          Mean     MCSE  StdDev    5%      50%   95%   N_Eff  N_Eff/s  R_hat\n",
       "name                                                                        \n",
       "a     -0.00023  0.00190   0.077 -0.13 -0.00051  0.13  1600.0    500.0    1.0\n",
       "bA     0.00069  0.00340   0.130 -0.22  0.00038  0.22  1500.0    470.0    1.0\n",
       "sigma  1.20000  0.00057   0.028  1.20  1.20000  1.30  2400.0    750.0    1.0"
      ]
     },
     "execution_count": 15,
     "metadata": {},
     "output_type": "execute_result"
    }
   ],
   "source": [
    "fit_610.summary().loc[['a', 'bA', 'sigma']]"
   ]
  },
  {
   "cell_type": "code",
   "execution_count": 16,
   "metadata": {},
   "outputs": [
    {
     "data": {
      "image/png": "[encoded data removed]",
      "text/plain": [
       "<Figure size 640x480 with 3 Axes>"
      ]
     },
     "metadata": {},
     "output_type": "display_data"
    },
    {
     "data": {
      "text/plain": [
       "<ggplot: (8741715370234)>"
      ]
     },
     "execution_count": 16,
     "metadata": {},
     "output_type": "execute_result"
    }
   ],
   "source": [
    "atts = ['a', 'bA', 'sigma']\n",
    "df = fit_610.draws_pd(vars=atts)\n",
    "im = pd.melt(df, value_vars=atts)\n",
    "\n",
    "(\n",
    "    ggplot(im)\n",
    "    + aes(x='value')\n",
    "    + geom_density(fill='grey', alpha=0.2)\n",
    "    + theme_light()\n",
    "    + facet_grid('variable ~ .')\n",
    ")"
   ]
  },
  {
   "cell_type": "markdown",
   "metadata": {},
   "source": [
    "I won't repeat the models here. They are in the text (_I just did both_). Model m6.9 contains both marriage status and age. Model m6.10 contains only age. Model m6.9 produces a confounded inference about the relationship between age and happiness, due to opening a collider path. The model that produces the invalid inference, m6.9, is expected to predict much better. And it would. This is because the collider path does convey actual association. We simply end up mistaken about the causal inference. We should not use WAIC (or LOO) to choose among models, unless we have some clear sense of the causal model. These criteria will happily favor confounded models."
   ]
  },
  {
   "cell_type": "code",
   "execution_count": 17,
   "metadata": {},
   "outputs": [
    {
     "data": {
      "text/plain": [
       "{'model_69': 2713.725, 'model_610': 3102.094}"
      ]
     },
     "execution_count": 17,
     "metadata": {},
     "output_type": "execute_result"
    }
   ],
   "source": [
    "waic_sc = {\n",
    "    'model_69' : waic(fit_69),\n",
    "    'model_610' : waic(fit_610)\n",
    "}\n",
    "waic_sc"
   ]
  },
  {
   "cell_type": "markdown",
   "metadata": {
    "colab_type": "text",
    "id": "oFt8AyM5SFjm"
   },
   "source": [
    "## Exercise 3"
   ]
  },
  {
   "cell_type": "markdown",
   "metadata": {
    "colab_type": "text",
    "id": "gOpI319hSFjn"
   },
   "source": [
    "> Reconsider the urban fox analysis from last week's homework. Use WAIC or LOO based model comparison on five different models, each using `weight` as the outcome, and containing these sets of predictor variables:\n",
    "\n",
    ">1. `avgfood` + `groupsize` + `area`\n",
    "2. `avgfood` + `groupsize`\n",
    "3. `groupsize` + `area`\n",
    "4. `avgfood`\n",
    "5. `area`"
   ]
  },
  {
   "cell_type": "code",
   "execution_count": 18,
   "metadata": {
    "colab": {
     "base_uri": "https://localhost:8080/",
     "height": 142
    },
    "colab_type": "code",
    "executionInfo": {
     "elapsed": 28807,
     "status": "ok",
     "timestamp": 1596963611864,
     "user": {
      "displayName": "Andrés Suárez",
      "photoUrl": "https://lh5.googleusercontent.com/-s0kzcIwylzA/AAAAAAAAAAI/AAAAAAAAQXA/v8Sc6WgQy7c/s64/photo.jpg",
      "userId": "06409440331868776168"
     },
     "user_tz": -120
    },
    "id": "ObiUT82uSFjn",
    "outputId": "9dfdcc64-e6f7-4eee-feb7-8f93bddec625"
   },
   "outputs": [
    {
     "data": {
      "text/html": [
       "<div>\n",
       "<style scoped>\n",
       "    .dataframe tbody tr th:only-of-type {\n",
       "        vertical-align: middle;\n",
       "    }\n",
       "\n",
       "    .dataframe tbody tr th {\n",
       "        vertical-align: top;\n",
       "    }\n",
       "\n",
       "    .dataframe thead th {\n",
       "        text-align: right;\n",
       "    }\n",
       "</style>\n",
       "<table border=\"1\" class=\"dataframe\">\n",
       "  <thead>\n",
       "    <tr style=\"text-align: right;\">\n",
       "      <th></th>\n",
       "      <th>group</th>\n",
       "      <th>avgfood</th>\n",
       "      <th>groupsize</th>\n",
       "      <th>area</th>\n",
       "      <th>weight</th>\n",
       "    </tr>\n",
       "  </thead>\n",
       "  <tbody>\n",
       "    <tr>\n",
       "      <th>113</th>\n",
       "      <td>30</td>\n",
       "      <td>0.41</td>\n",
       "      <td>3</td>\n",
       "      <td>1.91</td>\n",
       "      <td>3.16</td>\n",
       "    </tr>\n",
       "    <tr>\n",
       "      <th>114</th>\n",
       "      <td>30</td>\n",
       "      <td>0.41</td>\n",
       "      <td>3</td>\n",
       "      <td>1.91</td>\n",
       "      <td>2.78</td>\n",
       "    </tr>\n",
       "    <tr>\n",
       "      <th>115</th>\n",
       "      <td>30</td>\n",
       "      <td>0.41</td>\n",
       "      <td>3</td>\n",
       "      <td>1.91</td>\n",
       "      <td>3.86</td>\n",
       "    </tr>\n",
       "  </tbody>\n",
       "</table>\n",
       "</div>"
      ],
      "text/plain": [
       "     group  avgfood  groupsize  area  weight\n",
       "113     30     0.41          3  1.91    3.16\n",
       "114     30     0.41          3  1.91    2.78\n",
       "115     30     0.41          3  1.91    3.86"
      ]
     },
     "execution_count": 18,
     "metadata": {},
     "output_type": "execute_result"
    }
   ],
   "source": [
    "d = pd.read_csv('./dat/foxes.csv', sep=';', header=0)\n",
    "d.tail(3)"
   ]
  },
  {
   "cell_type": "markdown",
   "metadata": {
    "colab_type": "text",
    "id": "AIYqXsnbSFjr"
   },
   "source": [
    "Standarise the data first of all:"
   ]
  },
  {
   "cell_type": "code",
   "execution_count": 19,
   "metadata": {
    "colab": {
     "base_uri": "https://localhost:8080/",
     "height": 142
    },
    "colab_type": "code",
    "executionInfo": {
     "elapsed": 27255,
     "status": "ok",
     "timestamp": 1596963611866,
     "user": {
      "displayName": "Andrés Suárez",
      "photoUrl": "https://lh5.googleusercontent.com/-s0kzcIwylzA/AAAAAAAAAAI/AAAAAAAAQXA/v8Sc6WgQy7c/s64/photo.jpg",
      "userId": "06409440331868776168"
     },
     "user_tz": -120
    },
    "id": "zVjrUyoPMXhn",
    "outputId": "074127b4-2fb2-470d-aa44-3f3313c972b8"
   },
   "outputs": [
    {
     "data": {
      "text/html": [
       "<div>\n",
       "<style scoped>\n",
       "    .dataframe tbody tr th:only-of-type {\n",
       "        vertical-align: middle;\n",
       "    }\n",
       "\n",
       "    .dataframe tbody tr th {\n",
       "        vertical-align: top;\n",
       "    }\n",
       "\n",
       "    .dataframe thead th {\n",
       "        text-align: right;\n",
       "    }\n",
       "</style>\n",
       "<table border=\"1\" class=\"dataframe\">\n",
       "  <thead>\n",
       "    <tr style=\"text-align: right;\">\n",
       "      <th></th>\n",
       "      <th>group</th>\n",
       "      <th>avgfood</th>\n",
       "      <th>groupsize</th>\n",
       "      <th>area</th>\n",
       "      <th>weight</th>\n",
       "    </tr>\n",
       "  </thead>\n",
       "  <tbody>\n",
       "    <tr>\n",
       "      <th>113</th>\n",
       "      <td>30</td>\n",
       "      <td>-1.723131</td>\n",
       "      <td>-0.87411</td>\n",
       "      <td>-1.356312</td>\n",
       "      <td>-1.156781</td>\n",
       "    </tr>\n",
       "    <tr>\n",
       "      <th>114</th>\n",
       "      <td>30</td>\n",
       "      <td>-1.723131</td>\n",
       "      <td>-0.87411</td>\n",
       "      <td>-1.356312</td>\n",
       "      <td>-1.477721</td>\n",
       "    </tr>\n",
       "    <tr>\n",
       "      <th>115</th>\n",
       "      <td>30</td>\n",
       "      <td>-1.723131</td>\n",
       "      <td>-0.87411</td>\n",
       "      <td>-1.356312</td>\n",
       "      <td>-0.565576</td>\n",
       "    </tr>\n",
       "  </tbody>\n",
       "</table>\n",
       "</div>"
      ],
      "text/plain": [
       "     group   avgfood  groupsize      area    weight\n",
       "113     30 -1.723131   -0.87411 -1.356312 -1.156781\n",
       "114     30 -1.723131   -0.87411 -1.356312 -1.477721\n",
       "115     30 -1.723131   -0.87411 -1.356312 -0.565576"
      ]
     },
     "execution_count": 19,
     "metadata": {},
     "output_type": "execute_result"
    }
   ],
   "source": [
    "cols = ['avgfood','groupsize','area','weight']\n",
    "d[cols] = (d[cols] - d[cols].mean())/d[cols].std()\n",
    "d.tail(3)"
   ]
  },
  {
   "cell_type": "markdown",
   "metadata": {},
   "source": [
    "Models:"
   ]
  },
  {
   "cell_type": "code",
   "execution_count": 20,
   "metadata": {},
   "outputs": [
    {
     "name": "stderr",
     "output_type": "stream",
     "text": [
      "INFO:cmdstanpy:compiling stan file /home/jovyan/work/statret/stn/week04_03a.stan to exe file /home/jovyan/work/statret/stn/week04_03a\n",
      "INFO:cmdstanpy:compiled model executable: /home/jovyan/work/statret/stn/week04_03a\n",
      "INFO:cmdstanpy:found newer exe file, not recompiling\n",
      "INFO:cmdstanpy:CmdStan start procesing\n"
     ]
    },
    {
     "data": {
      "application/vnd.jupyter.widget-view+json": {
       "model_id": "bc056fe51a2e448fb767e47d93af6f4c",
       "version_major": 2,
       "version_minor": 0
      },
      "text/plain": [
       "chain 1 |          | 00:00 Status"
      ]
     },
     "metadata": {},
     "output_type": "display_data"
    },
    {
     "data": {
      "application/vnd.jupyter.widget-view+json": {
       "model_id": "bc6288421b1f4896ba8d41ff19bf43e4",
       "version_major": 2,
       "version_minor": 0
      },
      "text/plain": [
       "chain 2 |          | 00:00 Status"
      ]
     },
     "metadata": {},
     "output_type": "display_data"
    },
    {
     "data": {
      "application/vnd.jupyter.widget-view+json": {
       "model_id": "0344a1ed58bc4f63aab47eb3ad32992f",
       "version_major": 2,
       "version_minor": 0
      },
      "text/plain": [
       "chain 3 |          | 00:00 Status"
      ]
     },
     "metadata": {},
     "output_type": "display_data"
    },
    {
     "data": {
      "application/vnd.jupyter.widget-view+json": {
       "model_id": "ab5e1413f36342289c675988217c9d6d",
       "version_major": 2,
       "version_minor": 0
      },
      "text/plain": [
       "chain 4 |          | 00:00 Status"
      ]
     },
     "metadata": {},
     "output_type": "display_data"
    },
    {
     "name": "stdout",
     "output_type": "stream",
     "text": [
      "                                                                                                                                                                                                                                                                                                                                "
     ]
    },
    {
     "name": "stderr",
     "output_type": "stream",
     "text": [
      "INFO:cmdstanpy:CmdStan done processing.\n"
     ]
    },
    {
     "name": "stdout",
     "output_type": "stream",
     "text": [
      "\n"
     ]
    }
   ],
   "source": [
    "model = '''\n",
    "data {\n",
    "    int n;\n",
    "    vector[n] avgfood;\n",
    "    vector[n] groupsize;\n",
    "    vector[n] area;\n",
    "    vector[n] weight;\n",
    "}\n",
    "\n",
    "parameters {\n",
    "    real a;\n",
    "    real b[3];\n",
    "    real sigma;\n",
    "}\n",
    "\n",
    "model {\n",
    "    // prior\n",
    "    a ~ normal(0, 0.2);\n",
    "    b ~ normal(0, 0.5);\n",
    "    sigma ~ exponential(1);\n",
    "    // likelihood\n",
    "    vector[n] mu;\n",
    "    mu = a + b[1]*avgfood + b[2]*groupsize + b[3]*area;\n",
    "    weight ~ normal(mu, sigma);\n",
    "}\n",
    "\n",
    "generated quantities {\n",
    "  vector[n] log_lik;\n",
    "  for (i in 1:n) {\n",
    "    log_lik[i] = normal_lpdf(weight[i] | a + b[1]*avgfood + b[2]*groupsize + b[3]*area, sigma);\n",
    "  }\n",
    "}\n",
    "'''\n",
    "\n",
    "stan_file = './stn/week04_03a.stan'\n",
    "with open(stan_file, 'w') as f:\n",
    "    print(model, file=f)\n",
    "\n",
    "model_3a = CmdStanModel(stan_file=stan_file)\n",
    "model_3a.compile()\n",
    "\n",
    "data = d[['avgfood', 'groupsize', 'area', 'weight']].to_dict(orient='list')\n",
    "data['n'] = len(data['weight'])\n",
    "fit_3a = model_3a.sample(data=data, chains=4)"
   ]
  },
  {
   "cell_type": "code",
   "execution_count": 21,
   "metadata": {},
   "outputs": [
    {
     "name": "stderr",
     "output_type": "stream",
     "text": [
      "INFO:cmdstanpy:compiling stan file /home/jovyan/work/statret/stn/week04_03b.stan to exe file /home/jovyan/work/statret/stn/week04_03b\n",
      "INFO:cmdstanpy:compiled model executable: /home/jovyan/work/statret/stn/week04_03b\n",
      "INFO:cmdstanpy:found newer exe file, not recompiling\n",
      "INFO:cmdstanpy:CmdStan start procesing\n"
     ]
    },
    {
     "data": {
      "application/vnd.jupyter.widget-view+json": {
       "model_id": "515c1ca4e3694d1fa61e2b8a614451ba",
       "version_major": 2,
       "version_minor": 0
      },
      "text/plain": [
       "chain 1 |          | 00:00 Status"
      ]
     },
     "metadata": {},
     "output_type": "display_data"
    },
    {
     "data": {
      "application/vnd.jupyter.widget-view+json": {
       "model_id": "ea3990968a6140da9c7cd03037e8aa33",
       "version_major": 2,
       "version_minor": 0
      },
      "text/plain": [
       "chain 2 |          | 00:00 Status"
      ]
     },
     "metadata": {},
     "output_type": "display_data"
    },
    {
     "data": {
      "application/vnd.jupyter.widget-view+json": {
       "model_id": "5237ac29128a4c47ab80e12b8d3be7be",
       "version_major": 2,
       "version_minor": 0
      },
      "text/plain": [
       "chain 3 |          | 00:00 Status"
      ]
     },
     "metadata": {},
     "output_type": "display_data"
    },
    {
     "data": {
      "application/vnd.jupyter.widget-view+json": {
       "model_id": "8c5c23d97b5f4e7ea51fa164def4292b",
       "version_major": 2,
       "version_minor": 0
      },
      "text/plain": [
       "chain 4 |          | 00:00 Status"
      ]
     },
     "metadata": {},
     "output_type": "display_data"
    },
    {
     "name": "stdout",
     "output_type": "stream",
     "text": [
      "                                                                                                                                                                                                                                                                                                                                "
     ]
    },
    {
     "name": "stderr",
     "output_type": "stream",
     "text": [
      "INFO:cmdstanpy:CmdStan done processing.\n"
     ]
    },
    {
     "name": "stdout",
     "output_type": "stream",
     "text": [
      "\n",
      "CPU times: user 243 ms, sys: 134 ms, total: 377 ms\n",
      "Wall time: 13.4 s\n"
     ]
    }
   ],
   "source": [
    "%%time\n",
    "\n",
    "model = '''\n",
    "data {\n",
    "    int n;\n",
    "    vector[n] avgfood;\n",
    "    vector[n] groupsize;\n",
    "    vector[n] weight;\n",
    "}\n",
    "\n",
    "parameters {\n",
    "    real a;\n",
    "    real b[2];\n",
    "    real sigma;\n",
    "}\n",
    "\n",
    "model {\n",
    "    // prior\n",
    "    a ~ normal(0, 0.2);\n",
    "    b ~ normal(0, 0.5);\n",
    "    sigma ~ exponential(1);\n",
    "    // likelihood\n",
    "    vector[n] mu;\n",
    "    mu = a + b[1]*avgfood + b[2]*groupsize;\n",
    "    weight ~ normal(mu, sigma);\n",
    "}\n",
    "\n",
    "generated quantities {\n",
    "  vector[n] log_lik;\n",
    "  for (i in 1:n) {\n",
    "    log_lik[i] = normal_lpdf(weight[i] | a + b[1]*avgfood + b[2]*groupsize, sigma);\n",
    "  }\n",
    "}\n",
    "'''\n",
    "\n",
    "stan_file = './stn/week04_03b.stan'\n",
    "with open(stan_file, 'w') as f:\n",
    "    print(model, file=f)\n",
    "\n",
    "model_3b = CmdStanModel(stan_file=stan_file)\n",
    "model_3b.compile()\n",
    "\n",
    "data = d[['avgfood', 'groupsize', 'weight']].to_dict(orient='list')\n",
    "data['n'] = len(data['weight'])\n",
    "fit_3b = model_3b.sample(data=data, chains=4)"
   ]
  },
  {
   "cell_type": "code",
   "execution_count": 22,
   "metadata": {},
   "outputs": [
    {
     "name": "stderr",
     "output_type": "stream",
     "text": [
      "INFO:cmdstanpy:compiling stan file /home/jovyan/work/statret/stn/week04_03c.stan to exe file /home/jovyan/work/statret/stn/week04_03c\n",
      "INFO:cmdstanpy:compiled model executable: /home/jovyan/work/statret/stn/week04_03c\n",
      "INFO:cmdstanpy:found newer exe file, not recompiling\n",
      "INFO:cmdstanpy:CmdStan start procesing\n"
     ]
    },
    {
     "data": {
      "application/vnd.jupyter.widget-view+json": {
       "model_id": "7f9c1ecc26a24db1baeb13496311dd21",
       "version_major": 2,
       "version_minor": 0
      },
      "text/plain": [
       "chain 1 |          | 00:00 Status"
      ]
     },
     "metadata": {},
     "output_type": "display_data"
    },
    {
     "data": {
      "application/vnd.jupyter.widget-view+json": {
       "model_id": "174502e4aa1e464d89995865d8ba8b73",
       "version_major": 2,
       "version_minor": 0
      },
      "text/plain": [
       "chain 2 |          | 00:00 Status"
      ]
     },
     "metadata": {},
     "output_type": "display_data"
    },
    {
     "data": {
      "application/vnd.jupyter.widget-view+json": {
       "model_id": "3d19bcbbf9dc4f12ba48e2664137c284",
       "version_major": 2,
       "version_minor": 0
      },
      "text/plain": [
       "chain 3 |          | 00:00 Status"
      ]
     },
     "metadata": {},
     "output_type": "display_data"
    },
    {
     "data": {
      "application/vnd.jupyter.widget-view+json": {
       "model_id": "886466c233ce44dfb793da1dc2ee77cf",
       "version_major": 2,
       "version_minor": 0
      },
      "text/plain": [
       "chain 4 |          | 00:00 Status"
      ]
     },
     "metadata": {},
     "output_type": "display_data"
    },
    {
     "name": "stdout",
     "output_type": "stream",
     "text": [
      "                                                                                                                                                                                                                                                                                                                                "
     ]
    },
    {
     "name": "stderr",
     "output_type": "stream",
     "text": [
      "INFO:cmdstanpy:CmdStan done processing.\n"
     ]
    },
    {
     "name": "stdout",
     "output_type": "stream",
     "text": [
      "\n",
      "CPU times: user 242 ms, sys: 142 ms, total: 384 ms\n",
      "Wall time: 13.7 s\n"
     ]
    }
   ],
   "source": [
    "%%time\n",
    "\n",
    "model = '''\n",
    "data {\n",
    "    int n;\n",
    "    vector[n] avgfood;\n",
    "    vector[n] area;\n",
    "    vector[n] weight;\n",
    "}\n",
    "\n",
    "parameters {\n",
    "    real a;\n",
    "    real b[2];\n",
    "    real sigma;\n",
    "}\n",
    "\n",
    "model {\n",
    "    // prior\n",
    "    a ~ normal(0, 0.2);\n",
    "    b ~ normal(0, 0.5);\n",
    "    sigma ~ exponential(1);\n",
    "    // likelihood\n",
    "    vector[n] mu;\n",
    "    mu = a + b[1]*avgfood + b[2]*area;\n",
    "    weight ~ normal(mu, sigma);\n",
    "}\n",
    "\n",
    "generated quantities {\n",
    "  vector[n] log_lik;\n",
    "  for (i in 1:n) {\n",
    "    log_lik[i] = normal_lpdf(weight[i] | a + b[1]*avgfood + b[2]*area, sigma);\n",
    "  }\n",
    "}\n",
    "'''\n",
    "\n",
    "stan_file = './stn/week04_03c.stan'\n",
    "with open(stan_file, 'w') as f:\n",
    "    print(model, file=f)\n",
    "\n",
    "model_3c = CmdStanModel(stan_file=stan_file)\n",
    "model_3c.compile()\n",
    "\n",
    "data = d[['avgfood', 'area', 'weight']].to_dict(orient='list')\n",
    "data['n'] = len(data['weight'])\n",
    "fit_3c = model_3c.sample(data=data, chains=4)"
   ]
  },
  {
   "cell_type": "code",
   "execution_count": 23,
   "metadata": {},
   "outputs": [
    {
     "name": "stderr",
     "output_type": "stream",
     "text": [
      "INFO:cmdstanpy:compiling stan file /home/jovyan/work/statret/stn/week04_03d.stan to exe file /home/jovyan/work/statret/stn/week04_03d\n",
      "INFO:cmdstanpy:compiled model executable: /home/jovyan/work/statret/stn/week04_03d\n",
      "INFO:cmdstanpy:found newer exe file, not recompiling\n",
      "INFO:cmdstanpy:CmdStan start procesing\n"
     ]
    },
    {
     "data": {
      "application/vnd.jupyter.widget-view+json": {
       "model_id": "a853a2b041b74180a6e6012283f09db0",
       "version_major": 2,
       "version_minor": 0
      },
      "text/plain": [
       "chain 1 |          | 00:00 Status"
      ]
     },
     "metadata": {},
     "output_type": "display_data"
    },
    {
     "data": {
      "application/vnd.jupyter.widget-view+json": {
       "model_id": "d2b461b7d5a84afa8f30cd0dae3365e6",
       "version_major": 2,
       "version_minor": 0
      },
      "text/plain": [
       "chain 2 |          | 00:00 Status"
      ]
     },
     "metadata": {},
     "output_type": "display_data"
    },
    {
     "data": {
      "application/vnd.jupyter.widget-view+json": {
       "model_id": "c8daf84d7eaa49e297bebcb651496c00",
       "version_major": 2,
       "version_minor": 0
      },
      "text/plain": [
       "chain 3 |          | 00:00 Status"
      ]
     },
     "metadata": {},
     "output_type": "display_data"
    },
    {
     "data": {
      "application/vnd.jupyter.widget-view+json": {
       "model_id": "d3aa1e3c98384539b983d2aaac5aa0bd",
       "version_major": 2,
       "version_minor": 0
      },
      "text/plain": [
       "chain 4 |          | 00:00 Status"
      ]
     },
     "metadata": {},
     "output_type": "display_data"
    },
    {
     "name": "stdout",
     "output_type": "stream",
     "text": [
      "                                                                                                                                                                                                                                                                                                                                "
     ]
    },
    {
     "name": "stderr",
     "output_type": "stream",
     "text": [
      "INFO:cmdstanpy:CmdStan done processing.\n"
     ]
    },
    {
     "name": "stdout",
     "output_type": "stream",
     "text": [
      "\n",
      "CPU times: user 217 ms, sys: 143 ms, total: 360 ms\n",
      "Wall time: 11.9 s\n"
     ]
    }
   ],
   "source": [
    "%%time\n",
    "\n",
    "model = '''\n",
    "data {\n",
    "    int n;\n",
    "    vector[n] avgfood;\n",
    "    vector[n] weight;\n",
    "}\n",
    "\n",
    "parameters {\n",
    "    real a;\n",
    "    real b;\n",
    "    real sigma;\n",
    "}\n",
    "\n",
    "model {\n",
    "    // prior\n",
    "    a ~ normal(0, 0.2);\n",
    "    b ~ normal(0, 0.5);\n",
    "    sigma ~ exponential(1);\n",
    "    // likelihood\n",
    "    vector[n] mu;\n",
    "    mu = a + b*avgfood;\n",
    "    weight ~ normal(mu, sigma);\n",
    "}\n",
    "\n",
    "generated quantities {\n",
    "  vector[n] log_lik;\n",
    "  for (i in 1:n) {\n",
    "    log_lik[i] = normal_lpdf(weight[i] | a + b*avgfood, sigma);\n",
    "  }\n",
    "}\n",
    "'''\n",
    "\n",
    "stan_file = './stn/week04_03d.stan'\n",
    "with open(stan_file, 'w') as f:\n",
    "    print(model, file=f)\n",
    "\n",
    "model_3d = CmdStanModel(stan_file=stan_file)\n",
    "model_3d.compile()\n",
    "\n",
    "data = d[['avgfood', 'weight']].to_dict(orient='list')\n",
    "data['n'] = len(data['weight'])\n",
    "fit_3d = model_3d.sample(data=data, chains=4)"
   ]
  },
  {
   "cell_type": "code",
   "execution_count": 24,
   "metadata": {},
   "outputs": [
    {
     "name": "stderr",
     "output_type": "stream",
     "text": [
      "INFO:cmdstanpy:compiling stan file /home/jovyan/work/statret/stn/week04_03e.stan to exe file /home/jovyan/work/statret/stn/week04_03e\n",
      "INFO:cmdstanpy:compiled model executable: /home/jovyan/work/statret/stn/week04_03e\n",
      "INFO:cmdstanpy:found newer exe file, not recompiling\n",
      "INFO:cmdstanpy:CmdStan start procesing\n"
     ]
    },
    {
     "data": {
      "application/vnd.jupyter.widget-view+json": {
       "model_id": "676dc6bd11c84dcebf17745692417a6c",
       "version_major": 2,
       "version_minor": 0
      },
      "text/plain": [
       "chain 1 |          | 00:00 Status"
      ]
     },
     "metadata": {},
     "output_type": "display_data"
    },
    {
     "data": {
      "application/vnd.jupyter.widget-view+json": {
       "model_id": "cf003dc3de4f416e892a714a0002a07f",
       "version_major": 2,
       "version_minor": 0
      },
      "text/plain": [
       "chain 2 |          | 00:00 Status"
      ]
     },
     "metadata": {},
     "output_type": "display_data"
    },
    {
     "data": {
      "application/vnd.jupyter.widget-view+json": {
       "model_id": "6bc170ba66234ccf8c0c1cb66c97f275",
       "version_major": 2,
       "version_minor": 0
      },
      "text/plain": [
       "chain 3 |          | 00:00 Status"
      ]
     },
     "metadata": {},
     "output_type": "display_data"
    },
    {
     "data": {
      "application/vnd.jupyter.widget-view+json": {
       "model_id": "0ca5ee34fb5a4fb1b4f58277786a327d",
       "version_major": 2,
       "version_minor": 0
      },
      "text/plain": [
       "chain 4 |          | 00:00 Status"
      ]
     },
     "metadata": {},
     "output_type": "display_data"
    },
    {
     "name": "stdout",
     "output_type": "stream",
     "text": [
      "                                                                                                                                                                                                                                                                                                                                "
     ]
    },
    {
     "name": "stderr",
     "output_type": "stream",
     "text": [
      "INFO:cmdstanpy:CmdStan done processing.\n"
     ]
    },
    {
     "name": "stdout",
     "output_type": "stream",
     "text": [
      "\n",
      "CPU times: user 242 ms, sys: 132 ms, total: 374 ms\n",
      "Wall time: 11.1 s\n"
     ]
    }
   ],
   "source": [
    "%%time\n",
    "\n",
    "model = '''\n",
    "data {\n",
    "    int n;\n",
    "    vector[n] area;\n",
    "    vector[n] weight;\n",
    "}\n",
    "\n",
    "parameters {\n",
    "    real a;\n",
    "    real b;\n",
    "    real sigma;\n",
    "}\n",
    "\n",
    "model {\n",
    "    // prior\n",
    "    a ~ normal(0, 0.2);\n",
    "    b ~ normal(0, 0.5);\n",
    "    sigma ~ exponential(1);\n",
    "    // likelihood\n",
    "    vector[n] mu;\n",
    "    mu = a + b*area;\n",
    "    weight ~ normal(mu, sigma);\n",
    "}\n",
    "\n",
    "generated quantities {\n",
    "  vector[n] log_lik;\n",
    "  for (i in 1:n) {\n",
    "    log_lik[i] = normal_lpdf(weight[i] | a + b*area, sigma);\n",
    "  }\n",
    "}\n",
    "'''\n",
    "\n",
    "stan_file = './stn/week04_03e.stan'\n",
    "with open(stan_file, 'w') as f:\n",
    "    print(model, file=f)\n",
    "\n",
    "model_3e = CmdStanModel(stan_file=stan_file)\n",
    "model_3e.compile()\n",
    "\n",
    "data = d[['area', 'weight']].to_dict(orient='list')\n",
    "data['n'] = len(data['weight'])\n",
    "fit_3e = model_3e.sample(data=data, chains=4)"
   ]
  },
  {
   "cell_type": "code",
   "execution_count": 25,
   "metadata": {},
   "outputs": [
    {
     "data": {
      "text/html": [
       "<div>\n",
       "<style scoped>\n",
       "    .dataframe tbody tr th:only-of-type {\n",
       "        vertical-align: middle;\n",
       "    }\n",
       "\n",
       "    .dataframe tbody tr th {\n",
       "        vertical-align: top;\n",
       "    }\n",
       "\n",
       "    .dataframe thead th {\n",
       "        text-align: right;\n",
       "    }\n",
       "</style>\n",
       "<table border=\"1\" class=\"dataframe\">\n",
       "  <thead>\n",
       "    <tr style=\"text-align: right;\">\n",
       "      <th></th>\n",
       "      <th>model</th>\n",
       "      <th>waic</th>\n",
       "    </tr>\n",
       "  </thead>\n",
       "  <tbody>\n",
       "    <tr>\n",
       "      <th>4</th>\n",
       "      <td>5</td>\n",
       "      <td>72997.241</td>\n",
       "    </tr>\n",
       "    <tr>\n",
       "      <th>2</th>\n",
       "      <td>3</td>\n",
       "      <td>74760.620</td>\n",
       "    </tr>\n",
       "    <tr>\n",
       "      <th>3</th>\n",
       "      <td>4</td>\n",
       "      <td>74849.988</td>\n",
       "    </tr>\n",
       "    <tr>\n",
       "      <th>1</th>\n",
       "      <td>2</td>\n",
       "      <td>83245.826</td>\n",
       "    </tr>\n",
       "    <tr>\n",
       "      <th>0</th>\n",
       "      <td>1</td>\n",
       "      <td>89155.048</td>\n",
       "    </tr>\n",
       "  </tbody>\n",
       "</table>\n",
       "</div>"
      ],
      "text/plain": [
       "  model       waic\n",
       "4     5  72997.241\n",
       "2     3  74760.620\n",
       "3     4  74849.988\n",
       "1     2  83245.826\n",
       "0     1  89155.048"
      ]
     },
     "execution_count": 25,
     "metadata": {},
     "output_type": "execute_result"
    }
   ],
   "source": [
    "sc = {\n",
    "    '1' : waic(fit_3a),\n",
    "    '2' : waic(fit_3b),\n",
    "    '3' : waic(fit_3c),\n",
    "    '4' : waic(fit_3d),\n",
    "    '5' : waic(fit_3e),\n",
    "}\n",
    "scores = pd.DataFrame(sc.items(), columns=['model','waic'])\n",
    "scores.sort_values(by='waic')"
   ]
  },
  {
   "cell_type": "markdown",
   "metadata": {
    "colab_type": "text",
    "id": "CaKvcGuiSFkE"
   },
   "source": [
    "The variables of the models were the following ones:\n",
    "1. `avgfood` + `groupsize` + `area`\n",
    "2. `avgfood` + `groupsize`\n",
    "3. `groupsize` + `area`\n",
    "4. `avgfood`\n",
    "5. `area`\n",
    "\n",
    "To remind you, the DAG from last week is:\n",
    "\n",
    "<img src=\"./fig/w1_img1.png\" width=\"60%\">\n",
    "\n",
    "Notice that the last models are m1 and m2. They have very similar WAIC values. This makes sense, given the DAG, because the influence of `area` is routed entirely through `avgfood` and `groupsize`. There are no back-door paths.\n",
    "\n",
    "What about the other two models, m4 and m5? These models are tied with one another, and both omit `groupsize`. Again, the influence of `area` passes entirely through `avgfood`. So including only `avgfood` or only `area` should produce the same inference; the total causal influence of `area` (or `avgfood`) is just about zero. That's indeed what the posterior distributions suggest:"
   ]
  },
  {
   "cell_type": "code",
   "execution_count": 26,
   "metadata": {},
   "outputs": [
    {
     "data": {
      "text/html": [
       "<div>\n",
       "<style scoped>\n",
       "    .dataframe tbody tr th:only-of-type {\n",
       "        vertical-align: middle;\n",
       "    }\n",
       "\n",
       "    .dataframe tbody tr th {\n",
       "        vertical-align: top;\n",
       "    }\n",
       "\n",
       "    .dataframe thead th {\n",
       "        text-align: right;\n",
       "    }\n",
       "</style>\n",
       "<table border=\"1\" class=\"dataframe\">\n",
       "  <thead>\n",
       "    <tr style=\"text-align: right;\">\n",
       "      <th></th>\n",
       "      <th>Mean</th>\n",
       "      <th>MCSE</th>\n",
       "      <th>StdDev</th>\n",
       "      <th>5%</th>\n",
       "      <th>50%</th>\n",
       "      <th>95%</th>\n",
       "      <th>N_Eff</th>\n",
       "      <th>N_Eff/s</th>\n",
       "      <th>R_hat</th>\n",
       "    </tr>\n",
       "    <tr>\n",
       "      <th>name</th>\n",
       "      <th></th>\n",
       "      <th></th>\n",
       "      <th></th>\n",
       "      <th></th>\n",
       "      <th></th>\n",
       "      <th></th>\n",
       "      <th></th>\n",
       "      <th></th>\n",
       "      <th></th>\n",
       "    </tr>\n",
       "  </thead>\n",
       "  <tbody>\n",
       "    <tr>\n",
       "      <th>a</th>\n",
       "      <td>0.00029</td>\n",
       "      <td>0.0013</td>\n",
       "      <td>0.086</td>\n",
       "      <td>-0.14</td>\n",
       "      <td>-0.00097</td>\n",
       "      <td>0.14</td>\n",
       "      <td>4300.0</td>\n",
       "      <td>6600.0</td>\n",
       "      <td>1.0</td>\n",
       "    </tr>\n",
       "    <tr>\n",
       "      <th>b</th>\n",
       "      <td>-0.02300</td>\n",
       "      <td>0.0015</td>\n",
       "      <td>0.093</td>\n",
       "      <td>-0.17</td>\n",
       "      <td>-0.02500</td>\n",
       "      <td>0.13</td>\n",
       "      <td>4000.0</td>\n",
       "      <td>6100.0</td>\n",
       "      <td>1.0</td>\n",
       "    </tr>\n",
       "    <tr>\n",
       "      <th>sigma</th>\n",
       "      <td>1.00000</td>\n",
       "      <td>0.0011</td>\n",
       "      <td>0.067</td>\n",
       "      <td>0.90</td>\n",
       "      <td>1.00000</td>\n",
       "      <td>1.10</td>\n",
       "      <td>3600.0</td>\n",
       "      <td>5500.0</td>\n",
       "      <td>1.0</td>\n",
       "    </tr>\n",
       "  </tbody>\n",
       "</table>\n",
       "</div>"
      ],
      "text/plain": [
       "          Mean    MCSE  StdDev    5%      50%   95%   N_Eff  N_Eff/s  R_hat\n",
       "name                                                                       \n",
       "a      0.00029  0.0013   0.086 -0.14 -0.00097  0.14  4300.0   6600.0    1.0\n",
       "b     -0.02300  0.0015   0.093 -0.17 -0.02500  0.13  4000.0   6100.0    1.0\n",
       "sigma  1.00000  0.0011   0.067  0.90  1.00000  1.10  3600.0   5500.0    1.0"
      ]
     },
     "execution_count": 26,
     "metadata": {},
     "output_type": "execute_result"
    }
   ],
   "source": [
    "fit_3d.summary().loc[['a','b','sigma']]"
   ]
  },
  {
   "cell_type": "code",
   "execution_count": 27,
   "metadata": {},
   "outputs": [
    {
     "data": {
      "text/html": [
       "<div>\n",
       "<style scoped>\n",
       "    .dataframe tbody tr th:only-of-type {\n",
       "        vertical-align: middle;\n",
       "    }\n",
       "\n",
       "    .dataframe tbody tr th {\n",
       "        vertical-align: top;\n",
       "    }\n",
       "\n",
       "    .dataframe thead th {\n",
       "        text-align: right;\n",
       "    }\n",
       "</style>\n",
       "<table border=\"1\" class=\"dataframe\">\n",
       "  <thead>\n",
       "    <tr style=\"text-align: right;\">\n",
       "      <th></th>\n",
       "      <th>Mean</th>\n",
       "      <th>MCSE</th>\n",
       "      <th>StdDev</th>\n",
       "      <th>5%</th>\n",
       "      <th>50%</th>\n",
       "      <th>95%</th>\n",
       "      <th>N_Eff</th>\n",
       "      <th>N_Eff/s</th>\n",
       "      <th>R_hat</th>\n",
       "    </tr>\n",
       "    <tr>\n",
       "      <th>name</th>\n",
       "      <th></th>\n",
       "      <th></th>\n",
       "      <th></th>\n",
       "      <th></th>\n",
       "      <th></th>\n",
       "      <th></th>\n",
       "      <th></th>\n",
       "      <th></th>\n",
       "      <th></th>\n",
       "    </tr>\n",
       "  </thead>\n",
       "  <tbody>\n",
       "    <tr>\n",
       "      <th>a</th>\n",
       "      <td>-0.00079</td>\n",
       "      <td>0.0013</td>\n",
       "      <td>0.085</td>\n",
       "      <td>-0.14</td>\n",
       "      <td>-0.00023</td>\n",
       "      <td>0.14</td>\n",
       "      <td>4300.0</td>\n",
       "      <td>6700.0</td>\n",
       "      <td>1.0</td>\n",
       "    </tr>\n",
       "    <tr>\n",
       "      <th>b</th>\n",
       "      <td>0.01800</td>\n",
       "      <td>0.0015</td>\n",
       "      <td>0.092</td>\n",
       "      <td>-0.14</td>\n",
       "      <td>0.02000</td>\n",
       "      <td>0.17</td>\n",
       "      <td>3800.0</td>\n",
       "      <td>5800.0</td>\n",
       "      <td>1.0</td>\n",
       "    </tr>\n",
       "    <tr>\n",
       "      <th>sigma</th>\n",
       "      <td>1.00000</td>\n",
       "      <td>0.0010</td>\n",
       "      <td>0.066</td>\n",
       "      <td>0.91</td>\n",
       "      <td>1.00000</td>\n",
       "      <td>1.10</td>\n",
       "      <td>4000.0</td>\n",
       "      <td>6100.0</td>\n",
       "      <td>1.0</td>\n",
       "    </tr>\n",
       "  </tbody>\n",
       "</table>\n",
       "</div>"
      ],
      "text/plain": [
       "          Mean    MCSE  StdDev    5%      50%   95%   N_Eff  N_Eff/s  R_hat\n",
       "name                                                                       \n",
       "a     -0.00079  0.0013   0.085 -0.14 -0.00023  0.14  4300.0   6700.0    1.0\n",
       "b      0.01800  0.0015   0.092 -0.14  0.02000  0.17  3800.0   5800.0    1.0\n",
       "sigma  1.00000  0.0010   0.066  0.91  1.00000  1.10  4000.0   6100.0    1.0"
      ]
     },
     "execution_count": 27,
     "metadata": {},
     "output_type": "execute_result"
    }
   ],
   "source": [
    "fit_3e.summary().loc[['a','b','sigma']]"
   ]
  }
 ],
 "metadata": {
  "accelerator": "TPU",
  "colab": {
   "collapsed_sections": [],
   "name": "rethink_stats_numpyro_w04.ipynb",
   "provenance": []
  },
  "kernelspec": {
   "display_name": "Python 3",
   "language": "python",
   "name": "python3"
  },
  "language_info": {
   "codemirror_mode": {
    "name": "ipython",
    "version": 3
   },
   "file_extension": ".py",
   "mimetype": "text/x-python",
   "name": "python",
   "nbconvert_exporter": "python",
   "pygments_lexer": "ipython3",
   "version": "3.8.8"
  }
 },
 "nbformat": 4,
 "nbformat_minor": 4
}
