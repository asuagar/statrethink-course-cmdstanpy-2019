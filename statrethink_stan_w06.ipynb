{
 "cells": [
  {
   "cell_type": "markdown",
   "metadata": {
    "id": "dDCbEplebzdD"
   },
   "source": [
    "# Rethinking Statistics course in Stan - Week 6"
   ]
  },
  {
   "cell_type": "markdown",
   "metadata": {
    "id": "1ukMOA8ibzdG"
   },
   "source": [
    "Lecture 11: Maximum entropy & GLMs\n",
    "\n",
    "- [Video](https://youtu.be/-4y4X8ELcEM)\n",
    "- [Slides](https://speakerdeck.com/rmcelreath/l11-statistical-rethinking-winter-2019)\n",
    "\n",
    "Lecture 12: God Spiked the Integers (binomial & Poisson GLMs)\n",
    "\n",
    "- [Video](https://youtu.be/hRJtKCIDTwc)\n",
    "- [Slides](https://speakerdeck.com/rmcelreath/l12-statistical-rethinking-winter-2019)\n",
    "\n",
    "[Proposed problems](https://github.com/gbosquechacon/statrethinking_winter2019/blob/master/homework/week06.pdf) and [solutions in R](https://github.com/gbosquechacon/statrethinking_winter2019/blob/master/homework/week06_solutions.pdf) for the exercises of the week."
   ]
  },
  {
   "cell_type": "code",
   "execution_count": 1,
   "metadata": {},
   "outputs": [],
   "source": [
    "import pandas as pd\n",
    "import numpy as np\n",
    "from scipy.special import expit\n",
    "from cmdstanpy import CmdStanModel\n",
    "from plotnine import *"
   ]
  },
  {
   "cell_type": "code",
   "execution_count": 2,
   "metadata": {},
   "outputs": [
    {
     "name": "stdout",
     "output_type": "stream",
     "text": [
      "Last updated: Fri Dec 31 2021\n",
      "\n",
      "pandas   : 1.3.4\n",
      "numpy    : 1.21.4\n",
      "cmdstanpy: 1.0.0\n",
      "plotnine : 0.8.0\n",
      "scipy    : 1.7.3\n",
      "\n"
     ]
    }
   ],
   "source": [
    "%load_ext watermark\n",
    "%watermark -n -u -p pandas,numpy,cmdstanpy,plotnine,scipy"
   ]
  },
  {
   "cell_type": "code",
   "execution_count": 3,
   "metadata": {},
   "outputs": [],
   "source": [
    "def waic(stan_fit):\n",
    "    log_lik = stan_fit.stan_variable('log_lik')\n",
    "    lppd = np.log(np.exp(log_lik).mean(axis=0)).sum()\n",
    "    p_waic = np.var(log_lik, axis=0).sum()\n",
    "    waic = -2*lppd + 2*p_waic\n",
    "    return round(waic, 3)"
   ]
  },
  {
   "cell_type": "code",
   "execution_count": 4,
   "metadata": {},
   "outputs": [],
   "source": [
    "def waic_point(stan_fit):\n",
    "    log_lik = stan_fit.stan_variable('log_lik')\n",
    "    lppd = np.log(np.exp(log_lik).mean(axis=0))\n",
    "    p_waic = np.var(log_lik, axis=0)\n",
    "    waic = -2*lppd + 2*p_waic\n",
    "    return waic"
   ]
  },
  {
   "cell_type": "markdown",
   "metadata": {
    "id": "kGlKDdRkbzdN"
   },
   "source": [
    "## Exercise 1"
   ]
  },
  {
   "cell_type": "markdown",
   "metadata": {
    "id": "mSeqPgQ-bzdO"
   },
   "source": [
    "> The data in data(`NWOGrants`) are outcomes for scientific funding applications for the Netherlands Organization for Scientific Research (NWO) from 2010–2012 (see [van der Lee and Ellemers](doi:10.1073/pnas.1510159112)). These data have a very similar structure to the `UCBAdmit` data discussed in Chapter 11 (_of the book!_).\n",
    "\n",
    "> I want you to consider a similar question: What are the total and indirect causal effects of gender on grant awards? Consider a mediation path (a pipe) through discipline. Draw the corresponding DAG and then use one or more binomial GLMs to answer the question. What is your causal interpretation? If NWO's goal is to equalize rates of funding between the genders, what type of intervention would be most effective?"
   ]
  },
  {
   "cell_type": "markdown",
   "metadata": {
    "id": "aOjgJz6HbzdP"
   },
   "source": [
    "The implied DAG is:\n",
    "\n",
    "<img src=\"./fig/w6_img1.png\" width=\"30%\">\n",
    "\n",
    "where $G$ is gender, $D$ is discipline, and $A$ is award. The direct causal effect of gender is the path $G → A$. The total effect includes that path and the indirect path $G → D → A$. We can estimate the total causal influence (assuming this DAG is correct) with a model that conditions only on gender. I'll use a N(-1,1) prior for the intercepts, because we know from domain knowledge that less than half of applicants get awards.\n",
    "\n",
    "Let's get the data."
   ]
  },
  {
   "cell_type": "code",
   "execution_count": 5,
   "metadata": {
    "colab": {
     "base_uri": "https://localhost:8080/",
     "height": 607
    },
    "executionInfo": {
     "elapsed": 1013,
     "status": "ok",
     "timestamp": 1609056697474,
     "user": {
      "displayName": "Andrés Suárez",
      "photoUrl": "https://lh5.googleusercontent.com/-s0kzcIwylzA/AAAAAAAAAAI/AAAAAAAAQXA/v8Sc6WgQy7c/s64/photo.jpg",
      "userId": "06409440331868776168"
     },
     "user_tz": -60
    },
    "id": "kPmbk-b9bzdU",
    "outputId": "5b291489-a18b-4f1e-a721-e96fcc3a69e3"
   },
   "outputs": [
    {
     "data": {
      "text/html": [
       "<div>\n",
       "<style scoped>\n",
       "    .dataframe tbody tr th:only-of-type {\n",
       "        vertical-align: middle;\n",
       "    }\n",
       "\n",
       "    .dataframe tbody tr th {\n",
       "        vertical-align: top;\n",
       "    }\n",
       "\n",
       "    .dataframe thead th {\n",
       "        text-align: right;\n",
       "    }\n",
       "</style>\n",
       "<table border=\"1\" class=\"dataframe\">\n",
       "  <thead>\n",
       "    <tr style=\"text-align: right;\">\n",
       "      <th></th>\n",
       "      <th>discipline</th>\n",
       "      <th>gender</th>\n",
       "      <th>applications</th>\n",
       "      <th>awards</th>\n",
       "      <th>gid</th>\n",
       "      <th>apps</th>\n",
       "      <th>disc</th>\n",
       "    </tr>\n",
       "  </thead>\n",
       "  <tbody>\n",
       "    <tr>\n",
       "      <th>15</th>\n",
       "      <td>Social sciences</td>\n",
       "      <td>f</td>\n",
       "      <td>409</td>\n",
       "      <td>47</td>\n",
       "      <td>1</td>\n",
       "      <td>409</td>\n",
       "      <td>7</td>\n",
       "    </tr>\n",
       "    <tr>\n",
       "      <th>16</th>\n",
       "      <td>Medical sciences</td>\n",
       "      <td>m</td>\n",
       "      <td>245</td>\n",
       "      <td>46</td>\n",
       "      <td>0</td>\n",
       "      <td>245</td>\n",
       "      <td>8</td>\n",
       "    </tr>\n",
       "    <tr>\n",
       "      <th>17</th>\n",
       "      <td>Medical sciences</td>\n",
       "      <td>f</td>\n",
       "      <td>260</td>\n",
       "      <td>29</td>\n",
       "      <td>1</td>\n",
       "      <td>260</td>\n",
       "      <td>8</td>\n",
       "    </tr>\n",
       "  </tbody>\n",
       "</table>\n",
       "</div>"
      ],
      "text/plain": [
       "          discipline gender  applications  awards  gid  apps  disc\n",
       "15   Social sciences      f           409      47    1   409     7\n",
       "16  Medical sciences      m           245      46    0   245     8\n",
       "17  Medical sciences      f           260      29    1   260     8"
      ]
     },
     "execution_count": 5,
     "metadata": {},
     "output_type": "execute_result"
    }
   ],
   "source": [
    "d = pd.read_csv('./dat/NWOGrants.csv', header=0, sep=';')\n",
    "d['gid'] = pd.factorize(d['gender'])[0]\n",
    "d['apps'] = d['applications']\n",
    "d['disc'] = pd.factorize(d['discipline'])[0]\n",
    "d.tail(3)"
   ]
  },
  {
   "cell_type": "markdown",
   "metadata": {
    "id": "zA3rMJOLQYII"
   },
   "source": [
    "Total effect of gender on awards:"
   ]
  },
  {
   "cell_type": "code",
   "execution_count": 6,
   "metadata": {},
   "outputs": [
    {
     "name": "stderr",
     "output_type": "stream",
     "text": [
      "INFO:cmdstanpy:compiling stan file /home/jovyan/work/statret/stn/week06_01a.stan to exe file /home/jovyan/work/statret/stn/week06_01a\n",
      "INFO:cmdstanpy:compiled model executable: /home/jovyan/work/statret/stn/week06_01a\n",
      "INFO:cmdstanpy:found newer exe file, not recompiling\n"
     ]
    }
   ],
   "source": [
    "ngid = d.gid.unique().size\n",
    "\n",
    "model = '''\n",
    "\n",
    "data {\n",
    "    int n; \n",
    "    int gid[n];\n",
    "    int apps[n];\n",
    "    int awards[n];\n",
    "}\n",
    "\n",
    "parameters {\n",
    "    real a[%s];\n",
    "}\n",
    "\n",
    "model {\n",
    "    // prior\n",
    "    a ~ normal(-1,1);\n",
    "    // likelihood\n",
    "    for (i in 1:n) {\n",
    "        awards[i] ~ binomial_logit(apps[i], a[gid[i]]);\n",
    "    } \n",
    "}\n",
    "\n",
    "''' % (ngid)\n",
    "\n",
    "stan_file = './stn/week06_01a.stan'\n",
    "with open(stan_file, 'w') as f:\n",
    "    print(model, file=f)\n",
    "    \n",
    "model_1a = CmdStanModel(stan_file=stan_file)\n",
    "model_1a.compile()"
   ]
  },
  {
   "cell_type": "code",
   "execution_count": 7,
   "metadata": {},
   "outputs": [
    {
     "name": "stderr",
     "output_type": "stream",
     "text": [
      "INFO:cmdstanpy:CmdStan start procesing\n"
     ]
    },
    {
     "data": {
      "application/vnd.jupyter.widget-view+json": {
       "model_id": "dfcd69d3f5624180a79b6817d7baffb8",
       "version_major": 2,
       "version_minor": 0
      },
      "text/plain": [
       "chain 1 |          | 00:00 Status"
      ]
     },
     "metadata": {},
     "output_type": "display_data"
    },
    {
     "data": {
      "application/vnd.jupyter.widget-view+json": {
       "model_id": "c048d4d14ab1482a8e78c5e4dcc914b6",
       "version_major": 2,
       "version_minor": 0
      },
      "text/plain": [
       "chain 2 |          | 00:00 Status"
      ]
     },
     "metadata": {},
     "output_type": "display_data"
    },
    {
     "data": {
      "application/vnd.jupyter.widget-view+json": {
       "model_id": "0c01effea15d4b0d9d8cd7878d8d14b7",
       "version_major": 2,
       "version_minor": 0
      },
      "text/plain": [
       "chain 3 |          | 00:00 Status"
      ]
     },
     "metadata": {},
     "output_type": "display_data"
    },
    {
     "data": {
      "application/vnd.jupyter.widget-view+json": {
       "model_id": "a16d50026bb943a6a35aba39fd9e0c33",
       "version_major": 2,
       "version_minor": 0
      },
      "text/plain": [
       "chain 4 |          | 00:00 Status"
      ]
     },
     "metadata": {},
     "output_type": "display_data"
    },
    {
     "name": "stdout",
     "output_type": "stream",
     "text": [
      "                                                                                                                                                                                                                                                                                                                                "
     ]
    },
    {
     "name": "stderr",
     "output_type": "stream",
     "text": [
      "INFO:cmdstanpy:CmdStan done processing.\n"
     ]
    },
    {
     "name": "stdout",
     "output_type": "stream",
     "text": [
      "\n",
      "CPU times: user 185 ms, sys: 108 ms, total: 293 ms\n",
      "Wall time: 291 ms\n"
     ]
    }
   ],
   "source": [
    "%%time\n",
    "data = d[['gid', 'apps', 'awards']].copy()\n",
    "data.gid = data.gid + 1\n",
    "data = data.to_dict(orient='list')\n",
    "data['n'] = len(data['awards'])\n",
    "fit_1a = model_1a.sample(data=data, chains=4)"
   ]
  },
  {
   "cell_type": "code",
   "execution_count": 8,
   "metadata": {},
   "outputs": [
    {
     "data": {
      "text/html": [
       "<div>\n",
       "<style scoped>\n",
       "    .dataframe tbody tr th:only-of-type {\n",
       "        vertical-align: middle;\n",
       "    }\n",
       "\n",
       "    .dataframe tbody tr th {\n",
       "        vertical-align: top;\n",
       "    }\n",
       "\n",
       "    .dataframe thead th {\n",
       "        text-align: right;\n",
       "    }\n",
       "</style>\n",
       "<table border=\"1\" class=\"dataframe\">\n",
       "  <thead>\n",
       "    <tr style=\"text-align: right;\">\n",
       "      <th></th>\n",
       "      <th>Mean</th>\n",
       "      <th>MCSE</th>\n",
       "      <th>StdDev</th>\n",
       "      <th>5%</th>\n",
       "      <th>50%</th>\n",
       "      <th>95%</th>\n",
       "      <th>N_Eff</th>\n",
       "      <th>N_Eff/s</th>\n",
       "      <th>R_hat</th>\n",
       "    </tr>\n",
       "    <tr>\n",
       "      <th>name</th>\n",
       "      <th></th>\n",
       "      <th></th>\n",
       "      <th></th>\n",
       "      <th></th>\n",
       "      <th></th>\n",
       "      <th></th>\n",
       "      <th></th>\n",
       "      <th></th>\n",
       "      <th></th>\n",
       "    </tr>\n",
       "  </thead>\n",
       "  <tbody>\n",
       "    <tr>\n",
       "      <th>lp__</th>\n",
       "      <td>-1300.0</td>\n",
       "      <td>0.0230</td>\n",
       "      <td>1.000</td>\n",
       "      <td>-1300.0</td>\n",
       "      <td>-1300.0</td>\n",
       "      <td>-1300.0</td>\n",
       "      <td>1800.0</td>\n",
       "      <td>17000.0</td>\n",
       "      <td>1.0</td>\n",
       "    </tr>\n",
       "    <tr>\n",
       "      <th>a[1]</th>\n",
       "      <td>-1.5</td>\n",
       "      <td>0.0011</td>\n",
       "      <td>0.064</td>\n",
       "      <td>-1.6</td>\n",
       "      <td>-1.5</td>\n",
       "      <td>-1.4</td>\n",
       "      <td>3474.0</td>\n",
       "      <td>32775.0</td>\n",
       "      <td>1.0</td>\n",
       "    </tr>\n",
       "    <tr>\n",
       "      <th>a[2]</th>\n",
       "      <td>-1.7</td>\n",
       "      <td>0.0013</td>\n",
       "      <td>0.081</td>\n",
       "      <td>-1.9</td>\n",
       "      <td>-1.7</td>\n",
       "      <td>-1.6</td>\n",
       "      <td>3737.0</td>\n",
       "      <td>35252.0</td>\n",
       "      <td>1.0</td>\n",
       "    </tr>\n",
       "  </tbody>\n",
       "</table>\n",
       "</div>"
      ],
      "text/plain": [
       "        Mean    MCSE  StdDev      5%     50%     95%   N_Eff  N_Eff/s  R_hat\n",
       "name                                                                        \n",
       "lp__ -1300.0  0.0230   1.000 -1300.0 -1300.0 -1300.0  1800.0  17000.0    1.0\n",
       "a[1]    -1.5  0.0011   0.064    -1.6    -1.5    -1.4  3474.0  32775.0    1.0\n",
       "a[2]    -1.7  0.0013   0.081    -1.9    -1.7    -1.6  3737.0  35252.0    1.0"
      ]
     },
     "execution_count": 8,
     "metadata": {},
     "output_type": "execute_result"
    }
   ],
   "source": [
    "fit_1a.summary()"
   ]
  },
  {
   "cell_type": "code",
   "execution_count": 9,
   "metadata": {},
   "outputs": [
    {
     "data": {
      "image/png": "[encoded data removed]",
      "text/plain": [
       "<Figure size 600x200 with 1 Axes>"
      ]
     },
     "metadata": {},
     "output_type": "display_data"
    },
    {
     "data": {
      "text/plain": [
       "<ggplot: (8738518433512)>"
      ]
     },
     "execution_count": 9,
     "metadata": {},
     "output_type": "execute_result"
    }
   ],
   "source": [
    "atts = ['a']\n",
    "df = fit_1a.draws_pd(vars=atts)\n",
    "im = pd.melt(df, value_vars=df.columns)\n",
    "\n",
    "(\n",
    "    ggplot(im)\n",
    "    + aes(x='value', color='variable', fill='variable')\n",
    "    + geom_density(alpha=0.2)\n",
    "    + theme_light()\n",
    "    + theme(figure_size=(6,2))\n",
    ")"
   ]
  },
  {
   "cell_type": "markdown",
   "metadata": {
    "id": "JT_hK2SGbzdw"
   },
   "source": [
    "Gender 1 here is male and 2 is female. So males have higher rates of award, on average. How big is the difference? Let's look at the contrast on absolute (penguin) scale:"
   ]
  },
  {
   "cell_type": "code",
   "execution_count": 10,
   "metadata": {},
   "outputs": [
    {
     "name": "stdout",
     "output_type": "stream",
     "text": [
      "prob_m = 0.18, logit_f = 0.15\n"
     ]
    }
   ],
   "source": [
    "posterior = fit_1a.draws_pd(vars='a')\n",
    "probs = expit(posterior)\n",
    "prob_m = probs['a[1]'].mean()\n",
    "prob_f = probs['a[2]'].mean()\n",
    "print(f'prob_m = {prob_m:.2f}, logit_f = {prob_f:.2f}')"
   ]
  },
  {
   "cell_type": "markdown",
   "metadata": {
    "id": "zOVa--D268t8"
   },
   "source": [
    "We can see that that difference is just the average in acceptance rate (by gender) which makes total sense."
   ]
  },
  {
   "cell_type": "code",
   "execution_count": 11,
   "metadata": {
    "colab": {
     "base_uri": "https://localhost:8080/",
     "height": 111
    },
    "executionInfo": {
     "elapsed": 14359,
     "status": "ok",
     "timestamp": 1601815451659,
     "user": {
      "displayName": "Andrés Suárez",
      "photoUrl": "https://lh5.googleusercontent.com/-s0kzcIwylzA/AAAAAAAAAAI/AAAAAAAAQXA/v8Sc6WgQy7c/s64/photo.jpg",
      "userId": "06409440331868776168"
     },
     "user_tz": -120
    },
    "id": "pND0zpZi60Eh",
    "outputId": "0284bd7b-0e9a-4efc-8b9f-dc7eef2d33f2"
   },
   "outputs": [
    {
     "data": {
      "text/html": [
       "<div>\n",
       "<style scoped>\n",
       "    .dataframe tbody tr th:only-of-type {\n",
       "        vertical-align: middle;\n",
       "    }\n",
       "\n",
       "    .dataframe tbody tr th {\n",
       "        vertical-align: top;\n",
       "    }\n",
       "\n",
       "    .dataframe thead th {\n",
       "        text-align: right;\n",
       "    }\n",
       "</style>\n",
       "<table border=\"1\" class=\"dataframe\">\n",
       "  <thead>\n",
       "    <tr style=\"text-align: right;\">\n",
       "      <th></th>\n",
       "      <th>gid</th>\n",
       "      <th>awards</th>\n",
       "      <th>apps</th>\n",
       "      <th>rate</th>\n",
       "    </tr>\n",
       "  </thead>\n",
       "  <tbody>\n",
       "    <tr>\n",
       "      <th>0</th>\n",
       "      <td>0</td>\n",
       "      <td>290</td>\n",
       "      <td>1635</td>\n",
       "      <td>0.18</td>\n",
       "    </tr>\n",
       "    <tr>\n",
       "      <th>1</th>\n",
       "      <td>1</td>\n",
       "      <td>177</td>\n",
       "      <td>1188</td>\n",
       "      <td>0.15</td>\n",
       "    </tr>\n",
       "  </tbody>\n",
       "</table>\n",
       "</div>"
      ],
      "text/plain": [
       "   gid  awards  apps  rate\n",
       "0    0     290  1635  0.18\n",
       "1    1     177  1188  0.15"
      ]
     },
     "execution_count": 11,
     "metadata": {},
     "output_type": "execute_result"
    }
   ],
   "source": [
    "rate_by_gid = d.groupby('gid')[['awards','apps']].sum().reset_index()\n",
    "rate_by_gid['rate']=rate_by_gid.awards/rate_by_gid.apps\n",
    "rate_by_gid.round(2)"
   ]
  },
  {
   "cell_type": "markdown",
   "metadata": {
    "id": "MeWiLVZIbzeF"
   },
   "source": [
    "So a small 3% difference on average. Still, with such low funding rates (in some disciplines), 3% is a big advantage. Now for the direct influence of gender, we condition on discipline as well:"
   ]
  },
  {
   "cell_type": "code",
   "execution_count": 12,
   "metadata": {},
   "outputs": [
    {
     "name": "stderr",
     "output_type": "stream",
     "text": [
      "INFO:cmdstanpy:compiling stan file /home/jovyan/work/statret/stn/week06_01b.stan to exe file /home/jovyan/work/statret/stn/week06_01b\n",
      "INFO:cmdstanpy:compiled model executable: /home/jovyan/work/statret/stn/week06_01b\n",
      "INFO:cmdstanpy:found newer exe file, not recompiling\n"
     ]
    }
   ],
   "source": [
    "ngid = d.gid.unique().size\n",
    "ndsc = d.disc.unique().size\n",
    "\n",
    "model = '''\n",
    "\n",
    "data {\n",
    "    int n;\n",
    "    int gid[n];\n",
    "    int disc[n];\n",
    "    int apps[n];\n",
    "    int awards[n];\n",
    "}\n",
    "\n",
    "parameters {\n",
    "    real a[%s];\n",
    "    real d[%s];\n",
    "}\n",
    "\n",
    "model {\n",
    "    // prior\n",
    "    a ~ normal(-1,1);\n",
    "    d ~ normal(0,1);\n",
    "    //likelihood\n",
    "    vector[n] alpha;\n",
    "    for (i in 1:n) {\n",
    "        alpha[i] = a[gid[i]] + d[disc[i]];\n",
    "    }\n",
    "    awards ~ binomial_logit(apps, alpha);\n",
    "}\n",
    "\n",
    "''' % (ngid, ndsc)\n",
    "\n",
    "stan_file = './stn/week06_01b.stan'\n",
    "with open(stan_file, 'w') as f:\n",
    "    print(model, file=f)\n",
    "    \n",
    "model_1b = CmdStanModel(stan_file=stan_file)\n",
    "model_1b.compile()"
   ]
  },
  {
   "cell_type": "code",
   "execution_count": 13,
   "metadata": {},
   "outputs": [
    {
     "name": "stderr",
     "output_type": "stream",
     "text": [
      "INFO:cmdstanpy:CmdStan start procesing\n"
     ]
    },
    {
     "data": {
      "application/vnd.jupyter.widget-view+json": {
       "model_id": "5f1d066821974e599f22ab61538972fd",
       "version_major": 2,
       "version_minor": 0
      },
      "text/plain": [
       "chain 1 |          | 00:00 Status"
      ]
     },
     "metadata": {},
     "output_type": "display_data"
    },
    {
     "data": {
      "application/vnd.jupyter.widget-view+json": {
       "model_id": "609f63a775d74425a38d2b3c06ec5b05",
       "version_major": 2,
       "version_minor": 0
      },
      "text/plain": [
       "chain 2 |          | 00:00 Status"
      ]
     },
     "metadata": {},
     "output_type": "display_data"
    },
    {
     "data": {
      "application/vnd.jupyter.widget-view+json": {
       "model_id": "0e0ea70dcb3d40a89665c1c151ab3837",
       "version_major": 2,
       "version_minor": 0
      },
      "text/plain": [
       "chain 3 |          | 00:00 Status"
      ]
     },
     "metadata": {},
     "output_type": "display_data"
    },
    {
     "data": {
      "application/vnd.jupyter.widget-view+json": {
       "model_id": "7db024ec411043e48962dce391a56435",
       "version_major": 2,
       "version_minor": 0
      },
      "text/plain": [
       "chain 4 |          | 00:00 Status"
      ]
     },
     "metadata": {},
     "output_type": "display_data"
    },
    {
     "name": "stdout",
     "output_type": "stream",
     "text": [
      "                                                                                                                                                                                                                                                                                                                                "
     ]
    },
    {
     "name": "stderr",
     "output_type": "stream",
     "text": [
      "INFO:cmdstanpy:CmdStan done processing.\n"
     ]
    },
    {
     "name": "stdout",
     "output_type": "stream",
     "text": [
      "\n",
      "CPU times: user 204 ms, sys: 80 ms, total: 284 ms\n",
      "Wall time: 388 ms\n"
     ]
    }
   ],
   "source": [
    "%%time\n",
    "data = d[['gid', 'apps', 'awards', 'disc']].copy()\n",
    "data.gid = data.gid + 1\n",
    "data.disc = data.disc + 1\n",
    "data = data.to_dict(orient='list')\n",
    "data['n'] = len(data['awards'])\n",
    "fit_1b = model_1b.sample(data=data, chains=4)"
   ]
  },
  {
   "cell_type": "code",
   "execution_count": 14,
   "metadata": {},
   "outputs": [
    {
     "data": {
      "text/html": [
       "<div>\n",
       "<style scoped>\n",
       "    .dataframe tbody tr th:only-of-type {\n",
       "        vertical-align: middle;\n",
       "    }\n",
       "\n",
       "    .dataframe tbody tr th {\n",
       "        vertical-align: top;\n",
       "    }\n",
       "\n",
       "    .dataframe thead th {\n",
       "        text-align: right;\n",
       "    }\n",
       "</style>\n",
       "<table border=\"1\" class=\"dataframe\">\n",
       "  <thead>\n",
       "    <tr style=\"text-align: right;\">\n",
       "      <th></th>\n",
       "      <th>Mean</th>\n",
       "      <th>MCSE</th>\n",
       "      <th>StdDev</th>\n",
       "      <th>5%</th>\n",
       "      <th>50%</th>\n",
       "      <th>95%</th>\n",
       "      <th>N_Eff</th>\n",
       "      <th>N_Eff/s</th>\n",
       "      <th>R_hat</th>\n",
       "    </tr>\n",
       "    <tr>\n",
       "      <th>name</th>\n",
       "      <th></th>\n",
       "      <th></th>\n",
       "      <th></th>\n",
       "      <th></th>\n",
       "      <th></th>\n",
       "      <th></th>\n",
       "      <th></th>\n",
       "      <th></th>\n",
       "      <th></th>\n",
       "    </tr>\n",
       "  </thead>\n",
       "  <tbody>\n",
       "    <tr>\n",
       "      <th>lp__</th>\n",
       "      <td>-1300.0000</td>\n",
       "      <td>0.061</td>\n",
       "      <td>2.40</td>\n",
       "      <td>-1300.00</td>\n",
       "      <td>-1300.000</td>\n",
       "      <td>-1300.000</td>\n",
       "      <td>1500.0</td>\n",
       "      <td>4500.0</td>\n",
       "      <td>1.0</td>\n",
       "    </tr>\n",
       "    <tr>\n",
       "      <th>a[1]</th>\n",
       "      <td>-1.3000</td>\n",
       "      <td>0.013</td>\n",
       "      <td>0.30</td>\n",
       "      <td>-1.80</td>\n",
       "      <td>-1.300</td>\n",
       "      <td>-0.840</td>\n",
       "      <td>479.0</td>\n",
       "      <td>1425.0</td>\n",
       "      <td>1.0</td>\n",
       "    </tr>\n",
       "    <tr>\n",
       "      <th>a[2]</th>\n",
       "      <td>-1.5000</td>\n",
       "      <td>0.014</td>\n",
       "      <td>0.30</td>\n",
       "      <td>-2.00</td>\n",
       "      <td>-1.500</td>\n",
       "      <td>-0.990</td>\n",
       "      <td>492.0</td>\n",
       "      <td>1463.0</td>\n",
       "      <td>1.0</td>\n",
       "    </tr>\n",
       "    <tr>\n",
       "      <th>d[1]</th>\n",
       "      <td>0.3300</td>\n",
       "      <td>0.013</td>\n",
       "      <td>0.35</td>\n",
       "      <td>-0.25</td>\n",
       "      <td>0.330</td>\n",
       "      <td>0.890</td>\n",
       "      <td>660.0</td>\n",
       "      <td>1964.0</td>\n",
       "      <td>1.0</td>\n",
       "    </tr>\n",
       "    <tr>\n",
       "      <th>d[2]</th>\n",
       "      <td>-0.0190</td>\n",
       "      <td>0.014</td>\n",
       "      <td>0.34</td>\n",
       "      <td>-0.55</td>\n",
       "      <td>-0.020</td>\n",
       "      <td>0.520</td>\n",
       "      <td>599.0</td>\n",
       "      <td>1783.0</td>\n",
       "      <td>1.0</td>\n",
       "    </tr>\n",
       "    <tr>\n",
       "      <th>d[3]</th>\n",
       "      <td>0.2900</td>\n",
       "      <td>0.014</td>\n",
       "      <td>0.38</td>\n",
       "      <td>-0.33</td>\n",
       "      <td>0.280</td>\n",
       "      <td>0.910</td>\n",
       "      <td>750.0</td>\n",
       "      <td>2232.0</td>\n",
       "      <td>1.0</td>\n",
       "    </tr>\n",
       "    <tr>\n",
       "      <th>d[4]</th>\n",
       "      <td>-0.2400</td>\n",
       "      <td>0.014</td>\n",
       "      <td>0.32</td>\n",
       "      <td>-0.75</td>\n",
       "      <td>-0.240</td>\n",
       "      <td>0.290</td>\n",
       "      <td>539.0</td>\n",
       "      <td>1603.0</td>\n",
       "      <td>1.0</td>\n",
       "    </tr>\n",
       "    <tr>\n",
       "      <th>d[5]</th>\n",
       "      <td>-0.2100</td>\n",
       "      <td>0.014</td>\n",
       "      <td>0.33</td>\n",
       "      <td>-0.75</td>\n",
       "      <td>-0.200</td>\n",
       "      <td>0.340</td>\n",
       "      <td>542.0</td>\n",
       "      <td>1612.0</td>\n",
       "      <td>1.0</td>\n",
       "    </tr>\n",
       "    <tr>\n",
       "      <th>d[6]</th>\n",
       "      <td>-0.2700</td>\n",
       "      <td>0.014</td>\n",
       "      <td>0.35</td>\n",
       "      <td>-0.83</td>\n",
       "      <td>-0.270</td>\n",
       "      <td>0.300</td>\n",
       "      <td>660.0</td>\n",
       "      <td>1963.0</td>\n",
       "      <td>1.0</td>\n",
       "    </tr>\n",
       "    <tr>\n",
       "      <th>d[7]</th>\n",
       "      <td>0.0037</td>\n",
       "      <td>0.014</td>\n",
       "      <td>0.32</td>\n",
       "      <td>-0.53</td>\n",
       "      <td>0.016</td>\n",
       "      <td>0.530</td>\n",
       "      <td>559.0</td>\n",
       "      <td>1663.0</td>\n",
       "      <td>1.0</td>\n",
       "    </tr>\n",
       "    <tr>\n",
       "      <th>d[8]</th>\n",
       "      <td>-0.4500</td>\n",
       "      <td>0.013</td>\n",
       "      <td>0.31</td>\n",
       "      <td>-0.96</td>\n",
       "      <td>-0.450</td>\n",
       "      <td>0.048</td>\n",
       "      <td>514.0</td>\n",
       "      <td>1529.0</td>\n",
       "      <td>1.0</td>\n",
       "    </tr>\n",
       "    <tr>\n",
       "      <th>d[9]</th>\n",
       "      <td>-0.3300</td>\n",
       "      <td>0.013</td>\n",
       "      <td>0.31</td>\n",
       "      <td>-0.84</td>\n",
       "      <td>-0.330</td>\n",
       "      <td>0.190</td>\n",
       "      <td>544.0</td>\n",
       "      <td>1619.0</td>\n",
       "      <td>1.0</td>\n",
       "    </tr>\n",
       "  </tbody>\n",
       "</table>\n",
       "</div>"
      ],
      "text/plain": [
       "           Mean   MCSE  StdDev       5%       50%       95%   N_Eff  N_Eff/s  \\\n",
       "name                                                                           \n",
       "lp__ -1300.0000  0.061    2.40 -1300.00 -1300.000 -1300.000  1500.0   4500.0   \n",
       "a[1]    -1.3000  0.013    0.30    -1.80    -1.300    -0.840   479.0   1425.0   \n",
       "a[2]    -1.5000  0.014    0.30    -2.00    -1.500    -0.990   492.0   1463.0   \n",
       "d[1]     0.3300  0.013    0.35    -0.25     0.330     0.890   660.0   1964.0   \n",
       "d[2]    -0.0190  0.014    0.34    -0.55    -0.020     0.520   599.0   1783.0   \n",
       "d[3]     0.2900  0.014    0.38    -0.33     0.280     0.910   750.0   2232.0   \n",
       "d[4]    -0.2400  0.014    0.32    -0.75    -0.240     0.290   539.0   1603.0   \n",
       "d[5]    -0.2100  0.014    0.33    -0.75    -0.200     0.340   542.0   1612.0   \n",
       "d[6]    -0.2700  0.014    0.35    -0.83    -0.270     0.300   660.0   1963.0   \n",
       "d[7]     0.0037  0.014    0.32    -0.53     0.016     0.530   559.0   1663.0   \n",
       "d[8]    -0.4500  0.013    0.31    -0.96    -0.450     0.048   514.0   1529.0   \n",
       "d[9]    -0.3300  0.013    0.31    -0.84    -0.330     0.190   544.0   1619.0   \n",
       "\n",
       "      R_hat  \n",
       "name         \n",
       "lp__    1.0  \n",
       "a[1]    1.0  \n",
       "a[2]    1.0  \n",
       "d[1]    1.0  \n",
       "d[2]    1.0  \n",
       "d[3]    1.0  \n",
       "d[4]    1.0  \n",
       "d[5]    1.0  \n",
       "d[6]    1.0  \n",
       "d[7]    1.0  \n",
       "d[8]    1.0  \n",
       "d[9]    1.0  "
      ]
     },
     "execution_count": 14,
     "metadata": {},
     "output_type": "execute_result"
    }
   ],
   "source": [
    "fit_1b.summary()"
   ]
  },
  {
   "cell_type": "markdown",
   "metadata": {},
   "source": [
    "Now, we can compute the gender difference again. On the probability scale:"
   ]
  },
  {
   "cell_type": "code",
   "execution_count": 15,
   "metadata": {},
   "outputs": [
    {
     "name": "stdout",
     "output_type": "stream",
     "text": [
      "prob_m = 0.21, logit_f = 0.19\n"
     ]
    }
   ],
   "source": [
    "posterior = fit_1b.draws_pd(vars='a')\n",
    "probs = expit(posterior)\n",
    "prob_m = probs['a[1]'].mean()\n",
    "prob_f = probs['a[2]'].mean()\n",
    "print(f'prob_m = {prob_m:.2f}, logit_f = {prob_f:.2f}')"
   ]
  },
  {
   "cell_type": "markdown",
   "metadata": {
    "id": "AlRUYePebzei"
   },
   "source": [
    "Still an advantage for the males, but reduced and overlapping zero a bit. To see this difference on the absolute scale, we need to account for the base rates in each discipline as well. There are also several disciplines that reverse the advantage. If there is a direct influence of gender here, it is small, much smaller than before we accounted for discipline. Why? Because again the disciplines have different funding rates and women apply more to the disciplines with lower funding rates. But it would be hasty, I think, to conclude there are no other influences. There are after all lots of unmeasured confounds..."
   ]
  },
  {
   "cell_type": "markdown",
   "metadata": {
    "id": "3RJRQailbzej"
   },
   "source": [
    "## Exercise 2"
   ]
  },
  {
   "cell_type": "markdown",
   "metadata": {
    "id": "QTUlAtQLbzen"
   },
   "source": [
    "> Suppose that the NWO Grants sample has an unobserved confound that influences both choice of discipline and the probability of an award. One example of such a confound could be the career stage of each applicant. Suppose that in some disciplines, junior scholars apply for most of the grants. In other disciplines, scholars from all career stages compete. As a result, career stage influences discipline as well as the probability of being awarded a grant.\n",
    "\n",
    "> Add these influences to your DAG from Problem 1. What happens now when you condition on discipline? Does it provide an un-confounded estimate of the direct path from gender to an award? Why or why not? Justify your answer with the back-door criterion. Hint: This is structurally a lot like the grandparents-parents-children-neighborhoods example from a previous week.\n",
    "\n",
    "> If you have trouble thinking this though, try simulating fake data, assuming your DAG is true. Then analyze it using the model from Problem 1. What do you conclude? Is it possible for gender to have a real direct causal influence but for a regression conditioning on both gender and discipline to suggest zero influence?"
   ]
  },
  {
   "cell_type": "markdown",
   "metadata": {
    "id": "QuymnNPibzeo"
   },
   "source": [
    "The implied DAG is:\n",
    "\n",
    "<img src=\"./fig/w6_img2.png\" width=\"30%\">\n",
    "\n",
    "where `S` is stage of career (unobserved), `D`is discpline, `A`is award and `G` is gender. This DAG has the same structure as the grandparents-parents-children-neighborhoods example from earlier in the course. When we condition on discipline `D` it opens a back-door path through S to A. It is not possible here to get an unconfounded estimate of gender on awards. This code simulates 1000 applicants. There are 2 genders (`G` 0/1), 2 stages of career (`S` 0/1), and 2 disciplines (`D` 0/1). Discipline 1 is chosen more by gender 1 and career stage 1. So that could mean more by males and later stage of career. Then awards `A` have a consistent bias towards gender 1, and discipline 1 has a higher award rate, and stage 1 also a higher award rate. If we analyze these data:"
   ]
  },
  {
   "cell_type": "code",
   "execution_count": 16,
   "metadata": {
    "colab": {
     "base_uri": "https://localhost:8080/",
     "height": 204
    },
    "executionInfo": {
     "elapsed": 3655,
     "status": "ok",
     "timestamp": 1601815477474,
     "user": {
      "displayName": "Andrés Suárez",
      "photoUrl": "https://lh5.googleusercontent.com/-s0kzcIwylzA/AAAAAAAAAAI/AAAAAAAAQXA/v8Sc6WgQy7c/s64/photo.jpg",
      "userId": "06409440331868776168"
     },
     "user_tz": -120
    },
    "id": "lxc7u_vTCCHt",
    "outputId": "1415874d-d743-4718-cc32-053064ae3a70"
   },
   "outputs": [
    {
     "data": {
      "text/html": [
       "<div>\n",
       "<style scoped>\n",
       "    .dataframe tbody tr th:only-of-type {\n",
       "        vertical-align: middle;\n",
       "    }\n",
       "\n",
       "    .dataframe tbody tr th {\n",
       "        vertical-align: top;\n",
       "    }\n",
       "\n",
       "    .dataframe thead th {\n",
       "        text-align: right;\n",
       "    }\n",
       "</style>\n",
       "<table border=\"1\" class=\"dataframe\">\n",
       "  <thead>\n",
       "    <tr style=\"text-align: right;\">\n",
       "      <th></th>\n",
       "      <th>gender</th>\n",
       "      <th>stage</th>\n",
       "      <th>disc</th>\n",
       "      <th>award</th>\n",
       "    </tr>\n",
       "  </thead>\n",
       "  <tbody>\n",
       "    <tr>\n",
       "      <th>0</th>\n",
       "      <td>0</td>\n",
       "      <td>0</td>\n",
       "      <td>0</td>\n",
       "      <td>0</td>\n",
       "    </tr>\n",
       "    <tr>\n",
       "      <th>1</th>\n",
       "      <td>1</td>\n",
       "      <td>0</td>\n",
       "      <td>1</td>\n",
       "      <td>0</td>\n",
       "    </tr>\n",
       "    <tr>\n",
       "      <th>2</th>\n",
       "      <td>1</td>\n",
       "      <td>1</td>\n",
       "      <td>1</td>\n",
       "      <td>0</td>\n",
       "    </tr>\n",
       "    <tr>\n",
       "      <th>3</th>\n",
       "      <td>1</td>\n",
       "      <td>0</td>\n",
       "      <td>0</td>\n",
       "      <td>0</td>\n",
       "    </tr>\n",
       "    <tr>\n",
       "      <th>4</th>\n",
       "      <td>1</td>\n",
       "      <td>0</td>\n",
       "      <td>1</td>\n",
       "      <td>0</td>\n",
       "    </tr>\n",
       "  </tbody>\n",
       "</table>\n",
       "</div>"
      ],
      "text/plain": [
       "   gender  stage  disc  award\n",
       "0       0      0     0      0\n",
       "1       1      0     1      0\n",
       "2       1      1     1      0\n",
       "3       1      0     0      0\n",
       "4       1      0     1      0"
      ]
     },
     "execution_count": 16,
     "metadata": {},
     "output_type": "execute_result"
    }
   ],
   "source": [
    "N = 1000\n",
    "G = np.random.binomial(n=1, p=0.5, size=N)\n",
    "S = np.random.binomial(n=1, p=0.5, size=N)\n",
    "D = np.random.binomial(n=1, p=expit((G+S).astype('float')), size=N)\n",
    "A = np.random.binomial(n=1, p=expit((D+0.25*G+2*S-2).astype('float')), size=N)\n",
    "d1 = pd.DataFrame(data={'gender': G, 'stage':S, 'disc': D, 'award':A})\n",
    "d1.head()"
   ]
  },
  {
   "cell_type": "code",
   "execution_count": 17,
   "metadata": {},
   "outputs": [
    {
     "name": "stderr",
     "output_type": "stream",
     "text": [
      "INFO:cmdstanpy:compiling stan file /home/jovyan/work/statret/stn/week06_02.stan to exe file /home/jovyan/work/statret/stn/week06_02\n",
      "INFO:cmdstanpy:compiled model executable: /home/jovyan/work/statret/stn/week06_02\n",
      "INFO:cmdstanpy:found newer exe file, not recompiling\n"
     ]
    }
   ],
   "source": [
    "model = '''\n",
    "\n",
    "data {\n",
    "    int n;\n",
    "    int gender[n];\n",
    "    int disc[n];\n",
    "    int award[n];\n",
    "}\n",
    "\n",
    "parameters {\n",
    "    real a;\n",
    "    real g;\n",
    "    real d;\n",
    "}\n",
    "\n",
    "model {\n",
    "    // prior\n",
    "    a ~ normal(0,1);\n",
    "    g ~ normal(0,1);\n",
    "    d ~ normal(0,1);\n",
    "    // likelihood\n",
    "    vector[n] alpha;\n",
    "    for (i in 1:n) {alpha[i] = a + g*gender[i] + d*disc[i];}\n",
    "    award ~ bernoulli_logit(alpha);\n",
    "}\n",
    "\n",
    "'''\n",
    "\n",
    "stan_file = './stn/week06_02.stan'\n",
    "with open(stan_file, 'w') as f:\n",
    "    print(model, file=f)\n",
    "    \n",
    "model = CmdStanModel(stan_file=stan_file)\n",
    "model.compile()"
   ]
  },
  {
   "cell_type": "code",
   "execution_count": 18,
   "metadata": {},
   "outputs": [
    {
     "name": "stderr",
     "output_type": "stream",
     "text": [
      "INFO:cmdstanpy:CmdStan start procesing\n"
     ]
    },
    {
     "data": {
      "application/vnd.jupyter.widget-view+json": {
       "model_id": "062f41fc76dc48cfa383c634e45bfdf8",
       "version_major": 2,
       "version_minor": 0
      },
      "text/plain": [
       "chain 1 |          | 00:00 Status"
      ]
     },
     "metadata": {},
     "output_type": "display_data"
    },
    {
     "data": {
      "application/vnd.jupyter.widget-view+json": {
       "model_id": "54ec1b1b7edb4c6aa9a1882ef5fe83c7",
       "version_major": 2,
       "version_minor": 0
      },
      "text/plain": [
       "chain 2 |          | 00:00 Status"
      ]
     },
     "metadata": {},
     "output_type": "display_data"
    },
    {
     "data": {
      "application/vnd.jupyter.widget-view+json": {
       "model_id": "7e0c5afbcf0e4098980e5ccb620f03e6",
       "version_major": 2,
       "version_minor": 0
      },
      "text/plain": [
       "chain 3 |          | 00:00 Status"
      ]
     },
     "metadata": {},
     "output_type": "display_data"
    },
    {
     "data": {
      "application/vnd.jupyter.widget-view+json": {
       "model_id": "18e89f592200464fb8e4eef1e3362aff",
       "version_major": 2,
       "version_minor": 0
      },
      "text/plain": [
       "chain 4 |          | 00:00 Status"
      ]
     },
     "metadata": {},
     "output_type": "display_data"
    },
    {
     "name": "stdout",
     "output_type": "stream",
     "text": [
      "                                                                                                                                                                                                                                                                                                                                "
     ]
    },
    {
     "name": "stderr",
     "output_type": "stream",
     "text": [
      "INFO:cmdstanpy:CmdStan done processing.\n"
     ]
    },
    {
     "name": "stdout",
     "output_type": "stream",
     "text": [
      "\n",
      "CPU times: user 274 ms, sys: 105 ms, total: 379 ms\n",
      "Wall time: 2.38 s\n"
     ]
    }
   ],
   "source": [
    "%%time\n",
    "data = d1[['gender', 'disc', 'award']].copy()\n",
    "data = data.to_dict(orient='list')\n",
    "data['n'] = len(data['award'])\n",
    "fit = model.sample(data=data, chains=4)"
   ]
  },
  {
   "cell_type": "code",
   "execution_count": 19,
   "metadata": {},
   "outputs": [
    {
     "data": {
      "text/html": [
       "<div>\n",
       "<style scoped>\n",
       "    .dataframe tbody tr th:only-of-type {\n",
       "        vertical-align: middle;\n",
       "    }\n",
       "\n",
       "    .dataframe tbody tr th {\n",
       "        vertical-align: top;\n",
       "    }\n",
       "\n",
       "    .dataframe thead th {\n",
       "        text-align: right;\n",
       "    }\n",
       "</style>\n",
       "<table border=\"1\" class=\"dataframe\">\n",
       "  <thead>\n",
       "    <tr style=\"text-align: right;\">\n",
       "      <th></th>\n",
       "      <th>Mean</th>\n",
       "      <th>MCSE</th>\n",
       "      <th>StdDev</th>\n",
       "      <th>5%</th>\n",
       "      <th>50%</th>\n",
       "      <th>95%</th>\n",
       "      <th>N_Eff</th>\n",
       "      <th>N_Eff/s</th>\n",
       "      <th>R_hat</th>\n",
       "    </tr>\n",
       "    <tr>\n",
       "      <th>name</th>\n",
       "      <th></th>\n",
       "      <th></th>\n",
       "      <th></th>\n",
       "      <th></th>\n",
       "      <th></th>\n",
       "      <th></th>\n",
       "      <th></th>\n",
       "      <th></th>\n",
       "      <th></th>\n",
       "    </tr>\n",
       "  </thead>\n",
       "  <tbody>\n",
       "    <tr>\n",
       "      <th>lp__</th>\n",
       "      <td>-660.00</td>\n",
       "      <td>0.0300</td>\n",
       "      <td>1.20</td>\n",
       "      <td>-660.000</td>\n",
       "      <td>-660.00</td>\n",
       "      <td>-660.00</td>\n",
       "      <td>1600.0</td>\n",
       "      <td>400.0</td>\n",
       "      <td>1.0</td>\n",
       "    </tr>\n",
       "    <tr>\n",
       "      <th>a</th>\n",
       "      <td>-1.10</td>\n",
       "      <td>0.0033</td>\n",
       "      <td>0.14</td>\n",
       "      <td>-1.300</td>\n",
       "      <td>-1.10</td>\n",
       "      <td>-0.84</td>\n",
       "      <td>1800.0</td>\n",
       "      <td>450.0</td>\n",
       "      <td>1.0</td>\n",
       "    </tr>\n",
       "    <tr>\n",
       "      <th>g</th>\n",
       "      <td>0.31</td>\n",
       "      <td>0.0028</td>\n",
       "      <td>0.13</td>\n",
       "      <td>0.093</td>\n",
       "      <td>0.31</td>\n",
       "      <td>0.52</td>\n",
       "      <td>2200.0</td>\n",
       "      <td>540.0</td>\n",
       "      <td>1.0</td>\n",
       "    </tr>\n",
       "    <tr>\n",
       "      <th>d</th>\n",
       "      <td>0.94</td>\n",
       "      <td>0.0036</td>\n",
       "      <td>0.16</td>\n",
       "      <td>0.690</td>\n",
       "      <td>0.95</td>\n",
       "      <td>1.20</td>\n",
       "      <td>1800.0</td>\n",
       "      <td>450.0</td>\n",
       "      <td>1.0</td>\n",
       "    </tr>\n",
       "  </tbody>\n",
       "</table>\n",
       "</div>"
      ],
      "text/plain": [
       "        Mean    MCSE  StdDev       5%     50%     95%   N_Eff  N_Eff/s  R_hat\n",
       "name                                                                         \n",
       "lp__ -660.00  0.0300    1.20 -660.000 -660.00 -660.00  1600.0    400.0    1.0\n",
       "a      -1.10  0.0033    0.14   -1.300   -1.10   -0.84  1800.0    450.0    1.0\n",
       "g       0.31  0.0028    0.13    0.093    0.31    0.52  2200.0    540.0    1.0\n",
       "d       0.94  0.0036    0.16    0.690    0.95    1.20  1800.0    450.0    1.0"
      ]
     },
     "execution_count": 19,
     "metadata": {},
     "output_type": "execute_result"
    }
   ],
   "source": [
    "fit.summary()"
   ]
  },
  {
   "cell_type": "markdown",
   "metadata": {
    "id": "ekJaUbgNbzfH"
   },
   "source": [
    "The parameter `g` is the advantage of gender 1. It is smaller than the true advantage and the estimate straddles zero quite a lot, even with 1000 applicants. It is also possible to have no gender influence and infer it by accident. Try these settings:"
   ]
  },
  {
   "cell_type": "code",
   "execution_count": 20,
   "metadata": {
    "colab": {
     "base_uri": "https://localhost:8080/",
     "height": 204
    },
    "executionInfo": {
     "elapsed": 9345,
     "status": "ok",
     "timestamp": 1601815485706,
     "user": {
      "displayName": "Andrés Suárez",
      "photoUrl": "https://lh5.googleusercontent.com/-s0kzcIwylzA/AAAAAAAAAAI/AAAAAAAAQXA/v8Sc6WgQy7c/s64/photo.jpg",
      "userId": "06409440331868776168"
     },
     "user_tz": -120
    },
    "id": "8aHmP8CHBcO1",
    "outputId": "ba66aba2-2f33-4763-9f58-1f1cbd243025"
   },
   "outputs": [
    {
     "data": {
      "text/html": [
       "<div>\n",
       "<style scoped>\n",
       "    .dataframe tbody tr th:only-of-type {\n",
       "        vertical-align: middle;\n",
       "    }\n",
       "\n",
       "    .dataframe tbody tr th {\n",
       "        vertical-align: top;\n",
       "    }\n",
       "\n",
       "    .dataframe thead th {\n",
       "        text-align: right;\n",
       "    }\n",
       "</style>\n",
       "<table border=\"1\" class=\"dataframe\">\n",
       "  <thead>\n",
       "    <tr style=\"text-align: right;\">\n",
       "      <th></th>\n",
       "      <th>gender</th>\n",
       "      <th>stage</th>\n",
       "      <th>disc</th>\n",
       "      <th>award</th>\n",
       "    </tr>\n",
       "  </thead>\n",
       "  <tbody>\n",
       "    <tr>\n",
       "      <th>0</th>\n",
       "      <td>1</td>\n",
       "      <td>0</td>\n",
       "      <td>1</td>\n",
       "      <td>0</td>\n",
       "    </tr>\n",
       "    <tr>\n",
       "      <th>1</th>\n",
       "      <td>1</td>\n",
       "      <td>1</td>\n",
       "      <td>1</td>\n",
       "      <td>0</td>\n",
       "    </tr>\n",
       "    <tr>\n",
       "      <th>2</th>\n",
       "      <td>0</td>\n",
       "      <td>1</td>\n",
       "      <td>1</td>\n",
       "      <td>1</td>\n",
       "    </tr>\n",
       "    <tr>\n",
       "      <th>3</th>\n",
       "      <td>0</td>\n",
       "      <td>0</td>\n",
       "      <td>1</td>\n",
       "      <td>0</td>\n",
       "    </tr>\n",
       "    <tr>\n",
       "      <th>4</th>\n",
       "      <td>0</td>\n",
       "      <td>1</td>\n",
       "      <td>1</td>\n",
       "      <td>1</td>\n",
       "    </tr>\n",
       "  </tbody>\n",
       "</table>\n",
       "</div>"
      ],
      "text/plain": [
       "   gender  stage  disc  award\n",
       "0       1      0     1      0\n",
       "1       1      1     1      0\n",
       "2       0      1     1      1\n",
       "3       0      0     1      0\n",
       "4       0      1     1      1"
      ]
     },
     "execution_count": 20,
     "metadata": {},
     "output_type": "execute_result"
    }
   ],
   "source": [
    "N = 1000\n",
    "G = np.random.binomial(n=1, p=0.5, size=N)\n",
    "S = np.random.binomial(n=1, p=0.5, size=N)\n",
    "D = np.random.binomial(n=1, p=expit((G+S).astype('float')), size=N)\n",
    "A = np.random.binomial(n=1, p=expit((D+0*G+S-2).astype('float')), size=N)\n",
    "d2 = pd.DataFrame(data={'gender': G, 'stage':S, 'disc': D, 'award':A})\n",
    "d2.head()"
   ]
  },
  {
   "cell_type": "code",
   "execution_count": 21,
   "metadata": {},
   "outputs": [
    {
     "name": "stderr",
     "output_type": "stream",
     "text": [
      "INFO:cmdstanpy:CmdStan start procesing\n"
     ]
    },
    {
     "data": {
      "application/vnd.jupyter.widget-view+json": {
       "model_id": "1426b409ee164391b1b35af873e44571",
       "version_major": 2,
       "version_minor": 0
      },
      "text/plain": [
       "chain 1 |          | 00:00 Status"
      ]
     },
     "metadata": {},
     "output_type": "display_data"
    },
    {
     "data": {
      "application/vnd.jupyter.widget-view+json": {
       "model_id": "088c77ba846b4a1ca309e831d76e59a1",
       "version_major": 2,
       "version_minor": 0
      },
      "text/plain": [
       "chain 2 |          | 00:00 Status"
      ]
     },
     "metadata": {},
     "output_type": "display_data"
    },
    {
     "data": {
      "application/vnd.jupyter.widget-view+json": {
       "model_id": "4e434ebe2fd149258dad9064d104cd65",
       "version_major": 2,
       "version_minor": 0
      },
      "text/plain": [
       "chain 3 |          | 00:00 Status"
      ]
     },
     "metadata": {},
     "output_type": "display_data"
    },
    {
     "data": {
      "application/vnd.jupyter.widget-view+json": {
       "model_id": "866eb230adcd42b18c6cc876c4cc0eb2",
       "version_major": 2,
       "version_minor": 0
      },
      "text/plain": [
       "chain 4 |          | 00:00 Status"
      ]
     },
     "metadata": {},
     "output_type": "display_data"
    },
    {
     "name": "stdout",
     "output_type": "stream",
     "text": [
      "                                                                                                                                                                                                                                                                                                                                "
     ]
    },
    {
     "name": "stderr",
     "output_type": "stream",
     "text": [
      "INFO:cmdstanpy:CmdStan done processing.\n"
     ]
    },
    {
     "name": "stdout",
     "output_type": "stream",
     "text": [
      "\n",
      "CPU times: user 271 ms, sys: 87.1 ms, total: 358 ms\n",
      "Wall time: 2.4 s\n"
     ]
    }
   ],
   "source": [
    "%%time\n",
    "data = d2[['gender', 'disc', 'award']].copy()\n",
    "data = data.to_dict(orient='list')\n",
    "data['n'] = len(data['award'])\n",
    "fit = model.sample(data=data, chains=4)"
   ]
  },
  {
   "cell_type": "code",
   "execution_count": 22,
   "metadata": {},
   "outputs": [
    {
     "data": {
      "text/html": [
       "<div>\n",
       "<style scoped>\n",
       "    .dataframe tbody tr th:only-of-type {\n",
       "        vertical-align: middle;\n",
       "    }\n",
       "\n",
       "    .dataframe tbody tr th {\n",
       "        vertical-align: top;\n",
       "    }\n",
       "\n",
       "    .dataframe thead th {\n",
       "        text-align: right;\n",
       "    }\n",
       "</style>\n",
       "<table border=\"1\" class=\"dataframe\">\n",
       "  <thead>\n",
       "    <tr style=\"text-align: right;\">\n",
       "      <th></th>\n",
       "      <th>Mean</th>\n",
       "      <th>MCSE</th>\n",
       "      <th>StdDev</th>\n",
       "      <th>5%</th>\n",
       "      <th>50%</th>\n",
       "      <th>95%</th>\n",
       "      <th>N_Eff</th>\n",
       "      <th>N_Eff/s</th>\n",
       "      <th>R_hat</th>\n",
       "    </tr>\n",
       "    <tr>\n",
       "      <th>name</th>\n",
       "      <th></th>\n",
       "      <th></th>\n",
       "      <th></th>\n",
       "      <th></th>\n",
       "      <th></th>\n",
       "      <th></th>\n",
       "      <th></th>\n",
       "      <th></th>\n",
       "      <th></th>\n",
       "    </tr>\n",
       "  </thead>\n",
       "  <tbody>\n",
       "    <tr>\n",
       "      <th>lp__</th>\n",
       "      <td>-600.00</td>\n",
       "      <td>0.0300</td>\n",
       "      <td>1.20</td>\n",
       "      <td>-610.00</td>\n",
       "      <td>-600.000</td>\n",
       "      <td>-600.00</td>\n",
       "      <td>1600.0</td>\n",
       "      <td>390.0</td>\n",
       "      <td>1.0</td>\n",
       "    </tr>\n",
       "    <tr>\n",
       "      <th>a</th>\n",
       "      <td>-1.60</td>\n",
       "      <td>0.0040</td>\n",
       "      <td>0.16</td>\n",
       "      <td>-1.80</td>\n",
       "      <td>-1.600</td>\n",
       "      <td>-1.30</td>\n",
       "      <td>1600.0</td>\n",
       "      <td>370.0</td>\n",
       "      <td>1.0</td>\n",
       "    </tr>\n",
       "    <tr>\n",
       "      <th>g</th>\n",
       "      <td>-0.08</td>\n",
       "      <td>0.0030</td>\n",
       "      <td>0.14</td>\n",
       "      <td>-0.31</td>\n",
       "      <td>-0.081</td>\n",
       "      <td>0.15</td>\n",
       "      <td>2200.0</td>\n",
       "      <td>510.0</td>\n",
       "      <td>1.0</td>\n",
       "    </tr>\n",
       "    <tr>\n",
       "      <th>d</th>\n",
       "      <td>1.10</td>\n",
       "      <td>0.0045</td>\n",
       "      <td>0.18</td>\n",
       "      <td>0.84</td>\n",
       "      <td>1.100</td>\n",
       "      <td>1.40</td>\n",
       "      <td>1500.0</td>\n",
       "      <td>350.0</td>\n",
       "      <td>1.0</td>\n",
       "    </tr>\n",
       "  </tbody>\n",
       "</table>\n",
       "</div>"
      ],
      "text/plain": [
       "        Mean    MCSE  StdDev      5%      50%     95%   N_Eff  N_Eff/s  R_hat\n",
       "name                                                                         \n",
       "lp__ -600.00  0.0300    1.20 -610.00 -600.000 -600.00  1600.0    390.0    1.0\n",
       "a      -1.60  0.0040    0.16   -1.80   -1.600   -1.30  1600.0    370.0    1.0\n",
       "g      -0.08  0.0030    0.14   -0.31   -0.081    0.15  2200.0    510.0    1.0\n",
       "d       1.10  0.0045    0.18    0.84    1.100    1.40  1500.0    350.0    1.0"
      ]
     },
     "execution_count": 22,
     "metadata": {},
     "output_type": "execute_result"
    }
   ],
   "source": [
    "fit.summary()"
   ]
  },
  {
   "cell_type": "markdown",
   "metadata": {
    "id": "4lamEZBxbzfa"
   },
   "source": [
    "Now it looks like gender 1 has a consistent advantage, but in fact there is no advantage in the simulation."
   ]
  },
  {
   "cell_type": "markdown",
   "metadata": {
    "id": "oB_GU0YQbzfc"
   },
   "source": [
    "## Exercise 3"
   ]
  },
  {
   "cell_type": "markdown",
   "metadata": {
    "id": "G1yhC4bwbzfc"
   },
   "source": [
    "> The data in data(`Primates301`) were first introduced at the end of Chapter 7. In this problem, you will consider how brain size is associated with social learning. There are three parts.\n",
    "\n",
    "> First, model the number of observations of `social_learning` for each species as a function of the log `brain` size. Use a Poisson distribution for the `social_learning` outcome variable. Interpret the resulting posterior.\n",
    "\n",
    "> Second, some species are studied much more than others. So the number of reported instances of `social_learning` could be a product of research effort. Use the `research_effort` variable, specifically its logarithm, as an additional predictor variable. Interpret the coefficient for log `research_effort`. Does this model disagree with the previous one?\n",
    "\n",
    "> Third, draw a DAG to represent how you think the variables `social_learning`, `brain`, and `research_effort` interact. Justify the DAG with the measured associations in the two models above (and any other models you used)."
   ]
  },
  {
   "cell_type": "code",
   "execution_count": 23,
   "metadata": {
    "colab": {
     "base_uri": "https://localhost:8080/",
     "height": 204
    },
    "executionInfo": {
     "elapsed": 773,
     "status": "ok",
     "timestamp": 1601815983469,
     "user": {
      "displayName": "Andrés Suárez",
      "photoUrl": "https://lh5.googleusercontent.com/-s0kzcIwylzA/AAAAAAAAAAI/AAAAAAAAQXA/v8Sc6WgQy7c/s64/photo.jpg",
      "userId": "06409440331868776168"
     },
     "user_tz": -120
    },
    "id": "sZQQ6e1ubzfd",
    "outputId": "b58196b4-1095-4f19-a68a-2550a485fb24"
   },
   "outputs": [
    {
     "data": {
      "text/html": [
       "<div>\n",
       "<style scoped>\n",
       "    .dataframe tbody tr th:only-of-type {\n",
       "        vertical-align: middle;\n",
       "    }\n",
       "\n",
       "    .dataframe tbody tr th {\n",
       "        vertical-align: top;\n",
       "    }\n",
       "\n",
       "    .dataframe thead th {\n",
       "        text-align: right;\n",
       "    }\n",
       "</style>\n",
       "<table border=\"1\" class=\"dataframe\">\n",
       "  <thead>\n",
       "    <tr style=\"text-align: right;\">\n",
       "      <th></th>\n",
       "      <th>log_brain</th>\n",
       "      <th>log_effort</th>\n",
       "      <th>soc_learn</th>\n",
       "    </tr>\n",
       "  </thead>\n",
       "  <tbody>\n",
       "    <tr>\n",
       "      <th>296</th>\n",
       "      <td>1.650598</td>\n",
       "      <td>1.609438</td>\n",
       "      <td>0</td>\n",
       "    </tr>\n",
       "    <tr>\n",
       "      <th>298</th>\n",
       "      <td>1.125291</td>\n",
       "      <td>0.693147</td>\n",
       "      <td>0</td>\n",
       "    </tr>\n",
       "    <tr>\n",
       "      <th>300</th>\n",
       "      <td>0.479154</td>\n",
       "      <td>4.043051</td>\n",
       "      <td>0</td>\n",
       "    </tr>\n",
       "  </tbody>\n",
       "</table>\n",
       "</div>"
      ],
      "text/plain": [
       "     log_brain  log_effort  soc_learn\n",
       "296   1.650598    1.609438          0\n",
       "298   1.125291    0.693147          0\n",
       "300   0.479154    4.043051          0"
      ]
     },
     "execution_count": 23,
     "metadata": {},
     "output_type": "execute_result"
    }
   ],
   "source": [
    "d = pd.read_csv('./dat/Primates301.csv', header=0, sep=';')\n",
    "d.dropna(subset=['social_learning', 'research_effort', 'brain'], inplace=True)\n",
    "log_brain = np.log(d['brain'].values)\n",
    "d['log_brain'] = (log_brain - np.mean(log_brain)/np.std(log_brain))\n",
    "d['log_effort'] = np.log(d['research_effort'].values)\n",
    "d['soc_learn'] = d['social_learning']\n",
    "d.soc_learn = pd.to_numeric(d.soc_learn, downcast='integer')\n",
    "d[['log_brain', 'log_effort', 'soc_learn']].tail(3)"
   ]
  },
  {
   "cell_type": "markdown",
   "metadata": {
    "id": "US5epPMobzfp"
   },
   "source": [
    "Now we first want a model with social learning as the outcome and brain size as a predictor. For this Poisson GLM, I'm going to use a N(0,1) prior on the intercept, since we know the counts should be small."
   ]
  },
  {
   "cell_type": "code",
   "execution_count": 24,
   "metadata": {},
   "outputs": [
    {
     "name": "stderr",
     "output_type": "stream",
     "text": [
      "INFO:cmdstanpy:compiling stan file /home/jovyan/work/statret/stn/week06_03a.stan to exe file /home/jovyan/work/statret/stn/week06_03a\n",
      "INFO:cmdstanpy:compiled model executable: /home/jovyan/work/statret/stn/week06_03a\n",
      "INFO:cmdstanpy:found newer exe file, not recompiling\n"
     ]
    }
   ],
   "source": [
    "model = '''\n",
    "\n",
    "data {\n",
    "    int n;\n",
    "    vector[n] log_brain;\n",
    "    int soc_learn[n];\n",
    "}\n",
    "\n",
    "parameters {\n",
    "    real a;\n",
    "    real bb;\n",
    "}\n",
    "\n",
    "transformed parameters {\n",
    "    vector[n] mu;\n",
    "    mu = exp(a + bb*log_brain);\n",
    "}\n",
    "\n",
    "model {\n",
    "    // prior\n",
    "    a ~ normal(0,1);\n",
    "    bb ~ normal(0, 0.5);\n",
    "    // likelihood\n",
    "    soc_learn ~ poisson(mu);\n",
    "}\n",
    "\n",
    "generated quantities {\n",
    "    vector[n] log_lik;\n",
    "    for (i in 1:n) {\n",
    "        log_lik[i] = poisson_lpmf(soc_learn[i] | mu[i]);\n",
    "    }\n",
    "}\n",
    "\n",
    "'''\n",
    "\n",
    "stan_file = './stn/week06_03a.stan'\n",
    "with open(stan_file, 'w') as f:\n",
    "    print(model, file=f)\n",
    "    \n",
    "model_3a = CmdStanModel(stan_file=stan_file)\n",
    "model_3a.compile()"
   ]
  },
  {
   "cell_type": "code",
   "execution_count": 25,
   "metadata": {},
   "outputs": [
    {
     "name": "stderr",
     "output_type": "stream",
     "text": [
      "INFO:cmdstanpy:CmdStan start procesing\n"
     ]
    },
    {
     "data": {
      "application/vnd.jupyter.widget-view+json": {
       "model_id": "6ae9dfc422cb48aa957430cf59eaec2c",
       "version_major": 2,
       "version_minor": 0
      },
      "text/plain": [
       "chain 1 |          | 00:00 Status"
      ]
     },
     "metadata": {},
     "output_type": "display_data"
    },
    {
     "data": {
      "application/vnd.jupyter.widget-view+json": {
       "model_id": "e1cd7b119bde4d02bac4a522e78e46bc",
       "version_major": 2,
       "version_minor": 0
      },
      "text/plain": [
       "chain 2 |          | 00:00 Status"
      ]
     },
     "metadata": {},
     "output_type": "display_data"
    },
    {
     "data": {
      "application/vnd.jupyter.widget-view+json": {
       "model_id": "7f3fb535bf7342c2ac94f21626111dc3",
       "version_major": 2,
       "version_minor": 0
      },
      "text/plain": [
       "chain 3 |          | 00:00 Status"
      ]
     },
     "metadata": {},
     "output_type": "display_data"
    },
    {
     "data": {
      "application/vnd.jupyter.widget-view+json": {
       "model_id": "238c3edd772c4efaaea28029f2c95186",
       "version_major": 2,
       "version_minor": 0
      },
      "text/plain": [
       "chain 4 |          | 00:00 Status"
      ]
     },
     "metadata": {},
     "output_type": "display_data"
    },
    {
     "name": "stdout",
     "output_type": "stream",
     "text": [
      "                                                                                                                                                                                                                                                                                                                                "
     ]
    },
    {
     "name": "stderr",
     "output_type": "stream",
     "text": [
      "INFO:cmdstanpy:CmdStan done processing.\n"
     ]
    },
    {
     "name": "stdout",
     "output_type": "stream",
     "text": [
      "\n"
     ]
    }
   ],
   "source": [
    "data = d[['log_brain', 'soc_learn']].to_dict(orient='list')\n",
    "data['n'] = len(data['soc_learn'])\n",
    "fit_3a = model_3a.sample(data=data, chains=4)"
   ]
  },
  {
   "cell_type": "code",
   "execution_count": 26,
   "metadata": {},
   "outputs": [
    {
     "data": {
      "text/html": [
       "<div>\n",
       "<style scoped>\n",
       "    .dataframe tbody tr th:only-of-type {\n",
       "        vertical-align: middle;\n",
       "    }\n",
       "\n",
       "    .dataframe tbody tr th {\n",
       "        vertical-align: top;\n",
       "    }\n",
       "\n",
       "    .dataframe thead th {\n",
       "        text-align: right;\n",
       "    }\n",
       "</style>\n",
       "<table border=\"1\" class=\"dataframe\">\n",
       "  <thead>\n",
       "    <tr style=\"text-align: right;\">\n",
       "      <th></th>\n",
       "      <th>Mean</th>\n",
       "      <th>MCSE</th>\n",
       "      <th>StdDev</th>\n",
       "      <th>5%</th>\n",
       "      <th>50%</th>\n",
       "      <th>95%</th>\n",
       "      <th>N_Eff</th>\n",
       "      <th>N_Eff/s</th>\n",
       "      <th>R_hat</th>\n",
       "    </tr>\n",
       "    <tr>\n",
       "      <th>name</th>\n",
       "      <th></th>\n",
       "      <th></th>\n",
       "      <th></th>\n",
       "      <th></th>\n",
       "      <th></th>\n",
       "      <th></th>\n",
       "      <th></th>\n",
       "      <th></th>\n",
       "      <th></th>\n",
       "    </tr>\n",
       "  </thead>\n",
       "  <tbody>\n",
       "    <tr>\n",
       "      <th>a</th>\n",
       "      <td>-2.6</td>\n",
       "      <td>0.0052</td>\n",
       "      <td>0.150</td>\n",
       "      <td>-2.9</td>\n",
       "      <td>-2.6</td>\n",
       "      <td>-2.4</td>\n",
       "      <td>890.0</td>\n",
       "      <td>800.0</td>\n",
       "      <td>1.0</td>\n",
       "    </tr>\n",
       "    <tr>\n",
       "      <th>bb</th>\n",
       "      <td>2.3</td>\n",
       "      <td>0.0020</td>\n",
       "      <td>0.061</td>\n",
       "      <td>2.2</td>\n",
       "      <td>2.3</td>\n",
       "      <td>2.4</td>\n",
       "      <td>890.0</td>\n",
       "      <td>800.0</td>\n",
       "      <td>1.0</td>\n",
       "    </tr>\n",
       "  </tbody>\n",
       "</table>\n",
       "</div>"
      ],
      "text/plain": [
       "      Mean    MCSE  StdDev   5%  50%  95%  N_Eff  N_Eff/s  R_hat\n",
       "name                                                            \n",
       "a     -2.6  0.0052   0.150 -2.9 -2.6 -2.4  890.0    800.0    1.0\n",
       "bb     2.3  0.0020   0.061  2.2  2.3  2.4  890.0    800.0    1.0"
      ]
     },
     "execution_count": 26,
     "metadata": {},
     "output_type": "execute_result"
    }
   ],
   "source": [
    "fit_3a.summary().loc[['a', 'bb']]"
   ]
  },
  {
   "cell_type": "markdown",
   "metadata": {
    "id": "FBDH1yH9bzf3"
   },
   "source": [
    "Brain size seems to be strongly associated with social learning observations. Let's try the research effort variable now:"
   ]
  },
  {
   "cell_type": "code",
   "execution_count": 27,
   "metadata": {},
   "outputs": [
    {
     "name": "stderr",
     "output_type": "stream",
     "text": [
      "INFO:cmdstanpy:compiling stan file /home/jovyan/work/statret/stn/week06_03b.stan to exe file /home/jovyan/work/statret/stn/week06_03b\n",
      "INFO:cmdstanpy:compiled model executable: /home/jovyan/work/statret/stn/week06_03b\n",
      "INFO:cmdstanpy:found newer exe file, not recompiling\n"
     ]
    }
   ],
   "source": [
    "model = '''\n",
    "\n",
    "data {\n",
    "    int n;\n",
    "    vector[n] log_brain;\n",
    "    vector[n] log_effort;\n",
    "    int soc_learn[n];\n",
    "}\n",
    "\n",
    "parameters {\n",
    "    real a;\n",
    "    real bb;\n",
    "    real be;\n",
    "}\n",
    "\n",
    "transformed parameters {\n",
    "    vector[n] mu;\n",
    "    mu = exp(a + bb*log_brain + be*log_effort);\n",
    "}\n",
    "\n",
    "model {\n",
    "    // prior\n",
    "    a ~ normal(0,1);\n",
    "    bb ~ normal(0, 0.5);\n",
    "    be ~ normal(0, 0.5);\n",
    "    // likelihood\n",
    "    soc_learn ~ poisson(mu);\n",
    "}\n",
    "\n",
    "generated quantities {\n",
    "    vector[n] log_lik;\n",
    "    for (i in 1:n) {\n",
    "        log_lik[i] = poisson_lpmf(soc_learn[i] | mu[i]);\n",
    "    }\n",
    "}\n",
    "\n",
    "'''\n",
    "\n",
    "stan_file = './stn/week06_03b.stan'\n",
    "with open(stan_file, 'w') as f:\n",
    "    print(model, file=f)\n",
    "    \n",
    "model_3b = CmdStanModel(stan_file=stan_file)\n",
    "model_3b.compile()"
   ]
  },
  {
   "cell_type": "code",
   "execution_count": 28,
   "metadata": {},
   "outputs": [
    {
     "name": "stderr",
     "output_type": "stream",
     "text": [
      "INFO:cmdstanpy:CmdStan start procesing\n"
     ]
    },
    {
     "data": {
      "application/vnd.jupyter.widget-view+json": {
       "model_id": "2db8b5cf2d134410885dd316c71ccabd",
       "version_major": 2,
       "version_minor": 0
      },
      "text/plain": [
       "chain 1 |          | 00:00 Status"
      ]
     },
     "metadata": {},
     "output_type": "display_data"
    },
    {
     "data": {
      "application/vnd.jupyter.widget-view+json": {
       "model_id": "3aeb2ebf60304aba9a5d06e1da8be3ea",
       "version_major": 2,
       "version_minor": 0
      },
      "text/plain": [
       "chain 2 |          | 00:00 Status"
      ]
     },
     "metadata": {},
     "output_type": "display_data"
    },
    {
     "data": {
      "application/vnd.jupyter.widget-view+json": {
       "model_id": "803c0f107a6943df92e14512a527b30a",
       "version_major": 2,
       "version_minor": 0
      },
      "text/plain": [
       "chain 3 |          | 00:00 Status"
      ]
     },
     "metadata": {},
     "output_type": "display_data"
    },
    {
     "data": {
      "application/vnd.jupyter.widget-view+json": {
       "model_id": "86e95b582a8e4fc2a5b5e1fefa38fbac",
       "version_major": 2,
       "version_minor": 0
      },
      "text/plain": [
       "chain 4 |          | 00:00 Status"
      ]
     },
     "metadata": {},
     "output_type": "display_data"
    },
    {
     "name": "stdout",
     "output_type": "stream",
     "text": [
      "                                                                                                                                                                                                                                                                                                                                "
     ]
    },
    {
     "name": "stderr",
     "output_type": "stream",
     "text": [
      "INFO:cmdstanpy:CmdStan done processing.\n"
     ]
    },
    {
     "name": "stdout",
     "output_type": "stream",
     "text": [
      "\n"
     ]
    }
   ],
   "source": [
    "data = d[['log_brain', 'log_effort', 'soc_learn']].to_dict(orient='list')\n",
    "data['n'] = len(data['soc_learn'])\n",
    "fit_3b = model_3b.sample(data=data, chains=4)"
   ]
  },
  {
   "cell_type": "code",
   "execution_count": 29,
   "metadata": {},
   "outputs": [
    {
     "data": {
      "text/html": [
       "<div>\n",
       "<style scoped>\n",
       "    .dataframe tbody tr th:only-of-type {\n",
       "        vertical-align: middle;\n",
       "    }\n",
       "\n",
       "    .dataframe tbody tr th {\n",
       "        vertical-align: top;\n",
       "    }\n",
       "\n",
       "    .dataframe thead th {\n",
       "        text-align: right;\n",
       "    }\n",
       "</style>\n",
       "<table border=\"1\" class=\"dataframe\">\n",
       "  <thead>\n",
       "    <tr style=\"text-align: right;\">\n",
       "      <th></th>\n",
       "      <th>Mean</th>\n",
       "      <th>MCSE</th>\n",
       "      <th>StdDev</th>\n",
       "      <th>5%</th>\n",
       "      <th>50%</th>\n",
       "      <th>95%</th>\n",
       "      <th>N_Eff</th>\n",
       "      <th>N_Eff/s</th>\n",
       "      <th>R_hat</th>\n",
       "    </tr>\n",
       "    <tr>\n",
       "      <th>name</th>\n",
       "      <th></th>\n",
       "      <th></th>\n",
       "      <th></th>\n",
       "      <th></th>\n",
       "      <th></th>\n",
       "      <th></th>\n",
       "      <th></th>\n",
       "      <th></th>\n",
       "      <th></th>\n",
       "    </tr>\n",
       "  </thead>\n",
       "  <tbody>\n",
       "    <tr>\n",
       "      <th>a</th>\n",
       "      <td>-6.20</td>\n",
       "      <td>0.0094</td>\n",
       "      <td>0.290</td>\n",
       "      <td>-6.70</td>\n",
       "      <td>-6.20</td>\n",
       "      <td>-5.70</td>\n",
       "      <td>960.0</td>\n",
       "      <td>440.0</td>\n",
       "      <td>1.0</td>\n",
       "    </tr>\n",
       "    <tr>\n",
       "      <th>bb</th>\n",
       "      <td>0.37</td>\n",
       "      <td>0.0019</td>\n",
       "      <td>0.069</td>\n",
       "      <td>0.26</td>\n",
       "      <td>0.37</td>\n",
       "      <td>0.49</td>\n",
       "      <td>1300.0</td>\n",
       "      <td>610.0</td>\n",
       "      <td>1.0</td>\n",
       "    </tr>\n",
       "    <tr>\n",
       "      <th>be</th>\n",
       "      <td>1.50</td>\n",
       "      <td>0.0022</td>\n",
       "      <td>0.066</td>\n",
       "      <td>1.40</td>\n",
       "      <td>1.50</td>\n",
       "      <td>1.60</td>\n",
       "      <td>910.0</td>\n",
       "      <td>420.0</td>\n",
       "      <td>1.0</td>\n",
       "    </tr>\n",
       "  </tbody>\n",
       "</table>\n",
       "</div>"
      ],
      "text/plain": [
       "      Mean    MCSE  StdDev    5%   50%   95%   N_Eff  N_Eff/s  R_hat\n",
       "name                                                                \n",
       "a    -6.20  0.0094   0.290 -6.70 -6.20 -5.70   960.0    440.0    1.0\n",
       "bb    0.37  0.0019   0.069  0.26  0.37  0.49  1300.0    610.0    1.0\n",
       "be    1.50  0.0022   0.066  1.40  1.50  1.60   910.0    420.0    1.0"
      ]
     },
     "execution_count": 29,
     "metadata": {},
     "output_type": "execute_result"
    }
   ],
   "source": [
    "fit_3b.summary().loc[['a', 'bb', 'be']]"
   ]
  },
  {
   "cell_type": "markdown",
   "metadata": {
    "id": "thCoA_tGbzgF"
   },
   "source": [
    "Brain size `bb` is still positively associated, but much less. Research effort be is strongly associated. To see how these models disagree, let's use WAIC to see which cases each predicts well."
   ]
  },
  {
   "cell_type": "code",
   "execution_count": 30,
   "metadata": {},
   "outputs": [],
   "source": [
    "d['waic_diff'] = waic_point(fit_3a) - waic_point(fit_3b)"
   ]
  },
  {
   "cell_type": "code",
   "execution_count": 31,
   "metadata": {},
   "outputs": [
    {
     "data": {
      "text/html": [
       "<div>\n",
       "<style scoped>\n",
       "    .dataframe tbody tr th:only-of-type {\n",
       "        vertical-align: middle;\n",
       "    }\n",
       "\n",
       "    .dataframe tbody tr th {\n",
       "        vertical-align: top;\n",
       "    }\n",
       "\n",
       "    .dataframe thead th {\n",
       "        text-align: right;\n",
       "    }\n",
       "</style>\n",
       "<table border=\"1\" class=\"dataframe\">\n",
       "  <thead>\n",
       "    <tr style=\"text-align: right;\">\n",
       "      <th></th>\n",
       "      <th>model</th>\n",
       "      <th>waic</th>\n",
       "    </tr>\n",
       "  </thead>\n",
       "  <tbody>\n",
       "    <tr>\n",
       "      <th>1</th>\n",
       "      <td>3b</td>\n",
       "      <td>568.756</td>\n",
       "    </tr>\n",
       "    <tr>\n",
       "      <th>0</th>\n",
       "      <td>3a</td>\n",
       "      <td>1409.104</td>\n",
       "    </tr>\n",
       "  </tbody>\n",
       "</table>\n",
       "</div>"
      ],
      "text/plain": [
       "  model      waic\n",
       "1    3b   568.756\n",
       "0    3a  1409.104"
      ]
     },
     "execution_count": 31,
     "metadata": {},
     "output_type": "execute_result"
    }
   ],
   "source": [
    "sc = {\n",
    "    '3a' : waic(fit_3a).sum(),\n",
    "    '3b' : waic(fit_3b).sum()\n",
    "}\n",
    "scores = pd.DataFrame(sc.items(), columns=['model','waic'])\n",
    "scores.sort_values(by='waic')"
   ]
  },
  {
   "cell_type": "markdown",
   "metadata": {},
   "source": [
    "This is a good example of how the nature of measurement influences inference. Species on the right of the vertical line fit better for model `model_3b`, the model with research effort. These are mostly species that are studied a lot, like chimpanzees (Pan) and macaques (Macaca). The genus Pan especially has been a focus on social learning research, and its counts are inflated by this. There are likely a lot of false zeros in these data, species that are not studied often enough to get a good idea of their learning tendencies. Meanwhile every time a chimpanzee sneezes, someone writes a social learning paper."
   ]
  },
  {
   "cell_type": "code",
   "execution_count": 32,
   "metadata": {},
   "outputs": [
    {
     "data": {
      "image/png": "[encoded data removed]",
      "text/plain": [
       "<Figure size 640x480 with 1 Axes>"
      ]
     },
     "metadata": {},
     "output_type": "display_data"
    },
    {
     "data": {
      "text/plain": [
       "<ggplot: (8738506268221)>"
      ]
     },
     "execution_count": 32,
     "metadata": {},
     "output_type": "execute_result"
    }
   ],
   "source": [
    "(\n",
    "    ggplot(d)\n",
    "    + aes(x='waic_diff', y='log_effort', color='genus')\n",
    "    + geom_point()\n",
    "    + geom_vline(xintercept=2, linetype='dotted', color='red', size=1)\n",
    ")"
   ]
  },
  {
   "cell_type": "markdown",
   "metadata": {
    "id": "lw5Cxy45bzgU"
   },
   "source": [
    "Okay, finally I asked for a DAG. This is my guess:\n",
    "\n",
    "<img src=\"./fig/w6_img3.png\" width=\"30%\">\n",
    "\n",
    "`B` is brain size, `E` is research effort, and `S` is social learning. Research effort doesn't actually influence social learning, but it does influence the value of the variable. The model results above are consistent with this DAG in the sense that including `E` reduced the association with `B`, which we would expect when we close the indirect path through `E`. If researchers choose to look for social learning in species with large brains, this leads to an exaggerated estimate of the association between brains and social learning."
   ]
  }
 ],
 "metadata": {
  "colab": {
   "collapsed_sections": [],
   "name": "rethink_stats_numpyro_w06.ipynb",
   "provenance": []
  },
  "kernelspec": {
   "display_name": "Python 3",
   "language": "python",
   "name": "python3"
  },
  "language_info": {
   "codemirror_mode": {
    "name": "ipython",
    "version": 3
   },
   "file_extension": ".py",
   "mimetype": "text/x-python",
   "name": "python",
   "nbconvert_exporter": "python",
   "pygments_lexer": "ipython3",
   "version": "3.8.8"
  }
 },
 "nbformat": 4,
 "nbformat_minor": 4
}
